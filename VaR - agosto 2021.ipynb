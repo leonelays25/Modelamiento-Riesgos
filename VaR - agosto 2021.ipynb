{
 "cells": [
  {
   "cell_type": "code",
   "execution_count": 1,
   "metadata": {
    "id": "KwR3a5R4lgim"
   },
   "outputs": [],
   "source": [
    "from scipy.stats import norm\n",
    "from scipy.stats import t\n",
    "import numpy as np\n",
    "import pandas as pd\n",
    "import matplotlib.pyplot as plt\n",
    "import seaborn as sns\n",
    "import math\n",
    "\n",
    "\n",
    "import requests\n",
    "import urllib.request\n",
    "import time\n",
    "#from bs4 import BeautifulSoup\n",
    "import os\n",
    "import pandas as pd\n",
    "import numpy as np\n",
    "import matplotlib.pyplot as plt \n",
    "from urllib3.exceptions import InsecureRequestWarning\n",
    "import statsmodels.api as sm\n",
    "import datetime\n",
    "from datetime import date"
   ]
  },
  {
   "cell_type": "code",
   "execution_count": 235,
   "metadata": {},
   "outputs": [],
   "source": [
    "import warnings\n",
    "import numpy as np\n",
    "import pandas as pd\n",
    "import scipy.stats as st\n",
    "import statsmodels.api as sm\n",
    "import matplotlib\n",
    "import matplotlib.pyplot as plt\n",
    "\n",
    "#https://stackoverflow.com/questions/6620471/fitting-empirical-distribution-to-theoretical-ones-with-scipy-python\n",
    "\n",
    "matplotlib.rcParams['figure.figsize'] = (16.0, 12.0)\n",
    "matplotlib.style.use('ggplot')\n",
    "\n",
    "# Create models from data\n",
    "def best_fit_distribution(data, bins=200, ax=None):\n",
    "    \"\"\"Model data by finding best fit distribution to data\"\"\"\n",
    "    # Get histogram of original data\n",
    "    y, x = np.histogram(data, bins=bins, density=True)\n",
    "    x = (x + np.roll(x, -1))[:-1] / 2.0\n",
    "\n",
    "    # Distributions to check\n",
    "    DISTRIBUTIONS = [        \n",
    "        st.alpha,st.anglit,st.arcsine,st.beta,st.betaprime,st.bradford,st.burr,st.cauchy,st.chi,st.chi2,st.cosine,\n",
    "        st.dgamma,st.dweibull,st.erlang,st.expon,st.exponnorm,st.exponweib,st.exponpow,st.f,st.fatiguelife,st.fisk,\n",
    "        st.foldcauchy,st.foldnorm,st.frechet_r,st.frechet_l,st.genlogistic,st.genpareto,st.gennorm,st.genexpon,\n",
    "        st.genextreme,st.gausshyper,st.gamma,st.gengamma,st.genhalflogistic,st.gilbrat,st.gompertz,st.gumbel_r,\n",
    "        st.gumbel_l,st.halfcauchy,st.halflogistic,st.halfnorm,st.halfgennorm,st.hypsecant,st.invgamma,st.invgauss,\n",
    "        st.invweibull,st.johnsonsb,st.johnsonsu,st.ksone,st.kstwobign,st.laplace,st.levy,st.levy_l,st.levy_stable,\n",
    "        st.logistic,st.loggamma,st.loglaplace,st.lognorm,st.lomax,st.maxwell,st.mielke,st.nakagami,st.ncx2,st.ncf,\n",
    "        st.nct,st.norm,st.pareto,st.pearson3,st.powerlaw,st.powerlognorm,st.powernorm,st.rdist,st.reciprocal,\n",
    "        st.rayleigh,st.rice,st.recipinvgauss,st.semicircular,st.t,st.triang,st.truncexpon,st.truncnorm,st.tukeylambda,\n",
    "        st.uniform,st.vonmises,st.vonmises_line,st.wald,st.weibull_min,st.weibull_max,st.wrapcauchy\n",
    "    ]\n",
    "\n",
    "    # Best holders\n",
    "    best_distribution = st.norm\n",
    "    best_params = (0.0, 1.0)\n",
    "    best_sse = np.inf\n",
    "\n",
    "    # Estimate distribution parameters from data\n",
    "    for distribution in DISTRIBUTIONS:\n",
    "\n",
    "        # Try to fit the distribution\n",
    "        try:\n",
    "            # Ignore warnings from data that can't be fit\n",
    "            with warnings.catch_warnings():\n",
    "                warnings.filterwarnings('ignore')\n",
    "\n",
    "                # fit dist to data\n",
    "                params = distribution.fit(data)\n",
    "\n",
    "                # Separate parts of parameters\n",
    "                arg = params[:-2]\n",
    "                loc = params[-2]\n",
    "                scale = params[-1]\n",
    "\n",
    "                # Calculate fitted PDF and error with fit in distribution\n",
    "                pdf = distribution.pdf(x, loc=loc, scale=scale, *arg)\n",
    "                sse = np.sum(np.power(y - pdf, 2.0))\n",
    "\n",
    "                # if axis pass in add to plot\n",
    "                try:\n",
    "                    if ax:\n",
    "                        pd.Series(pdf, x).plot(ax=ax)\n",
    "                    end\n",
    "                except Exception:\n",
    "                    pass\n",
    "\n",
    "                # identify if this distribution is better\n",
    "                if best_sse > sse > 0:\n",
    "                    best_distribution = distribution\n",
    "                    best_params = params\n",
    "                    best_sse = sse\n",
    "\n",
    "        except Exception:\n",
    "            pass\n",
    "\n",
    "    return (best_distribution.name, best_params)\n",
    "\n",
    "def make_pdf(dist, params, size=10000):\n",
    "    \"\"\"Generate distributions's Probability Distribution Function \"\"\"\n",
    "\n",
    "    # Separate parts of parameters\n",
    "    arg = params[:-2]\n",
    "    loc = params[-2]\n",
    "    scale = params[-1]\n",
    "\n",
    "    # Get sane start and end points of distribution\n",
    "    start = dist.ppf(0.01, *arg, loc=loc, scale=scale) if arg else dist.ppf(0.01, loc=loc, scale=scale)\n",
    "    end = dist.ppf(0.99, *arg, loc=loc, scale=scale) if arg else dist.ppf(0.99, loc=loc, scale=scale)\n",
    "\n",
    "    # Build PDF and turn into pandas Series\n",
    "    x = np.linspace(start, end, size)\n",
    "    y = dist.pdf(x, loc=loc, scale=scale, *arg)\n",
    "    pdf = pd.Series(y, x)\n",
    "\n",
    "    return pdf"
   ]
  },
  {
   "cell_type": "code",
   "execution_count": 2,
   "metadata": {},
   "outputs": [],
   "source": [
    "def VaR(Position, sigma, quantile):\n",
    "  return Position * sigma * t.ppf(quantile)"
   ]
  },
  {
   "cell_type": "code",
   "execution_count": 3,
   "metadata": {},
   "outputs": [
    {
     "data": {
      "text/plain": [
       "6.313751514800932"
      ]
     },
     "execution_count": 3,
     "metadata": {},
     "output_type": "execute_result"
    }
   ],
   "source": [
    "t.ppf(0.95,1)"
   ]
  },
  {
   "cell_type": "code",
   "execution_count": 317,
   "metadata": {},
   "outputs": [],
   "source": [
    "#descargo la data del bcrp\n",
    "requests.packages.urllib3.disable_warnings(category=InsecureRequestWarning)\n",
    "#### URL DEL BANCO DOLAR ###\n",
    "url = 'https://estadisticas.bcrp.gob.pe/estadisticas/series/diarias/resultados/PD04637PD/html'\n",
    "### URL DEL BANCO ###\n",
    "\n",
    "requests.post(url=url, verify=False)\n",
    "html = requests.get(url,verify=False).content\n",
    "df_list = pd.read_html(html)\n",
    "\n",
    "dolar = df_list[-1] #este es el dataframe del banco"
   ]
  },
  {
   "cell_type": "code",
   "execution_count": 5,
   "metadata": {},
   "outputs": [
    {
     "data": {
      "text/html": [
       "<div>\n",
       "<style scoped>\n",
       "    .dataframe tbody tr th:only-of-type {\n",
       "        vertical-align: middle;\n",
       "    }\n",
       "\n",
       "    .dataframe tbody tr th {\n",
       "        vertical-align: top;\n",
       "    }\n",
       "\n",
       "    .dataframe thead th {\n",
       "        text-align: right;\n",
       "    }\n",
       "</style>\n",
       "<table border=\"1\" class=\"dataframe\">\n",
       "  <thead>\n",
       "    <tr style=\"text-align: right;\">\n",
       "      <th></th>\n",
       "      <th>Fecha</th>\n",
       "      <th>Tipo de cambio - TC Interbancario (S/ por US$) - Compra</th>\n",
       "    </tr>\n",
       "  </thead>\n",
       "  <tbody>\n",
       "    <tr>\n",
       "      <th>0</th>\n",
       "      <td>02Ene97</td>\n",
       "      <td>2.613</td>\n",
       "    </tr>\n",
       "    <tr>\n",
       "      <th>1</th>\n",
       "      <td>03Ene97</td>\n",
       "      <td>2.616</td>\n",
       "    </tr>\n",
       "    <tr>\n",
       "      <th>2</th>\n",
       "      <td>06Ene97</td>\n",
       "      <td>2.625</td>\n",
       "    </tr>\n",
       "    <tr>\n",
       "      <th>3</th>\n",
       "      <td>07Ene97</td>\n",
       "      <td>2.631</td>\n",
       "    </tr>\n",
       "    <tr>\n",
       "      <th>4</th>\n",
       "      <td>08Ene97</td>\n",
       "      <td>2.631</td>\n",
       "    </tr>\n",
       "    <tr>\n",
       "      <th>...</th>\n",
       "      <td>...</td>\n",
       "      <td>...</td>\n",
       "    </tr>\n",
       "    <tr>\n",
       "      <th>6409</th>\n",
       "      <td>28Jul21</td>\n",
       "      <td>n.d.</td>\n",
       "    </tr>\n",
       "    <tr>\n",
       "      <th>6410</th>\n",
       "      <td>29Jul21</td>\n",
       "      <td>n.d.</td>\n",
       "    </tr>\n",
       "    <tr>\n",
       "      <th>6411</th>\n",
       "      <td>30Jul21</td>\n",
       "      <td>4.049</td>\n",
       "    </tr>\n",
       "    <tr>\n",
       "      <th>6412</th>\n",
       "      <td>02Ago21</td>\n",
       "      <td>4.055</td>\n",
       "    </tr>\n",
       "    <tr>\n",
       "      <th>6413</th>\n",
       "      <td>03Ago21</td>\n",
       "      <td>4.060</td>\n",
       "    </tr>\n",
       "  </tbody>\n",
       "</table>\n",
       "<p>6414 rows × 2 columns</p>\n",
       "</div>"
      ],
      "text/plain": [
       "        Fecha Tipo de cambio - TC Interbancario (S/ por US$) - Compra\n",
       "0     02Ene97                                              2.613     \n",
       "1     03Ene97                                              2.616     \n",
       "2     06Ene97                                              2.625     \n",
       "3     07Ene97                                              2.631     \n",
       "4     08Ene97                                              2.631     \n",
       "...       ...                                                ...     \n",
       "6409  28Jul21                                               n.d.     \n",
       "6410  29Jul21                                               n.d.     \n",
       "6411  30Jul21                                              4.049     \n",
       "6412  02Ago21                                              4.055     \n",
       "6413  03Ago21                                              4.060     \n",
       "\n",
       "[6414 rows x 2 columns]"
      ]
     },
     "execution_count": 5,
     "metadata": {},
     "output_type": "execute_result"
    }
   ],
   "source": [
    "dolar"
   ]
  },
  {
   "cell_type": "code",
   "execution_count": 6,
   "metadata": {},
   "outputs": [
    {
     "data": {
      "text/html": [
       "<div>\n",
       "<style scoped>\n",
       "    .dataframe tbody tr th:only-of-type {\n",
       "        vertical-align: middle;\n",
       "    }\n",
       "\n",
       "    .dataframe tbody tr th {\n",
       "        vertical-align: top;\n",
       "    }\n",
       "\n",
       "    .dataframe thead th {\n",
       "        text-align: right;\n",
       "    }\n",
       "</style>\n",
       "<table border=\"1\" class=\"dataframe\">\n",
       "  <thead>\n",
       "    <tr style=\"text-align: right;\">\n",
       "      <th></th>\n",
       "      <th>Fecha</th>\n",
       "      <th>tc</th>\n",
       "    </tr>\n",
       "  </thead>\n",
       "  <tbody>\n",
       "    <tr>\n",
       "      <th>0</th>\n",
       "      <td>02Ene97</td>\n",
       "      <td>2.613</td>\n",
       "    </tr>\n",
       "    <tr>\n",
       "      <th>1</th>\n",
       "      <td>03Ene97</td>\n",
       "      <td>2.616</td>\n",
       "    </tr>\n",
       "    <tr>\n",
       "      <th>2</th>\n",
       "      <td>06Ene97</td>\n",
       "      <td>2.625</td>\n",
       "    </tr>\n",
       "    <tr>\n",
       "      <th>3</th>\n",
       "      <td>07Ene97</td>\n",
       "      <td>2.631</td>\n",
       "    </tr>\n",
       "    <tr>\n",
       "      <th>4</th>\n",
       "      <td>08Ene97</td>\n",
       "      <td>2.631</td>\n",
       "    </tr>\n",
       "    <tr>\n",
       "      <th>...</th>\n",
       "      <td>...</td>\n",
       "      <td>...</td>\n",
       "    </tr>\n",
       "    <tr>\n",
       "      <th>6407</th>\n",
       "      <td>26Jul21</td>\n",
       "      <td>3.907</td>\n",
       "    </tr>\n",
       "    <tr>\n",
       "      <th>6408</th>\n",
       "      <td>27Jul21</td>\n",
       "      <td>3.919</td>\n",
       "    </tr>\n",
       "    <tr>\n",
       "      <th>6411</th>\n",
       "      <td>30Jul21</td>\n",
       "      <td>4.049</td>\n",
       "    </tr>\n",
       "    <tr>\n",
       "      <th>6412</th>\n",
       "      <td>02Ago21</td>\n",
       "      <td>4.055</td>\n",
       "    </tr>\n",
       "    <tr>\n",
       "      <th>6413</th>\n",
       "      <td>03Ago21</td>\n",
       "      <td>4.060</td>\n",
       "    </tr>\n",
       "  </tbody>\n",
       "</table>\n",
       "<p>6125 rows × 2 columns</p>\n",
       "</div>"
      ],
      "text/plain": [
       "        Fecha     tc\n",
       "0     02Ene97  2.613\n",
       "1     03Ene97  2.616\n",
       "2     06Ene97  2.625\n",
       "3     07Ene97  2.631\n",
       "4     08Ene97  2.631\n",
       "...       ...    ...\n",
       "6407  26Jul21  3.907\n",
       "6408  27Jul21  3.919\n",
       "6411  30Jul21  4.049\n",
       "6412  02Ago21  4.055\n",
       "6413  03Ago21  4.060\n",
       "\n",
       "[6125 rows x 2 columns]"
      ]
     },
     "execution_count": 6,
     "metadata": {},
     "output_type": "execute_result"
    }
   ],
   "source": [
    "db=dolar.copy()\n",
    "db.rename(columns={ db.columns[1]: \"tc\" }, inplace = True)\n",
    "db['tc']=db['tc'].replace('n.d.',np.nan)\n",
    "db.dropna(inplace=True)\n",
    "db['tc']=db['tc'].astype(float)\n",
    "db"
   ]
  },
  {
   "cell_type": "code",
   "execution_count": 8,
   "metadata": {},
   "outputs": [
    {
     "data": {
      "text/html": [
       "<div>\n",
       "<style scoped>\n",
       "    .dataframe tbody tr th:only-of-type {\n",
       "        vertical-align: middle;\n",
       "    }\n",
       "\n",
       "    .dataframe tbody tr th {\n",
       "        vertical-align: top;\n",
       "    }\n",
       "\n",
       "    .dataframe thead th {\n",
       "        text-align: right;\n",
       "    }\n",
       "</style>\n",
       "<table border=\"1\" class=\"dataframe\">\n",
       "  <thead>\n",
       "    <tr style=\"text-align: right;\">\n",
       "      <th></th>\n",
       "      <th>Fecha</th>\n",
       "      <th>Tipo de cambio - TC Interbancario (S/ por US$) - Compra</th>\n",
       "    </tr>\n",
       "  </thead>\n",
       "  <tbody>\n",
       "    <tr>\n",
       "      <th>0</th>\n",
       "      <td>02Ene97</td>\n",
       "      <td>2.613</td>\n",
       "    </tr>\n",
       "    <tr>\n",
       "      <th>1</th>\n",
       "      <td>03Ene97</td>\n",
       "      <td>2.616</td>\n",
       "    </tr>\n",
       "    <tr>\n",
       "      <th>2</th>\n",
       "      <td>06Ene97</td>\n",
       "      <td>2.625</td>\n",
       "    </tr>\n",
       "    <tr>\n",
       "      <th>3</th>\n",
       "      <td>07Ene97</td>\n",
       "      <td>2.631</td>\n",
       "    </tr>\n",
       "    <tr>\n",
       "      <th>4</th>\n",
       "      <td>08Ene97</td>\n",
       "      <td>2.631</td>\n",
       "    </tr>\n",
       "    <tr>\n",
       "      <th>...</th>\n",
       "      <td>...</td>\n",
       "      <td>...</td>\n",
       "    </tr>\n",
       "    <tr>\n",
       "      <th>6409</th>\n",
       "      <td>28Jul21</td>\n",
       "      <td>NaN</td>\n",
       "    </tr>\n",
       "    <tr>\n",
       "      <th>6410</th>\n",
       "      <td>29Jul21</td>\n",
       "      <td>NaN</td>\n",
       "    </tr>\n",
       "    <tr>\n",
       "      <th>6411</th>\n",
       "      <td>30Jul21</td>\n",
       "      <td>4.049</td>\n",
       "    </tr>\n",
       "    <tr>\n",
       "      <th>6412</th>\n",
       "      <td>02Ago21</td>\n",
       "      <td>4.055</td>\n",
       "    </tr>\n",
       "    <tr>\n",
       "      <th>6413</th>\n",
       "      <td>03Ago21</td>\n",
       "      <td>4.060</td>\n",
       "    </tr>\n",
       "  </tbody>\n",
       "</table>\n",
       "<p>6414 rows × 2 columns</p>\n",
       "</div>"
      ],
      "text/plain": [
       "        Fecha Tipo de cambio - TC Interbancario (S/ por US$) - Compra\n",
       "0     02Ene97                                              2.613     \n",
       "1     03Ene97                                              2.616     \n",
       "2     06Ene97                                              2.625     \n",
       "3     07Ene97                                              2.631     \n",
       "4     08Ene97                                              2.631     \n",
       "...       ...                                                ...     \n",
       "6409  28Jul21                                                NaN     \n",
       "6410  29Jul21                                                NaN     \n",
       "6411  30Jul21                                              4.049     \n",
       "6412  02Ago21                                              4.055     \n",
       "6413  03Ago21                                              4.060     \n",
       "\n",
       "[6414 rows x 2 columns]"
      ]
     },
     "execution_count": 8,
     "metadata": {},
     "output_type": "execute_result"
    }
   ],
   "source": [
    "dolar.dtypes\n",
    "dolar['Tipo de cambio - TC Interbancario (S/ por US$) - Compra'] = dolar['Tipo de cambio - TC Interbancario (S/ por US$) - Compra'].replace('n.d.', np.nan)\n",
    "dolar"
   ]
  },
  {
   "cell_type": "code",
   "execution_count": 9,
   "metadata": {},
   "outputs": [
    {
     "data": {
      "text/plain": [
       "<matplotlib.axes._subplots.AxesSubplot at 0x17dfea69e50>"
      ]
     },
     "execution_count": 9,
     "metadata": {},
     "output_type": "execute_result"
    },
    {
     "data": {
      "image/png": "[encoded data removed]",
      "text/plain": [
       "<Figure size 432x288 with 1 Axes>"
      ]
     },
     "metadata": {
      "needs_background": "light"
     },
     "output_type": "display_data"
    }
   ],
   "source": [
    "import seaborn as sns\n",
    "sns.distplot(dolar[\"Tipo de cambio - TC Interbancario (S/ por US$) - Compra\"])"
   ]
  },
  {
   "cell_type": "code",
   "execution_count": 10,
   "metadata": {},
   "outputs": [
    {
     "data": {
      "text/html": [
       "<div>\n",
       "<style scoped>\n",
       "    .dataframe tbody tr th:only-of-type {\n",
       "        vertical-align: middle;\n",
       "    }\n",
       "\n",
       "    .dataframe tbody tr th {\n",
       "        vertical-align: top;\n",
       "    }\n",
       "\n",
       "    .dataframe thead th {\n",
       "        text-align: right;\n",
       "    }\n",
       "</style>\n",
       "<table border=\"1\" class=\"dataframe\">\n",
       "  <thead>\n",
       "    <tr style=\"text-align: right;\">\n",
       "      <th></th>\n",
       "      <th>Fecha</th>\n",
       "      <th>Tipo de cambio - TC Interbancario (S/ por US$) - Compra</th>\n",
       "    </tr>\n",
       "  </thead>\n",
       "  <tbody>\n",
       "    <tr>\n",
       "      <th>1327</th>\n",
       "      <td>04Feb02</td>\n",
       "      <td>3.482</td>\n",
       "    </tr>\n",
       "    <tr>\n",
       "      <th>1328</th>\n",
       "      <td>05Feb02</td>\n",
       "      <td>3.485</td>\n",
       "    </tr>\n",
       "    <tr>\n",
       "      <th>1329</th>\n",
       "      <td>06Feb02</td>\n",
       "      <td>3.486</td>\n",
       "    </tr>\n",
       "    <tr>\n",
       "      <th>1330</th>\n",
       "      <td>07Feb02</td>\n",
       "      <td>3.484</td>\n",
       "    </tr>\n",
       "    <tr>\n",
       "      <th>1331</th>\n",
       "      <td>08Feb02</td>\n",
       "      <td>3.487</td>\n",
       "    </tr>\n",
       "    <tr>\n",
       "      <th>...</th>\n",
       "      <td>...</td>\n",
       "      <td>...</td>\n",
       "    </tr>\n",
       "    <tr>\n",
       "      <th>6409</th>\n",
       "      <td>28Jul21</td>\n",
       "      <td>NaN</td>\n",
       "    </tr>\n",
       "    <tr>\n",
       "      <th>6410</th>\n",
       "      <td>29Jul21</td>\n",
       "      <td>NaN</td>\n",
       "    </tr>\n",
       "    <tr>\n",
       "      <th>6411</th>\n",
       "      <td>30Jul21</td>\n",
       "      <td>4.049</td>\n",
       "    </tr>\n",
       "    <tr>\n",
       "      <th>6412</th>\n",
       "      <td>02Ago21</td>\n",
       "      <td>4.055</td>\n",
       "    </tr>\n",
       "    <tr>\n",
       "      <th>6413</th>\n",
       "      <td>03Ago21</td>\n",
       "      <td>4.060</td>\n",
       "    </tr>\n",
       "  </tbody>\n",
       "</table>\n",
       "<p>5087 rows × 2 columns</p>\n",
       "</div>"
      ],
      "text/plain": [
       "        Fecha Tipo de cambio - TC Interbancario (S/ por US$) - Compra\n",
       "1327  04Feb02                                              3.482     \n",
       "1328  05Feb02                                              3.485     \n",
       "1329  06Feb02                                              3.486     \n",
       "1330  07Feb02                                              3.484     \n",
       "1331  08Feb02                                              3.487     \n",
       "...       ...                                                ...     \n",
       "6409  28Jul21                                                NaN     \n",
       "6410  29Jul21                                                NaN     \n",
       "6411  30Jul21                                              4.049     \n",
       "6412  02Ago21                                              4.055     \n",
       "6413  03Ago21                                              4.060     \n",
       "\n",
       "[5087 rows x 2 columns]"
      ]
     },
     "execution_count": 10,
     "metadata": {},
     "output_type": "execute_result"
    }
   ],
   "source": [
    "dolar = dolar.iloc[1327:,] #este es el dataframe del banco\n",
    "#dolar.rename(columns={ dolar.columns[0]: \"FECHA_CONTABLE\" }, inplace = True)\n",
    "dolar"
   ]
  },
  {
   "cell_type": "code",
   "execution_count": 11,
   "metadata": {},
   "outputs": [
    {
     "data": {
      "text/plain": [
       "<matplotlib.axes._subplots.AxesSubplot at 0x17dff3b1d60>"
      ]
     },
     "execution_count": 11,
     "metadata": {},
     "output_type": "execute_result"
    },
    {
     "data": {
      "image/png": "[encoded data removed]",
      "text/plain": [
       "<Figure size 432x288 with 1 Axes>"
      ]
     },
     "metadata": {
      "needs_background": "light"
     },
     "output_type": "display_data"
    }
   ],
   "source": [
    "sns.distplot(dolar[\"Tipo de cambio - TC Interbancario (S/ por US$) - Compra\"])"
   ]
  },
  {
   "cell_type": "code",
   "execution_count": 12,
   "metadata": {},
   "outputs": [
    {
     "data": {
      "text/html": [
       "<div>\n",
       "<style scoped>\n",
       "    .dataframe tbody tr th:only-of-type {\n",
       "        vertical-align: middle;\n",
       "    }\n",
       "\n",
       "    .dataframe tbody tr th {\n",
       "        vertical-align: top;\n",
       "    }\n",
       "\n",
       "    .dataframe thead th {\n",
       "        text-align: right;\n",
       "    }\n",
       "</style>\n",
       "<table border=\"1\" class=\"dataframe\">\n",
       "  <thead>\n",
       "    <tr style=\"text-align: right;\">\n",
       "      <th></th>\n",
       "      <th>Fecha</th>\n",
       "      <th>Tipo de cambio - TC Euro (S/ por Euro) - Compra</th>\n",
       "    </tr>\n",
       "  </thead>\n",
       "  <tbody>\n",
       "    <tr>\n",
       "      <th>0</th>\n",
       "      <td>01Feb02</td>\n",
       "      <td>2.989</td>\n",
       "    </tr>\n",
       "    <tr>\n",
       "      <th>1</th>\n",
       "      <td>04Feb02</td>\n",
       "      <td>2.940</td>\n",
       "    </tr>\n",
       "    <tr>\n",
       "      <th>2</th>\n",
       "      <td>05Feb02</td>\n",
       "      <td>2.999</td>\n",
       "    </tr>\n",
       "    <tr>\n",
       "      <th>3</th>\n",
       "      <td>06Feb02</td>\n",
       "      <td>2.946</td>\n",
       "    </tr>\n",
       "    <tr>\n",
       "      <th>4</th>\n",
       "      <td>07Feb02</td>\n",
       "      <td>3.013</td>\n",
       "    </tr>\n",
       "    <tr>\n",
       "      <th>...</th>\n",
       "      <td>...</td>\n",
       "      <td>...</td>\n",
       "    </tr>\n",
       "    <tr>\n",
       "      <th>5083</th>\n",
       "      <td>28Jul21</td>\n",
       "      <td>n.d.</td>\n",
       "    </tr>\n",
       "    <tr>\n",
       "      <th>5084</th>\n",
       "      <td>29Jul21</td>\n",
       "      <td>n.d.</td>\n",
       "    </tr>\n",
       "    <tr>\n",
       "      <th>5085</th>\n",
       "      <td>30Jul21</td>\n",
       "      <td>4.749</td>\n",
       "    </tr>\n",
       "    <tr>\n",
       "      <th>5086</th>\n",
       "      <td>02Ago21</td>\n",
       "      <td>4.715</td>\n",
       "    </tr>\n",
       "    <tr>\n",
       "      <th>5087</th>\n",
       "      <td>03Ago21</td>\n",
       "      <td>4.656</td>\n",
       "    </tr>\n",
       "  </tbody>\n",
       "</table>\n",
       "<p>5088 rows × 2 columns</p>\n",
       "</div>"
      ],
      "text/plain": [
       "        Fecha Tipo de cambio - TC Euro (S/ por Euro) - Compra\n",
       "0     01Feb02                                           2.989\n",
       "1     04Feb02                                           2.940\n",
       "2     05Feb02                                           2.999\n",
       "3     06Feb02                                           2.946\n",
       "4     07Feb02                                           3.013\n",
       "...       ...                                             ...\n",
       "5083  28Jul21                                            n.d.\n",
       "5084  29Jul21                                            n.d.\n",
       "5085  30Jul21                                           4.749\n",
       "5086  02Ago21                                           4.715\n",
       "5087  03Ago21                                           4.656\n",
       "\n",
       "[5088 rows x 2 columns]"
      ]
     },
     "execution_count": 12,
     "metadata": {},
     "output_type": "execute_result"
    }
   ],
   "source": [
    "#descargo la data del bcrp\n",
    "requests.packages.urllib3.disable_warnings(category=InsecureRequestWarning)\n",
    "#### URL DEL BANCO  EURO###\n",
    "url = 'https://estadisticas.bcrp.gob.pe/estadisticas/series/diarias/resultados/PD04647PD/html'\n",
    "### URL DEL BANCO ###\n",
    "\n",
    "requests.post(url=url, verify=False)\n",
    "html = requests.get(url,verify=False).content\n",
    "df_list = pd.read_html(html)\n",
    "\n",
    "euro = df_list[-1] #este es el dataframe del banco\n",
    "euro"
   ]
  },
  {
   "cell_type": "code",
   "execution_count": 13,
   "metadata": {},
   "outputs": [],
   "source": [
    "#dolar = dolar[4173:].reset_index()\n",
    "#euro= euro[2847:].reset_index()\n",
    "dolar = dolar[-250:-1].reset_index()\n",
    "euro= euro[-250:-1].reset_index()"
   ]
  },
  {
   "cell_type": "code",
   "execution_count": 14,
   "metadata": {},
   "outputs": [
    {
     "data": {
      "text/plain": [
       "Euro     0.016955\n",
       "Dolar    0.005507\n",
       "dtype: float64"
      ]
     },
     "execution_count": 14,
     "metadata": {},
     "output_type": "execute_result"
    }
   ],
   "source": [
    "Tipo_cambio = dolar.copy()\n",
    "Tipo_cambio['Euro']=euro['Tipo de cambio - TC Euro (S/ por Euro) - Compra']\n",
    "Tipo_cambio['Dolar']=Tipo_cambio['Tipo de cambio - TC Interbancario (S/ por US$) - Compra']\n",
    "Tipo_cambio.drop(columns=['index','Tipo de cambio - TC Interbancario (S/ por US$) - Compra'],axis=1, inplace=True)\n",
    "\n",
    "Tipo_cambio.Euro=Tipo_cambio.Euro.replace('n.d.',np.nan)\n",
    "Tipo_cambio.Dolar=Tipo_cambio.Dolar.replace('n.d.',np.nan)\n",
    "Tipo_cambio.dropna(inplace=True)\n",
    "Tipo_cambio2 = Tipo_cambio.copy()\n",
    "\n",
    "Tipo_cambio2['Dolar']=Tipo_cambio2['Dolar'].astype(float).pct_change()\n",
    "Tipo_cambio2['Euro']=Tipo_cambio2['Euro'].astype(float).pct_change()\n",
    "Tipo_cambio2.dropna(inplace=True)\n",
    "Tipo_cambio2.std()"
   ]
  },
  {
   "cell_type": "code",
   "execution_count": 15,
   "metadata": {},
   "outputs": [
    {
     "data": {
      "text/html": [
       "<div>\n",
       "<style scoped>\n",
       "    .dataframe tbody tr th:only-of-type {\n",
       "        vertical-align: middle;\n",
       "    }\n",
       "\n",
       "    .dataframe tbody tr th {\n",
       "        vertical-align: top;\n",
       "    }\n",
       "\n",
       "    .dataframe thead th {\n",
       "        text-align: right;\n",
       "    }\n",
       "</style>\n",
       "<table border=\"1\" class=\"dataframe\">\n",
       "  <thead>\n",
       "    <tr style=\"text-align: right;\">\n",
       "      <th></th>\n",
       "      <th>Fecha</th>\n",
       "      <th>Euro</th>\n",
       "      <th>Dolar</th>\n",
       "    </tr>\n",
       "  </thead>\n",
       "  <tbody>\n",
       "    <tr>\n",
       "      <th>1</th>\n",
       "      <td>20Ago20</td>\n",
       "      <td>0.009776</td>\n",
       "      <td>0.004496</td>\n",
       "    </tr>\n",
       "    <tr>\n",
       "      <th>2</th>\n",
       "      <td>21Ago20</td>\n",
       "      <td>-0.017946</td>\n",
       "      <td>0.002238</td>\n",
       "    </tr>\n",
       "    <tr>\n",
       "      <th>3</th>\n",
       "      <td>24Ago20</td>\n",
       "      <td>0.007454</td>\n",
       "      <td>-0.000837</td>\n",
       "    </tr>\n",
       "    <tr>\n",
       "      <th>4</th>\n",
       "      <td>25Ago20</td>\n",
       "      <td>0.004296</td>\n",
       "      <td>0.002235</td>\n",
       "    </tr>\n",
       "    <tr>\n",
       "      <th>5</th>\n",
       "      <td>26Ago20</td>\n",
       "      <td>0.000238</td>\n",
       "      <td>-0.002230</td>\n",
       "    </tr>\n",
       "    <tr>\n",
       "      <th>...</th>\n",
       "      <td>...</td>\n",
       "      <td>...</td>\n",
       "      <td>...</td>\n",
       "    </tr>\n",
       "    <tr>\n",
       "      <th>242</th>\n",
       "      <td>23Jul21</td>\n",
       "      <td>0.019625</td>\n",
       "      <td>-0.003557</td>\n",
       "    </tr>\n",
       "    <tr>\n",
       "      <th>243</th>\n",
       "      <td>26Jul21</td>\n",
       "      <td>-0.006704</td>\n",
       "      <td>-0.003825</td>\n",
       "    </tr>\n",
       "    <tr>\n",
       "      <th>244</th>\n",
       "      <td>27Jul21</td>\n",
       "      <td>-0.013063</td>\n",
       "      <td>0.003071</td>\n",
       "    </tr>\n",
       "    <tr>\n",
       "      <th>247</th>\n",
       "      <td>30Jul21</td>\n",
       "      <td>0.047651</td>\n",
       "      <td>0.033172</td>\n",
       "    </tr>\n",
       "    <tr>\n",
       "      <th>248</th>\n",
       "      <td>02Ago21</td>\n",
       "      <td>-0.007159</td>\n",
       "      <td>0.001482</td>\n",
       "    </tr>\n",
       "  </tbody>\n",
       "</table>\n",
       "<p>240 rows × 3 columns</p>\n",
       "</div>"
      ],
      "text/plain": [
       "       Fecha      Euro     Dolar\n",
       "1    20Ago20  0.009776  0.004496\n",
       "2    21Ago20 -0.017946  0.002238\n",
       "3    24Ago20  0.007454 -0.000837\n",
       "4    25Ago20  0.004296  0.002235\n",
       "5    26Ago20  0.000238 -0.002230\n",
       "..       ...       ...       ...\n",
       "242  23Jul21  0.019625 -0.003557\n",
       "243  26Jul21 -0.006704 -0.003825\n",
       "244  27Jul21 -0.013063  0.003071\n",
       "247  30Jul21  0.047651  0.033172\n",
       "248  02Ago21 -0.007159  0.001482\n",
       "\n",
       "[240 rows x 3 columns]"
      ]
     },
     "execution_count": 15,
     "metadata": {},
     "output_type": "execute_result"
    }
   ],
   "source": [
    "Tipo_cambio2"
   ]
  },
  {
   "cell_type": "code",
   "execution_count": 325,
   "metadata": {},
   "outputs": [
    {
     "data": {
      "text/plain": [
       "<matplotlib.axes._subplots.AxesSubplot at 0x17d87927bb0>"
      ]
     },
     "execution_count": 325,
     "metadata": {},
     "output_type": "execute_result"
    },
    {
     "data": {
      "image/png": "[encoded data removed]",
      "text/plain": [
       "<Figure size 576x288 with 1 Axes>"
      ]
     },
     "metadata": {},
     "output_type": "display_data"
    }
   ],
   "source": [
    "sns.distplot(Tipo_cambio2[\"Dolar\"])"
   ]
  },
  {
   "cell_type": "markdown",
   "metadata": {},
   "source": [
    "## Test de Bondad de Ajuste - Test Kolgomorov Smirnov"
   ]
  },
  {
   "cell_type": "code",
   "execution_count": 212,
   "metadata": {},
   "outputs": [
    {
     "name": "stderr",
     "output_type": "stream",
     "text": [
      "C:\\Users\\Leonela\\anaconda3\\lib\\site-packages\\scipy\\stats\\_continuous_distns.py:4522: IntegrationWarning:\n",
      "\n",
      "The integral is probably divergent, or slowly convergent.\n",
      "\n",
      "C:\\Users\\Leonela\\anaconda3\\lib\\site-packages\\scipy\\stats\\_distn_infrastructure.py:1722: RuntimeWarning:\n",
      "\n",
      "invalid value encountered in log\n",
      "\n"
     ]
    },
    {
     "name": "stdout",
     "output_type": "stream",
     "text": [
      "levy_stable: statistic=0.03843541165910891, pvalue=0.8565551543248039\n"
     ]
    }
   ],
   "source": [
    "import pandas as pd\n",
    "import matplotlib.pyplot as plt\n",
    "from six.moves import urllib\n",
    "import zipfile\n",
    "from scipy import stats\n",
    "import scipy.stats as ss\n",
    "\n",
    "#https://medium.com/@amirarsalan.rajabi/distribution-fitting-with-python-scipy-bb70a42c0aed\n",
    "#Test de bondad de ajuste: qué distribución se ajusta mejor a nuestros datos\n",
    "\n",
    "list_of_dists = ['levy_stable']\n",
    "\n",
    "\n",
    "#'alpha','anglit','arcsine','beta','betaprime','bradford','burr','burr12','cauchy',\n",
    "#'chi','chi2','cosine','dgamma','dweibull','erlang','expon','exponnorm','exponweib',\n",
    "#'exponpow','f','fatiguelife','fisk','foldcauchy','foldnorm','frechet_r','frechet_l',\n",
    "#'genlogistic','genpareto','gennorm','genexpon','genextreme','gausshyper','gamma','gengamma',\n",
    "#'genhalflogistic','gilbrat','gompertz','gumbel_r','gumbel_l','halfcauchy','halflogistic','halfnorm',\n",
    "#'halfgennorm','hypsecant','invgamma','invgauss','invweibull','johnsonsb','johnsonsu','kstwobign',\n",
    "#'laplace','levy','levy_l','logistic','loggamma','loglaplace','lognorm','lomax','maxwell','mielke',\n",
    "#'nakagami','ncx2','ncf','nct','norm','pareto','pearson3','powerlaw','powerlognorm','powernorm','rdist',\n",
    "#'reciprocal','rayleigh','rice','recipinvgauss','semicircular','t','triang','truncexpon','truncnorm',\n",
    "#'tukeylambda','uniform','vonmises','vonmises_line','wald','weibull_min','weibull_max','levy_stable'\n",
    "\n",
    "results = []\n",
    "for i in list_of_dists:\n",
    "    dist = getattr(stats, i)\n",
    "    param = dist.fit(Tipo_cambio2['Dolar'])\n",
    "    k_stat, ks_p_value = stats.kstest(Tipo_cambio2['Dolar'], i, args=param)\n",
    "    a = stats.kstest(Tipo_cambio2['Dolar'], i, args=param) ###\n",
    "    results.append((i,a[0],a[1]))\n",
    "    \n",
    "    \n",
    "results.sort(key=lambda x:float(x[2]), reverse=True)\n",
    "for j in results:\n",
    "    print(\"{}: statistic={}, pvalue={}\".format(j[0], j[1], j[2]))"
   ]
  },
  {
   "cell_type": "code",
   "execution_count": 213,
   "metadata": {},
   "outputs": [
    {
     "name": "stdout",
     "output_type": "stream",
     "text": [
      "0.03843541165910891\n"
     ]
    }
   ],
   "source": [
    "print(k_stat)"
   ]
  },
  {
   "cell_type": "code",
   "execution_count": 31,
   "metadata": {},
   "outputs": [],
   "source": [
    "#test de valores críticos\n",
    "def kolgomorov_smirnov_critico(n):\n",
    "    if n<=40:\n",
    "        kolgomorov_critico = [0.97500, 0.84189, 0.70760, 0.62394, 0.56328, 0.51926, 0.48342,\n",
    "                              0.45427, 0.43001,0.40925, 0.39122, 0.37543, 0.36143, 0.34890, 0.33760, 0.32733, 0.31796, 0.30936,\n",
    "                              0.30143,0.29408, 0.28724, 0.28887, 0.27490, 0.26931, 0.26404, 0.25907, 0.25438, 0.24993, 0.24571, \n",
    "                              0.24170, 0.23788, 0.23424, 0.23076, 0.22743, 0.22425, 0.22119, 0.21826 ,0.21544, 0.21273, 0.21012]\n",
    "        ks_critico = kolgomorov_critico[n-1]\n",
    "    elif n>40:\n",
    "        kolgomorov_critico = 1.36/(np.sqrt(n))\n",
    "        ks_critico = kolgomorov_critico\n",
    "    else:\n",
    "        pass\n",
    "    return ks_critico"
   ]
  },
  {
   "cell_type": "code",
   "execution_count": 214,
   "metadata": {},
   "outputs": [
    {
     "name": "stdout",
     "output_type": "stream",
     "text": [
      "0.08778762251403478\n"
     ]
    }
   ],
   "source": [
    "ks_critico = kolgomorov_smirnov_critico(len(Tipo_cambio2['Dolar']))\n",
    "print(ks_critico)"
   ]
  },
  {
   "cell_type": "code",
   "execution_count": 216,
   "metadata": {},
   "outputs": [
    {
     "name": "stdout",
     "output_type": "stream",
     "text": [
      "Con 95% de confianza, los datos son similares a una distribución levy stable\n"
     ]
    }
   ],
   "source": [
    "if ks_critico >=k_stat:\n",
    "    print('Con 95% de confianza, los datos son similares a una distribución levy stable')\n",
    "else:\n",
    "    print('Con 95% de confianza, los datos NO son similares a una distribución levy stable')"
   ]
  },
  {
   "cell_type": "code",
   "execution_count": 180,
   "metadata": {},
   "outputs": [
    {
     "data": {
      "text/plain": [
       "1      0.004496\n",
       "2      0.002238\n",
       "3     -0.000837\n",
       "4      0.002235\n",
       "5     -0.002230\n",
       "         ...   \n",
       "242   -0.003557\n",
       "243   -0.003825\n",
       "244    0.003071\n",
       "247    0.033172\n",
       "248    0.001482\n",
       "Name: Dolar, Length: 240, dtype: float64"
      ]
     },
     "execution_count": 180,
     "metadata": {},
     "output_type": "execute_result"
    }
   ],
   "source": [
    "data= Tipo_cambio2['Dolar']\n",
    "data"
   ]
  },
  {
   "cell_type": "code",
   "execution_count": 181,
   "metadata": {},
   "outputs": [],
   "source": [
    "best_fit_name, best_fit_params = best_fit_distribution(data, 200, ax)\n",
    "best_dist = getattr(st, best_fit_name)"
   ]
  },
  {
   "cell_type": "code",
   "execution_count": 184,
   "metadata": {},
   "outputs": [
    {
     "data": {
      "text/plain": [
       "(1.3349930112308974,\n",
       " -0.0361637316699735,\n",
       " 0.0006094627640411642,\n",
       " 0.0021067767292144994)"
      ]
     },
     "execution_count": 184,
     "metadata": {},
     "output_type": "execute_result"
    }
   ],
   "source": [
    "best_fit_params"
   ]
  },
  {
   "cell_type": "code",
   "execution_count": 185,
   "metadata": {},
   "outputs": [
    {
     "data": {
      "text/plain": [
       "Text(0.5, 1.0, 'El Niño sea temp. with best fit distribution \\nlevy_stable(alpha=1.33, beta=-0.04, loc=0.00, scale=0.00)')"
      ]
     },
     "execution_count": 185,
     "metadata": {},
     "output_type": "execute_result"
    },
    {
     "data": {
      "image/png": "[encoded data removed]",
      "text/plain": [
       "<Figure size 864x576 with 1 Axes>"
      ]
     },
     "metadata": {},
     "output_type": "display_data"
    }
   ],
   "source": [
    "pdf = make_pdf(best_dist, best_fit_params)\n",
    "\n",
    "# Display\n",
    "plt.figure(figsize=(12,8))\n",
    "ax = pdf.plot(lw=2, label='PDF', legend=True)\n",
    "data.plot(kind='hist', bins=50, density=True, alpha=0.5, label='Data', legend=True, ax=ax)\n",
    "\n",
    "param_names = (best_dist.shapes + ', loc, scale').split(', ') if best_dist.shapes else ['loc', 'scale']\n",
    "param_str = ', '.join(['{}={:0.2f}'.format(k,v) for k,v in zip(param_names, best_fit_params)])\n",
    "dist_str = '{}({})'.format(best_fit_name, param_str)\n",
    "ax.set_title(u'El Niño sea temp. with best fit distribution \\n' + dist_str)"
   ]
  },
  {
   "cell_type": "code",
   "execution_count": 194,
   "metadata": {},
   "outputs": [],
   "source": [
    "tc_rate=np.array(best_fit_params)\n",
    "alpha = tc_rate[0]\n",
    "beta = tc_rate[1]\n",
    "loc=tc_rate[2]\n",
    "scale=tc_rate[3]"
   ]
  },
  {
   "cell_type": "code",
   "execution_count": 203,
   "metadata": {},
   "outputs": [
    {
     "data": {
      "text/plain": [
       "0.012731598071805785"
      ]
     },
     "execution_count": 203,
     "metadata": {},
     "output_type": "execute_result"
    }
   ],
   "source": [
    "from scipy.stats import levy_stable\n",
    "tc_inter1=levy_stable.interval(0.95, alpha, beta, loc, scale)\n",
    "inter_ls1=np.array(tc_inter1)\n",
    "inter_ls_high1 = inter_ls1[1]\n",
    "inter_ls_high1"
   ]
  },
  {
   "cell_type": "code",
   "execution_count": 202,
   "metadata": {},
   "outputs": [
    {
     "data": {
      "text/plain": [
       "0.039067274347156455"
      ]
     },
     "execution_count": 202,
     "metadata": {},
     "output_type": "execute_result"
    }
   ],
   "source": [
    "tc_inter2=levy_stable.interval(0.99, alpha, beta, loc, scale)\n",
    "inter_ls2=np.array(tc_inter2)\n",
    "inter_ls_high2 = inter_ls2[1]\n",
    "inter_ls_high2"
   ]
  },
  {
   "cell_type": "code",
   "execution_count": 207,
   "metadata": {},
   "outputs": [
    {
     "data": {
      "text/plain": [
       "[0.01273,\n",
       " 0.01801,\n",
       " 0.02205,\n",
       " 0.02546,\n",
       " 0.02847,\n",
       " 0.03119,\n",
       " 0.03368,\n",
       " 0.03601,\n",
       " 0.03819,\n",
       " 0.04026,\n",
       " 0.04223,\n",
       " 0.0441,\n",
       " 0.0459,\n",
       " 0.04764,\n",
       " 0.04931,\n",
       " 0.05093,\n",
       " 0.05249,\n",
       " 0.05402,\n",
       " 0.0555,\n",
       " 0.05694,\n",
       " 0.05834,\n",
       " 0.05972,\n",
       " 0.06106,\n",
       " 0.06237,\n",
       " 0.06366,\n",
       " 0.06492,\n",
       " 0.06616,\n",
       " 0.06737,\n",
       " 0.06856,\n",
       " 0.06973]"
      ]
     },
     "execution_count": 207,
     "metadata": {},
     "output_type": "execute_result"
    }
   ],
   "source": [
    "var_array0 = []\n",
    "num_days = int(30)\n",
    "for x in range(1, num_days+1): \n",
    "    var_array0.append(np.round(inter_ls_high1 * np.sqrt(x),5))\n",
    "   # print(str(x) + \" day VaR @ 95% confidence: \" + str(np.round(var_1d1 * stdev_investment* np.sqrt(x),3)))\n",
    "var_array0"
   ]
  },
  {
   "cell_type": "markdown",
   "metadata": {},
   "source": [
    "## "
   ]
  },
  {
   "cell_type": "code",
   "execution_count": 208,
   "metadata": {},
   "outputs": [
    {
     "data": {
      "text/plain": [
       "[0.03907,\n",
       " 0.05525,\n",
       " 0.06767,\n",
       " 0.07813,\n",
       " 0.08736,\n",
       " 0.09569,\n",
       " 0.10336,\n",
       " 0.1105,\n",
       " 0.1172,\n",
       " 0.12354,\n",
       " 0.12957,\n",
       " 0.13533,\n",
       " 0.14086,\n",
       " 0.14618,\n",
       " 0.15131,\n",
       " 0.15627,\n",
       " 0.16108,\n",
       " 0.16575,\n",
       " 0.17029,\n",
       " 0.17471,\n",
       " 0.17903,\n",
       " 0.18324,\n",
       " 0.18736,\n",
       " 0.19139,\n",
       " 0.19534,\n",
       " 0.1992,\n",
       " 0.203,\n",
       " 0.20672,\n",
       " 0.21038,\n",
       " 0.21398]"
      ]
     },
     "execution_count": 208,
     "metadata": {},
     "output_type": "execute_result"
    }
   ],
   "source": [
    "var_array1 = []\n",
    "num_days = int(30)\n",
    "for x in range(1, num_days+1): \n",
    "    var_array1.append(np.round(inter_ls_high2 * np.sqrt(x),5))\n",
    "    #print(str(x) + \" day VaR @ 95% confidence: \" + str(np.round(var_1d2 * stdev_investment* np.sqrt(x),3)))\n",
    "\n",
    "var_array1    \n"
   ]
  },
  {
   "cell_type": "code",
   "execution_count": 210,
   "metadata": {},
   "outputs": [
    {
     "data": {
      "text/html": [
       "<div>\n",
       "<style scoped>\n",
       "    .dataframe tbody tr th:only-of-type {\n",
       "        vertical-align: middle;\n",
       "    }\n",
       "\n",
       "    .dataframe tbody tr th {\n",
       "        vertical-align: top;\n",
       "    }\n",
       "\n",
       "    .dataframe thead th {\n",
       "        text-align: right;\n",
       "    }\n",
       "</style>\n",
       "<table border=\"1\" class=\"dataframe\">\n",
       "  <thead>\n",
       "    <tr style=\"text-align: right;\">\n",
       "      <th></th>\n",
       "      <th>95%</th>\n",
       "      <th>99%</th>\n",
       "    </tr>\n",
       "    <tr>\n",
       "      <th>fecha</th>\n",
       "      <th></th>\n",
       "      <th></th>\n",
       "    </tr>\n",
       "  </thead>\n",
       "  <tbody>\n",
       "    <tr>\n",
       "      <th>2021-08-04</th>\n",
       "      <td>0.01273</td>\n",
       "      <td>0.03907</td>\n",
       "    </tr>\n",
       "    <tr>\n",
       "      <th>2021-08-05</th>\n",
       "      <td>0.01801</td>\n",
       "      <td>0.05525</td>\n",
       "    </tr>\n",
       "    <tr>\n",
       "      <th>2021-08-06</th>\n",
       "      <td>0.02205</td>\n",
       "      <td>0.06767</td>\n",
       "    </tr>\n",
       "    <tr>\n",
       "      <th>2021-08-07</th>\n",
       "      <td>0.02546</td>\n",
       "      <td>0.07813</td>\n",
       "    </tr>\n",
       "    <tr>\n",
       "      <th>2021-08-08</th>\n",
       "      <td>0.02847</td>\n",
       "      <td>0.08736</td>\n",
       "    </tr>\n",
       "    <tr>\n",
       "      <th>2021-08-09</th>\n",
       "      <td>0.03119</td>\n",
       "      <td>0.09569</td>\n",
       "    </tr>\n",
       "    <tr>\n",
       "      <th>2021-08-10</th>\n",
       "      <td>0.03368</td>\n",
       "      <td>0.10336</td>\n",
       "    </tr>\n",
       "    <tr>\n",
       "      <th>2021-08-11</th>\n",
       "      <td>0.03601</td>\n",
       "      <td>0.11050</td>\n",
       "    </tr>\n",
       "    <tr>\n",
       "      <th>2021-08-12</th>\n",
       "      <td>0.03819</td>\n",
       "      <td>0.11720</td>\n",
       "    </tr>\n",
       "    <tr>\n",
       "      <th>2021-08-13</th>\n",
       "      <td>0.04026</td>\n",
       "      <td>0.12354</td>\n",
       "    </tr>\n",
       "    <tr>\n",
       "      <th>2021-08-14</th>\n",
       "      <td>0.04223</td>\n",
       "      <td>0.12957</td>\n",
       "    </tr>\n",
       "    <tr>\n",
       "      <th>2021-08-15</th>\n",
       "      <td>0.04410</td>\n",
       "      <td>0.13533</td>\n",
       "    </tr>\n",
       "    <tr>\n",
       "      <th>2021-08-16</th>\n",
       "      <td>0.04590</td>\n",
       "      <td>0.14086</td>\n",
       "    </tr>\n",
       "    <tr>\n",
       "      <th>2021-08-17</th>\n",
       "      <td>0.04764</td>\n",
       "      <td>0.14618</td>\n",
       "    </tr>\n",
       "    <tr>\n",
       "      <th>2021-08-18</th>\n",
       "      <td>0.04931</td>\n",
       "      <td>0.15131</td>\n",
       "    </tr>\n",
       "    <tr>\n",
       "      <th>2021-08-19</th>\n",
       "      <td>0.05093</td>\n",
       "      <td>0.15627</td>\n",
       "    </tr>\n",
       "    <tr>\n",
       "      <th>2021-08-20</th>\n",
       "      <td>0.05249</td>\n",
       "      <td>0.16108</td>\n",
       "    </tr>\n",
       "    <tr>\n",
       "      <th>2021-08-21</th>\n",
       "      <td>0.05402</td>\n",
       "      <td>0.16575</td>\n",
       "    </tr>\n",
       "    <tr>\n",
       "      <th>2021-08-22</th>\n",
       "      <td>0.05550</td>\n",
       "      <td>0.17029</td>\n",
       "    </tr>\n",
       "    <tr>\n",
       "      <th>2021-08-23</th>\n",
       "      <td>0.05694</td>\n",
       "      <td>0.17471</td>\n",
       "    </tr>\n",
       "    <tr>\n",
       "      <th>2021-08-24</th>\n",
       "      <td>0.05834</td>\n",
       "      <td>0.17903</td>\n",
       "    </tr>\n",
       "    <tr>\n",
       "      <th>2021-08-25</th>\n",
       "      <td>0.05972</td>\n",
       "      <td>0.18324</td>\n",
       "    </tr>\n",
       "    <tr>\n",
       "      <th>2021-08-26</th>\n",
       "      <td>0.06106</td>\n",
       "      <td>0.18736</td>\n",
       "    </tr>\n",
       "    <tr>\n",
       "      <th>2021-08-27</th>\n",
       "      <td>0.06237</td>\n",
       "      <td>0.19139</td>\n",
       "    </tr>\n",
       "    <tr>\n",
       "      <th>2021-08-28</th>\n",
       "      <td>0.06366</td>\n",
       "      <td>0.19534</td>\n",
       "    </tr>\n",
       "    <tr>\n",
       "      <th>2021-08-29</th>\n",
       "      <td>0.06492</td>\n",
       "      <td>0.19920</td>\n",
       "    </tr>\n",
       "    <tr>\n",
       "      <th>2021-08-30</th>\n",
       "      <td>0.06616</td>\n",
       "      <td>0.20300</td>\n",
       "    </tr>\n",
       "    <tr>\n",
       "      <th>2021-08-31</th>\n",
       "      <td>0.06737</td>\n",
       "      <td>0.20672</td>\n",
       "    </tr>\n",
       "    <tr>\n",
       "      <th>2021-09-01</th>\n",
       "      <td>0.06856</td>\n",
       "      <td>0.21038</td>\n",
       "    </tr>\n",
       "    <tr>\n",
       "      <th>2021-09-02</th>\n",
       "      <td>0.06973</td>\n",
       "      <td>0.21398</td>\n",
       "    </tr>\n",
       "  </tbody>\n",
       "</table>\n",
       "</div>"
      ],
      "text/plain": [
       "                95%      99%\n",
       "fecha                       \n",
       "2021-08-04  0.01273  0.03907\n",
       "2021-08-05  0.01801  0.05525\n",
       "2021-08-06  0.02205  0.06767\n",
       "2021-08-07  0.02546  0.07813\n",
       "2021-08-08  0.02847  0.08736\n",
       "2021-08-09  0.03119  0.09569\n",
       "2021-08-10  0.03368  0.10336\n",
       "2021-08-11  0.03601  0.11050\n",
       "2021-08-12  0.03819  0.11720\n",
       "2021-08-13  0.04026  0.12354\n",
       "2021-08-14  0.04223  0.12957\n",
       "2021-08-15  0.04410  0.13533\n",
       "2021-08-16  0.04590  0.14086\n",
       "2021-08-17  0.04764  0.14618\n",
       "2021-08-18  0.04931  0.15131\n",
       "2021-08-19  0.05093  0.15627\n",
       "2021-08-20  0.05249  0.16108\n",
       "2021-08-21  0.05402  0.16575\n",
       "2021-08-22  0.05550  0.17029\n",
       "2021-08-23  0.05694  0.17471\n",
       "2021-08-24  0.05834  0.17903\n",
       "2021-08-25  0.05972  0.18324\n",
       "2021-08-26  0.06106  0.18736\n",
       "2021-08-27  0.06237  0.19139\n",
       "2021-08-28  0.06366  0.19534\n",
       "2021-08-29  0.06492  0.19920\n",
       "2021-08-30  0.06616  0.20300\n",
       "2021-08-31  0.06737  0.20672\n",
       "2021-09-01  0.06856  0.21038\n",
       "2021-09-02  0.06973  0.21398"
      ]
     },
     "execution_count": 210,
     "metadata": {},
     "output_type": "execute_result"
    }
   ],
   "source": [
    "df = pd.DataFrame(var_array0)\n",
    "df.columns = ['95%']\n",
    "df['99%'] = var_array1\n",
    "df['fecha'] = pd.date_range(start='8/4/2021', end='9/2/2021', freq='D')\n",
    "df.set_index('fecha', inplace =True)\n",
    "df"
   ]
  },
  {
   "cell_type": "code",
   "execution_count": 44,
   "metadata": {},
   "outputs": [],
   "source": [
    "import matplotlib.pyplot as plt\n",
    "#pd.options.plotting.backend = \"plotly\"\n",
    "import plotly.express as px\n",
    "from plotly import graph_objects as go"
   ]
  },
  {
   "cell_type": "code",
   "execution_count": 324,
   "metadata": {},
   "outputs": [
    {
     "data": {
      "application/vnd.plotly.v1+json": {
       "config": {
        "plotlyServerURL": "https://plot.ly"
       },
       "data": [
        {
         "name": "Probabilidad del 99%",
         "type": "scatter",
         "x": [
          "2021-08-04T00:00:00",
          "2021-08-05T00:00:00",
          "2021-08-06T00:00:00",
          "2021-08-07T00:00:00",
          "2021-08-08T00:00:00",
          "2021-08-09T00:00:00",
          "2021-08-10T00:00:00",
          "2021-08-11T00:00:00",
          "2021-08-12T00:00:00",
          "2021-08-13T00:00:00",
          "2021-08-14T00:00:00",
          "2021-08-15T00:00:00",
          "2021-08-16T00:00:00",
          "2021-08-17T00:00:00",
          "2021-08-18T00:00:00",
          "2021-08-19T00:00:00",
          "2021-08-20T00:00:00",
          "2021-08-21T00:00:00",
          "2021-08-22T00:00:00",
          "2021-08-23T00:00:00",
          "2021-08-24T00:00:00",
          "2021-08-25T00:00:00",
          "2021-08-26T00:00:00",
          "2021-08-27T00:00:00",
          "2021-08-28T00:00:00",
          "2021-08-29T00:00:00",
          "2021-08-30T00:00:00",
          "2021-08-31T00:00:00",
          "2021-09-01T00:00:00",
          "2021-09-02T00:00:00"
         ],
         "y": [
          0.03907,
          0.05525,
          0.06767,
          0.07813,
          0.08736,
          0.09569,
          0.10336,
          0.1105,
          0.1172,
          0.12354,
          0.12957,
          0.13533,
          0.14086,
          0.14618,
          0.15131,
          0.15627,
          0.16108,
          0.16575,
          0.17029,
          0.17471,
          0.17903,
          0.18324,
          0.18736,
          0.19139,
          0.19534,
          0.1992,
          0.203,
          0.20672,
          0.21038,
          0.21398
         ]
        },
        {
         "name": "Probabilidad del 95%",
         "type": "scatter",
         "x": [
          "2021-08-04T00:00:00",
          "2021-08-05T00:00:00",
          "2021-08-06T00:00:00",
          "2021-08-07T00:00:00",
          "2021-08-08T00:00:00",
          "2021-08-09T00:00:00",
          "2021-08-10T00:00:00",
          "2021-08-11T00:00:00",
          "2021-08-12T00:00:00",
          "2021-08-13T00:00:00",
          "2021-08-14T00:00:00",
          "2021-08-15T00:00:00",
          "2021-08-16T00:00:00",
          "2021-08-17T00:00:00",
          "2021-08-18T00:00:00",
          "2021-08-19T00:00:00",
          "2021-08-20T00:00:00",
          "2021-08-21T00:00:00",
          "2021-08-22T00:00:00",
          "2021-08-23T00:00:00",
          "2021-08-24T00:00:00",
          "2021-08-25T00:00:00",
          "2021-08-26T00:00:00",
          "2021-08-27T00:00:00",
          "2021-08-28T00:00:00",
          "2021-08-29T00:00:00",
          "2021-08-30T00:00:00",
          "2021-08-31T00:00:00",
          "2021-09-01T00:00:00",
          "2021-09-02T00:00:00"
         ],
         "y": [
          0.01273,
          0.01801,
          0.02205,
          0.02546,
          0.02847,
          0.03119,
          0.03368,
          0.03601,
          0.03819,
          0.04026,
          0.04223,
          0.0441,
          0.0459,
          0.04764,
          0.04931,
          0.05093,
          0.05249,
          0.05402,
          0.0555,
          0.05694,
          0.05834,
          0.05972,
          0.06106,
          0.06237,
          0.06366,
          0.06492,
          0.06616,
          0.06737,
          0.06856,
          0.06973
         ]
        }
       ],
       "layout": {
        "template": {
         "data": {
          "bar": [
           {
            "error_x": {
             "color": "#2a3f5f"
            },
            "error_y": {
             "color": "#2a3f5f"
            },
            "marker": {
             "line": {
              "color": "#E5ECF6",
              "width": 0.5
             }
            },
            "type": "bar"
           }
          ],
          "barpolar": [
           {
            "marker": {
             "line": {
              "color": "#E5ECF6",
              "width": 0.5
             }
            },
            "type": "barpolar"
           }
          ],
          "carpet": [
           {
            "aaxis": {
             "endlinecolor": "#2a3f5f",
             "gridcolor": "white",
             "linecolor": "white",
             "minorgridcolor": "white",
             "startlinecolor": "#2a3f5f"
            },
            "baxis": {
             "endlinecolor": "#2a3f5f",
             "gridcolor": "white",
             "linecolor": "white",
             "minorgridcolor": "white",
             "startlinecolor": "#2a3f5f"
            },
            "type": "carpet"
           }
          ],
          "choropleth": [
           {
            "colorbar": {
             "outlinewidth": 0,
             "ticks": ""
            },
            "type": "choropleth"
           }
          ],
          "contour": [
           {
            "colorbar": {
             "outlinewidth": 0,
             "ticks": ""
            },
            "colorscale": [
             [
              0,
              "#0d0887"
             ],
             [
              0.1111111111111111,
              "#46039f"
             ],
             [
              0.2222222222222222,
              "#7201a8"
             ],
             [
              0.3333333333333333,
              "#9c179e"
             ],
             [
              0.4444444444444444,
              "#bd3786"
             ],
             [
              0.5555555555555556,
              "#d8576b"
             ],
             [
              0.6666666666666666,
              "#ed7953"
             ],
             [
              0.7777777777777778,
              "#fb9f3a"
             ],
             [
              0.8888888888888888,
              "#fdca26"
             ],
             [
              1,
              "#f0f921"
             ]
            ],
            "type": "contour"
           }
          ],
          "contourcarpet": [
           {
            "colorbar": {
             "outlinewidth": 0,
             "ticks": ""
            },
            "type": "contourcarpet"
           }
          ],
          "heatmap": [
           {
            "colorbar": {
             "outlinewidth": 0,
             "ticks": ""
            },
            "colorscale": [
             [
              0,
              "#0d0887"
             ],
             [
              0.1111111111111111,
              "#46039f"
             ],
             [
              0.2222222222222222,
              "#7201a8"
             ],
             [
              0.3333333333333333,
              "#9c179e"
             ],
             [
              0.4444444444444444,
              "#bd3786"
             ],
             [
              0.5555555555555556,
              "#d8576b"
             ],
             [
              0.6666666666666666,
              "#ed7953"
             ],
             [
              0.7777777777777778,
              "#fb9f3a"
             ],
             [
              0.8888888888888888,
              "#fdca26"
             ],
             [
              1,
              "#f0f921"
             ]
            ],
            "type": "heatmap"
           }
          ],
          "heatmapgl": [
           {
            "colorbar": {
             "outlinewidth": 0,
             "ticks": ""
            },
            "colorscale": [
             [
              0,
              "#0d0887"
             ],
             [
              0.1111111111111111,
              "#46039f"
             ],
             [
              0.2222222222222222,
              "#7201a8"
             ],
             [
              0.3333333333333333,
              "#9c179e"
             ],
             [
              0.4444444444444444,
              "#bd3786"
             ],
             [
              0.5555555555555556,
              "#d8576b"
             ],
             [
              0.6666666666666666,
              "#ed7953"
             ],
             [
              0.7777777777777778,
              "#fb9f3a"
             ],
             [
              0.8888888888888888,
              "#fdca26"
             ],
             [
              1,
              "#f0f921"
             ]
            ],
            "type": "heatmapgl"
           }
          ],
          "histogram": [
           {
            "marker": {
             "colorbar": {
              "outlinewidth": 0,
              "ticks": ""
             }
            },
            "type": "histogram"
           }
          ],
          "histogram2d": [
           {
            "colorbar": {
             "outlinewidth": 0,
             "ticks": ""
            },
            "colorscale": [
             [
              0,
              "#0d0887"
             ],
             [
              0.1111111111111111,
              "#46039f"
             ],
             [
              0.2222222222222222,
              "#7201a8"
             ],
             [
              0.3333333333333333,
              "#9c179e"
             ],
             [
              0.4444444444444444,
              "#bd3786"
             ],
             [
              0.5555555555555556,
              "#d8576b"
             ],
             [
              0.6666666666666666,
              "#ed7953"
             ],
             [
              0.7777777777777778,
              "#fb9f3a"
             ],
             [
              0.8888888888888888,
              "#fdca26"
             ],
             [
              1,
              "#f0f921"
             ]
            ],
            "type": "histogram2d"
           }
          ],
          "histogram2dcontour": [
           {
            "colorbar": {
             "outlinewidth": 0,
             "ticks": ""
            },
            "colorscale": [
             [
              0,
              "#0d0887"
             ],
             [
              0.1111111111111111,
              "#46039f"
             ],
             [
              0.2222222222222222,
              "#7201a8"
             ],
             [
              0.3333333333333333,
              "#9c179e"
             ],
             [
              0.4444444444444444,
              "#bd3786"
             ],
             [
              0.5555555555555556,
              "#d8576b"
             ],
             [
              0.6666666666666666,
              "#ed7953"
             ],
             [
              0.7777777777777778,
              "#fb9f3a"
             ],
             [
              0.8888888888888888,
              "#fdca26"
             ],
             [
              1,
              "#f0f921"
             ]
            ],
            "type": "histogram2dcontour"
           }
          ],
          "mesh3d": [
           {
            "colorbar": {
             "outlinewidth": 0,
             "ticks": ""
            },
            "type": "mesh3d"
           }
          ],
          "parcoords": [
           {
            "line": {
             "colorbar": {
              "outlinewidth": 0,
              "ticks": ""
             }
            },
            "type": "parcoords"
           }
          ],
          "pie": [
           {
            "automargin": true,
            "type": "pie"
           }
          ],
          "scatter": [
           {
            "marker": {
             "colorbar": {
              "outlinewidth": 0,
              "ticks": ""
             }
            },
            "type": "scatter"
           }
          ],
          "scatter3d": [
           {
            "line": {
             "colorbar": {
              "outlinewidth": 0,
              "ticks": ""
             }
            },
            "marker": {
             "colorbar": {
              "outlinewidth": 0,
              "ticks": ""
             }
            },
            "type": "scatter3d"
           }
          ],
          "scattercarpet": [
           {
            "marker": {
             "colorbar": {
              "outlinewidth": 0,
              "ticks": ""
             }
            },
            "type": "scattercarpet"
           }
          ],
          "scattergeo": [
           {
            "marker": {
             "colorbar": {
              "outlinewidth": 0,
              "ticks": ""
             }
            },
            "type": "scattergeo"
           }
          ],
          "scattergl": [
           {
            "marker": {
             "colorbar": {
              "outlinewidth": 0,
              "ticks": ""
             }
            },
            "type": "scattergl"
           }
          ],
          "scattermapbox": [
           {
            "marker": {
             "colorbar": {
              "outlinewidth": 0,
              "ticks": ""
             }
            },
            "type": "scattermapbox"
           }
          ],
          "scatterpolar": [
           {
            "marker": {
             "colorbar": {
              "outlinewidth": 0,
              "ticks": ""
             }
            },
            "type": "scatterpolar"
           }
          ],
          "scatterpolargl": [
           {
            "marker": {
             "colorbar": {
              "outlinewidth": 0,
              "ticks": ""
             }
            },
            "type": "scatterpolargl"
           }
          ],
          "scatterternary": [
           {
            "marker": {
             "colorbar": {
              "outlinewidth": 0,
              "ticks": ""
             }
            },
            "type": "scatterternary"
           }
          ],
          "surface": [
           {
            "colorbar": {
             "outlinewidth": 0,
             "ticks": ""
            },
            "colorscale": [
             [
              0,
              "#0d0887"
             ],
             [
              0.1111111111111111,
              "#46039f"
             ],
             [
              0.2222222222222222,
              "#7201a8"
             ],
             [
              0.3333333333333333,
              "#9c179e"
             ],
             [
              0.4444444444444444,
              "#bd3786"
             ],
             [
              0.5555555555555556,
              "#d8576b"
             ],
             [
              0.6666666666666666,
              "#ed7953"
             ],
             [
              0.7777777777777778,
              "#fb9f3a"
             ],
             [
              0.8888888888888888,
              "#fdca26"
             ],
             [
              1,
              "#f0f921"
             ]
            ],
            "type": "surface"
           }
          ],
          "table": [
           {
            "cells": {
             "fill": {
              "color": "#EBF0F8"
             },
             "line": {
              "color": "white"
             }
            },
            "header": {
             "fill": {
              "color": "#C8D4E3"
             },
             "line": {
              "color": "white"
             }
            },
            "type": "table"
           }
          ]
         },
         "layout": {
          "annotationdefaults": {
           "arrowcolor": "#2a3f5f",
           "arrowhead": 0,
           "arrowwidth": 1
          },
          "autotypenumbers": "strict",
          "coloraxis": {
           "colorbar": {
            "outlinewidth": 0,
            "ticks": ""
           }
          },
          "colorscale": {
           "diverging": [
            [
             0,
             "#8e0152"
            ],
            [
             0.1,
             "#c51b7d"
            ],
            [
             0.2,
             "#de77ae"
            ],
            [
             0.3,
             "#f1b6da"
            ],
            [
             0.4,
             "#fde0ef"
            ],
            [
             0.5,
             "#f7f7f7"
            ],
            [
             0.6,
             "#e6f5d0"
            ],
            [
             0.7,
             "#b8e186"
            ],
            [
             0.8,
             "#7fbc41"
            ],
            [
             0.9,
             "#4d9221"
            ],
            [
             1,
             "#276419"
            ]
           ],
           "sequential": [
            [
             0,
             "#0d0887"
            ],
            [
             0.1111111111111111,
             "#46039f"
            ],
            [
             0.2222222222222222,
             "#7201a8"
            ],
            [
             0.3333333333333333,
             "#9c179e"
            ],
            [
             0.4444444444444444,
             "#bd3786"
            ],
            [
             0.5555555555555556,
             "#d8576b"
            ],
            [
             0.6666666666666666,
             "#ed7953"
            ],
            [
             0.7777777777777778,
             "#fb9f3a"
            ],
            [
             0.8888888888888888,
             "#fdca26"
            ],
            [
             1,
             "#f0f921"
            ]
           ],
           "sequentialminus": [
            [
             0,
             "#0d0887"
            ],
            [
             0.1111111111111111,
             "#46039f"
            ],
            [
             0.2222222222222222,
             "#7201a8"
            ],
            [
             0.3333333333333333,
             "#9c179e"
            ],
            [
             0.4444444444444444,
             "#bd3786"
            ],
            [
             0.5555555555555556,
             "#d8576b"
            ],
            [
             0.6666666666666666,
             "#ed7953"
            ],
            [
             0.7777777777777778,
             "#fb9f3a"
            ],
            [
             0.8888888888888888,
             "#fdca26"
            ],
            [
             1,
             "#f0f921"
            ]
           ]
          },
          "colorway": [
           "#636efa",
           "#EF553B",
           "#00cc96",
           "#ab63fa",
           "#FFA15A",
           "#19d3f3",
           "#FF6692",
           "#B6E880",
           "#FF97FF",
           "#FECB52"
          ],
          "font": {
           "color": "#2a3f5f"
          },
          "geo": {
           "bgcolor": "white",
           "lakecolor": "white",
           "landcolor": "#E5ECF6",
           "showlakes": true,
           "showland": true,
           "subunitcolor": "white"
          },
          "hoverlabel": {
           "align": "left"
          },
          "hovermode": "closest",
          "mapbox": {
           "style": "light"
          },
          "paper_bgcolor": "white",
          "plot_bgcolor": "#E5ECF6",
          "polar": {
           "angularaxis": {
            "gridcolor": "white",
            "linecolor": "white",
            "ticks": ""
           },
           "bgcolor": "#E5ECF6",
           "radialaxis": {
            "gridcolor": "white",
            "linecolor": "white",
            "ticks": ""
           }
          },
          "scene": {
           "xaxis": {
            "backgroundcolor": "#E5ECF6",
            "gridcolor": "white",
            "gridwidth": 2,
            "linecolor": "white",
            "showbackground": true,
            "ticks": "",
            "zerolinecolor": "white"
           },
           "yaxis": {
            "backgroundcolor": "#E5ECF6",
            "gridcolor": "white",
            "gridwidth": 2,
            "linecolor": "white",
            "showbackground": true,
            "ticks": "",
            "zerolinecolor": "white"
           },
           "zaxis": {
            "backgroundcolor": "#E5ECF6",
            "gridcolor": "white",
            "gridwidth": 2,
            "linecolor": "white",
            "showbackground": true,
            "ticks": "",
            "zerolinecolor": "white"
           }
          },
          "shapedefaults": {
           "line": {
            "color": "#2a3f5f"
           }
          },
          "ternary": {
           "aaxis": {
            "gridcolor": "white",
            "linecolor": "white",
            "ticks": ""
           },
           "baxis": {
            "gridcolor": "white",
            "linecolor": "white",
            "ticks": ""
           },
           "bgcolor": "#E5ECF6",
           "caxis": {
            "gridcolor": "white",
            "linecolor": "white",
            "ticks": ""
           }
          },
          "title": {
           "x": 0.05
          },
          "xaxis": {
           "automargin": true,
           "gridcolor": "white",
           "linecolor": "white",
           "ticks": "",
           "title": {
            "standoff": 15
           },
           "zerolinecolor": "white",
           "zerolinewidth": 2
          },
          "yaxis": {
           "automargin": true,
           "gridcolor": "white",
           "linecolor": "white",
           "ticks": "",
           "title": {
            "standoff": 15
           },
           "zerolinecolor": "white",
           "zerolinewidth": 2
          }
         }
        },
        "title": {
         "text": "Variabilidad Máxima del TC al 31 de diciembre de 2021"
        },
        "xaxis": {
         "title": {
          "text": "Días"
         }
        },
        "yaxis": {
         "title": {
          "text": "Crecimiento del Tipo de Cambio"
         }
        }
       }
      },
      "text/html": [
       "<div>                            <div id=\"45d8e74e-6b9a-435c-b7e0-cd9de27de346\" class=\"plotly-graph-div\" style=\"height:525px; width:100%;\"></div>            <script type=\"text/javascript\">                require([\"plotly\"], function(Plotly) {                    window.PLOTLYENV=window.PLOTLYENV || {};                                    if (document.getElementById(\"45d8e74e-6b9a-435c-b7e0-cd9de27de346\")) {                    Plotly.newPlot(                        \"45d8e74e-6b9a-435c-b7e0-cd9de27de346\",                        [{\"name\": \"Probabilidad del 99%\", \"type\": \"scatter\", \"x\": [\"2021-08-04T00:00:00\", \"2021-08-05T00:00:00\", \"2021-08-06T00:00:00\", \"2021-08-07T00:00:00\", \"2021-08-08T00:00:00\", \"2021-08-09T00:00:00\", \"2021-08-10T00:00:00\", \"2021-08-11T00:00:00\", \"2021-08-12T00:00:00\", \"2021-08-13T00:00:00\", \"2021-08-14T00:00:00\", \"2021-08-15T00:00:00\", \"2021-08-16T00:00:00\", \"2021-08-17T00:00:00\", \"2021-08-18T00:00:00\", \"2021-08-19T00:00:00\", \"2021-08-20T00:00:00\", \"2021-08-21T00:00:00\", \"2021-08-22T00:00:00\", \"2021-08-23T00:00:00\", \"2021-08-24T00:00:00\", \"2021-08-25T00:00:00\", \"2021-08-26T00:00:00\", \"2021-08-27T00:00:00\", \"2021-08-28T00:00:00\", \"2021-08-29T00:00:00\", \"2021-08-30T00:00:00\", \"2021-08-31T00:00:00\", \"2021-09-01T00:00:00\", \"2021-09-02T00:00:00\"], \"y\": [0.03907, 0.05525, 0.06767, 0.07813, 0.08736, 0.09569, 0.10336, 0.1105, 0.1172, 0.12354, 0.12957, 0.13533, 0.14086, 0.14618, 0.15131, 0.15627, 0.16108, 0.16575, 0.17029, 0.17471, 0.17903, 0.18324, 0.18736, 0.19139, 0.19534, 0.1992, 0.203, 0.20672, 0.21038, 0.21398]}, {\"name\": \"Probabilidad del 95%\", \"type\": \"scatter\", \"x\": [\"2021-08-04T00:00:00\", \"2021-08-05T00:00:00\", \"2021-08-06T00:00:00\", \"2021-08-07T00:00:00\", \"2021-08-08T00:00:00\", \"2021-08-09T00:00:00\", \"2021-08-10T00:00:00\", \"2021-08-11T00:00:00\", \"2021-08-12T00:00:00\", \"2021-08-13T00:00:00\", \"2021-08-14T00:00:00\", \"2021-08-15T00:00:00\", \"2021-08-16T00:00:00\", \"2021-08-17T00:00:00\", \"2021-08-18T00:00:00\", \"2021-08-19T00:00:00\", \"2021-08-20T00:00:00\", \"2021-08-21T00:00:00\", \"2021-08-22T00:00:00\", \"2021-08-23T00:00:00\", \"2021-08-24T00:00:00\", \"2021-08-25T00:00:00\", \"2021-08-26T00:00:00\", \"2021-08-27T00:00:00\", \"2021-08-28T00:00:00\", \"2021-08-29T00:00:00\", \"2021-08-30T00:00:00\", \"2021-08-31T00:00:00\", \"2021-09-01T00:00:00\", \"2021-09-02T00:00:00\"], \"y\": [0.01273, 0.01801, 0.02205, 0.02546, 0.02847, 0.03119, 0.03368, 0.03601, 0.03819, 0.04026, 0.04223, 0.0441, 0.0459, 0.04764, 0.04931, 0.05093, 0.05249, 0.05402, 0.0555, 0.05694, 0.05834, 0.05972, 0.06106, 0.06237, 0.06366, 0.06492, 0.06616, 0.06737, 0.06856, 0.06973]}],                        {\"template\": {\"data\": {\"bar\": [{\"error_x\": {\"color\": \"#2a3f5f\"}, \"error_y\": {\"color\": \"#2a3f5f\"}, \"marker\": {\"line\": {\"color\": \"#E5ECF6\", \"width\": 0.5}}, \"type\": \"bar\"}], \"barpolar\": [{\"marker\": {\"line\": {\"color\": \"#E5ECF6\", \"width\": 0.5}}, \"type\": \"barpolar\"}], \"carpet\": [{\"aaxis\": {\"endlinecolor\": \"#2a3f5f\", \"gridcolor\": \"white\", \"linecolor\": \"white\", \"minorgridcolor\": \"white\", \"startlinecolor\": \"#2a3f5f\"}, \"baxis\": {\"endlinecolor\": \"#2a3f5f\", \"gridcolor\": \"white\", \"linecolor\": \"white\", \"minorgridcolor\": \"white\", \"startlinecolor\": \"#2a3f5f\"}, \"type\": \"carpet\"}], \"choropleth\": [{\"colorbar\": {\"outlinewidth\": 0, \"ticks\": \"\"}, \"type\": \"choropleth\"}], \"contour\": [{\"colorbar\": {\"outlinewidth\": 0, \"ticks\": \"\"}, \"colorscale\": [[0.0, \"#0d0887\"], [0.1111111111111111, \"#46039f\"], [0.2222222222222222, \"#7201a8\"], [0.3333333333333333, \"#9c179e\"], [0.4444444444444444, \"#bd3786\"], [0.5555555555555556, \"#d8576b\"], [0.6666666666666666, \"#ed7953\"], [0.7777777777777778, \"#fb9f3a\"], [0.8888888888888888, \"#fdca26\"], [1.0, \"#f0f921\"]], \"type\": \"contour\"}], \"contourcarpet\": [{\"colorbar\": {\"outlinewidth\": 0, \"ticks\": \"\"}, \"type\": \"contourcarpet\"}], \"heatmap\": [{\"colorbar\": {\"outlinewidth\": 0, \"ticks\": \"\"}, \"colorscale\": [[0.0, \"#0d0887\"], [0.1111111111111111, \"#46039f\"], [0.2222222222222222, \"#7201a8\"], [0.3333333333333333, \"#9c179e\"], [0.4444444444444444, \"#bd3786\"], [0.5555555555555556, \"#d8576b\"], [0.6666666666666666, \"#ed7953\"], [0.7777777777777778, \"#fb9f3a\"], [0.8888888888888888, \"#fdca26\"], [1.0, \"#f0f921\"]], \"type\": \"heatmap\"}], \"heatmapgl\": [{\"colorbar\": {\"outlinewidth\": 0, \"ticks\": \"\"}, \"colorscale\": [[0.0, \"#0d0887\"], [0.1111111111111111, \"#46039f\"], [0.2222222222222222, \"#7201a8\"], [0.3333333333333333, \"#9c179e\"], [0.4444444444444444, \"#bd3786\"], [0.5555555555555556, \"#d8576b\"], [0.6666666666666666, \"#ed7953\"], [0.7777777777777778, \"#fb9f3a\"], [0.8888888888888888, \"#fdca26\"], [1.0, \"#f0f921\"]], \"type\": \"heatmapgl\"}], \"histogram\": [{\"marker\": {\"colorbar\": {\"outlinewidth\": 0, \"ticks\": \"\"}}, \"type\": \"histogram\"}], \"histogram2d\": [{\"colorbar\": {\"outlinewidth\": 0, \"ticks\": \"\"}, \"colorscale\": [[0.0, \"#0d0887\"], [0.1111111111111111, \"#46039f\"], [0.2222222222222222, \"#7201a8\"], [0.3333333333333333, \"#9c179e\"], [0.4444444444444444, \"#bd3786\"], [0.5555555555555556, \"#d8576b\"], [0.6666666666666666, \"#ed7953\"], [0.7777777777777778, \"#fb9f3a\"], [0.8888888888888888, \"#fdca26\"], [1.0, \"#f0f921\"]], \"type\": \"histogram2d\"}], \"histogram2dcontour\": [{\"colorbar\": {\"outlinewidth\": 0, \"ticks\": \"\"}, \"colorscale\": [[0.0, \"#0d0887\"], [0.1111111111111111, \"#46039f\"], [0.2222222222222222, \"#7201a8\"], [0.3333333333333333, \"#9c179e\"], [0.4444444444444444, \"#bd3786\"], [0.5555555555555556, \"#d8576b\"], [0.6666666666666666, \"#ed7953\"], [0.7777777777777778, \"#fb9f3a\"], [0.8888888888888888, \"#fdca26\"], [1.0, \"#f0f921\"]], \"type\": \"histogram2dcontour\"}], \"mesh3d\": [{\"colorbar\": {\"outlinewidth\": 0, \"ticks\": \"\"}, \"type\": \"mesh3d\"}], \"parcoords\": [{\"line\": {\"colorbar\": {\"outlinewidth\": 0, \"ticks\": \"\"}}, \"type\": \"parcoords\"}], \"pie\": [{\"automargin\": true, \"type\": \"pie\"}], \"scatter\": [{\"marker\": {\"colorbar\": {\"outlinewidth\": 0, \"ticks\": \"\"}}, \"type\": \"scatter\"}], \"scatter3d\": [{\"line\": {\"colorbar\": {\"outlinewidth\": 0, \"ticks\": \"\"}}, \"marker\": {\"colorbar\": {\"outlinewidth\": 0, \"ticks\": \"\"}}, \"type\": \"scatter3d\"}], \"scattercarpet\": [{\"marker\": {\"colorbar\": {\"outlinewidth\": 0, \"ticks\": \"\"}}, \"type\": \"scattercarpet\"}], \"scattergeo\": [{\"marker\": {\"colorbar\": {\"outlinewidth\": 0, \"ticks\": \"\"}}, \"type\": \"scattergeo\"}], \"scattergl\": [{\"marker\": {\"colorbar\": {\"outlinewidth\": 0, \"ticks\": \"\"}}, \"type\": \"scattergl\"}], \"scattermapbox\": [{\"marker\": {\"colorbar\": {\"outlinewidth\": 0, \"ticks\": \"\"}}, \"type\": \"scattermapbox\"}], \"scatterpolar\": [{\"marker\": {\"colorbar\": {\"outlinewidth\": 0, \"ticks\": \"\"}}, \"type\": \"scatterpolar\"}], \"scatterpolargl\": [{\"marker\": {\"colorbar\": {\"outlinewidth\": 0, \"ticks\": \"\"}}, \"type\": \"scatterpolargl\"}], \"scatterternary\": [{\"marker\": {\"colorbar\": {\"outlinewidth\": 0, \"ticks\": \"\"}}, \"type\": \"scatterternary\"}], \"surface\": [{\"colorbar\": {\"outlinewidth\": 0, \"ticks\": \"\"}, \"colorscale\": [[0.0, \"#0d0887\"], [0.1111111111111111, \"#46039f\"], [0.2222222222222222, \"#7201a8\"], [0.3333333333333333, \"#9c179e\"], [0.4444444444444444, \"#bd3786\"], [0.5555555555555556, \"#d8576b\"], [0.6666666666666666, \"#ed7953\"], [0.7777777777777778, \"#fb9f3a\"], [0.8888888888888888, \"#fdca26\"], [1.0, \"#f0f921\"]], \"type\": \"surface\"}], \"table\": [{\"cells\": {\"fill\": {\"color\": \"#EBF0F8\"}, \"line\": {\"color\": \"white\"}}, \"header\": {\"fill\": {\"color\": \"#C8D4E3\"}, \"line\": {\"color\": \"white\"}}, \"type\": \"table\"}]}, \"layout\": {\"annotationdefaults\": {\"arrowcolor\": \"#2a3f5f\", \"arrowhead\": 0, \"arrowwidth\": 1}, \"autotypenumbers\": \"strict\", \"coloraxis\": {\"colorbar\": {\"outlinewidth\": 0, \"ticks\": \"\"}}, \"colorscale\": {\"diverging\": [[0, \"#8e0152\"], [0.1, \"#c51b7d\"], [0.2, \"#de77ae\"], [0.3, \"#f1b6da\"], [0.4, \"#fde0ef\"], [0.5, \"#f7f7f7\"], [0.6, \"#e6f5d0\"], [0.7, \"#b8e186\"], [0.8, \"#7fbc41\"], [0.9, \"#4d9221\"], [1, \"#276419\"]], \"sequential\": [[0.0, \"#0d0887\"], [0.1111111111111111, \"#46039f\"], [0.2222222222222222, \"#7201a8\"], [0.3333333333333333, \"#9c179e\"], [0.4444444444444444, \"#bd3786\"], [0.5555555555555556, \"#d8576b\"], [0.6666666666666666, \"#ed7953\"], [0.7777777777777778, \"#fb9f3a\"], [0.8888888888888888, \"#fdca26\"], [1.0, \"#f0f921\"]], \"sequentialminus\": [[0.0, \"#0d0887\"], [0.1111111111111111, \"#46039f\"], [0.2222222222222222, \"#7201a8\"], [0.3333333333333333, \"#9c179e\"], [0.4444444444444444, \"#bd3786\"], [0.5555555555555556, \"#d8576b\"], [0.6666666666666666, \"#ed7953\"], [0.7777777777777778, \"#fb9f3a\"], [0.8888888888888888, \"#fdca26\"], [1.0, \"#f0f921\"]]}, \"colorway\": [\"#636efa\", \"#EF553B\", \"#00cc96\", \"#ab63fa\", \"#FFA15A\", \"#19d3f3\", \"#FF6692\", \"#B6E880\", \"#FF97FF\", \"#FECB52\"], \"font\": {\"color\": \"#2a3f5f\"}, \"geo\": {\"bgcolor\": \"white\", \"lakecolor\": \"white\", \"landcolor\": \"#E5ECF6\", \"showlakes\": true, \"showland\": true, \"subunitcolor\": \"white\"}, \"hoverlabel\": {\"align\": \"left\"}, \"hovermode\": \"closest\", \"mapbox\": {\"style\": \"light\"}, \"paper_bgcolor\": \"white\", \"plot_bgcolor\": \"#E5ECF6\", \"polar\": {\"angularaxis\": {\"gridcolor\": \"white\", \"linecolor\": \"white\", \"ticks\": \"\"}, \"bgcolor\": \"#E5ECF6\", \"radialaxis\": {\"gridcolor\": \"white\", \"linecolor\": \"white\", \"ticks\": \"\"}}, \"scene\": {\"xaxis\": {\"backgroundcolor\": \"#E5ECF6\", \"gridcolor\": \"white\", \"gridwidth\": 2, \"linecolor\": \"white\", \"showbackground\": true, \"ticks\": \"\", \"zerolinecolor\": \"white\"}, \"yaxis\": {\"backgroundcolor\": \"#E5ECF6\", \"gridcolor\": \"white\", \"gridwidth\": 2, \"linecolor\": \"white\", \"showbackground\": true, \"ticks\": \"\", \"zerolinecolor\": \"white\"}, \"zaxis\": {\"backgroundcolor\": \"#E5ECF6\", \"gridcolor\": \"white\", \"gridwidth\": 2, \"linecolor\": \"white\", \"showbackground\": true, \"ticks\": \"\", \"zerolinecolor\": \"white\"}}, \"shapedefaults\": {\"line\": {\"color\": \"#2a3f5f\"}}, \"ternary\": {\"aaxis\": {\"gridcolor\": \"white\", \"linecolor\": \"white\", \"ticks\": \"\"}, \"baxis\": {\"gridcolor\": \"white\", \"linecolor\": \"white\", \"ticks\": \"\"}, \"bgcolor\": \"#E5ECF6\", \"caxis\": {\"gridcolor\": \"white\", \"linecolor\": \"white\", \"ticks\": \"\"}}, \"title\": {\"x\": 0.05}, \"xaxis\": {\"automargin\": true, \"gridcolor\": \"white\", \"linecolor\": \"white\", \"ticks\": \"\", \"title\": {\"standoff\": 15}, \"zerolinecolor\": \"white\", \"zerolinewidth\": 2}, \"yaxis\": {\"automargin\": true, \"gridcolor\": \"white\", \"linecolor\": \"white\", \"ticks\": \"\", \"title\": {\"standoff\": 15}, \"zerolinecolor\": \"white\", \"zerolinewidth\": 2}}}, \"title\": {\"text\": \"Variabilidad M\\u00e1xima del TC al 31 de diciembre de 2021\"}, \"xaxis\": {\"title\": {\"text\": \"D\\u00edas\"}}, \"yaxis\": {\"title\": {\"text\": \"Crecimiento del Tipo de Cambio\"}}},                        {\"responsive\": true}                    ).then(function(){\n",
       "                            \n",
       "var gd = document.getElementById('45d8e74e-6b9a-435c-b7e0-cd9de27de346');\n",
       "var x = new MutationObserver(function (mutations, observer) {{\n",
       "        var display = window.getComputedStyle(gd).display;\n",
       "        if (!display || display === 'none') {{\n",
       "            console.log([gd, 'removed!']);\n",
       "            Plotly.purge(gd);\n",
       "            observer.disconnect();\n",
       "        }}\n",
       "}});\n",
       "\n",
       "// Listen for the removal of the full notebook cells\n",
       "var notebookContainer = gd.closest('#notebook-container');\n",
       "if (notebookContainer) {{\n",
       "    x.observe(notebookContainer, {childList: true});\n",
       "}}\n",
       "\n",
       "// Listen for the clearing of the current output cell\n",
       "var outputEl = gd.closest('.output');\n",
       "if (outputEl) {{\n",
       "    x.observe(outputEl, {childList: true});\n",
       "}}\n",
       "\n",
       "                        })                };                });            </script>        </div>"
      ]
     },
     "metadata": {},
     "output_type": "display_data"
    }
   ],
   "source": [
    "\n",
    "fig1 = go.Figure(\n",
    "    data=[\n",
    "        go.Scatter(\n",
    "            name=\"Probabilidad del 99%\",\n",
    "            x=df.index,\n",
    "            y=df['99%'],\n",
    "            #offsetgroup=0,\n",
    "        ),\n",
    "        go.Scatter(\n",
    "            name=\"Probabilidad del 95%\",\n",
    "            x=df.index,\n",
    "            y=df['95%'],\n",
    "            #offsetgroup=1,\n",
    "            #base=df2[\"RS_Cum1\"],\n",
    "        )\n",
    "    ],\n",
    "    layout=go.Layout(\n",
    "        title=\"Variabilidad Máxima del TC al 31 de diciembre de 2021\",\n",
    "        yaxis_title=\"Crecimiento del Tipo de Cambio\",xaxis_title=\"Días\"\n",
    "        #template='plotly_dark'\n",
    "    )\n",
    ")\n",
    "fig1.show()"
   ]
  },
  {
   "cell_type": "markdown",
   "metadata": {
    "id": "XlPIhyxwo8IE"
   },
   "source": [
    "#VaR function definition: Parametric Method"
   ]
  },
  {
   "cell_type": "code",
   "execution_count": 46,
   "metadata": {
    "id": "3_U-atPenW4l"
   },
   "outputs": [],
   "source": [
    "#def VaR(Position, sigma, quantile):\n",
    " # return Position * sigma * norm.ppf(quantile)"
   ]
  },
  {
   "cell_type": "markdown",
   "metadata": {},
   "source": [
    "## Inflación Subyacente"
   ]
  },
  {
   "cell_type": "code",
   "execution_count": 47,
   "metadata": {},
   "outputs": [
    {
     "data": {
      "text/html": [
       "<div>\n",
       "<style scoped>\n",
       "    .dataframe tbody tr th:only-of-type {\n",
       "        vertical-align: middle;\n",
       "    }\n",
       "\n",
       "    .dataframe tbody tr th {\n",
       "        vertical-align: top;\n",
       "    }\n",
       "\n",
       "    .dataframe thead th {\n",
       "        text-align: right;\n",
       "    }\n",
       "</style>\n",
       "<table border=\"1\" class=\"dataframe\">\n",
       "  <thead>\n",
       "    <tr style=\"text-align: right;\">\n",
       "      <th></th>\n",
       "      <th>Date</th>\n",
       "      <th>Close</th>\n",
       "      <th>Currency</th>\n",
       "      <th>Variable</th>\n",
       "      <th>Type</th>\n",
       "    </tr>\n",
       "  </thead>\n",
       "  <tbody>\n",
       "    <tr>\n",
       "      <th>0</th>\n",
       "      <td>01Ene93</td>\n",
       "      <td>52.47</td>\n",
       "      <td>PEN</td>\n",
       "      <td>Subyacente</td>\n",
       "      <td>Index</td>\n",
       "    </tr>\n",
       "    <tr>\n",
       "      <th>1</th>\n",
       "      <td>01Feb93</td>\n",
       "      <td>53.11</td>\n",
       "      <td>PEN</td>\n",
       "      <td>Subyacente</td>\n",
       "      <td>Index</td>\n",
       "    </tr>\n",
       "    <tr>\n",
       "      <th>2</th>\n",
       "      <td>01Mar93</td>\n",
       "      <td>50.55</td>\n",
       "      <td>PEN</td>\n",
       "      <td>Subyacente</td>\n",
       "      <td>Index</td>\n",
       "    </tr>\n",
       "    <tr>\n",
       "      <th>3</th>\n",
       "      <td>01Abr93</td>\n",
       "      <td>50.12</td>\n",
       "      <td>PEN</td>\n",
       "      <td>Subyacente</td>\n",
       "      <td>Index</td>\n",
       "    </tr>\n",
       "    <tr>\n",
       "      <th>4</th>\n",
       "      <td>01May93</td>\n",
       "      <td>49.66</td>\n",
       "      <td>PEN</td>\n",
       "      <td>Subyacente</td>\n",
       "      <td>Index</td>\n",
       "    </tr>\n",
       "    <tr>\n",
       "      <th>...</th>\n",
       "      <td>...</td>\n",
       "      <td>...</td>\n",
       "      <td>...</td>\n",
       "      <td>...</td>\n",
       "      <td>...</td>\n",
       "    </tr>\n",
       "    <tr>\n",
       "      <th>337</th>\n",
       "      <td>01Feb21</td>\n",
       "      <td>1.39</td>\n",
       "      <td>PEN</td>\n",
       "      <td>Subyacente</td>\n",
       "      <td>Index</td>\n",
       "    </tr>\n",
       "    <tr>\n",
       "      <th>338</th>\n",
       "      <td>01Mar21</td>\n",
       "      <td>1.61</td>\n",
       "      <td>PEN</td>\n",
       "      <td>Subyacente</td>\n",
       "      <td>Index</td>\n",
       "    </tr>\n",
       "    <tr>\n",
       "      <th>339</th>\n",
       "      <td>01Abr21</td>\n",
       "      <td>1.72</td>\n",
       "      <td>PEN</td>\n",
       "      <td>Subyacente</td>\n",
       "      <td>Index</td>\n",
       "    </tr>\n",
       "    <tr>\n",
       "      <th>340</th>\n",
       "      <td>01May21</td>\n",
       "      <td>1.87</td>\n",
       "      <td>PEN</td>\n",
       "      <td>Subyacente</td>\n",
       "      <td>Index</td>\n",
       "    </tr>\n",
       "    <tr>\n",
       "      <th>341</th>\n",
       "      <td>01Jun21</td>\n",
       "      <td>2.02</td>\n",
       "      <td>PEN</td>\n",
       "      <td>Subyacente</td>\n",
       "      <td>Index</td>\n",
       "    </tr>\n",
       "  </tbody>\n",
       "</table>\n",
       "<p>342 rows × 5 columns</p>\n",
       "</div>"
      ],
      "text/plain": [
       "        Date  Close Currency    Variable   Type\n",
       "0    01Ene93  52.47      PEN  Subyacente  Index\n",
       "1    01Feb93  53.11      PEN  Subyacente  Index\n",
       "2    01Mar93  50.55      PEN  Subyacente  Index\n",
       "3    01Abr93  50.12      PEN  Subyacente  Index\n",
       "4    01May93  49.66      PEN  Subyacente  Index\n",
       "..       ...    ...      ...         ...    ...\n",
       "337  01Feb21   1.39      PEN  Subyacente  Index\n",
       "338  01Mar21   1.61      PEN  Subyacente  Index\n",
       "339  01Abr21   1.72      PEN  Subyacente  Index\n",
       "340  01May21   1.87      PEN  Subyacente  Index\n",
       "341  01Jun21   2.02      PEN  Subyacente  Index\n",
       "\n",
       "[342 rows x 5 columns]"
      ]
     },
     "execution_count": 47,
     "metadata": {},
     "output_type": "execute_result"
    }
   ],
   "source": [
    "#Inflación subyacente\n",
    "url = 'https://estadisticas.bcrp.gob.pe/estadisticas/series/mensuales/resultados/PN09824PM/html'\n",
    "requests.post(url=url, verify=False)\n",
    "html = requests.get(url,verify=False).content\n",
    "df_list = pd.read_html(html)\n",
    "DB_inf_sub = df_list[-1] #este es el dataframe del banco\n",
    "DB_inf_sub['Fecha'] ='01'+ DB_inf_sub['Fecha'].apply(str)\n",
    "DB_inf_sub = DB_inf_sub.assign(Currency=lambda x: \"PEN\", Variable=lambda x: \"Subyacente\", Type=lambda x: \"Index\")\n",
    "DB_inf_sub.rename(columns={ DB_inf_sub.columns[0]: \"Date\" }, inplace = True)\n",
    "DB_inf_sub.rename(columns={ DB_inf_sub.columns[1]: \"Close\" }, inplace = True)\n",
    "DB_inf_sub"
   ]
  },
  {
   "cell_type": "code",
   "execution_count": 240,
   "metadata": {},
   "outputs": [
    {
     "name": "stderr",
     "output_type": "stream",
     "text": [
      "<ipython-input-240-4e6b748d94c4>:3: SettingWithCopyWarning:\n",
      "\n",
      "\n",
      "A value is trying to be set on a copy of a slice from a DataFrame.\n",
      "Try using .loc[row_indexer,col_indexer] = value instead\n",
      "\n",
      "See the caveats in the documentation: https://pandas.pydata.org/pandas-docs/stable/user_guide/indexing.html#returning-a-view-versus-a-copy\n",
      "\n"
     ]
    },
    {
     "data": {
      "text/html": [
       "<div>\n",
       "<style scoped>\n",
       "    .dataframe tbody tr th:only-of-type {\n",
       "        vertical-align: middle;\n",
       "    }\n",
       "\n",
       "    .dataframe tbody tr th {\n",
       "        vertical-align: top;\n",
       "    }\n",
       "\n",
       "    .dataframe thead th {\n",
       "        text-align: right;\n",
       "    }\n",
       "</style>\n",
       "<table border=\"1\" class=\"dataframe\">\n",
       "  <thead>\n",
       "    <tr style=\"text-align: right;\">\n",
       "      <th></th>\n",
       "      <th>Date</th>\n",
       "      <th>Close</th>\n",
       "      <th>Close_rate</th>\n",
       "    </tr>\n",
       "  </thead>\n",
       "  <tbody>\n",
       "    <tr>\n",
       "      <th>0</th>\n",
       "      <td>1993-01-31</td>\n",
       "      <td>52.47</td>\n",
       "      <td>NaN</td>\n",
       "    </tr>\n",
       "    <tr>\n",
       "      <th>1</th>\n",
       "      <td>1993-02-28</td>\n",
       "      <td>53.11</td>\n",
       "      <td>0.012197</td>\n",
       "    </tr>\n",
       "    <tr>\n",
       "      <th>2</th>\n",
       "      <td>1993-03-31</td>\n",
       "      <td>50.55</td>\n",
       "      <td>-0.048202</td>\n",
       "    </tr>\n",
       "    <tr>\n",
       "      <th>3</th>\n",
       "      <td>1993-04-30</td>\n",
       "      <td>50.12</td>\n",
       "      <td>-0.008506</td>\n",
       "    </tr>\n",
       "    <tr>\n",
       "      <th>4</th>\n",
       "      <td>1993-05-31</td>\n",
       "      <td>49.66</td>\n",
       "      <td>-0.009178</td>\n",
       "    </tr>\n",
       "    <tr>\n",
       "      <th>...</th>\n",
       "      <td>...</td>\n",
       "      <td>...</td>\n",
       "      <td>...</td>\n",
       "    </tr>\n",
       "    <tr>\n",
       "      <th>337</th>\n",
       "      <td>2021-02-28</td>\n",
       "      <td>1.39</td>\n",
       "      <td>-0.131250</td>\n",
       "    </tr>\n",
       "    <tr>\n",
       "      <th>338</th>\n",
       "      <td>2021-03-31</td>\n",
       "      <td>1.61</td>\n",
       "      <td>0.158273</td>\n",
       "    </tr>\n",
       "    <tr>\n",
       "      <th>339</th>\n",
       "      <td>2021-04-30</td>\n",
       "      <td>1.72</td>\n",
       "      <td>0.068323</td>\n",
       "    </tr>\n",
       "    <tr>\n",
       "      <th>340</th>\n",
       "      <td>2021-05-31</td>\n",
       "      <td>1.87</td>\n",
       "      <td>0.087209</td>\n",
       "    </tr>\n",
       "    <tr>\n",
       "      <th>341</th>\n",
       "      <td>2021-06-30</td>\n",
       "      <td>2.02</td>\n",
       "      <td>0.080214</td>\n",
       "    </tr>\n",
       "  </tbody>\n",
       "</table>\n",
       "<p>342 rows × 3 columns</p>\n",
       "</div>"
      ],
      "text/plain": [
       "          Date  Close  Close_rate\n",
       "0   1993-01-31  52.47         NaN\n",
       "1   1993-02-28  53.11    0.012197\n",
       "2   1993-03-31  50.55   -0.048202\n",
       "3   1993-04-30  50.12   -0.008506\n",
       "4   1993-05-31  49.66   -0.009178\n",
       "..         ...    ...         ...\n",
       "337 2021-02-28   1.39   -0.131250\n",
       "338 2021-03-31   1.61    0.158273\n",
       "339 2021-04-30   1.72    0.068323\n",
       "340 2021-05-31   1.87    0.087209\n",
       "341 2021-06-30   2.02    0.080214\n",
       "\n",
       "[342 rows x 3 columns]"
      ]
     },
     "execution_count": 240,
     "metadata": {},
     "output_type": "execute_result"
    }
   ],
   "source": [
    "DB_inf_sub['Date']= pd.date_range(start='1/1/1993', end='7/1/2021', freq='M')\n",
    "inflation=DB_inf_sub[['Date','Close']]\n",
    "inflation['Close_rate']=inflation['Close'].astype(float).pct_change()\n",
    "inflation"
   ]
  },
  {
   "cell_type": "code",
   "execution_count": 243,
   "metadata": {},
   "outputs": [
    {
     "data": {
      "text/html": [
       "<div>\n",
       "<style scoped>\n",
       "    .dataframe tbody tr th:only-of-type {\n",
       "        vertical-align: middle;\n",
       "    }\n",
       "\n",
       "    .dataframe tbody tr th {\n",
       "        vertical-align: top;\n",
       "    }\n",
       "\n",
       "    .dataframe thead th {\n",
       "        text-align: right;\n",
       "    }\n",
       "</style>\n",
       "<table border=\"1\" class=\"dataframe\">\n",
       "  <thead>\n",
       "    <tr style=\"text-align: right;\">\n",
       "      <th></th>\n",
       "      <th>Date</th>\n",
       "      <th>Close</th>\n",
       "      <th>Close_rate</th>\n",
       "    </tr>\n",
       "  </thead>\n",
       "  <tbody>\n",
       "    <tr>\n",
       "      <th>168</th>\n",
       "      <td>2007-01-31</td>\n",
       "      <td>1.31</td>\n",
       "      <td>0.023438</td>\n",
       "    </tr>\n",
       "    <tr>\n",
       "      <th>169</th>\n",
       "      <td>2007-02-28</td>\n",
       "      <td>1.50</td>\n",
       "      <td>0.145038</td>\n",
       "    </tr>\n",
       "    <tr>\n",
       "      <th>170</th>\n",
       "      <td>2007-03-31</td>\n",
       "      <td>1.56</td>\n",
       "      <td>0.040000</td>\n",
       "    </tr>\n",
       "    <tr>\n",
       "      <th>171</th>\n",
       "      <td>2007-04-30</td>\n",
       "      <td>1.41</td>\n",
       "      <td>-0.096154</td>\n",
       "    </tr>\n",
       "    <tr>\n",
       "      <th>172</th>\n",
       "      <td>2007-05-31</td>\n",
       "      <td>1.65</td>\n",
       "      <td>0.170213</td>\n",
       "    </tr>\n",
       "    <tr>\n",
       "      <th>...</th>\n",
       "      <td>...</td>\n",
       "      <td>...</td>\n",
       "      <td>...</td>\n",
       "    </tr>\n",
       "    <tr>\n",
       "      <th>337</th>\n",
       "      <td>2021-02-28</td>\n",
       "      <td>1.39</td>\n",
       "      <td>-0.131250</td>\n",
       "    </tr>\n",
       "    <tr>\n",
       "      <th>338</th>\n",
       "      <td>2021-03-31</td>\n",
       "      <td>1.61</td>\n",
       "      <td>0.158273</td>\n",
       "    </tr>\n",
       "    <tr>\n",
       "      <th>339</th>\n",
       "      <td>2021-04-30</td>\n",
       "      <td>1.72</td>\n",
       "      <td>0.068323</td>\n",
       "    </tr>\n",
       "    <tr>\n",
       "      <th>340</th>\n",
       "      <td>2021-05-31</td>\n",
       "      <td>1.87</td>\n",
       "      <td>0.087209</td>\n",
       "    </tr>\n",
       "    <tr>\n",
       "      <th>341</th>\n",
       "      <td>2021-06-30</td>\n",
       "      <td>2.02</td>\n",
       "      <td>0.080214</td>\n",
       "    </tr>\n",
       "  </tbody>\n",
       "</table>\n",
       "<p>174 rows × 3 columns</p>\n",
       "</div>"
      ],
      "text/plain": [
       "          Date  Close  Close_rate\n",
       "168 2007-01-31   1.31    0.023438\n",
       "169 2007-02-28   1.50    0.145038\n",
       "170 2007-03-31   1.56    0.040000\n",
       "171 2007-04-30   1.41   -0.096154\n",
       "172 2007-05-31   1.65    0.170213\n",
       "..         ...    ...         ...\n",
       "337 2021-02-28   1.39   -0.131250\n",
       "338 2021-03-31   1.61    0.158273\n",
       "339 2021-04-30   1.72    0.068323\n",
       "340 2021-05-31   1.87    0.087209\n",
       "341 2021-06-30   2.02    0.080214\n",
       "\n",
       "[174 rows x 3 columns]"
      ]
     },
     "execution_count": 243,
     "metadata": {},
     "output_type": "execute_result"
    }
   ],
   "source": [
    "db2=inflation.copy()\n",
    "start_date = \"2007-1-31\"\n",
    "after_start_date  = db2[\"Date\"] >= start_date\n",
    "inflation=db2.loc[after_start_date]\n",
    "inflation"
   ]
  },
  {
   "cell_type": "code",
   "execution_count": 244,
   "metadata": {},
   "outputs": [
    {
     "data": {
      "text/plain": [
       "<matplotlib.axes._subplots.AxesSubplot at 0x17d821a5430>"
      ]
     },
     "execution_count": 244,
     "metadata": {},
     "output_type": "execute_result"
    },
    {
     "data": {
      "image/png": "[encoded data removed]",
      "text/plain": [
       "<Figure size 576x288 with 1 Axes>"
      ]
     },
     "metadata": {},
     "output_type": "display_data"
    }
   ],
   "source": [
    "sns.set(rc={'figure.figsize':(8,4)})\n",
    "sns.distplot(inflation[\"Close_rate\"]) ##CHI CUADRADO Y LOG NORMAL"
   ]
  },
  {
   "cell_type": "code",
   "execution_count": 246,
   "metadata": {
    "scrolled": true
   },
   "outputs": [
    {
     "name": "stdout",
     "output_type": "stream",
     "text": [
      "dgamma: statistic=0.02818733103586646, pvalue=0.9985151825556382\n"
     ]
    }
   ],
   "source": [
    "import pandas as pd\n",
    "import matplotlib.pyplot as plt\n",
    "from six.moves import urllib\n",
    "import zipfile\n",
    "from scipy import stats\n",
    "import scipy.stats as ss\n",
    "\n",
    "#https://medium.com/@amirarsalan.rajabi/distribution-fitting-with-python-scipy-bb70a42c0aed\n",
    "#Test de bondad de ajuste: qué distribución se ajusta mejor a nuestros datos\n",
    "\n",
    "list_of_dists =  ['dgamma']\n",
    "\n",
    "\n",
    "\n",
    "results = []\n",
    "for i in list_of_dists:\n",
    "    dist = getattr(stats, i)\n",
    "    param = dist.fit(inflation[\"Close_rate\"])\n",
    "    k_stat, ks_p_value = stats.kstest(inflation[\"Close_rate\"], i, args=param)\n",
    "    a = stats.kstest(inflation[\"Close_rate\"], i, args=param) ###\n",
    "    results.append((i,a[0],a[1]))\n",
    "    \n",
    "    \n",
    "results.sort(key=lambda x:float(x[2]), reverse=True)\n",
    "for j in results:\n",
    "    print(\"{}: statistic={}, pvalue={}\".format(j[0], j[1], j[2]))"
   ]
  },
  {
   "cell_type": "code",
   "execution_count": 247,
   "metadata": {},
   "outputs": [
    {
     "name": "stdout",
     "output_type": "stream",
     "text": [
      "0.10310133392673086\n"
     ]
    }
   ],
   "source": [
    "ks_critico = kolgomorov_smirnov_critico(len(inflation['Close']))\n",
    "print(ks_critico)"
   ]
  },
  {
   "cell_type": "code",
   "execution_count": 249,
   "metadata": {},
   "outputs": [
    {
     "name": "stdout",
     "output_type": "stream",
     "text": [
      "Con 95% de confianza, los datos son similares a una distribución dgamma\n"
     ]
    }
   ],
   "source": [
    "if ks_critico >=k_stat:\n",
    "    print('Con 95% de confianza, los datos son similares a una distribución dgamma')\n",
    "else:\n",
    "    print('Con 95% de confianza, los datos NO son similares a una distribución dgamma')"
   ]
  },
  {
   "cell_type": "code",
   "execution_count": 250,
   "metadata": {},
   "outputs": [],
   "source": [
    "data= inflation['Close_rate']\n",
    "best_fit_name, best_fit_params = best_fit_distribution(data, 200, ax)\n",
    "best_dist = getattr(st, best_fit_name)"
   ]
  },
  {
   "cell_type": "code",
   "execution_count": 252,
   "metadata": {},
   "outputs": [
    {
     "data": {
      "text/plain": [
       "Text(0.5, 1.0, 'El Niño sea temp. with best fit distribution \\ndgamma(a=1.18, loc=0.01, scale=0.04)')"
      ]
     },
     "execution_count": 252,
     "metadata": {},
     "output_type": "execute_result"
    },
    {
     "data": {
      "image/png": "[encoded data removed]",
      "text/plain": [
       "<Figure size 864x576 with 1 Axes>"
      ]
     },
     "metadata": {},
     "output_type": "display_data"
    }
   ],
   "source": [
    "pdf = make_pdf(best_dist, best_fit_params)\n",
    "\n",
    "# Display\n",
    "plt.figure(figsize=(12,8))\n",
    "ax = pdf.plot(lw=2, label='PDF', legend=True)\n",
    "data.plot(kind='hist', bins=50, density=True, alpha=0.5, label='Data', legend=True, ax=ax)\n",
    "\n",
    "param_names = (best_dist.shapes + ', loc, scale').split(', ') if best_dist.shapes else ['loc', 'scale']\n",
    "param_str = ', '.join(['{}={:0.2f}'.format(k,v) for k,v in zip(param_names, best_fit_params)])\n",
    "dist_str = '{}({})'.format(best_fit_name, param_str)\n",
    "ax.set_title(u'El Niño sea temp. with best fit distribution \\n' + dist_str)"
   ]
  },
  {
   "cell_type": "code",
   "execution_count": 219,
   "metadata": {},
   "outputs": [],
   "source": [
    "infl_rate=np.array(best_fit_params)\n",
    "a = infl_rate[0]\n",
    "loc = infl_rate[1]\n",
    "scale=infl_rate[2]"
   ]
  },
  {
   "cell_type": "code",
   "execution_count": 227,
   "metadata": {},
   "outputs": [
    {
     "data": {
      "text/plain": [
       "0.14709088558982544"
      ]
     },
     "execution_count": 227,
     "metadata": {},
     "output_type": "execute_result"
    }
   ],
   "source": [
    "from scipy.stats import dgamma\n",
    "intervalo_dg1=dgamma.interval(0.95, a=a, loc=loc, scale=scale)\n",
    "inter_dg1=np.array(intervalo_dg1)\n",
    "inter_dg_high1 = inter_dg1[1]\n",
    "inter_dg_high1"
   ]
  },
  {
   "cell_type": "code",
   "execution_count": 224,
   "metadata": {},
   "outputs": [
    {
     "data": {
      "text/plain": [
       "0.2178572063505547"
      ]
     },
     "execution_count": 224,
     "metadata": {},
     "output_type": "execute_result"
    }
   ],
   "source": [
    "intervalo_dg2=dgamma.interval(0.99, a=a, loc=loc, scale=scale)\n",
    "inter_dg2=np.array(intervalo_dg2)\n",
    "inter_dg_high2 = inter_dg2[1]\n",
    "inter_dg_high2"
   ]
  },
  {
   "cell_type": "code",
   "execution_count": 326,
   "metadata": {},
   "outputs": [
    {
     "data": {
      "text/plain": [
       "[0.147,\n",
       " 0.208,\n",
       " 0.255,\n",
       " 0.294,\n",
       " 0.329,\n",
       " 0.36,\n",
       " 0.389,\n",
       " 0.416,\n",
       " 0.441,\n",
       " 0.465,\n",
       " 0.488,\n",
       " 0.51,\n",
       " 0.53,\n",
       " 0.55,\n",
       " 0.57,\n",
       " 0.588,\n",
       " 0.606,\n",
       " 0.624]"
      ]
     },
     "execution_count": 326,
     "metadata": {},
     "output_type": "execute_result"
    }
   ],
   "source": [
    "var_array_dg1 = []\n",
    "num_months = int(18)\n",
    "for x in range(1, num_months+1): \n",
    "    var_array_dg1.append(np.round(inter_dg_high1 * np.sqrt(x),3))\n",
    "   # print(str(x) + \" day VaR @ 95% confidence: \" + str(np.round(var_1d1 * stdev_investment* np.sqrt(x),3)))\n",
    "var_array_dg1"
   ]
  },
  {
   "cell_type": "code",
   "execution_count": 327,
   "metadata": {},
   "outputs": [
    {
     "data": {
      "text/plain": [
       "[0.218,\n",
       " 0.308,\n",
       " 0.377,\n",
       " 0.436,\n",
       " 0.487,\n",
       " 0.534,\n",
       " 0.576,\n",
       " 0.616,\n",
       " 0.654,\n",
       " 0.689,\n",
       " 0.723,\n",
       " 0.755,\n",
       " 0.785,\n",
       " 0.815,\n",
       " 0.844,\n",
       " 0.871,\n",
       " 0.898,\n",
       " 0.924]"
      ]
     },
     "execution_count": 327,
     "metadata": {},
     "output_type": "execute_result"
    }
   ],
   "source": [
    "var_array_dg2 = []\n",
    "num_months = int(18)\n",
    "for x in range(1, num_months+1): \n",
    "    var_array_dg2.append(np.round(inter_dg_high2 * np.sqrt(x),3))\n",
    "   # print(str(x) + \" day VaR @ 95% confidence: \" + str(np.round(var_1d1 * stdev_investment* np.sqrt(x),3)))\n",
    "var_array_dg2"
   ]
  },
  {
   "cell_type": "code",
   "execution_count": 332,
   "metadata": {},
   "outputs": [
    {
     "data": {
      "text/html": [
       "<div>\n",
       "<style scoped>\n",
       "    .dataframe tbody tr th:only-of-type {\n",
       "        vertical-align: middle;\n",
       "    }\n",
       "\n",
       "    .dataframe tbody tr th {\n",
       "        vertical-align: top;\n",
       "    }\n",
       "\n",
       "    .dataframe thead th {\n",
       "        text-align: right;\n",
       "    }\n",
       "</style>\n",
       "<table border=\"1\" class=\"dataframe\">\n",
       "  <thead>\n",
       "    <tr style=\"text-align: right;\">\n",
       "      <th></th>\n",
       "      <th>95%</th>\n",
       "      <th>99%</th>\n",
       "    </tr>\n",
       "    <tr>\n",
       "      <th>fecha</th>\n",
       "      <th></th>\n",
       "      <th></th>\n",
       "    </tr>\n",
       "  </thead>\n",
       "  <tbody>\n",
       "    <tr>\n",
       "      <th>2021-07-31</th>\n",
       "      <td>0.147</td>\n",
       "      <td>0.218</td>\n",
       "    </tr>\n",
       "    <tr>\n",
       "      <th>2021-08-31</th>\n",
       "      <td>0.208</td>\n",
       "      <td>0.308</td>\n",
       "    </tr>\n",
       "    <tr>\n",
       "      <th>2021-09-30</th>\n",
       "      <td>0.255</td>\n",
       "      <td>0.377</td>\n",
       "    </tr>\n",
       "    <tr>\n",
       "      <th>2021-10-31</th>\n",
       "      <td>0.294</td>\n",
       "      <td>0.436</td>\n",
       "    </tr>\n",
       "    <tr>\n",
       "      <th>2021-11-30</th>\n",
       "      <td>0.329</td>\n",
       "      <td>0.487</td>\n",
       "    </tr>\n",
       "    <tr>\n",
       "      <th>2021-12-31</th>\n",
       "      <td>0.360</td>\n",
       "      <td>0.534</td>\n",
       "    </tr>\n",
       "    <tr>\n",
       "      <th>2022-01-31</th>\n",
       "      <td>0.389</td>\n",
       "      <td>0.576</td>\n",
       "    </tr>\n",
       "    <tr>\n",
       "      <th>2022-02-28</th>\n",
       "      <td>0.416</td>\n",
       "      <td>0.616</td>\n",
       "    </tr>\n",
       "    <tr>\n",
       "      <th>2022-03-31</th>\n",
       "      <td>0.441</td>\n",
       "      <td>0.654</td>\n",
       "    </tr>\n",
       "    <tr>\n",
       "      <th>2022-04-30</th>\n",
       "      <td>0.465</td>\n",
       "      <td>0.689</td>\n",
       "    </tr>\n",
       "    <tr>\n",
       "      <th>2022-05-31</th>\n",
       "      <td>0.488</td>\n",
       "      <td>0.723</td>\n",
       "    </tr>\n",
       "    <tr>\n",
       "      <th>2022-06-30</th>\n",
       "      <td>0.510</td>\n",
       "      <td>0.755</td>\n",
       "    </tr>\n",
       "    <tr>\n",
       "      <th>2022-07-31</th>\n",
       "      <td>0.530</td>\n",
       "      <td>0.785</td>\n",
       "    </tr>\n",
       "    <tr>\n",
       "      <th>2022-08-31</th>\n",
       "      <td>0.550</td>\n",
       "      <td>0.815</td>\n",
       "    </tr>\n",
       "    <tr>\n",
       "      <th>2022-09-30</th>\n",
       "      <td>0.570</td>\n",
       "      <td>0.844</td>\n",
       "    </tr>\n",
       "    <tr>\n",
       "      <th>2022-10-31</th>\n",
       "      <td>0.588</td>\n",
       "      <td>0.871</td>\n",
       "    </tr>\n",
       "    <tr>\n",
       "      <th>2022-11-30</th>\n",
       "      <td>0.606</td>\n",
       "      <td>0.898</td>\n",
       "    </tr>\n",
       "    <tr>\n",
       "      <th>2022-12-31</th>\n",
       "      <td>0.624</td>\n",
       "      <td>0.924</td>\n",
       "    </tr>\n",
       "  </tbody>\n",
       "</table>\n",
       "</div>"
      ],
      "text/plain": [
       "              95%    99%\n",
       "fecha                   \n",
       "2021-07-31  0.147  0.218\n",
       "2021-08-31  0.208  0.308\n",
       "2021-09-30  0.255  0.377\n",
       "2021-10-31  0.294  0.436\n",
       "2021-11-30  0.329  0.487\n",
       "2021-12-31  0.360  0.534\n",
       "2022-01-31  0.389  0.576\n",
       "2022-02-28  0.416  0.616\n",
       "2022-03-31  0.441  0.654\n",
       "2022-04-30  0.465  0.689\n",
       "2022-05-31  0.488  0.723\n",
       "2022-06-30  0.510  0.755\n",
       "2022-07-31  0.530  0.785\n",
       "2022-08-31  0.550  0.815\n",
       "2022-09-30  0.570  0.844\n",
       "2022-10-31  0.588  0.871\n",
       "2022-11-30  0.606  0.898\n",
       "2022-12-31  0.624  0.924"
      ]
     },
     "execution_count": 332,
     "metadata": {},
     "output_type": "execute_result"
    }
   ],
   "source": [
    "df1 = pd.DataFrame(var_array_dg1)\n",
    "df1.columns = ['95%']\n",
    "df1['99%'] = var_array_dg2\n",
    "df1['fecha'] = pd.date_range(start='7/1/2021', end='1/1/2023', freq='M')\n",
    "df1.set_index('fecha', inplace =True)\n",
    "df1"
   ]
  },
  {
   "cell_type": "code",
   "execution_count": 323,
   "metadata": {},
   "outputs": [
    {
     "data": {
      "application/vnd.plotly.v1+json": {
       "config": {
        "plotlyServerURL": "https://plot.ly"
       },
       "data": [
        {
         "name": "99% de Probabilidad",
         "type": "scatter",
         "x": [
          "2021-08-31T00:00:00",
          "2021-09-30T00:00:00",
          "2021-10-31T00:00:00",
          "2021-11-30T00:00:00",
          "2021-12-31T00:00:00",
          "2022-01-31T00:00:00",
          "2022-02-28T00:00:00",
          "2022-03-31T00:00:00",
          "2022-04-30T00:00:00",
          "2022-05-31T00:00:00",
          "2022-06-30T00:00:00",
          "2022-07-31T00:00:00"
         ],
         "y": [
          0.218,
          0.308,
          0.377,
          0.436,
          0.487,
          0.534,
          0.576,
          0.616,
          0.654,
          0.689,
          0.723,
          0.755
         ]
        },
        {
         "name": "95% de Probabilidad",
         "type": "scatter",
         "x": [
          "2021-08-31T00:00:00",
          "2021-09-30T00:00:00",
          "2021-10-31T00:00:00",
          "2021-11-30T00:00:00",
          "2021-12-31T00:00:00",
          "2022-01-31T00:00:00",
          "2022-02-28T00:00:00",
          "2022-03-31T00:00:00",
          "2022-04-30T00:00:00",
          "2022-05-31T00:00:00",
          "2022-06-30T00:00:00",
          "2022-07-31T00:00:00"
         ],
         "y": [
          0.147,
          0.208,
          0.255,
          0.294,
          0.329,
          0.36,
          0.389,
          0.416,
          0.441,
          0.465,
          0.488,
          0.51
         ]
        }
       ],
       "layout": {
        "template": {
         "data": {
          "bar": [
           {
            "error_x": {
             "color": "#2a3f5f"
            },
            "error_y": {
             "color": "#2a3f5f"
            },
            "marker": {
             "line": {
              "color": "#E5ECF6",
              "width": 0.5
             }
            },
            "type": "bar"
           }
          ],
          "barpolar": [
           {
            "marker": {
             "line": {
              "color": "#E5ECF6",
              "width": 0.5
             }
            },
            "type": "barpolar"
           }
          ],
          "carpet": [
           {
            "aaxis": {
             "endlinecolor": "#2a3f5f",
             "gridcolor": "white",
             "linecolor": "white",
             "minorgridcolor": "white",
             "startlinecolor": "#2a3f5f"
            },
            "baxis": {
             "endlinecolor": "#2a3f5f",
             "gridcolor": "white",
             "linecolor": "white",
             "minorgridcolor": "white",
             "startlinecolor": "#2a3f5f"
            },
            "type": "carpet"
           }
          ],
          "choropleth": [
           {
            "colorbar": {
             "outlinewidth": 0,
             "ticks": ""
            },
            "type": "choropleth"
           }
          ],
          "contour": [
           {
            "colorbar": {
             "outlinewidth": 0,
             "ticks": ""
            },
            "colorscale": [
             [
              0,
              "#0d0887"
             ],
             [
              0.1111111111111111,
              "#46039f"
             ],
             [
              0.2222222222222222,
              "#7201a8"
             ],
             [
              0.3333333333333333,
              "#9c179e"
             ],
             [
              0.4444444444444444,
              "#bd3786"
             ],
             [
              0.5555555555555556,
              "#d8576b"
             ],
             [
              0.6666666666666666,
              "#ed7953"
             ],
             [
              0.7777777777777778,
              "#fb9f3a"
             ],
             [
              0.8888888888888888,
              "#fdca26"
             ],
             [
              1,
              "#f0f921"
             ]
            ],
            "type": "contour"
           }
          ],
          "contourcarpet": [
           {
            "colorbar": {
             "outlinewidth": 0,
             "ticks": ""
            },
            "type": "contourcarpet"
           }
          ],
          "heatmap": [
           {
            "colorbar": {
             "outlinewidth": 0,
             "ticks": ""
            },
            "colorscale": [
             [
              0,
              "#0d0887"
             ],
             [
              0.1111111111111111,
              "#46039f"
             ],
             [
              0.2222222222222222,
              "#7201a8"
             ],
             [
              0.3333333333333333,
              "#9c179e"
             ],
             [
              0.4444444444444444,
              "#bd3786"
             ],
             [
              0.5555555555555556,
              "#d8576b"
             ],
             [
              0.6666666666666666,
              "#ed7953"
             ],
             [
              0.7777777777777778,
              "#fb9f3a"
             ],
             [
              0.8888888888888888,
              "#fdca26"
             ],
             [
              1,
              "#f0f921"
             ]
            ],
            "type": "heatmap"
           }
          ],
          "heatmapgl": [
           {
            "colorbar": {
             "outlinewidth": 0,
             "ticks": ""
            },
            "colorscale": [
             [
              0,
              "#0d0887"
             ],
             [
              0.1111111111111111,
              "#46039f"
             ],
             [
              0.2222222222222222,
              "#7201a8"
             ],
             [
              0.3333333333333333,
              "#9c179e"
             ],
             [
              0.4444444444444444,
              "#bd3786"
             ],
             [
              0.5555555555555556,
              "#d8576b"
             ],
             [
              0.6666666666666666,
              "#ed7953"
             ],
             [
              0.7777777777777778,
              "#fb9f3a"
             ],
             [
              0.8888888888888888,
              "#fdca26"
             ],
             [
              1,
              "#f0f921"
             ]
            ],
            "type": "heatmapgl"
           }
          ],
          "histogram": [
           {
            "marker": {
             "colorbar": {
              "outlinewidth": 0,
              "ticks": ""
             }
            },
            "type": "histogram"
           }
          ],
          "histogram2d": [
           {
            "colorbar": {
             "outlinewidth": 0,
             "ticks": ""
            },
            "colorscale": [
             [
              0,
              "#0d0887"
             ],
             [
              0.1111111111111111,
              "#46039f"
             ],
             [
              0.2222222222222222,
              "#7201a8"
             ],
             [
              0.3333333333333333,
              "#9c179e"
             ],
             [
              0.4444444444444444,
              "#bd3786"
             ],
             [
              0.5555555555555556,
              "#d8576b"
             ],
             [
              0.6666666666666666,
              "#ed7953"
             ],
             [
              0.7777777777777778,
              "#fb9f3a"
             ],
             [
              0.8888888888888888,
              "#fdca26"
             ],
             [
              1,
              "#f0f921"
             ]
            ],
            "type": "histogram2d"
           }
          ],
          "histogram2dcontour": [
           {
            "colorbar": {
             "outlinewidth": 0,
             "ticks": ""
            },
            "colorscale": [
             [
              0,
              "#0d0887"
             ],
             [
              0.1111111111111111,
              "#46039f"
             ],
             [
              0.2222222222222222,
              "#7201a8"
             ],
             [
              0.3333333333333333,
              "#9c179e"
             ],
             [
              0.4444444444444444,
              "#bd3786"
             ],
             [
              0.5555555555555556,
              "#d8576b"
             ],
             [
              0.6666666666666666,
              "#ed7953"
             ],
             [
              0.7777777777777778,
              "#fb9f3a"
             ],
             [
              0.8888888888888888,
              "#fdca26"
             ],
             [
              1,
              "#f0f921"
             ]
            ],
            "type": "histogram2dcontour"
           }
          ],
          "mesh3d": [
           {
            "colorbar": {
             "outlinewidth": 0,
             "ticks": ""
            },
            "type": "mesh3d"
           }
          ],
          "parcoords": [
           {
            "line": {
             "colorbar": {
              "outlinewidth": 0,
              "ticks": ""
             }
            },
            "type": "parcoords"
           }
          ],
          "pie": [
           {
            "automargin": true,
            "type": "pie"
           }
          ],
          "scatter": [
           {
            "marker": {
             "colorbar": {
              "outlinewidth": 0,
              "ticks": ""
             }
            },
            "type": "scatter"
           }
          ],
          "scatter3d": [
           {
            "line": {
             "colorbar": {
              "outlinewidth": 0,
              "ticks": ""
             }
            },
            "marker": {
             "colorbar": {
              "outlinewidth": 0,
              "ticks": ""
             }
            },
            "type": "scatter3d"
           }
          ],
          "scattercarpet": [
           {
            "marker": {
             "colorbar": {
              "outlinewidth": 0,
              "ticks": ""
             }
            },
            "type": "scattercarpet"
           }
          ],
          "scattergeo": [
           {
            "marker": {
             "colorbar": {
              "outlinewidth": 0,
              "ticks": ""
             }
            },
            "type": "scattergeo"
           }
          ],
          "scattergl": [
           {
            "marker": {
             "colorbar": {
              "outlinewidth": 0,
              "ticks": ""
             }
            },
            "type": "scattergl"
           }
          ],
          "scattermapbox": [
           {
            "marker": {
             "colorbar": {
              "outlinewidth": 0,
              "ticks": ""
             }
            },
            "type": "scattermapbox"
           }
          ],
          "scatterpolar": [
           {
            "marker": {
             "colorbar": {
              "outlinewidth": 0,
              "ticks": ""
             }
            },
            "type": "scatterpolar"
           }
          ],
          "scatterpolargl": [
           {
            "marker": {
             "colorbar": {
              "outlinewidth": 0,
              "ticks": ""
             }
            },
            "type": "scatterpolargl"
           }
          ],
          "scatterternary": [
           {
            "marker": {
             "colorbar": {
              "outlinewidth": 0,
              "ticks": ""
             }
            },
            "type": "scatterternary"
           }
          ],
          "surface": [
           {
            "colorbar": {
             "outlinewidth": 0,
             "ticks": ""
            },
            "colorscale": [
             [
              0,
              "#0d0887"
             ],
             [
              0.1111111111111111,
              "#46039f"
             ],
             [
              0.2222222222222222,
              "#7201a8"
             ],
             [
              0.3333333333333333,
              "#9c179e"
             ],
             [
              0.4444444444444444,
              "#bd3786"
             ],
             [
              0.5555555555555556,
              "#d8576b"
             ],
             [
              0.6666666666666666,
              "#ed7953"
             ],
             [
              0.7777777777777778,
              "#fb9f3a"
             ],
             [
              0.8888888888888888,
              "#fdca26"
             ],
             [
              1,
              "#f0f921"
             ]
            ],
            "type": "surface"
           }
          ],
          "table": [
           {
            "cells": {
             "fill": {
              "color": "#EBF0F8"
             },
             "line": {
              "color": "white"
             }
            },
            "header": {
             "fill": {
              "color": "#C8D4E3"
             },
             "line": {
              "color": "white"
             }
            },
            "type": "table"
           }
          ]
         },
         "layout": {
          "annotationdefaults": {
           "arrowcolor": "#2a3f5f",
           "arrowhead": 0,
           "arrowwidth": 1
          },
          "autotypenumbers": "strict",
          "coloraxis": {
           "colorbar": {
            "outlinewidth": 0,
            "ticks": ""
           }
          },
          "colorscale": {
           "diverging": [
            [
             0,
             "#8e0152"
            ],
            [
             0.1,
             "#c51b7d"
            ],
            [
             0.2,
             "#de77ae"
            ],
            [
             0.3,
             "#f1b6da"
            ],
            [
             0.4,
             "#fde0ef"
            ],
            [
             0.5,
             "#f7f7f7"
            ],
            [
             0.6,
             "#e6f5d0"
            ],
            [
             0.7,
             "#b8e186"
            ],
            [
             0.8,
             "#7fbc41"
            ],
            [
             0.9,
             "#4d9221"
            ],
            [
             1,
             "#276419"
            ]
           ],
           "sequential": [
            [
             0,
             "#0d0887"
            ],
            [
             0.1111111111111111,
             "#46039f"
            ],
            [
             0.2222222222222222,
             "#7201a8"
            ],
            [
             0.3333333333333333,
             "#9c179e"
            ],
            [
             0.4444444444444444,
             "#bd3786"
            ],
            [
             0.5555555555555556,
             "#d8576b"
            ],
            [
             0.6666666666666666,
             "#ed7953"
            ],
            [
             0.7777777777777778,
             "#fb9f3a"
            ],
            [
             0.8888888888888888,
             "#fdca26"
            ],
            [
             1,
             "#f0f921"
            ]
           ],
           "sequentialminus": [
            [
             0,
             "#0d0887"
            ],
            [
             0.1111111111111111,
             "#46039f"
            ],
            [
             0.2222222222222222,
             "#7201a8"
            ],
            [
             0.3333333333333333,
             "#9c179e"
            ],
            [
             0.4444444444444444,
             "#bd3786"
            ],
            [
             0.5555555555555556,
             "#d8576b"
            ],
            [
             0.6666666666666666,
             "#ed7953"
            ],
            [
             0.7777777777777778,
             "#fb9f3a"
            ],
            [
             0.8888888888888888,
             "#fdca26"
            ],
            [
             1,
             "#f0f921"
            ]
           ]
          },
          "colorway": [
           "#636efa",
           "#EF553B",
           "#00cc96",
           "#ab63fa",
           "#FFA15A",
           "#19d3f3",
           "#FF6692",
           "#B6E880",
           "#FF97FF",
           "#FECB52"
          ],
          "font": {
           "color": "#2a3f5f"
          },
          "geo": {
           "bgcolor": "white",
           "lakecolor": "white",
           "landcolor": "#E5ECF6",
           "showlakes": true,
           "showland": true,
           "subunitcolor": "white"
          },
          "hoverlabel": {
           "align": "left"
          },
          "hovermode": "closest",
          "mapbox": {
           "style": "light"
          },
          "paper_bgcolor": "white",
          "plot_bgcolor": "#E5ECF6",
          "polar": {
           "angularaxis": {
            "gridcolor": "white",
            "linecolor": "white",
            "ticks": ""
           },
           "bgcolor": "#E5ECF6",
           "radialaxis": {
            "gridcolor": "white",
            "linecolor": "white",
            "ticks": ""
           }
          },
          "scene": {
           "xaxis": {
            "backgroundcolor": "#E5ECF6",
            "gridcolor": "white",
            "gridwidth": 2,
            "linecolor": "white",
            "showbackground": true,
            "ticks": "",
            "zerolinecolor": "white"
           },
           "yaxis": {
            "backgroundcolor": "#E5ECF6",
            "gridcolor": "white",
            "gridwidth": 2,
            "linecolor": "white",
            "showbackground": true,
            "ticks": "",
            "zerolinecolor": "white"
           },
           "zaxis": {
            "backgroundcolor": "#E5ECF6",
            "gridcolor": "white",
            "gridwidth": 2,
            "linecolor": "white",
            "showbackground": true,
            "ticks": "",
            "zerolinecolor": "white"
           }
          },
          "shapedefaults": {
           "line": {
            "color": "#2a3f5f"
           }
          },
          "ternary": {
           "aaxis": {
            "gridcolor": "white",
            "linecolor": "white",
            "ticks": ""
           },
           "baxis": {
            "gridcolor": "white",
            "linecolor": "white",
            "ticks": ""
           },
           "bgcolor": "#E5ECF6",
           "caxis": {
            "gridcolor": "white",
            "linecolor": "white",
            "ticks": ""
           }
          },
          "title": {
           "x": 0.05
          },
          "xaxis": {
           "automargin": true,
           "gridcolor": "white",
           "linecolor": "white",
           "ticks": "",
           "title": {
            "standoff": 15
           },
           "zerolinecolor": "white",
           "zerolinewidth": 2
          },
          "yaxis": {
           "automargin": true,
           "gridcolor": "white",
           "linecolor": "white",
           "ticks": "",
           "title": {
            "standoff": 15
           },
           "zerolinecolor": "white",
           "zerolinewidth": 2
          }
         }
        },
        "title": {
         "text": "Variabilidad Máxima de la Inflación"
        },
        "xaxis": {
         "title": {
          "text": "Fecha"
         }
        },
        "yaxis": {
         "title": {
          "text": "Inflación Subyacente"
         }
        }
       }
      },
      "text/html": [
       "<div>                            <div id=\"062e72c7-3c17-4afc-a9fa-a9d96fcdeced\" class=\"plotly-graph-div\" style=\"height:525px; width:100%;\"></div>            <script type=\"text/javascript\">                require([\"plotly\"], function(Plotly) {                    window.PLOTLYENV=window.PLOTLYENV || {};                                    if (document.getElementById(\"062e72c7-3c17-4afc-a9fa-a9d96fcdeced\")) {                    Plotly.newPlot(                        \"062e72c7-3c17-4afc-a9fa-a9d96fcdeced\",                        [{\"name\": \"99% de Probabilidad\", \"type\": \"scatter\", \"x\": [\"2021-08-31T00:00:00\", \"2021-09-30T00:00:00\", \"2021-10-31T00:00:00\", \"2021-11-30T00:00:00\", \"2021-12-31T00:00:00\", \"2022-01-31T00:00:00\", \"2022-02-28T00:00:00\", \"2022-03-31T00:00:00\", \"2022-04-30T00:00:00\", \"2022-05-31T00:00:00\", \"2022-06-30T00:00:00\", \"2022-07-31T00:00:00\"], \"y\": [0.218, 0.308, 0.377, 0.436, 0.487, 0.534, 0.576, 0.616, 0.654, 0.689, 0.723, 0.755]}, {\"name\": \"95% de Probabilidad\", \"type\": \"scatter\", \"x\": [\"2021-08-31T00:00:00\", \"2021-09-30T00:00:00\", \"2021-10-31T00:00:00\", \"2021-11-30T00:00:00\", \"2021-12-31T00:00:00\", \"2022-01-31T00:00:00\", \"2022-02-28T00:00:00\", \"2022-03-31T00:00:00\", \"2022-04-30T00:00:00\", \"2022-05-31T00:00:00\", \"2022-06-30T00:00:00\", \"2022-07-31T00:00:00\"], \"y\": [0.147, 0.208, 0.255, 0.294, 0.329, 0.36, 0.389, 0.416, 0.441, 0.465, 0.488, 0.51]}],                        {\"template\": {\"data\": {\"bar\": [{\"error_x\": {\"color\": \"#2a3f5f\"}, \"error_y\": {\"color\": \"#2a3f5f\"}, \"marker\": {\"line\": {\"color\": \"#E5ECF6\", \"width\": 0.5}}, \"type\": \"bar\"}], \"barpolar\": [{\"marker\": {\"line\": {\"color\": \"#E5ECF6\", \"width\": 0.5}}, \"type\": \"barpolar\"}], \"carpet\": [{\"aaxis\": {\"endlinecolor\": \"#2a3f5f\", \"gridcolor\": \"white\", \"linecolor\": \"white\", \"minorgridcolor\": \"white\", \"startlinecolor\": \"#2a3f5f\"}, \"baxis\": {\"endlinecolor\": \"#2a3f5f\", \"gridcolor\": \"white\", \"linecolor\": \"white\", \"minorgridcolor\": \"white\", \"startlinecolor\": \"#2a3f5f\"}, \"type\": \"carpet\"}], \"choropleth\": [{\"colorbar\": {\"outlinewidth\": 0, \"ticks\": \"\"}, \"type\": \"choropleth\"}], \"contour\": [{\"colorbar\": {\"outlinewidth\": 0, \"ticks\": \"\"}, \"colorscale\": [[0.0, \"#0d0887\"], [0.1111111111111111, \"#46039f\"], [0.2222222222222222, \"#7201a8\"], [0.3333333333333333, \"#9c179e\"], [0.4444444444444444, \"#bd3786\"], [0.5555555555555556, \"#d8576b\"], [0.6666666666666666, \"#ed7953\"], [0.7777777777777778, \"#fb9f3a\"], [0.8888888888888888, \"#fdca26\"], [1.0, \"#f0f921\"]], \"type\": \"contour\"}], \"contourcarpet\": [{\"colorbar\": {\"outlinewidth\": 0, \"ticks\": \"\"}, \"type\": \"contourcarpet\"}], \"heatmap\": [{\"colorbar\": {\"outlinewidth\": 0, \"ticks\": \"\"}, \"colorscale\": [[0.0, \"#0d0887\"], [0.1111111111111111, \"#46039f\"], [0.2222222222222222, \"#7201a8\"], [0.3333333333333333, \"#9c179e\"], [0.4444444444444444, \"#bd3786\"], [0.5555555555555556, \"#d8576b\"], [0.6666666666666666, \"#ed7953\"], [0.7777777777777778, \"#fb9f3a\"], [0.8888888888888888, \"#fdca26\"], [1.0, \"#f0f921\"]], \"type\": \"heatmap\"}], \"heatmapgl\": [{\"colorbar\": {\"outlinewidth\": 0, \"ticks\": \"\"}, \"colorscale\": [[0.0, \"#0d0887\"], [0.1111111111111111, \"#46039f\"], [0.2222222222222222, \"#7201a8\"], [0.3333333333333333, \"#9c179e\"], [0.4444444444444444, \"#bd3786\"], [0.5555555555555556, \"#d8576b\"], [0.6666666666666666, \"#ed7953\"], [0.7777777777777778, \"#fb9f3a\"], [0.8888888888888888, \"#fdca26\"], [1.0, \"#f0f921\"]], \"type\": \"heatmapgl\"}], \"histogram\": [{\"marker\": {\"colorbar\": {\"outlinewidth\": 0, \"ticks\": \"\"}}, \"type\": \"histogram\"}], \"histogram2d\": [{\"colorbar\": {\"outlinewidth\": 0, \"ticks\": \"\"}, \"colorscale\": [[0.0, \"#0d0887\"], [0.1111111111111111, \"#46039f\"], [0.2222222222222222, \"#7201a8\"], [0.3333333333333333, \"#9c179e\"], [0.4444444444444444, \"#bd3786\"], [0.5555555555555556, \"#d8576b\"], [0.6666666666666666, \"#ed7953\"], [0.7777777777777778, \"#fb9f3a\"], [0.8888888888888888, \"#fdca26\"], [1.0, \"#f0f921\"]], \"type\": \"histogram2d\"}], \"histogram2dcontour\": [{\"colorbar\": {\"outlinewidth\": 0, \"ticks\": \"\"}, \"colorscale\": [[0.0, \"#0d0887\"], [0.1111111111111111, \"#46039f\"], [0.2222222222222222, \"#7201a8\"], [0.3333333333333333, \"#9c179e\"], [0.4444444444444444, \"#bd3786\"], [0.5555555555555556, \"#d8576b\"], [0.6666666666666666, \"#ed7953\"], [0.7777777777777778, \"#fb9f3a\"], [0.8888888888888888, \"#fdca26\"], [1.0, \"#f0f921\"]], \"type\": \"histogram2dcontour\"}], \"mesh3d\": [{\"colorbar\": {\"outlinewidth\": 0, \"ticks\": \"\"}, \"type\": \"mesh3d\"}], \"parcoords\": [{\"line\": {\"colorbar\": {\"outlinewidth\": 0, \"ticks\": \"\"}}, \"type\": \"parcoords\"}], \"pie\": [{\"automargin\": true, \"type\": \"pie\"}], \"scatter\": [{\"marker\": {\"colorbar\": {\"outlinewidth\": 0, \"ticks\": \"\"}}, \"type\": \"scatter\"}], \"scatter3d\": [{\"line\": {\"colorbar\": {\"outlinewidth\": 0, \"ticks\": \"\"}}, \"marker\": {\"colorbar\": {\"outlinewidth\": 0, \"ticks\": \"\"}}, \"type\": \"scatter3d\"}], \"scattercarpet\": [{\"marker\": {\"colorbar\": {\"outlinewidth\": 0, \"ticks\": \"\"}}, \"type\": \"scattercarpet\"}], \"scattergeo\": [{\"marker\": {\"colorbar\": {\"outlinewidth\": 0, \"ticks\": \"\"}}, \"type\": \"scattergeo\"}], \"scattergl\": [{\"marker\": {\"colorbar\": {\"outlinewidth\": 0, \"ticks\": \"\"}}, \"type\": \"scattergl\"}], \"scattermapbox\": [{\"marker\": {\"colorbar\": {\"outlinewidth\": 0, \"ticks\": \"\"}}, \"type\": \"scattermapbox\"}], \"scatterpolar\": [{\"marker\": {\"colorbar\": {\"outlinewidth\": 0, \"ticks\": \"\"}}, \"type\": \"scatterpolar\"}], \"scatterpolargl\": [{\"marker\": {\"colorbar\": {\"outlinewidth\": 0, \"ticks\": \"\"}}, \"type\": \"scatterpolargl\"}], \"scatterternary\": [{\"marker\": {\"colorbar\": {\"outlinewidth\": 0, \"ticks\": \"\"}}, \"type\": \"scatterternary\"}], \"surface\": [{\"colorbar\": {\"outlinewidth\": 0, \"ticks\": \"\"}, \"colorscale\": [[0.0, \"#0d0887\"], [0.1111111111111111, \"#46039f\"], [0.2222222222222222, \"#7201a8\"], [0.3333333333333333, \"#9c179e\"], [0.4444444444444444, \"#bd3786\"], [0.5555555555555556, \"#d8576b\"], [0.6666666666666666, \"#ed7953\"], [0.7777777777777778, \"#fb9f3a\"], [0.8888888888888888, \"#fdca26\"], [1.0, \"#f0f921\"]], \"type\": \"surface\"}], \"table\": [{\"cells\": {\"fill\": {\"color\": \"#EBF0F8\"}, \"line\": {\"color\": \"white\"}}, \"header\": {\"fill\": {\"color\": \"#C8D4E3\"}, \"line\": {\"color\": \"white\"}}, \"type\": \"table\"}]}, \"layout\": {\"annotationdefaults\": {\"arrowcolor\": \"#2a3f5f\", \"arrowhead\": 0, \"arrowwidth\": 1}, \"autotypenumbers\": \"strict\", \"coloraxis\": {\"colorbar\": {\"outlinewidth\": 0, \"ticks\": \"\"}}, \"colorscale\": {\"diverging\": [[0, \"#8e0152\"], [0.1, \"#c51b7d\"], [0.2, \"#de77ae\"], [0.3, \"#f1b6da\"], [0.4, \"#fde0ef\"], [0.5, \"#f7f7f7\"], [0.6, \"#e6f5d0\"], [0.7, \"#b8e186\"], [0.8, \"#7fbc41\"], [0.9, \"#4d9221\"], [1, \"#276419\"]], \"sequential\": [[0.0, \"#0d0887\"], [0.1111111111111111, \"#46039f\"], [0.2222222222222222, \"#7201a8\"], [0.3333333333333333, \"#9c179e\"], [0.4444444444444444, \"#bd3786\"], [0.5555555555555556, \"#d8576b\"], [0.6666666666666666, \"#ed7953\"], [0.7777777777777778, \"#fb9f3a\"], [0.8888888888888888, \"#fdca26\"], [1.0, \"#f0f921\"]], \"sequentialminus\": [[0.0, \"#0d0887\"], [0.1111111111111111, \"#46039f\"], [0.2222222222222222, \"#7201a8\"], [0.3333333333333333, \"#9c179e\"], [0.4444444444444444, \"#bd3786\"], [0.5555555555555556, \"#d8576b\"], [0.6666666666666666, \"#ed7953\"], [0.7777777777777778, \"#fb9f3a\"], [0.8888888888888888, \"#fdca26\"], [1.0, \"#f0f921\"]]}, \"colorway\": [\"#636efa\", \"#EF553B\", \"#00cc96\", \"#ab63fa\", \"#FFA15A\", \"#19d3f3\", \"#FF6692\", \"#B6E880\", \"#FF97FF\", \"#FECB52\"], \"font\": {\"color\": \"#2a3f5f\"}, \"geo\": {\"bgcolor\": \"white\", \"lakecolor\": \"white\", \"landcolor\": \"#E5ECF6\", \"showlakes\": true, \"showland\": true, \"subunitcolor\": \"white\"}, \"hoverlabel\": {\"align\": \"left\"}, \"hovermode\": \"closest\", \"mapbox\": {\"style\": \"light\"}, \"paper_bgcolor\": \"white\", \"plot_bgcolor\": \"#E5ECF6\", \"polar\": {\"angularaxis\": {\"gridcolor\": \"white\", \"linecolor\": \"white\", \"ticks\": \"\"}, \"bgcolor\": \"#E5ECF6\", \"radialaxis\": {\"gridcolor\": \"white\", \"linecolor\": \"white\", \"ticks\": \"\"}}, \"scene\": {\"xaxis\": {\"backgroundcolor\": \"#E5ECF6\", \"gridcolor\": \"white\", \"gridwidth\": 2, \"linecolor\": \"white\", \"showbackground\": true, \"ticks\": \"\", \"zerolinecolor\": \"white\"}, \"yaxis\": {\"backgroundcolor\": \"#E5ECF6\", \"gridcolor\": \"white\", \"gridwidth\": 2, \"linecolor\": \"white\", \"showbackground\": true, \"ticks\": \"\", \"zerolinecolor\": \"white\"}, \"zaxis\": {\"backgroundcolor\": \"#E5ECF6\", \"gridcolor\": \"white\", \"gridwidth\": 2, \"linecolor\": \"white\", \"showbackground\": true, \"ticks\": \"\", \"zerolinecolor\": \"white\"}}, \"shapedefaults\": {\"line\": {\"color\": \"#2a3f5f\"}}, \"ternary\": {\"aaxis\": {\"gridcolor\": \"white\", \"linecolor\": \"white\", \"ticks\": \"\"}, \"baxis\": {\"gridcolor\": \"white\", \"linecolor\": \"white\", \"ticks\": \"\"}, \"bgcolor\": \"#E5ECF6\", \"caxis\": {\"gridcolor\": \"white\", \"linecolor\": \"white\", \"ticks\": \"\"}}, \"title\": {\"x\": 0.05}, \"xaxis\": {\"automargin\": true, \"gridcolor\": \"white\", \"linecolor\": \"white\", \"ticks\": \"\", \"title\": {\"standoff\": 15}, \"zerolinecolor\": \"white\", \"zerolinewidth\": 2}, \"yaxis\": {\"automargin\": true, \"gridcolor\": \"white\", \"linecolor\": \"white\", \"ticks\": \"\", \"title\": {\"standoff\": 15}, \"zerolinecolor\": \"white\", \"zerolinewidth\": 2}}}, \"title\": {\"text\": \"Variabilidad M\\u00e1xima de la Inflaci\\u00f3n\"}, \"xaxis\": {\"title\": {\"text\": \"Fecha\"}}, \"yaxis\": {\"title\": {\"text\": \"Inflaci\\u00f3n Subyacente\"}}},                        {\"responsive\": true}                    ).then(function(){\n",
       "                            \n",
       "var gd = document.getElementById('062e72c7-3c17-4afc-a9fa-a9d96fcdeced');\n",
       "var x = new MutationObserver(function (mutations, observer) {{\n",
       "        var display = window.getComputedStyle(gd).display;\n",
       "        if (!display || display === 'none') {{\n",
       "            console.log([gd, 'removed!']);\n",
       "            Plotly.purge(gd);\n",
       "            observer.disconnect();\n",
       "        }}\n",
       "}});\n",
       "\n",
       "// Listen for the removal of the full notebook cells\n",
       "var notebookContainer = gd.closest('#notebook-container');\n",
       "if (notebookContainer) {{\n",
       "    x.observe(notebookContainer, {childList: true});\n",
       "}}\n",
       "\n",
       "// Listen for the clearing of the current output cell\n",
       "var outputEl = gd.closest('.output');\n",
       "if (outputEl) {{\n",
       "    x.observe(outputEl, {childList: true});\n",
       "}}\n",
       "\n",
       "                        })                };                });            </script>        </div>"
      ]
     },
     "metadata": {},
     "output_type": "display_data"
    }
   ],
   "source": [
    "fig2 = go.Figure(\n",
    "    data=[\n",
    "        go.Scatter(\n",
    "            name=\"99% de Probabilidad\",\n",
    "            x=df1.index,\n",
    "            y=df1['99%'],\n",
    "            #offsetgroup=0,\n",
    "        ),\n",
    "        go.Scatter(\n",
    "            name=\"95% de Probabilidad\",\n",
    "            x=df1.index,\n",
    "            y=df1['95%'],\n",
    "            #offsetgroup=1,\n",
    "            #base=df2[\"RS_Cum1\"],\n",
    "        )\n",
    "    ],\n",
    "    layout=go.Layout(\n",
    "        title=\"Variabilidad Máxima de la Inflación\",\n",
    "        yaxis_title=\"Inflación Subyacente\",xaxis_title=\"Fecha\"\n",
    "        #template='plotly_dark'\n",
    "    )\n",
    ")\n",
    "fig2.show()"
   ]
  },
  {
   "cell_type": "markdown",
   "metadata": {},
   "source": [
    "## Inflación Educativa"
   ]
  },
  {
   "cell_type": "code",
   "execution_count": 279,
   "metadata": {
    "scrolled": true
   },
   "outputs": [
    {
     "data": {
      "text/html": [
       "<div>\n",
       "<style scoped>\n",
       "    .dataframe tbody tr th:only-of-type {\n",
       "        vertical-align: middle;\n",
       "    }\n",
       "\n",
       "    .dataframe tbody tr th {\n",
       "        vertical-align: top;\n",
       "    }\n",
       "\n",
       "    .dataframe thead th {\n",
       "        text-align: right;\n",
       "    }\n",
       "</style>\n",
       "<table border=\"1\" class=\"dataframe\">\n",
       "  <thead>\n",
       "    <tr style=\"text-align: right;\">\n",
       "      <th></th>\n",
       "      <th>FECHA_CONTABLE</th>\n",
       "      <th>inflation</th>\n",
       "    </tr>\n",
       "  </thead>\n",
       "  <tbody>\n",
       "    <tr>\n",
       "      <th>0</th>\n",
       "      <td>Feb-98</td>\n",
       "      <td>0.075564</td>\n",
       "    </tr>\n",
       "    <tr>\n",
       "      <th>1</th>\n",
       "      <td>Mar-98</td>\n",
       "      <td>0.088955</td>\n",
       "    </tr>\n",
       "    <tr>\n",
       "      <th>2</th>\n",
       "      <td>Abr-98</td>\n",
       "      <td>0.090000</td>\n",
       "    </tr>\n",
       "    <tr>\n",
       "      <th>3</th>\n",
       "      <td>May-98</td>\n",
       "      <td>0.091711</td>\n",
       "    </tr>\n",
       "    <tr>\n",
       "      <th>4</th>\n",
       "      <td>Jun-98</td>\n",
       "      <td>0.089469</td>\n",
       "    </tr>\n",
       "    <tr>\n",
       "      <th>...</th>\n",
       "      <td>...</td>\n",
       "      <td>...</td>\n",
       "    </tr>\n",
       "    <tr>\n",
       "      <th>276</th>\n",
       "      <td>Feb-21</td>\n",
       "      <td>0.015455</td>\n",
       "    </tr>\n",
       "    <tr>\n",
       "      <th>277</th>\n",
       "      <td>Mar-21</td>\n",
       "      <td>0.016019</td>\n",
       "    </tr>\n",
       "    <tr>\n",
       "      <th>278</th>\n",
       "      <td>Abr-21</td>\n",
       "      <td>0.016019</td>\n",
       "    </tr>\n",
       "    <tr>\n",
       "      <th>279</th>\n",
       "      <td>May-21</td>\n",
       "      <td>0.016019</td>\n",
       "    </tr>\n",
       "    <tr>\n",
       "      <th>280</th>\n",
       "      <td>Jun-21</td>\n",
       "      <td>0.016019</td>\n",
       "    </tr>\n",
       "  </tbody>\n",
       "</table>\n",
       "<p>281 rows × 2 columns</p>\n",
       "</div>"
      ],
      "text/plain": [
       "    FECHA_CONTABLE  inflation\n",
       "0           Feb-98   0.075564\n",
       "1           Mar-98   0.088955\n",
       "2           Abr-98   0.090000\n",
       "3           May-98   0.091711\n",
       "4           Jun-98   0.089469\n",
       "..             ...        ...\n",
       "276         Feb-21   0.015455\n",
       "277         Mar-21   0.016019\n",
       "278         Abr-21   0.016019\n",
       "279         May-21   0.016019\n",
       "280         Jun-21   0.016019\n",
       "\n",
       "[281 rows x 2 columns]"
      ]
     },
     "execution_count": 279,
     "metadata": {},
     "output_type": "execute_result"
    }
   ],
   "source": [
    "education = pd.read_csv (r\"G:\\.shortcut-targets-by-id\\1CvCex95agcRH6L6KPy5QTdP2_XJoAUNX\\02. Investment (I)\\7. Reportes\\3. Consultas\\Analitico\\Inversiones\\Gino\\Pruebas\\Movimiento Browniano Geométrico\\Inflation.csv\",sep = \";\" ,encoding = \"latin1\")\n",
    "education"
   ]
  },
  {
   "cell_type": "code",
   "execution_count": 285,
   "metadata": {},
   "outputs": [
    {
     "data": {
      "text/html": [
       "<div>\n",
       "<style scoped>\n",
       "    .dataframe tbody tr th:only-of-type {\n",
       "        vertical-align: middle;\n",
       "    }\n",
       "\n",
       "    .dataframe tbody tr th {\n",
       "        vertical-align: top;\n",
       "    }\n",
       "\n",
       "    .dataframe thead th {\n",
       "        text-align: right;\n",
       "    }\n",
       "</style>\n",
       "<table border=\"1\" class=\"dataframe\">\n",
       "  <thead>\n",
       "    <tr style=\"text-align: right;\">\n",
       "      <th></th>\n",
       "      <th>FECHA_CONTABLE</th>\n",
       "      <th>inflation</th>\n",
       "    </tr>\n",
       "  </thead>\n",
       "  <tbody>\n",
       "    <tr>\n",
       "      <th>0</th>\n",
       "      <td>1998-02-28</td>\n",
       "      <td>0.075564</td>\n",
       "    </tr>\n",
       "    <tr>\n",
       "      <th>1</th>\n",
       "      <td>1998-03-31</td>\n",
       "      <td>0.088955</td>\n",
       "    </tr>\n",
       "    <tr>\n",
       "      <th>2</th>\n",
       "      <td>1998-04-30</td>\n",
       "      <td>0.090000</td>\n",
       "    </tr>\n",
       "    <tr>\n",
       "      <th>3</th>\n",
       "      <td>1998-05-31</td>\n",
       "      <td>0.091711</td>\n",
       "    </tr>\n",
       "    <tr>\n",
       "      <th>4</th>\n",
       "      <td>1998-06-30</td>\n",
       "      <td>0.089469</td>\n",
       "    </tr>\n",
       "    <tr>\n",
       "      <th>...</th>\n",
       "      <td>...</td>\n",
       "      <td>...</td>\n",
       "    </tr>\n",
       "    <tr>\n",
       "      <th>276</th>\n",
       "      <td>2021-02-28</td>\n",
       "      <td>0.015455</td>\n",
       "    </tr>\n",
       "    <tr>\n",
       "      <th>277</th>\n",
       "      <td>2021-03-31</td>\n",
       "      <td>0.016019</td>\n",
       "    </tr>\n",
       "    <tr>\n",
       "      <th>278</th>\n",
       "      <td>2021-04-30</td>\n",
       "      <td>0.016019</td>\n",
       "    </tr>\n",
       "    <tr>\n",
       "      <th>279</th>\n",
       "      <td>2021-05-31</td>\n",
       "      <td>0.016019</td>\n",
       "    </tr>\n",
       "    <tr>\n",
       "      <th>280</th>\n",
       "      <td>2021-06-30</td>\n",
       "      <td>0.016019</td>\n",
       "    </tr>\n",
       "  </tbody>\n",
       "</table>\n",
       "<p>281 rows × 2 columns</p>\n",
       "</div>"
      ],
      "text/plain": [
       "    FECHA_CONTABLE  inflation\n",
       "0       1998-02-28   0.075564\n",
       "1       1998-03-31   0.088955\n",
       "2       1998-04-30   0.090000\n",
       "3       1998-05-31   0.091711\n",
       "4       1998-06-30   0.089469\n",
       "..             ...        ...\n",
       "276     2021-02-28   0.015455\n",
       "277     2021-03-31   0.016019\n",
       "278     2021-04-30   0.016019\n",
       "279     2021-05-31   0.016019\n",
       "280     2021-06-30   0.016019\n",
       "\n",
       "[281 rows x 2 columns]"
      ]
     },
     "execution_count": 285,
     "metadata": {},
     "output_type": "execute_result"
    }
   ],
   "source": [
    "education['FECHA_CONTABLE'] = pd.date_range(start='2/3/1998', end='7/1/2021', freq='M')\n",
    "education"
   ]
  },
  {
   "cell_type": "code",
   "execution_count": 286,
   "metadata": {},
   "outputs": [
    {
     "data": {
      "text/plain": [
       "<matplotlib.axes._subplots.AxesSubplot at 0x17d85eb32e0>"
      ]
     },
     "execution_count": 286,
     "metadata": {},
     "output_type": "execute_result"
    },
    {
     "data": {
      "image/png": "[encoded data removed]",
      "text/plain": [
       "<Figure size 576x288 with 1 Axes>"
      ]
     },
     "metadata": {},
     "output_type": "display_data"
    }
   ],
   "source": [
    "sns.set(rc={'figure.figsize':(8,4)})\n",
    "sns.distplot(education[\"inflation\"]) ##CHI CUADRADO Y LOG NORMAL"
   ]
  },
  {
   "cell_type": "code",
   "execution_count": 287,
   "metadata": {},
   "outputs": [
    {
     "data": {
      "text/html": [
       "<div>\n",
       "<style scoped>\n",
       "    .dataframe tbody tr th:only-of-type {\n",
       "        vertical-align: middle;\n",
       "    }\n",
       "\n",
       "    .dataframe tbody tr th {\n",
       "        vertical-align: top;\n",
       "    }\n",
       "\n",
       "    .dataframe thead th {\n",
       "        text-align: right;\n",
       "    }\n",
       "</style>\n",
       "<table border=\"1\" class=\"dataframe\">\n",
       "  <thead>\n",
       "    <tr style=\"text-align: right;\">\n",
       "      <th></th>\n",
       "      <th>FECHA_CONTABLE</th>\n",
       "      <th>inflation</th>\n",
       "      <th>education_rate</th>\n",
       "    </tr>\n",
       "  </thead>\n",
       "  <tbody>\n",
       "    <tr>\n",
       "      <th>107</th>\n",
       "      <td>2007-01-31</td>\n",
       "      <td>0.035242</td>\n",
       "      <td>-2.52</td>\n",
       "    </tr>\n",
       "    <tr>\n",
       "      <th>108</th>\n",
       "      <td>2007-02-28</td>\n",
       "      <td>0.035149</td>\n",
       "      <td>-0.26</td>\n",
       "    </tr>\n",
       "    <tr>\n",
       "      <th>109</th>\n",
       "      <td>2007-03-31</td>\n",
       "      <td>0.036942</td>\n",
       "      <td>5.10</td>\n",
       "    </tr>\n",
       "    <tr>\n",
       "      <th>110</th>\n",
       "      <td>2007-04-30</td>\n",
       "      <td>0.036021</td>\n",
       "      <td>-2.49</td>\n",
       "    </tr>\n",
       "    <tr>\n",
       "      <th>111</th>\n",
       "      <td>2007-05-31</td>\n",
       "      <td>0.036847</td>\n",
       "      <td>2.29</td>\n",
       "    </tr>\n",
       "    <tr>\n",
       "      <th>...</th>\n",
       "      <td>...</td>\n",
       "      <td>...</td>\n",
       "      <td>...</td>\n",
       "    </tr>\n",
       "    <tr>\n",
       "      <th>276</th>\n",
       "      <td>2021-02-28</td>\n",
       "      <td>0.015455</td>\n",
       "      <td>-20.02</td>\n",
       "    </tr>\n",
       "    <tr>\n",
       "      <th>277</th>\n",
       "      <td>2021-03-31</td>\n",
       "      <td>0.016019</td>\n",
       "      <td>3.65</td>\n",
       "    </tr>\n",
       "    <tr>\n",
       "      <th>278</th>\n",
       "      <td>2021-04-30</td>\n",
       "      <td>0.016019</td>\n",
       "      <td>0.00</td>\n",
       "    </tr>\n",
       "    <tr>\n",
       "      <th>279</th>\n",
       "      <td>2021-05-31</td>\n",
       "      <td>0.016019</td>\n",
       "      <td>0.00</td>\n",
       "    </tr>\n",
       "    <tr>\n",
       "      <th>280</th>\n",
       "      <td>2021-06-30</td>\n",
       "      <td>0.016019</td>\n",
       "      <td>0.00</td>\n",
       "    </tr>\n",
       "  </tbody>\n",
       "</table>\n",
       "<p>174 rows × 3 columns</p>\n",
       "</div>"
      ],
      "text/plain": [
       "    FECHA_CONTABLE  inflation  education_rate\n",
       "107     2007-01-31   0.035242           -2.52\n",
       "108     2007-02-28   0.035149           -0.26\n",
       "109     2007-03-31   0.036942            5.10\n",
       "110     2007-04-30   0.036021           -2.49\n",
       "111     2007-05-31   0.036847            2.29\n",
       "..             ...        ...             ...\n",
       "276     2021-02-28   0.015455          -20.02\n",
       "277     2021-03-31   0.016019            3.65\n",
       "278     2021-04-30   0.016019            0.00\n",
       "279     2021-05-31   0.016019            0.00\n",
       "280     2021-06-30   0.016019            0.00\n",
       "\n",
       "[174 rows x 3 columns]"
      ]
     },
     "execution_count": 287,
     "metadata": {},
     "output_type": "execute_result"
    }
   ],
   "source": [
    "education['education_rate']=education[\"inflation\"].pct_change().mul(100).round(2)\n",
    "db3=education.copy()\n",
    "start_date = \"2007-1-31\"\n",
    "after_start_date  = db3[\"FECHA_CONTABLE\"] >= start_date\n",
    "education=db3.loc[after_start_date]\n",
    "education\n"
   ]
  },
  {
   "cell_type": "code",
   "execution_count": 288,
   "metadata": {},
   "outputs": [
    {
     "data": {
      "text/plain": [
       "<matplotlib.axes._subplots.AxesSubplot at 0x17d84119a30>"
      ]
     },
     "execution_count": 288,
     "metadata": {},
     "output_type": "execute_result"
    },
    {
     "data": {
      "image/png": "[encoded data removed]",
      "text/plain": [
       "<Figure size 576x288 with 1 Axes>"
      ]
     },
     "metadata": {},
     "output_type": "display_data"
    }
   ],
   "source": [
    "sns.set(rc={'figure.figsize':(8,4)})\n",
    "sns.distplot(education[\"education_rate\"]) ##CHI CUADRADO Y LOG NORMAL"
   ]
  },
  {
   "cell_type": "code",
   "execution_count": 114,
   "metadata": {},
   "outputs": [
    {
     "name": "stdout",
     "output_type": "stream",
     "text": [
      "dweibull: statistic=0.15000000000000002, pvalue=5.779686815290508e-06\n"
     ]
    }
   ],
   "source": [
    "import warnings\n",
    "warnings.filterwarnings(\"ignore\", category=DeprecationWarning)\n",
    "list_of_dists = ['dweibull']\n",
    "    \n",
    "#    'johnsonsu','alpha','anglit','arcsine','beta','betaprime','bradford','burr','burr12','cauchy',\n",
    "#'chi','chi2','cosine','dgamma','dweibull','erlang','expon','exponnorm','exponweib',\n",
    "#'exponpow','f','fatiguelife','fisk','foldcauchy','foldnorm','frechet_r','frechet_l',\n",
    "#'genlogistic','genpareto','gennorm','genexpon','genextreme','gausshyper','gamma','gengamma',\n",
    "#'genhalflogistic','gilbrat','gompertz','gumbel_r','gumbel_l','halfcauchy','halflogistic','halfnorm',\n",
    "#'halfgennorm','hypsecant','invgamma','invgauss','invweibull','johnsonsb','johnsonsu','kstwobign',\n",
    "#'laplace','levy','levy_l','logistic','loggamma','loglaplace','lognorm','lomax','maxwell','mielke',\n",
    "#'nakagami','ncx2','ncf','nct','norm','pareto','pearson3','powerlaw','powerlognorm','powernorm','rdist',\n",
    "#'reciprocal','rayleigh','rice','recipinvgauss','semicircular','t','triang','truncexpon','truncnorm',\n",
    "#'tukeylambda','uniform','vonmises','vonmises_line','wald','weibull_min','weibull_max']\n",
    "\n",
    "results = []\n",
    "for i in list_of_dists:\n",
    "    dist = getattr(stats, i)\n",
    "    param = dist.fit(education[\"education_rate\"][1:,])\n",
    "    k_stat, ks_p_value = stats.kstest(education[\"education_rate\"][1:,], i, args=param)\n",
    "    a = stats.kstest(education[\"education_rate\"][1:,], i, args=param) ###\n",
    "    results.append((i,a[0],a[1]))\n",
    "    \n",
    "    \n",
    "results.sort(key=lambda x:float(x[2]), reverse=True)\n",
    "for j in results:\n",
    "    print(\"{}: statistic={}, pvalue={}\".format(j[0], j[1], j[2]))"
   ]
  },
  {
   "cell_type": "code",
   "execution_count": 109,
   "metadata": {},
   "outputs": [],
   "source": [
    "def kolgomorov_smirnov_critico(n):\n",
    "    if n<=40:\n",
    "        kolgomorov_critico = [0.97500, 0.84189, 0.70760, 0.62394, 0.56328, 0.51926, 0.48342,\n",
    "                              0.45427, 0.43001,0.40925, 0.39122, 0.37543, 0.36143, 0.34890, 0.33760, 0.32733, 0.31796, 0.30936,\n",
    "                              0.30143,0.29408, 0.28724, 0.28887, 0.27490, 0.26931, 0.26404, 0.25907, 0.25438, 0.24993, 0.24571, \n",
    "                              0.24170, 0.23788, 0.23424, 0.23076, 0.22743, 0.22425, 0.22119, 0.21826 ,0.21544, 0.21273, 0.21012]\n",
    "        ks_critico = kolgomorov_critico[n-1]\n",
    "    elif n>40:\n",
    "        kolgomorov_critico = 1.36/(np.sqrt(n))\n",
    "        ks_critico = kolgomorov_critico\n",
    "    else:\n",
    "        pass\n",
    "    return ks_critico"
   ]
  },
  {
   "cell_type": "code",
   "execution_count": 113,
   "metadata": {},
   "outputs": [
    {
     "name": "stdout",
     "output_type": "stream",
     "text": [
      "Con 95% de confianza, los datos NO son similares a una distribución Johnson Su\n"
     ]
    }
   ],
   "source": [
    "ks_critico = kolgomorov_smirnov_critico(len(education[\"education_rate\"][1:,]))\n",
    "if ks_critico >=k_stat:\n",
    "    print('Con 95% de confianza, los datos son similares a una distribución Johnson Su')\n",
    "else:\n",
    "    print('Con 95% de confianza, los datos NO son similares a una distribución Johnson Su')"
   ]
  },
  {
   "cell_type": "code",
   "execution_count": 294,
   "metadata": {},
   "outputs": [
    {
     "data": {
      "text/plain": [
       "107    -2.52\n",
       "108    -0.26\n",
       "109     5.10\n",
       "110    -2.49\n",
       "111     2.29\n",
       "       ...  \n",
       "276   -20.02\n",
       "277     3.65\n",
       "278     0.00\n",
       "279     0.00\n",
       "280     0.00\n",
       "Name: education_rate, Length: 174, dtype: float64"
      ]
     },
     "execution_count": 294,
     "metadata": {},
     "output_type": "execute_result"
    }
   ],
   "source": [
    "data=education[\"education_rate\"]\n",
    "data"
   ]
  },
  {
   "cell_type": "code",
   "execution_count": 295,
   "metadata": {},
   "outputs": [],
   "source": [
    "best_fit_name, best_fit_params = best_fit_distribution(data, 200, ax)\n",
    "best_dist = getattr(st, best_fit_name)"
   ]
  },
  {
   "cell_type": "code",
   "execution_count": 296,
   "metadata": {},
   "outputs": [
    {
     "data": {
      "text/plain": [
       "'dgamma'"
      ]
     },
     "execution_count": 296,
     "metadata": {},
     "output_type": "execute_result"
    }
   ],
   "source": [
    "best_fit_name"
   ]
  },
  {
   "cell_type": "code",
   "execution_count": 297,
   "metadata": {},
   "outputs": [
    {
     "data": {
      "text/plain": [
       "Text(0.5, 1.0, 'El Niño sea temp. with best fit distribution \\ndgamma(a=0.47, loc=-0.09, scale=8.43)')"
      ]
     },
     "execution_count": 297,
     "metadata": {},
     "output_type": "execute_result"
    },
    {
     "data": {
      "image/png": "[encoded data removed]",
      "text/plain": [
       "<Figure size 864x576 with 1 Axes>"
      ]
     },
     "metadata": {},
     "output_type": "display_data"
    }
   ],
   "source": [
    "\n",
    "# Find best fit distribution\n",
    "#best_fit_name, best_fit_params = best_fit_distribution(data, 200, ax)\n",
    "#best_dist = getattr(st, best_fit_name)\n",
    "\n",
    "# Update plots\n",
    "#ax.set_ylim(dataYLim)\n",
    "#ax.set_title(u'El Niño sea temp.\\n All Fitted Distributions')\n",
    "#ax.set_xlabel(u'Temp (°C)')\n",
    "#ax.set_ylabel('Frequency')\n",
    "\n",
    "# Make PDF with best params \n",
    "pdf = make_pdf(best_dist, best_fit_params)\n",
    "\n",
    "# Display\n",
    "plt.figure(figsize=(12,8))\n",
    "ax = pdf.plot(lw=2, label='PDF', legend=True)\n",
    "data.plot(kind='hist', bins=50, density=True, alpha=0.5, label='Data', legend=True, ax=ax)\n",
    "\n",
    "param_names = (best_dist.shapes + ', loc, scale').split(', ') if best_dist.shapes else ['loc', 'scale']\n",
    "param_str = ', '.join(['{}={:0.2f}'.format(k,v) for k,v in zip(param_names, best_fit_params)])\n",
    "dist_str = '{}({})'.format(best_fit_name, param_str)\n",
    "ax.set_title(u'El Niño sea temp. with best fit distribution \\n' + dist_str)\n"
   ]
  },
  {
   "cell_type": "code",
   "execution_count": 262,
   "metadata": {},
   "outputs": [
    {
     "data": {
      "text/plain": [
       "<matplotlib.axes._subplots.AxesSubplot at 0x17d85f82fa0>"
      ]
     },
     "execution_count": 262,
     "metadata": {},
     "output_type": "execute_result"
    },
    {
     "data": {
      "image/png": "[encoded data removed]",
      "text/plain": [
       "<Figure size 576x288 with 1 Axes>"
      ]
     },
     "metadata": {},
     "output_type": "display_data"
    }
   ],
   "source": [
    "sns.distplot(education[\"education_rate\"][1:,])"
   ]
  },
  {
   "cell_type": "code",
   "execution_count": 300,
   "metadata": {},
   "outputs": [],
   "source": [
    "edu_rate=np.array(best_fit_params)\n",
    "a = edu_rate[0]\n",
    "loc = edu_rate[1]\n",
    "scale=edu_rate[2]"
   ]
  },
  {
   "cell_type": "code",
   "execution_count": 302,
   "metadata": {},
   "outputs": [
    {
     "data": {
      "text/plain": [
       "15.58238506816762"
      ]
     },
     "execution_count": 302,
     "metadata": {},
     "output_type": "execute_result"
    }
   ],
   "source": [
    "#from scipy.stats import dweibull\n",
    "intervalo_dgm1= dgamma.interval(0.95, a=a, loc=loc, scale=scale)\n",
    "inter_dgm1=np.array(intervalo_dgm1)\n",
    "inter_dgm_high1 = inter_dgm1[1]\n",
    "inter_dgm_high1"
   ]
  },
  {
   "cell_type": "code",
   "execution_count": 303,
   "metadata": {},
   "outputs": [
    {
     "data": {
      "text/plain": [
       "27.245947455041595"
      ]
     },
     "execution_count": 303,
     "metadata": {},
     "output_type": "execute_result"
    }
   ],
   "source": [
    "intervalo_dgm2= dgamma.interval(0.99, a=a, loc=loc, scale=scale)\n",
    "inter_dgm2=np.array(intervalo_dgm2)\n",
    "inter_dgm_high2 = inter_dgm2[1]\n",
    "inter_dgm_high2"
   ]
  },
  {
   "cell_type": "code",
   "execution_count": 309,
   "metadata": {},
   "outputs": [
    {
     "data": {
      "text/plain": [
       "[15.582,\n",
       " 22.037,\n",
       " 26.989,\n",
       " 31.165,\n",
       " 34.843,\n",
       " 38.169,\n",
       " 41.227,\n",
       " 44.074,\n",
       " 46.747,\n",
       " 49.276,\n",
       " 51.681,\n",
       " 53.979]"
      ]
     },
     "execution_count": 309,
     "metadata": {},
     "output_type": "execute_result"
    }
   ],
   "source": [
    "var_array_gmm1 = []\n",
    "num_months = int(12)\n",
    "for x in range(1, num_months+1): \n",
    "    var_array_gmm1.append(np.round(inter_dgm_high1 * np.sqrt(x),3))\n",
    "   # print(str(x) + \" day VaR @ 95% confidence: \" + str(np.round(var_1d1 * stdev_investment* np.sqrt(x),3)))\n",
    "var_array_gmm1"
   ]
  },
  {
   "cell_type": "code",
   "execution_count": 310,
   "metadata": {},
   "outputs": [
    {
     "data": {
      "text/plain": [
       "[27.246,\n",
       " 38.532,\n",
       " 47.191,\n",
       " 54.492,\n",
       " 60.924,\n",
       " 66.739,\n",
       " 72.086,\n",
       " 77.063,\n",
       " 81.738,\n",
       " 86.159,\n",
       " 90.365,\n",
       " 94.383]"
      ]
     },
     "execution_count": 310,
     "metadata": {},
     "output_type": "execute_result"
    }
   ],
   "source": [
    "var_array_gmm2 = []\n",
    "num_months = int(12)\n",
    "for x in range(1, num_months+1): \n",
    "    var_array_gmm2.append(np.round(inter_dgm_high2 * np.sqrt(x),3))\n",
    "   # print(str(x) + \" day VaR @ 95% confidence: \" + str(np.round(var_1d1 * stdev_investment* np.sqrt(x),3)))\n",
    "var_array_gmm2"
   ]
  },
  {
   "cell_type": "code",
   "execution_count": 313,
   "metadata": {},
   "outputs": [
    {
     "data": {
      "text/html": [
       "<div>\n",
       "<style scoped>\n",
       "    .dataframe tbody tr th:only-of-type {\n",
       "        vertical-align: middle;\n",
       "    }\n",
       "\n",
       "    .dataframe tbody tr th {\n",
       "        vertical-align: top;\n",
       "    }\n",
       "\n",
       "    .dataframe thead th {\n",
       "        text-align: right;\n",
       "    }\n",
       "</style>\n",
       "<table border=\"1\" class=\"dataframe\">\n",
       "  <thead>\n",
       "    <tr style=\"text-align: right;\">\n",
       "      <th></th>\n",
       "      <th>95%</th>\n",
       "      <th>99%</th>\n",
       "    </tr>\n",
       "    <tr>\n",
       "      <th>fecha</th>\n",
       "      <th></th>\n",
       "      <th></th>\n",
       "    </tr>\n",
       "  </thead>\n",
       "  <tbody>\n",
       "    <tr>\n",
       "      <th>2021-07-31</th>\n",
       "      <td>15.582</td>\n",
       "      <td>27.246</td>\n",
       "    </tr>\n",
       "    <tr>\n",
       "      <th>2021-08-31</th>\n",
       "      <td>22.037</td>\n",
       "      <td>38.532</td>\n",
       "    </tr>\n",
       "    <tr>\n",
       "      <th>2021-09-30</th>\n",
       "      <td>26.989</td>\n",
       "      <td>47.191</td>\n",
       "    </tr>\n",
       "    <tr>\n",
       "      <th>2021-10-31</th>\n",
       "      <td>31.165</td>\n",
       "      <td>54.492</td>\n",
       "    </tr>\n",
       "    <tr>\n",
       "      <th>2021-11-30</th>\n",
       "      <td>34.843</td>\n",
       "      <td>60.924</td>\n",
       "    </tr>\n",
       "    <tr>\n",
       "      <th>2021-12-31</th>\n",
       "      <td>38.169</td>\n",
       "      <td>66.739</td>\n",
       "    </tr>\n",
       "    <tr>\n",
       "      <th>2022-01-31</th>\n",
       "      <td>41.227</td>\n",
       "      <td>72.086</td>\n",
       "    </tr>\n",
       "    <tr>\n",
       "      <th>2022-02-28</th>\n",
       "      <td>44.074</td>\n",
       "      <td>77.063</td>\n",
       "    </tr>\n",
       "    <tr>\n",
       "      <th>2022-03-31</th>\n",
       "      <td>46.747</td>\n",
       "      <td>81.738</td>\n",
       "    </tr>\n",
       "    <tr>\n",
       "      <th>2022-04-30</th>\n",
       "      <td>49.276</td>\n",
       "      <td>86.159</td>\n",
       "    </tr>\n",
       "    <tr>\n",
       "      <th>2022-05-31</th>\n",
       "      <td>51.681</td>\n",
       "      <td>90.365</td>\n",
       "    </tr>\n",
       "    <tr>\n",
       "      <th>2022-06-30</th>\n",
       "      <td>53.979</td>\n",
       "      <td>94.383</td>\n",
       "    </tr>\n",
       "  </tbody>\n",
       "</table>\n",
       "</div>"
      ],
      "text/plain": [
       "               95%     99%\n",
       "fecha                     \n",
       "2021-07-31  15.582  27.246\n",
       "2021-08-31  22.037  38.532\n",
       "2021-09-30  26.989  47.191\n",
       "2021-10-31  31.165  54.492\n",
       "2021-11-30  34.843  60.924\n",
       "2021-12-31  38.169  66.739\n",
       "2022-01-31  41.227  72.086\n",
       "2022-02-28  44.074  77.063\n",
       "2022-03-31  46.747  81.738\n",
       "2022-04-30  49.276  86.159\n",
       "2022-05-31  51.681  90.365\n",
       "2022-06-30  53.979  94.383"
      ]
     },
     "execution_count": 313,
     "metadata": {},
     "output_type": "execute_result"
    }
   ],
   "source": [
    "df2 = pd.DataFrame(var_array_gmm1)\n",
    "df2.columns = ['95%']\n",
    "df2['99%'] = var_array_gmm2\n",
    "df2['fecha'] = pd.date_range(start='7/1/2021', end='7/1/2022', freq='M')\n",
    "df2.set_index('fecha', inplace =True)\n",
    "df2"
   ]
  },
  {
   "cell_type": "code",
   "execution_count": 322,
   "metadata": {},
   "outputs": [
    {
     "data": {
      "application/vnd.plotly.v1+json": {
       "config": {
        "plotlyServerURL": "https://plot.ly"
       },
       "data": [
        {
         "name": "99% de Probabilidad",
         "type": "scatter",
         "x": [
          "2021-07-31T00:00:00",
          "2021-08-31T00:00:00",
          "2021-09-30T00:00:00",
          "2021-10-31T00:00:00",
          "2021-11-30T00:00:00",
          "2021-12-31T00:00:00",
          "2022-01-31T00:00:00",
          "2022-02-28T00:00:00",
          "2022-03-31T00:00:00",
          "2022-04-30T00:00:00",
          "2022-05-31T00:00:00",
          "2022-06-30T00:00:00"
         ],
         "y": [
          27.246,
          38.532,
          47.191,
          54.492,
          60.924,
          66.739,
          72.086,
          77.063,
          81.738,
          86.159,
          90.365,
          94.383
         ]
        },
        {
         "name": "95% de Probabilidad",
         "type": "scatter",
         "x": [
          "2021-07-31T00:00:00",
          "2021-08-31T00:00:00",
          "2021-09-30T00:00:00",
          "2021-10-31T00:00:00",
          "2021-11-30T00:00:00",
          "2021-12-31T00:00:00",
          "2022-01-31T00:00:00",
          "2022-02-28T00:00:00",
          "2022-03-31T00:00:00",
          "2022-04-30T00:00:00",
          "2022-05-31T00:00:00",
          "2022-06-30T00:00:00"
         ],
         "y": [
          15.582,
          22.037,
          26.989,
          31.165,
          34.843,
          38.169,
          41.227,
          44.074,
          46.747,
          49.276,
          51.681,
          53.979
         ]
        }
       ],
       "layout": {
        "template": {
         "data": {
          "bar": [
           {
            "error_x": {
             "color": "#2a3f5f"
            },
            "error_y": {
             "color": "#2a3f5f"
            },
            "marker": {
             "line": {
              "color": "#E5ECF6",
              "width": 0.5
             }
            },
            "type": "bar"
           }
          ],
          "barpolar": [
           {
            "marker": {
             "line": {
              "color": "#E5ECF6",
              "width": 0.5
             }
            },
            "type": "barpolar"
           }
          ],
          "carpet": [
           {
            "aaxis": {
             "endlinecolor": "#2a3f5f",
             "gridcolor": "white",
             "linecolor": "white",
             "minorgridcolor": "white",
             "startlinecolor": "#2a3f5f"
            },
            "baxis": {
             "endlinecolor": "#2a3f5f",
             "gridcolor": "white",
             "linecolor": "white",
             "minorgridcolor": "white",
             "startlinecolor": "#2a3f5f"
            },
            "type": "carpet"
           }
          ],
          "choropleth": [
           {
            "colorbar": {
             "outlinewidth": 0,
             "ticks": ""
            },
            "type": "choropleth"
           }
          ],
          "contour": [
           {
            "colorbar": {
             "outlinewidth": 0,
             "ticks": ""
            },
            "colorscale": [
             [
              0,
              "#0d0887"
             ],
             [
              0.1111111111111111,
              "#46039f"
             ],
             [
              0.2222222222222222,
              "#7201a8"
             ],
             [
              0.3333333333333333,
              "#9c179e"
             ],
             [
              0.4444444444444444,
              "#bd3786"
             ],
             [
              0.5555555555555556,
              "#d8576b"
             ],
             [
              0.6666666666666666,
              "#ed7953"
             ],
             [
              0.7777777777777778,
              "#fb9f3a"
             ],
             [
              0.8888888888888888,
              "#fdca26"
             ],
             [
              1,
              "#f0f921"
             ]
            ],
            "type": "contour"
           }
          ],
          "contourcarpet": [
           {
            "colorbar": {
             "outlinewidth": 0,
             "ticks": ""
            },
            "type": "contourcarpet"
           }
          ],
          "heatmap": [
           {
            "colorbar": {
             "outlinewidth": 0,
             "ticks": ""
            },
            "colorscale": [
             [
              0,
              "#0d0887"
             ],
             [
              0.1111111111111111,
              "#46039f"
             ],
             [
              0.2222222222222222,
              "#7201a8"
             ],
             [
              0.3333333333333333,
              "#9c179e"
             ],
             [
              0.4444444444444444,
              "#bd3786"
             ],
             [
              0.5555555555555556,
              "#d8576b"
             ],
             [
              0.6666666666666666,
              "#ed7953"
             ],
             [
              0.7777777777777778,
              "#fb9f3a"
             ],
             [
              0.8888888888888888,
              "#fdca26"
             ],
             [
              1,
              "#f0f921"
             ]
            ],
            "type": "heatmap"
           }
          ],
          "heatmapgl": [
           {
            "colorbar": {
             "outlinewidth": 0,
             "ticks": ""
            },
            "colorscale": [
             [
              0,
              "#0d0887"
             ],
             [
              0.1111111111111111,
              "#46039f"
             ],
             [
              0.2222222222222222,
              "#7201a8"
             ],
             [
              0.3333333333333333,
              "#9c179e"
             ],
             [
              0.4444444444444444,
              "#bd3786"
             ],
             [
              0.5555555555555556,
              "#d8576b"
             ],
             [
              0.6666666666666666,
              "#ed7953"
             ],
             [
              0.7777777777777778,
              "#fb9f3a"
             ],
             [
              0.8888888888888888,
              "#fdca26"
             ],
             [
              1,
              "#f0f921"
             ]
            ],
            "type": "heatmapgl"
           }
          ],
          "histogram": [
           {
            "marker": {
             "colorbar": {
              "outlinewidth": 0,
              "ticks": ""
             }
            },
            "type": "histogram"
           }
          ],
          "histogram2d": [
           {
            "colorbar": {
             "outlinewidth": 0,
             "ticks": ""
            },
            "colorscale": [
             [
              0,
              "#0d0887"
             ],
             [
              0.1111111111111111,
              "#46039f"
             ],
             [
              0.2222222222222222,
              "#7201a8"
             ],
             [
              0.3333333333333333,
              "#9c179e"
             ],
             [
              0.4444444444444444,
              "#bd3786"
             ],
             [
              0.5555555555555556,
              "#d8576b"
             ],
             [
              0.6666666666666666,
              "#ed7953"
             ],
             [
              0.7777777777777778,
              "#fb9f3a"
             ],
             [
              0.8888888888888888,
              "#fdca26"
             ],
             [
              1,
              "#f0f921"
             ]
            ],
            "type": "histogram2d"
           }
          ],
          "histogram2dcontour": [
           {
            "colorbar": {
             "outlinewidth": 0,
             "ticks": ""
            },
            "colorscale": [
             [
              0,
              "#0d0887"
             ],
             [
              0.1111111111111111,
              "#46039f"
             ],
             [
              0.2222222222222222,
              "#7201a8"
             ],
             [
              0.3333333333333333,
              "#9c179e"
             ],
             [
              0.4444444444444444,
              "#bd3786"
             ],
             [
              0.5555555555555556,
              "#d8576b"
             ],
             [
              0.6666666666666666,
              "#ed7953"
             ],
             [
              0.7777777777777778,
              "#fb9f3a"
             ],
             [
              0.8888888888888888,
              "#fdca26"
             ],
             [
              1,
              "#f0f921"
             ]
            ],
            "type": "histogram2dcontour"
           }
          ],
          "mesh3d": [
           {
            "colorbar": {
             "outlinewidth": 0,
             "ticks": ""
            },
            "type": "mesh3d"
           }
          ],
          "parcoords": [
           {
            "line": {
             "colorbar": {
              "outlinewidth": 0,
              "ticks": ""
             }
            },
            "type": "parcoords"
           }
          ],
          "pie": [
           {
            "automargin": true,
            "type": "pie"
           }
          ],
          "scatter": [
           {
            "marker": {
             "colorbar": {
              "outlinewidth": 0,
              "ticks": ""
             }
            },
            "type": "scatter"
           }
          ],
          "scatter3d": [
           {
            "line": {
             "colorbar": {
              "outlinewidth": 0,
              "ticks": ""
             }
            },
            "marker": {
             "colorbar": {
              "outlinewidth": 0,
              "ticks": ""
             }
            },
            "type": "scatter3d"
           }
          ],
          "scattercarpet": [
           {
            "marker": {
             "colorbar": {
              "outlinewidth": 0,
              "ticks": ""
             }
            },
            "type": "scattercarpet"
           }
          ],
          "scattergeo": [
           {
            "marker": {
             "colorbar": {
              "outlinewidth": 0,
              "ticks": ""
             }
            },
            "type": "scattergeo"
           }
          ],
          "scattergl": [
           {
            "marker": {
             "colorbar": {
              "outlinewidth": 0,
              "ticks": ""
             }
            },
            "type": "scattergl"
           }
          ],
          "scattermapbox": [
           {
            "marker": {
             "colorbar": {
              "outlinewidth": 0,
              "ticks": ""
             }
            },
            "type": "scattermapbox"
           }
          ],
          "scatterpolar": [
           {
            "marker": {
             "colorbar": {
              "outlinewidth": 0,
              "ticks": ""
             }
            },
            "type": "scatterpolar"
           }
          ],
          "scatterpolargl": [
           {
            "marker": {
             "colorbar": {
              "outlinewidth": 0,
              "ticks": ""
             }
            },
            "type": "scatterpolargl"
           }
          ],
          "scatterternary": [
           {
            "marker": {
             "colorbar": {
              "outlinewidth": 0,
              "ticks": ""
             }
            },
            "type": "scatterternary"
           }
          ],
          "surface": [
           {
            "colorbar": {
             "outlinewidth": 0,
             "ticks": ""
            },
            "colorscale": [
             [
              0,
              "#0d0887"
             ],
             [
              0.1111111111111111,
              "#46039f"
             ],
             [
              0.2222222222222222,
              "#7201a8"
             ],
             [
              0.3333333333333333,
              "#9c179e"
             ],
             [
              0.4444444444444444,
              "#bd3786"
             ],
             [
              0.5555555555555556,
              "#d8576b"
             ],
             [
              0.6666666666666666,
              "#ed7953"
             ],
             [
              0.7777777777777778,
              "#fb9f3a"
             ],
             [
              0.8888888888888888,
              "#fdca26"
             ],
             [
              1,
              "#f0f921"
             ]
            ],
            "type": "surface"
           }
          ],
          "table": [
           {
            "cells": {
             "fill": {
              "color": "#EBF0F8"
             },
             "line": {
              "color": "white"
             }
            },
            "header": {
             "fill": {
              "color": "#C8D4E3"
             },
             "line": {
              "color": "white"
             }
            },
            "type": "table"
           }
          ]
         },
         "layout": {
          "annotationdefaults": {
           "arrowcolor": "#2a3f5f",
           "arrowhead": 0,
           "arrowwidth": 1
          },
          "autotypenumbers": "strict",
          "coloraxis": {
           "colorbar": {
            "outlinewidth": 0,
            "ticks": ""
           }
          },
          "colorscale": {
           "diverging": [
            [
             0,
             "#8e0152"
            ],
            [
             0.1,
             "#c51b7d"
            ],
            [
             0.2,
             "#de77ae"
            ],
            [
             0.3,
             "#f1b6da"
            ],
            [
             0.4,
             "#fde0ef"
            ],
            [
             0.5,
             "#f7f7f7"
            ],
            [
             0.6,
             "#e6f5d0"
            ],
            [
             0.7,
             "#b8e186"
            ],
            [
             0.8,
             "#7fbc41"
            ],
            [
             0.9,
             "#4d9221"
            ],
            [
             1,
             "#276419"
            ]
           ],
           "sequential": [
            [
             0,
             "#0d0887"
            ],
            [
             0.1111111111111111,
             "#46039f"
            ],
            [
             0.2222222222222222,
             "#7201a8"
            ],
            [
             0.3333333333333333,
             "#9c179e"
            ],
            [
             0.4444444444444444,
             "#bd3786"
            ],
            [
             0.5555555555555556,
             "#d8576b"
            ],
            [
             0.6666666666666666,
             "#ed7953"
            ],
            [
             0.7777777777777778,
             "#fb9f3a"
            ],
            [
             0.8888888888888888,
             "#fdca26"
            ],
            [
             1,
             "#f0f921"
            ]
           ],
           "sequentialminus": [
            [
             0,
             "#0d0887"
            ],
            [
             0.1111111111111111,
             "#46039f"
            ],
            [
             0.2222222222222222,
             "#7201a8"
            ],
            [
             0.3333333333333333,
             "#9c179e"
            ],
            [
             0.4444444444444444,
             "#bd3786"
            ],
            [
             0.5555555555555556,
             "#d8576b"
            ],
            [
             0.6666666666666666,
             "#ed7953"
            ],
            [
             0.7777777777777778,
             "#fb9f3a"
            ],
            [
             0.8888888888888888,
             "#fdca26"
            ],
            [
             1,
             "#f0f921"
            ]
           ]
          },
          "colorway": [
           "#636efa",
           "#EF553B",
           "#00cc96",
           "#ab63fa",
           "#FFA15A",
           "#19d3f3",
           "#FF6692",
           "#B6E880",
           "#FF97FF",
           "#FECB52"
          ],
          "font": {
           "color": "#2a3f5f"
          },
          "geo": {
           "bgcolor": "white",
           "lakecolor": "white",
           "landcolor": "#E5ECF6",
           "showlakes": true,
           "showland": true,
           "subunitcolor": "white"
          },
          "hoverlabel": {
           "align": "left"
          },
          "hovermode": "closest",
          "mapbox": {
           "style": "light"
          },
          "paper_bgcolor": "white",
          "plot_bgcolor": "#E5ECF6",
          "polar": {
           "angularaxis": {
            "gridcolor": "white",
            "linecolor": "white",
            "ticks": ""
           },
           "bgcolor": "#E5ECF6",
           "radialaxis": {
            "gridcolor": "white",
            "linecolor": "white",
            "ticks": ""
           }
          },
          "scene": {
           "xaxis": {
            "backgroundcolor": "#E5ECF6",
            "gridcolor": "white",
            "gridwidth": 2,
            "linecolor": "white",
            "showbackground": true,
            "ticks": "",
            "zerolinecolor": "white"
           },
           "yaxis": {
            "backgroundcolor": "#E5ECF6",
            "gridcolor": "white",
            "gridwidth": 2,
            "linecolor": "white",
            "showbackground": true,
            "ticks": "",
            "zerolinecolor": "white"
           },
           "zaxis": {
            "backgroundcolor": "#E5ECF6",
            "gridcolor": "white",
            "gridwidth": 2,
            "linecolor": "white",
            "showbackground": true,
            "ticks": "",
            "zerolinecolor": "white"
           }
          },
          "shapedefaults": {
           "line": {
            "color": "#2a3f5f"
           }
          },
          "ternary": {
           "aaxis": {
            "gridcolor": "white",
            "linecolor": "white",
            "ticks": ""
           },
           "baxis": {
            "gridcolor": "white",
            "linecolor": "white",
            "ticks": ""
           },
           "bgcolor": "#E5ECF6",
           "caxis": {
            "gridcolor": "white",
            "linecolor": "white",
            "ticks": ""
           }
          },
          "title": {
           "x": 0.05
          },
          "xaxis": {
           "automargin": true,
           "gridcolor": "white",
           "linecolor": "white",
           "ticks": "",
           "title": {
            "standoff": 15
           },
           "zerolinecolor": "white",
           "zerolinewidth": 2
          },
          "yaxis": {
           "automargin": true,
           "gridcolor": "white",
           "linecolor": "white",
           "ticks": "",
           "title": {
            "standoff": 15
           },
           "zerolinecolor": "white",
           "zerolinewidth": 2
          }
         }
        },
        "title": {
         "text": "Variabilidad Máxima del crecimiento de Inflación Subyacente Educativa"
        },
        "xaxis": {
         "title": {
          "text": "Fecha"
         }
        },
        "yaxis": {
         "title": {
          "text": "Crecimiento de la Inflación Subyacente Educativa en %"
         }
        }
       }
      },
      "text/html": [
       "<div>                            <div id=\"32536bf3-69b1-443d-8498-fafd79d9e747\" class=\"plotly-graph-div\" style=\"height:525px; width:100%;\"></div>            <script type=\"text/javascript\">                require([\"plotly\"], function(Plotly) {                    window.PLOTLYENV=window.PLOTLYENV || {};                                    if (document.getElementById(\"32536bf3-69b1-443d-8498-fafd79d9e747\")) {                    Plotly.newPlot(                        \"32536bf3-69b1-443d-8498-fafd79d9e747\",                        [{\"name\": \"99% de Probabilidad\", \"type\": \"scatter\", \"x\": [\"2021-07-31T00:00:00\", \"2021-08-31T00:00:00\", \"2021-09-30T00:00:00\", \"2021-10-31T00:00:00\", \"2021-11-30T00:00:00\", \"2021-12-31T00:00:00\", \"2022-01-31T00:00:00\", \"2022-02-28T00:00:00\", \"2022-03-31T00:00:00\", \"2022-04-30T00:00:00\", \"2022-05-31T00:00:00\", \"2022-06-30T00:00:00\"], \"y\": [27.246, 38.532, 47.191, 54.492, 60.924, 66.739, 72.086, 77.063, 81.738, 86.159, 90.365, 94.383]}, {\"name\": \"95% de Probabilidad\", \"type\": \"scatter\", \"x\": [\"2021-07-31T00:00:00\", \"2021-08-31T00:00:00\", \"2021-09-30T00:00:00\", \"2021-10-31T00:00:00\", \"2021-11-30T00:00:00\", \"2021-12-31T00:00:00\", \"2022-01-31T00:00:00\", \"2022-02-28T00:00:00\", \"2022-03-31T00:00:00\", \"2022-04-30T00:00:00\", \"2022-05-31T00:00:00\", \"2022-06-30T00:00:00\"], \"y\": [15.582, 22.037, 26.989, 31.165, 34.843, 38.169, 41.227, 44.074, 46.747, 49.276, 51.681, 53.979]}],                        {\"template\": {\"data\": {\"bar\": [{\"error_x\": {\"color\": \"#2a3f5f\"}, \"error_y\": {\"color\": \"#2a3f5f\"}, \"marker\": {\"line\": {\"color\": \"#E5ECF6\", \"width\": 0.5}}, \"type\": \"bar\"}], \"barpolar\": [{\"marker\": {\"line\": {\"color\": \"#E5ECF6\", \"width\": 0.5}}, \"type\": \"barpolar\"}], \"carpet\": [{\"aaxis\": {\"endlinecolor\": \"#2a3f5f\", \"gridcolor\": \"white\", \"linecolor\": \"white\", \"minorgridcolor\": \"white\", \"startlinecolor\": \"#2a3f5f\"}, \"baxis\": {\"endlinecolor\": \"#2a3f5f\", \"gridcolor\": \"white\", \"linecolor\": \"white\", \"minorgridcolor\": \"white\", \"startlinecolor\": \"#2a3f5f\"}, \"type\": \"carpet\"}], \"choropleth\": [{\"colorbar\": {\"outlinewidth\": 0, \"ticks\": \"\"}, \"type\": \"choropleth\"}], \"contour\": [{\"colorbar\": {\"outlinewidth\": 0, \"ticks\": \"\"}, \"colorscale\": [[0.0, \"#0d0887\"], [0.1111111111111111, \"#46039f\"], [0.2222222222222222, \"#7201a8\"], [0.3333333333333333, \"#9c179e\"], [0.4444444444444444, \"#bd3786\"], [0.5555555555555556, \"#d8576b\"], [0.6666666666666666, \"#ed7953\"], [0.7777777777777778, \"#fb9f3a\"], [0.8888888888888888, \"#fdca26\"], [1.0, \"#f0f921\"]], \"type\": \"contour\"}], \"contourcarpet\": [{\"colorbar\": {\"outlinewidth\": 0, \"ticks\": \"\"}, \"type\": \"contourcarpet\"}], \"heatmap\": [{\"colorbar\": {\"outlinewidth\": 0, \"ticks\": \"\"}, \"colorscale\": [[0.0, \"#0d0887\"], [0.1111111111111111, \"#46039f\"], [0.2222222222222222, \"#7201a8\"], [0.3333333333333333, \"#9c179e\"], [0.4444444444444444, \"#bd3786\"], [0.5555555555555556, \"#d8576b\"], [0.6666666666666666, \"#ed7953\"], [0.7777777777777778, \"#fb9f3a\"], [0.8888888888888888, \"#fdca26\"], [1.0, \"#f0f921\"]], \"type\": \"heatmap\"}], \"heatmapgl\": [{\"colorbar\": {\"outlinewidth\": 0, \"ticks\": \"\"}, \"colorscale\": [[0.0, \"#0d0887\"], [0.1111111111111111, \"#46039f\"], [0.2222222222222222, \"#7201a8\"], [0.3333333333333333, \"#9c179e\"], [0.4444444444444444, \"#bd3786\"], [0.5555555555555556, \"#d8576b\"], [0.6666666666666666, \"#ed7953\"], [0.7777777777777778, \"#fb9f3a\"], [0.8888888888888888, \"#fdca26\"], [1.0, \"#f0f921\"]], \"type\": \"heatmapgl\"}], \"histogram\": [{\"marker\": {\"colorbar\": {\"outlinewidth\": 0, \"ticks\": \"\"}}, \"type\": \"histogram\"}], \"histogram2d\": [{\"colorbar\": {\"outlinewidth\": 0, \"ticks\": \"\"}, \"colorscale\": [[0.0, \"#0d0887\"], [0.1111111111111111, \"#46039f\"], [0.2222222222222222, \"#7201a8\"], [0.3333333333333333, \"#9c179e\"], [0.4444444444444444, \"#bd3786\"], [0.5555555555555556, \"#d8576b\"], [0.6666666666666666, \"#ed7953\"], [0.7777777777777778, \"#fb9f3a\"], [0.8888888888888888, \"#fdca26\"], [1.0, \"#f0f921\"]], \"type\": \"histogram2d\"}], \"histogram2dcontour\": [{\"colorbar\": {\"outlinewidth\": 0, \"ticks\": \"\"}, \"colorscale\": [[0.0, \"#0d0887\"], [0.1111111111111111, \"#46039f\"], [0.2222222222222222, \"#7201a8\"], [0.3333333333333333, \"#9c179e\"], [0.4444444444444444, \"#bd3786\"], [0.5555555555555556, \"#d8576b\"], [0.6666666666666666, \"#ed7953\"], [0.7777777777777778, \"#fb9f3a\"], [0.8888888888888888, \"#fdca26\"], [1.0, \"#f0f921\"]], \"type\": \"histogram2dcontour\"}], \"mesh3d\": [{\"colorbar\": {\"outlinewidth\": 0, \"ticks\": \"\"}, \"type\": \"mesh3d\"}], \"parcoords\": [{\"line\": {\"colorbar\": {\"outlinewidth\": 0, \"ticks\": \"\"}}, \"type\": \"parcoords\"}], \"pie\": [{\"automargin\": true, \"type\": \"pie\"}], \"scatter\": [{\"marker\": {\"colorbar\": {\"outlinewidth\": 0, \"ticks\": \"\"}}, \"type\": \"scatter\"}], \"scatter3d\": [{\"line\": {\"colorbar\": {\"outlinewidth\": 0, \"ticks\": \"\"}}, \"marker\": {\"colorbar\": {\"outlinewidth\": 0, \"ticks\": \"\"}}, \"type\": \"scatter3d\"}], \"scattercarpet\": [{\"marker\": {\"colorbar\": {\"outlinewidth\": 0, \"ticks\": \"\"}}, \"type\": \"scattercarpet\"}], \"scattergeo\": [{\"marker\": {\"colorbar\": {\"outlinewidth\": 0, \"ticks\": \"\"}}, \"type\": \"scattergeo\"}], \"scattergl\": [{\"marker\": {\"colorbar\": {\"outlinewidth\": 0, \"ticks\": \"\"}}, \"type\": \"scattergl\"}], \"scattermapbox\": [{\"marker\": {\"colorbar\": {\"outlinewidth\": 0, \"ticks\": \"\"}}, \"type\": \"scattermapbox\"}], \"scatterpolar\": [{\"marker\": {\"colorbar\": {\"outlinewidth\": 0, \"ticks\": \"\"}}, \"type\": \"scatterpolar\"}], \"scatterpolargl\": [{\"marker\": {\"colorbar\": {\"outlinewidth\": 0, \"ticks\": \"\"}}, \"type\": \"scatterpolargl\"}], \"scatterternary\": [{\"marker\": {\"colorbar\": {\"outlinewidth\": 0, \"ticks\": \"\"}}, \"type\": \"scatterternary\"}], \"surface\": [{\"colorbar\": {\"outlinewidth\": 0, \"ticks\": \"\"}, \"colorscale\": [[0.0, \"#0d0887\"], [0.1111111111111111, \"#46039f\"], [0.2222222222222222, \"#7201a8\"], [0.3333333333333333, \"#9c179e\"], [0.4444444444444444, \"#bd3786\"], [0.5555555555555556, \"#d8576b\"], [0.6666666666666666, \"#ed7953\"], [0.7777777777777778, \"#fb9f3a\"], [0.8888888888888888, \"#fdca26\"], [1.0, \"#f0f921\"]], \"type\": \"surface\"}], \"table\": [{\"cells\": {\"fill\": {\"color\": \"#EBF0F8\"}, \"line\": {\"color\": \"white\"}}, \"header\": {\"fill\": {\"color\": \"#C8D4E3\"}, \"line\": {\"color\": \"white\"}}, \"type\": \"table\"}]}, \"layout\": {\"annotationdefaults\": {\"arrowcolor\": \"#2a3f5f\", \"arrowhead\": 0, \"arrowwidth\": 1}, \"autotypenumbers\": \"strict\", \"coloraxis\": {\"colorbar\": {\"outlinewidth\": 0, \"ticks\": \"\"}}, \"colorscale\": {\"diverging\": [[0, \"#8e0152\"], [0.1, \"#c51b7d\"], [0.2, \"#de77ae\"], [0.3, \"#f1b6da\"], [0.4, \"#fde0ef\"], [0.5, \"#f7f7f7\"], [0.6, \"#e6f5d0\"], [0.7, \"#b8e186\"], [0.8, \"#7fbc41\"], [0.9, \"#4d9221\"], [1, \"#276419\"]], \"sequential\": [[0.0, \"#0d0887\"], [0.1111111111111111, \"#46039f\"], [0.2222222222222222, \"#7201a8\"], [0.3333333333333333, \"#9c179e\"], [0.4444444444444444, \"#bd3786\"], [0.5555555555555556, \"#d8576b\"], [0.6666666666666666, \"#ed7953\"], [0.7777777777777778, \"#fb9f3a\"], [0.8888888888888888, \"#fdca26\"], [1.0, \"#f0f921\"]], \"sequentialminus\": [[0.0, \"#0d0887\"], [0.1111111111111111, \"#46039f\"], [0.2222222222222222, \"#7201a8\"], [0.3333333333333333, \"#9c179e\"], [0.4444444444444444, \"#bd3786\"], [0.5555555555555556, \"#d8576b\"], [0.6666666666666666, \"#ed7953\"], [0.7777777777777778, \"#fb9f3a\"], [0.8888888888888888, \"#fdca26\"], [1.0, \"#f0f921\"]]}, \"colorway\": [\"#636efa\", \"#EF553B\", \"#00cc96\", \"#ab63fa\", \"#FFA15A\", \"#19d3f3\", \"#FF6692\", \"#B6E880\", \"#FF97FF\", \"#FECB52\"], \"font\": {\"color\": \"#2a3f5f\"}, \"geo\": {\"bgcolor\": \"white\", \"lakecolor\": \"white\", \"landcolor\": \"#E5ECF6\", \"showlakes\": true, \"showland\": true, \"subunitcolor\": \"white\"}, \"hoverlabel\": {\"align\": \"left\"}, \"hovermode\": \"closest\", \"mapbox\": {\"style\": \"light\"}, \"paper_bgcolor\": \"white\", \"plot_bgcolor\": \"#E5ECF6\", \"polar\": {\"angularaxis\": {\"gridcolor\": \"white\", \"linecolor\": \"white\", \"ticks\": \"\"}, \"bgcolor\": \"#E5ECF6\", \"radialaxis\": {\"gridcolor\": \"white\", \"linecolor\": \"white\", \"ticks\": \"\"}}, \"scene\": {\"xaxis\": {\"backgroundcolor\": \"#E5ECF6\", \"gridcolor\": \"white\", \"gridwidth\": 2, \"linecolor\": \"white\", \"showbackground\": true, \"ticks\": \"\", \"zerolinecolor\": \"white\"}, \"yaxis\": {\"backgroundcolor\": \"#E5ECF6\", \"gridcolor\": \"white\", \"gridwidth\": 2, \"linecolor\": \"white\", \"showbackground\": true, \"ticks\": \"\", \"zerolinecolor\": \"white\"}, \"zaxis\": {\"backgroundcolor\": \"#E5ECF6\", \"gridcolor\": \"white\", \"gridwidth\": 2, \"linecolor\": \"white\", \"showbackground\": true, \"ticks\": \"\", \"zerolinecolor\": \"white\"}}, \"shapedefaults\": {\"line\": {\"color\": \"#2a3f5f\"}}, \"ternary\": {\"aaxis\": {\"gridcolor\": \"white\", \"linecolor\": \"white\", \"ticks\": \"\"}, \"baxis\": {\"gridcolor\": \"white\", \"linecolor\": \"white\", \"ticks\": \"\"}, \"bgcolor\": \"#E5ECF6\", \"caxis\": {\"gridcolor\": \"white\", \"linecolor\": \"white\", \"ticks\": \"\"}}, \"title\": {\"x\": 0.05}, \"xaxis\": {\"automargin\": true, \"gridcolor\": \"white\", \"linecolor\": \"white\", \"ticks\": \"\", \"title\": {\"standoff\": 15}, \"zerolinecolor\": \"white\", \"zerolinewidth\": 2}, \"yaxis\": {\"automargin\": true, \"gridcolor\": \"white\", \"linecolor\": \"white\", \"ticks\": \"\", \"title\": {\"standoff\": 15}, \"zerolinecolor\": \"white\", \"zerolinewidth\": 2}}}, \"title\": {\"text\": \"Variabilidad M\\u00e1xima del crecimiento de Inflaci\\u00f3n Subyacente Educativa\"}, \"xaxis\": {\"title\": {\"text\": \"Fecha\"}}, \"yaxis\": {\"title\": {\"text\": \"Crecimiento de la Inflaci\\u00f3n Subyacente Educativa en %\"}}},                        {\"responsive\": true}                    ).then(function(){\n",
       "                            \n",
       "var gd = document.getElementById('32536bf3-69b1-443d-8498-fafd79d9e747');\n",
       "var x = new MutationObserver(function (mutations, observer) {{\n",
       "        var display = window.getComputedStyle(gd).display;\n",
       "        if (!display || display === 'none') {{\n",
       "            console.log([gd, 'removed!']);\n",
       "            Plotly.purge(gd);\n",
       "            observer.disconnect();\n",
       "        }}\n",
       "}});\n",
       "\n",
       "// Listen for the removal of the full notebook cells\n",
       "var notebookContainer = gd.closest('#notebook-container');\n",
       "if (notebookContainer) {{\n",
       "    x.observe(notebookContainer, {childList: true});\n",
       "}}\n",
       "\n",
       "// Listen for the clearing of the current output cell\n",
       "var outputEl = gd.closest('.output');\n",
       "if (outputEl) {{\n",
       "    x.observe(outputEl, {childList: true});\n",
       "}}\n",
       "\n",
       "                        })                };                });            </script>        </div>"
      ]
     },
     "metadata": {},
     "output_type": "display_data"
    }
   ],
   "source": [
    "fig3 = go.Figure(\n",
    "    data=[\n",
    "        go.Scatter(\n",
    "            name=\"99% de Probabilidad\",\n",
    "            x=df2.index,\n",
    "            y=df2['99%'],\n",
    "            #offsetgroup=0,\n",
    "        ),\n",
    "        go.Scatter(\n",
    "            name=\"95% de Probabilidad\",\n",
    "            x=df2.index,\n",
    "            y=df2['95%'],\n",
    "            #offsetgroup=1,\n",
    "            #base=df2[\"RS_Cum1\"],\n",
    "        )\n",
    "    ],\n",
    "    layout=go.Layout(\n",
    "        title=\"Variabilidad Máxima del crecimiento de Inflación Subyacente Educativa\",\n",
    "        yaxis_title=\"Crecimiento de la Inflación Subyacente Educativa en %\",xaxis_title=\"Fecha\"\n",
    "        #template='plotly_dark'\n",
    "    )\n",
    ")\n",
    "fig3.show()"
   ]
  },
  {
   "cell_type": "markdown",
   "metadata": {},
   "source": [
    "## IPC Importado"
   ]
  },
  {
   "cell_type": "code",
   "execution_count": 373,
   "metadata": {},
   "outputs": [
    {
     "data": {
      "text/html": [
       "<div>\n",
       "<style scoped>\n",
       "    .dataframe tbody tr th:only-of-type {\n",
       "        vertical-align: middle;\n",
       "    }\n",
       "\n",
       "    .dataframe tbody tr th {\n",
       "        vertical-align: top;\n",
       "    }\n",
       "\n",
       "    .dataframe thead th {\n",
       "        text-align: right;\n",
       "    }\n",
       "</style>\n",
       "<table border=\"1\" class=\"dataframe\">\n",
       "  <thead>\n",
       "    <tr style=\"text-align: right;\">\n",
       "      <th></th>\n",
       "      <th>Fecha</th>\n",
       "      <th>ipc_importado</th>\n",
       "    </tr>\n",
       "  </thead>\n",
       "  <tbody>\n",
       "    <tr>\n",
       "      <th>0</th>\n",
       "      <td>1990-12-31</td>\n",
       "      <td>9.68</td>\n",
       "    </tr>\n",
       "    <tr>\n",
       "      <th>1</th>\n",
       "      <td>1991-01-31</td>\n",
       "      <td>10.66</td>\n",
       "    </tr>\n",
       "    <tr>\n",
       "      <th>2</th>\n",
       "      <td>1991-02-28</td>\n",
       "      <td>11.02</td>\n",
       "    </tr>\n",
       "    <tr>\n",
       "      <th>3</th>\n",
       "      <td>1991-03-31</td>\n",
       "      <td>11.21</td>\n",
       "    </tr>\n",
       "    <tr>\n",
       "      <th>4</th>\n",
       "      <td>1991-04-30</td>\n",
       "      <td>11.38</td>\n",
       "    </tr>\n",
       "    <tr>\n",
       "      <th>...</th>\n",
       "      <td>...</td>\n",
       "      <td>...</td>\n",
       "    </tr>\n",
       "    <tr>\n",
       "      <th>363</th>\n",
       "      <td>2021-03-31</td>\n",
       "      <td>130.41</td>\n",
       "    </tr>\n",
       "    <tr>\n",
       "      <th>364</th>\n",
       "      <td>2021-04-30</td>\n",
       "      <td>131.21</td>\n",
       "    </tr>\n",
       "    <tr>\n",
       "      <th>365</th>\n",
       "      <td>2021-05-31</td>\n",
       "      <td>132.90</td>\n",
       "    </tr>\n",
       "    <tr>\n",
       "      <th>366</th>\n",
       "      <td>2021-06-30</td>\n",
       "      <td>135.99</td>\n",
       "    </tr>\n",
       "    <tr>\n",
       "      <th>367</th>\n",
       "      <td>2021-07-31</td>\n",
       "      <td>140.77</td>\n",
       "    </tr>\n",
       "  </tbody>\n",
       "</table>\n",
       "<p>368 rows × 2 columns</p>\n",
       "</div>"
      ],
      "text/plain": [
       "         Fecha  ipc_importado\n",
       "0   1990-12-31           9.68\n",
       "1   1991-01-31          10.66\n",
       "2   1991-02-28          11.02\n",
       "3   1991-03-31          11.21\n",
       "4   1991-04-30          11.38\n",
       "..         ...            ...\n",
       "363 2021-03-31         130.41\n",
       "364 2021-04-30         131.21\n",
       "365 2021-05-31         132.90\n",
       "366 2021-06-30         135.99\n",
       "367 2021-07-31         140.77\n",
       "\n",
       "[368 rows x 2 columns]"
      ]
     },
     "execution_count": 373,
     "metadata": {},
     "output_type": "execute_result"
    }
   ],
   "source": [
    "url = 'https://estadisticas.bcrp.gob.pe/estadisticas/series/mensuales/resultados/PN09815PM/html'\n",
    "requests.post(url=url, verify=False)\n",
    "html = requests.get(url,verify=False).content\n",
    "df_list = pd.read_html(html)\n",
    "importado = df_list[-1] #este es el dataframe del banco\n",
    "importado['Fecha'] = pd.date_range(start='12/1/1990', end='8/1/2021', freq='M')\n",
    "importado.rename(columns={ importado.columns[1]: \"ipc_importado\" }, inplace = True)\n",
    "importado"
   ]
  },
  {
   "cell_type": "code",
   "execution_count": 374,
   "metadata": {},
   "outputs": [
    {
     "data": {
      "text/html": [
       "<div>\n",
       "<style scoped>\n",
       "    .dataframe tbody tr th:only-of-type {\n",
       "        vertical-align: middle;\n",
       "    }\n",
       "\n",
       "    .dataframe tbody tr th {\n",
       "        vertical-align: top;\n",
       "    }\n",
       "\n",
       "    .dataframe thead th {\n",
       "        text-align: right;\n",
       "    }\n",
       "</style>\n",
       "<table border=\"1\" class=\"dataframe\">\n",
       "  <thead>\n",
       "    <tr style=\"text-align: right;\">\n",
       "      <th></th>\n",
       "      <th>Fecha</th>\n",
       "      <th>ipc_importado</th>\n",
       "      <th>inf_importado</th>\n",
       "    </tr>\n",
       "  </thead>\n",
       "  <tbody>\n",
       "    <tr>\n",
       "      <th>193</th>\n",
       "      <td>2007-01-31</td>\n",
       "      <td>93.91</td>\n",
       "      <td>0.002562</td>\n",
       "    </tr>\n",
       "    <tr>\n",
       "      <th>194</th>\n",
       "      <td>2007-02-28</td>\n",
       "      <td>93.59</td>\n",
       "      <td>-0.003408</td>\n",
       "    </tr>\n",
       "    <tr>\n",
       "      <th>195</th>\n",
       "      <td>2007-03-31</td>\n",
       "      <td>93.73</td>\n",
       "      <td>0.001496</td>\n",
       "    </tr>\n",
       "    <tr>\n",
       "      <th>196</th>\n",
       "      <td>2007-04-30</td>\n",
       "      <td>93.86</td>\n",
       "      <td>0.001387</td>\n",
       "    </tr>\n",
       "    <tr>\n",
       "      <th>197</th>\n",
       "      <td>2007-05-31</td>\n",
       "      <td>95.13</td>\n",
       "      <td>0.013531</td>\n",
       "    </tr>\n",
       "    <tr>\n",
       "      <th>...</th>\n",
       "      <td>...</td>\n",
       "      <td>...</td>\n",
       "      <td>...</td>\n",
       "    </tr>\n",
       "    <tr>\n",
       "      <th>363</th>\n",
       "      <td>2021-03-31</td>\n",
       "      <td>130.41</td>\n",
       "      <td>0.012500</td>\n",
       "    </tr>\n",
       "    <tr>\n",
       "      <th>364</th>\n",
       "      <td>2021-04-30</td>\n",
       "      <td>131.21</td>\n",
       "      <td>0.006134</td>\n",
       "    </tr>\n",
       "    <tr>\n",
       "      <th>365</th>\n",
       "      <td>2021-05-31</td>\n",
       "      <td>132.90</td>\n",
       "      <td>0.012880</td>\n",
       "    </tr>\n",
       "    <tr>\n",
       "      <th>366</th>\n",
       "      <td>2021-06-30</td>\n",
       "      <td>135.99</td>\n",
       "      <td>0.023251</td>\n",
       "    </tr>\n",
       "    <tr>\n",
       "      <th>367</th>\n",
       "      <td>2021-07-31</td>\n",
       "      <td>140.77</td>\n",
       "      <td>0.035150</td>\n",
       "    </tr>\n",
       "  </tbody>\n",
       "</table>\n",
       "<p>175 rows × 3 columns</p>\n",
       "</div>"
      ],
      "text/plain": [
       "         Fecha  ipc_importado  inf_importado\n",
       "193 2007-01-31          93.91       0.002562\n",
       "194 2007-02-28          93.59      -0.003408\n",
       "195 2007-03-31          93.73       0.001496\n",
       "196 2007-04-30          93.86       0.001387\n",
       "197 2007-05-31          95.13       0.013531\n",
       "..         ...            ...            ...\n",
       "363 2021-03-31         130.41       0.012500\n",
       "364 2021-04-30         131.21       0.006134\n",
       "365 2021-05-31         132.90       0.012880\n",
       "366 2021-06-30         135.99       0.023251\n",
       "367 2021-07-31         140.77       0.035150\n",
       "\n",
       "[175 rows x 3 columns]"
      ]
     },
     "execution_count": 374,
     "metadata": {},
     "output_type": "execute_result"
    }
   ],
   "source": [
    "importado['inf_importado']=importado['ipc_importado'].astype(float).pct_change()\n",
    "start_date = \"2007-1-31\"\n",
    "after_start_date  = importado[\"Fecha\"] >= start_date\n",
    "importado=importado.loc[after_start_date]\n",
    "importado"
   ]
  },
  {
   "cell_type": "code",
   "execution_count": 342,
   "metadata": {},
   "outputs": [
    {
     "data": {
      "text/plain": [
       "<matplotlib.axes._subplots.AxesSubplot at 0x17d87d94d30>"
      ]
     },
     "execution_count": 342,
     "metadata": {},
     "output_type": "execute_result"
    },
    {
     "data": {
      "image/png": "[encoded data removed]",
      "text/plain": [
       "<Figure size 576x288 with 1 Axes>"
      ]
     },
     "metadata": {},
     "output_type": "display_data"
    }
   ],
   "source": [
    "sns.distplot(importado[\"inf_importado\"])"
   ]
  },
  {
   "cell_type": "code",
   "execution_count": 346,
   "metadata": {},
   "outputs": [
    {
     "name": "stderr",
     "output_type": "stream",
     "text": [
      "C:\\Users\\Leonela\\anaconda3\\lib\\site-packages\\scipy\\stats\\_distn_infrastructure.py:2429: RuntimeWarning:\n",
      "\n",
      "invalid value encountered in double_scalars\n",
      "\n",
      "C:\\Users\\Leonela\\anaconda3\\lib\\site-packages\\scipy\\stats\\_continuous_distns.py:496: RuntimeWarning:\n",
      "\n",
      "divide by zero encountered in true_divide\n",
      "\n",
      "C:\\Users\\Leonela\\anaconda3\\lib\\site-packages\\scipy\\stats\\_continuous_distns.py:621: RuntimeWarning:\n",
      "\n",
      "invalid value encountered in sqrt\n",
      "\n",
      "C:\\Users\\Leonela\\anaconda3\\lib\\site-packages\\scipy\\optimize\\minpack.py:175: RuntimeWarning:\n",
      "\n",
      "The iteration is not making good progress, as measured by the \n",
      "  improvement from the last ten iterations.\n",
      "\n",
      "C:\\Users\\Leonela\\anaconda3\\lib\\site-packages\\scipy\\stats\\_continuous_distns.py:781: RuntimeWarning:\n",
      "\n",
      "divide by zero encountered in true_divide\n",
      "\n",
      "C:\\Users\\Leonela\\anaconda3\\lib\\site-packages\\scipy\\stats\\_continuous_distns.py:785: RuntimeWarning:\n",
      "\n",
      "divide by zero encountered in true_divide\n",
      "\n",
      "C:\\Users\\Leonela\\anaconda3\\lib\\site-packages\\scipy\\stats\\_continuous_distns.py:2958: RuntimeWarning:\n",
      "\n",
      "The shape parameter of the erlang distribution has been given a non-integer value 98.7.\n",
      "\n",
      "C:\\Users\\Leonela\\anaconda3\\lib\\site-packages\\scipy\\stats\\_continuous_distns.py:2958: RuntimeWarning:\n",
      "\n",
      "The shape parameter of the erlang distribution has been given a non-integer value 89.3.\n",
      "\n",
      "C:\\Users\\Leonela\\anaconda3\\lib\\site-packages\\scipy\\stats\\_continuous_distns.py:2958: RuntimeWarning:\n",
      "\n",
      "The shape parameter of the erlang distribution has been given a non-integer value 91.65.\n",
      "\n",
      "C:\\Users\\Leonela\\anaconda3\\lib\\site-packages\\scipy\\stats\\_continuous_distns.py:2958: RuntimeWarning:\n",
      "\n",
      "The shape parameter of the erlang distribution has been given a non-integer value 92.43333333333331.\n",
      "\n",
      "C:\\Users\\Leonela\\anaconda3\\lib\\site-packages\\scipy\\stats\\_continuous_distns.py:2958: RuntimeWarning:\n",
      "\n",
      "The shape parameter of the erlang distribution has been given a non-integer value 93.60833333333332.\n",
      "\n",
      "C:\\Users\\Leonela\\anaconda3\\lib\\site-packages\\scipy\\stats\\_continuous_distns.py:2958: RuntimeWarning:\n",
      "\n",
      "The shape parameter of the erlang distribution has been given a non-integer value 92.17222222222222.\n",
      "\n",
      "C:\\Users\\Leonela\\anaconda3\\lib\\site-packages\\scipy\\stats\\_continuous_distns.py:2958: RuntimeWarning:\n",
      "\n",
      "The shape parameter of the erlang distribution has been given a non-integer value 92.62916666666666.\n",
      "\n",
      "C:\\Users\\Leonela\\anaconda3\\lib\\site-packages\\scipy\\stats\\_continuous_distns.py:2958: RuntimeWarning:\n",
      "\n",
      "The shape parameter of the erlang distribution has been given a non-integer value 95.17499999999995.\n",
      "\n",
      "C:\\Users\\Leonela\\anaconda3\\lib\\site-packages\\scipy\\stats\\_continuous_distns.py:2958: RuntimeWarning:\n",
      "\n",
      "The shape parameter of the erlang distribution has been given a non-integer value 92.53125.\n",
      "\n",
      "C:\\Users\\Leonela\\anaconda3\\lib\\site-packages\\scipy\\stats\\_continuous_distns.py:2958: RuntimeWarning:\n",
      "\n",
      "The shape parameter of the erlang distribution has been given a non-integer value 94.13055555555556.\n",
      "\n",
      "C:\\Users\\Leonela\\anaconda3\\lib\\site-packages\\scipy\\stats\\_continuous_distns.py:2958: RuntimeWarning:\n",
      "\n",
      "The shape parameter of the erlang distribution has been given a non-integer value 93.75520833333334.\n",
      "\n",
      "C:\\Users\\Leonela\\anaconda3\\lib\\site-packages\\scipy\\stats\\_continuous_distns.py:2958: RuntimeWarning:\n",
      "\n",
      "The shape parameter of the erlang distribution has been given a non-integer value 93.2493055555556.\n",
      "\n",
      "C:\\Users\\Leonela\\anaconda3\\lib\\site-packages\\scipy\\stats\\_continuous_distns.py:2958: RuntimeWarning:\n",
      "\n",
      "The shape parameter of the erlang distribution has been given a non-integer value 93.51857638888889.\n",
      "\n",
      "C:\\Users\\Leonela\\anaconda3\\lib\\site-packages\\scipy\\stats\\_continuous_distns.py:2958: RuntimeWarning:\n",
      "\n",
      "The shape parameter of the erlang distribution has been given a non-integer value 94.98460648148148.\n",
      "\n",
      "C:\\Users\\Leonela\\anaconda3\\lib\\site-packages\\scipy\\stats\\_continuous_distns.py:2958: RuntimeWarning:\n",
      "\n",
      "The shape parameter of the erlang distribution has been given a non-integer value 93.14458912037037.\n",
      "\n",
      "C:\\Users\\Leonela\\anaconda3\\lib\\site-packages\\scipy\\stats\\_continuous_distns.py:2958: RuntimeWarning:\n",
      "\n",
      "The shape parameter of the erlang distribution has been given a non-integer value 92.9455825617284.\n",
      "\n",
      "C:\\Users\\Leonela\\anaconda3\\lib\\site-packages\\scipy\\stats\\_continuous_distns.py:2958: RuntimeWarning:\n",
      "\n",
      "The shape parameter of the erlang distribution has been given a non-integer value 92.41837384259259.\n",
      "\n",
      "C:\\Users\\Leonela\\anaconda3\\lib\\site-packages\\scipy\\stats\\_continuous_distns.py:2958: RuntimeWarning:\n",
      "\n",
      "The shape parameter of the erlang distribution has been given a non-integer value 92.65062371399176.\n",
      "\n",
      "C:\\Users\\Leonela\\anaconda3\\lib\\site-packages\\scipy\\stats\\_continuous_distns.py:2958: RuntimeWarning:\n",
      "\n",
      "The shape parameter of the erlang distribution has been given a non-integer value 92.30862054183815.\n",
      "\n",
      "C:\\Users\\Leonela\\anaconda3\\lib\\site-packages\\scipy\\stats\\_continuous_distns.py:2958: RuntimeWarning:\n",
      "\n",
      "The shape parameter of the erlang distribution has been given a non-integer value 93.21608742712621.\n",
      "\n",
      "C:\\Users\\Leonela\\anaconda3\\lib\\site-packages\\scipy\\stats\\_continuous_distns.py:2958: RuntimeWarning:\n",
      "\n",
      "The shape parameter of the erlang distribution has been given a non-integer value 92.73027334819389.\n",
      "\n",
      "C:\\Users\\Leonela\\anaconda3\\lib\\site-packages\\scipy\\stats\\_continuous_distns.py:2958: RuntimeWarning:\n",
      "\n",
      "The shape parameter of the erlang distribution has been given a non-integer value 93.27733851070721.\n",
      "\n",
      "C:\\Users\\Leonela\\anaconda3\\lib\\site-packages\\scipy\\stats\\_continuous_distns.py:2958: RuntimeWarning:\n",
      "\n",
      "The shape parameter of the erlang distribution has been given a non-integer value 93.59069590906495.\n",
      "\n",
      "C:\\Users\\Leonela\\anaconda3\\lib\\site-packages\\scipy\\stats\\_continuous_distns.py:2958: RuntimeWarning:\n",
      "\n",
      "The shape parameter of the erlang distribution has been given a non-integer value 92.75270885329348.\n",
      "\n",
      "C:\\Users\\Leonela\\anaconda3\\lib\\site-packages\\scipy\\stats\\_continuous_distns.py:2958: RuntimeWarning:\n",
      "\n",
      "The shape parameter of the erlang distribution has been given a non-integer value 92.5210195663771.\n",
      "\n",
      "C:\\Users\\Leonela\\anaconda3\\lib\\site-packages\\scipy\\stats\\_continuous_distns.py:2958: RuntimeWarning:\n",
      "\n",
      "The shape parameter of the erlang distribution has been given a non-integer value 93.2534799356255.\n",
      "\n",
      "C:\\Users\\Leonela\\anaconda3\\lib\\site-packages\\scipy\\stats\\_continuous_distns.py:2958: RuntimeWarning:\n",
      "\n",
      "The shape parameter of the erlang distribution has been given a non-integer value 92.8610749950518.\n",
      "\n",
      "C:\\Users\\Leonela\\anaconda3\\lib\\site-packages\\scipy\\stats\\_continuous_distns.py:2958: RuntimeWarning:\n",
      "\n",
      "The shape parameter of the erlang distribution has been given a non-integer value 92.98183234430658.\n",
      "\n",
      "C:\\Users\\Leonela\\anaconda3\\lib\\site-packages\\scipy\\stats\\_continuous_distns.py:2958: RuntimeWarning:\n",
      "\n",
      "The shape parameter of the erlang distribution has been given a non-integer value 92.99995723559567.\n",
      "\n",
      "C:\\Users\\Leonela\\anaconda3\\lib\\site-packages\\scipy\\stats\\_continuous_distns.py:2958: RuntimeWarning:\n",
      "\n",
      "The shape parameter of the erlang distribution has been given a non-integer value 92.45307228439401.\n",
      "\n",
      "C:\\Users\\Leonela\\anaconda3\\lib\\site-packages\\scipy\\stats\\_continuous_distns.py:2958: RuntimeWarning:\n",
      "\n",
      "The shape parameter of the erlang distribution has been given a non-integer value 92.04093917123743.\n",
      "\n",
      "C:\\Users\\Leonela\\anaconda3\\lib\\site-packages\\scipy\\stats\\_continuous_distns.py:2958: RuntimeWarning:\n",
      "\n",
      "The shape parameter of the erlang distribution has been given a non-integer value 92.59733399294423.\n",
      "\n",
      "C:\\Users\\Leonela\\anaconda3\\lib\\site-packages\\scipy\\stats\\_continuous_distns.py:2958: RuntimeWarning:\n",
      "\n",
      "The shape parameter of the erlang distribution has been given a non-integer value 92.46546349189046.\n",
      "\n",
      "C:\\Users\\Leonela\\anaconda3\\lib\\site-packages\\scipy\\stats\\_continuous_distns.py:2958: RuntimeWarning:\n",
      "\n",
      "The shape parameter of the erlang distribution has been given a non-integer value 92.60211689446976.\n",
      "\n",
      "C:\\Users\\Leonela\\anaconda3\\lib\\site-packages\\scipy\\stats\\_continuous_distns.py:2958: RuntimeWarning:\n",
      "\n",
      "The shape parameter of the erlang distribution has been given a non-integer value 92.71506086358755.\n",
      "\n",
      "C:\\Users\\Leonela\\anaconda3\\lib\\site-packages\\scipy\\stats\\_continuous_distns.py:2958: RuntimeWarning:\n",
      "\n",
      "The shape parameter of the erlang distribution has been given a non-integer value 92.19514574964396.\n",
      "\n",
      "C:\\Users\\Leonela\\anaconda3\\lib\\site-packages\\scipy\\stats\\_continuous_distns.py:2958: RuntimeWarning:\n",
      "\n",
      "The shape parameter of the erlang distribution has been given a non-integer value 92.55195478638981.\n",
      "\n",
      "C:\\Users\\Leonela\\anaconda3\\lib\\site-packages\\scipy\\stats\\_continuous_distns.py:2958: RuntimeWarning:\n",
      "\n",
      "The shape parameter of the erlang distribution has been given a non-integer value 92.47779290989297.\n",
      "\n",
      "C:\\Users\\Leonela\\anaconda3\\lib\\site-packages\\scipy\\stats\\_continuous_distns.py:2958: RuntimeWarning:\n",
      "\n",
      "The shape parameter of the erlang distribution has been given a non-integer value 92.13178757139988.\n",
      "\n",
      "C:\\Users\\Leonela\\anaconda3\\lib\\site-packages\\scipy\\stats\\_continuous_distns.py:2958: RuntimeWarning:\n",
      "\n",
      "The shape parameter of the erlang distribution has been given a non-integer value 92.60946389984741.\n",
      "\n",
      "C:\\Users\\Leonela\\anaconda3\\lib\\site-packages\\scipy\\stats\\_continuous_distns.py:2958: RuntimeWarning:\n",
      "\n",
      "The shape parameter of the erlang distribution has been given a non-integer value 92.41459739956804.\n",
      "\n",
      "C:\\Users\\Leonela\\anaconda3\\lib\\site-packages\\scipy\\stats\\_continuous_distns.py:2958: RuntimeWarning:\n",
      "\n",
      "The shape parameter of the erlang distribution has been given a non-integer value 92.38299964440557.\n",
      "\n",
      "C:\\Users\\Leonela\\anaconda3\\lib\\site-packages\\scipy\\stats\\_continuous_distns.py:2958: RuntimeWarning:\n",
      "\n",
      "The shape parameter of the erlang distribution has been given a non-integer value 92.94914262350659.\n",
      "\n",
      "C:\\Users\\Leonela\\anaconda3\\lib\\site-packages\\scipy\\stats\\_continuous_distns.py:2958: RuntimeWarning:\n",
      "\n",
      "The shape parameter of the erlang distribution has been given a non-integer value 93.35782014955993.\n",
      "\n",
      "C:\\Users\\Leonela\\anaconda3\\lib\\site-packages\\scipy\\stats\\_continuous_distns.py:2958: RuntimeWarning:\n",
      "\n",
      "The shape parameter of the erlang distribution has been given a non-integer value 92.97037046153406.\n",
      "\n",
      "C:\\Users\\Leonela\\anaconda3\\lib\\site-packages\\scipy\\stats\\_continuous_distns.py:2958: RuntimeWarning:\n",
      "\n",
      "The shape parameter of the erlang distribution has been given a non-integer value 93.23119134749713.\n",
      "\n",
      "C:\\Users\\Leonela\\anaconda3\\lib\\site-packages\\scipy\\stats\\_continuous_distns.py:2958: RuntimeWarning:\n",
      "\n",
      "The shape parameter of the erlang distribution has been given a non-integer value 93.54812002477357.\n",
      "\n",
      "C:\\Users\\Leonela\\anaconda3\\lib\\site-packages\\scipy\\stats\\_continuous_distns.py:2958: RuntimeWarning:\n",
      "\n",
      "The shape parameter of the erlang distribution has been given a non-integer value 94.16960969101032.\n",
      "\n",
      "C:\\Users\\Leonela\\anaconda3\\lib\\site-packages\\scipy\\stats\\_continuous_distns.py:2958: RuntimeWarning:\n",
      "\n",
      "The shape parameter of the erlang distribution has been given a non-integer value 94.41332944869515.\n",
      "\n",
      "C:\\Users\\Leonela\\anaconda3\\lib\\site-packages\\scipy\\stats\\_continuous_distns.py:2958: RuntimeWarning:\n",
      "\n",
      "The shape parameter of the erlang distribution has been given a non-integer value 94.72955262675944.\n",
      "\n",
      "C:\\Users\\Leonela\\anaconda3\\lib\\site-packages\\scipy\\stats\\_continuous_distns.py:2958: RuntimeWarning:\n",
      "\n",
      "The shape parameter of the erlang distribution has been given a non-integer value 95.41541886535919.\n",
      "\n",
      "C:\\Users\\Leonela\\anaconda3\\lib\\site-packages\\scipy\\stats\\_continuous_distns.py:2958: RuntimeWarning:\n",
      "\n",
      "The shape parameter of the erlang distribution has been given a non-integer value 94.74830253487494.\n",
      "\n",
      "C:\\Users\\Leonela\\anaconda3\\lib\\site-packages\\scipy\\stats\\_continuous_distns.py:2958: RuntimeWarning:\n",
      "\n",
      "The shape parameter of the erlang distribution has been given a non-integer value 94.72789816797666.\n",
      "\n",
      "C:\\Users\\Leonela\\anaconda3\\lib\\site-packages\\scipy\\stats\\_continuous_distns.py:2958: RuntimeWarning:\n",
      "\n",
      "The shape parameter of the erlang distribution has been given a non-integer value 96.37962635403363.\n",
      "\n",
      "C:\\Users\\Leonela\\anaconda3\\lib\\site-packages\\scipy\\stats\\_continuous_distns.py:2958: RuntimeWarning:\n",
      "\n",
      "The shape parameter of the erlang distribution has been given a non-integer value 97.79537951866365.\n",
      "\n",
      "C:\\Users\\Leonela\\anaconda3\\lib\\site-packages\\scipy\\stats\\_continuous_distns.py:2958: RuntimeWarning:\n",
      "\n",
      "The shape parameter of the erlang distribution has been given a non-integer value 97.24483577795519.\n",
      "\n",
      "C:\\Users\\Leonela\\anaconda3\\lib\\site-packages\\scipy\\stats\\_continuous_distns.py:2958: RuntimeWarning:\n",
      "\n",
      "The shape parameter of the erlang distribution has been given a non-integer value 98.88878690644376.\n",
      "\n",
      "C:\\Users\\Leonela\\anaconda3\\lib\\site-packages\\scipy\\stats\\_continuous_distns.py:2958: RuntimeWarning:\n",
      "\n",
      "The shape parameter of the erlang distribution has been given a non-integer value 100.95902909222815.\n",
      "\n",
      "C:\\Users\\Leonela\\anaconda3\\lib\\site-packages\\scipy\\stats\\_continuous_distns.py:2958: RuntimeWarning:\n",
      "\n",
      "The shape parameter of the erlang distribution has been given a non-integer value 100.5372492700159.\n",
      "\n",
      "C:\\Users\\Leonela\\anaconda3\\lib\\site-packages\\scipy\\stats\\_continuous_distns.py:2958: RuntimeWarning:\n",
      "\n",
      "The shape parameter of the erlang distribution has been given a non-integer value 103.09816447234425.\n",
      "\n",
      "C:\\Users\\Leonela\\anaconda3\\lib\\site-packages\\scipy\\stats\\_continuous_distns.py:2958: RuntimeWarning:\n",
      "\n",
      "The shape parameter of the erlang distribution has been given a non-integer value 102.61005148701256.\n",
      "\n",
      "C:\\Users\\Leonela\\anaconda3\\lib\\site-packages\\scipy\\stats\\_continuous_distns.py:2958: RuntimeWarning:\n",
      "\n",
      "The shape parameter of the erlang distribution has been given a non-integer value 105.26928905853671.\n",
      "\n",
      "C:\\Users\\Leonela\\anaconda3\\lib\\site-packages\\scipy\\stats\\_continuous_distns.py:2958: RuntimeWarning:\n",
      "\n",
      "The shape parameter of the erlang distribution has been given a non-integer value 108.42954977215192.\n",
      "\n",
      "C:\\Users\\Leonela\\anaconda3\\lib\\site-packages\\scipy\\stats\\_continuous_distns.py:2958: RuntimeWarning:\n",
      "\n",
      "The shape parameter of the erlang distribution has been given a non-integer value 104.15588809580242.\n",
      "\n",
      "C:\\Users\\Leonela\\anaconda3\\lib\\site-packages\\scipy\\stats\\_continuous_distns.py:2958: RuntimeWarning:\n",
      "\n",
      "The shape parameter of the erlang distribution has been given a non-integer value 98.14651959795427.\n",
      "\n",
      "C:\\Users\\Leonela\\anaconda3\\lib\\site-packages\\scipy\\stats\\_continuous_distns.py:2958: RuntimeWarning:\n",
      "\n",
      "The shape parameter of the erlang distribution has been given a non-integer value 105.85879222860251.\n",
      "\n",
      "C:\\Users\\Leonela\\anaconda3\\lib\\site-packages\\scipy\\stats\\_continuous_distns.py:2958: RuntimeWarning:\n",
      "\n",
      "The shape parameter of the erlang distribution has been given a non-integer value 106.13184504415358.\n",
      "\n",
      "C:\\Users\\Leonela\\anaconda3\\lib\\site-packages\\scipy\\stats\\_continuous_distns.py:2958: RuntimeWarning:\n",
      "\n",
      "The shape parameter of the erlang distribution has been given a non-integer value 107.89274182272408.\n",
      "\n",
      "C:\\Users\\Leonela\\anaconda3\\lib\\site-packages\\scipy\\stats\\_continuous_distns.py:2958: RuntimeWarning:\n",
      "\n",
      "The shape parameter of the erlang distribution has been given a non-integer value 107.07724425331148.\n",
      "\n",
      "C:\\Users\\Leonela\\anaconda3\\lib\\site-packages\\scipy\\stats\\_continuous_distns.py:2958: RuntimeWarning:\n",
      "\n",
      "The shape parameter of the erlang distribution has been given a non-integer value 106.18664147031734.\n",
      "\n",
      "C:\\Users\\Leonela\\anaconda3\\lib\\site-packages\\scipy\\stats\\_continuous_distns.py:2958: RuntimeWarning:\n",
      "\n",
      "The shape parameter of the erlang distribution has been given a non-integer value 106.35056609117476.\n",
      "\n",
      "C:\\Users\\Leonela\\anaconda3\\lib\\site-packages\\scipy\\stats\\_continuous_distns.py:2958: RuntimeWarning:\n",
      "\n",
      "The shape parameter of the erlang distribution has been given a non-integer value 111.11553697246259.\n",
      "\n",
      "C:\\Users\\Leonela\\anaconda3\\lib\\site-packages\\scipy\\stats\\_continuous_distns.py:2958: RuntimeWarning:\n",
      "\n",
      "The shape parameter of the erlang distribution has been given a non-integer value 109.82865233759617.\n",
      "\n",
      "C:\\Users\\Leonela\\anaconda3\\lib\\site-packages\\scipy\\stats\\_continuous_distns.py:2958: RuntimeWarning:\n",
      "\n",
      "The shape parameter of the erlang distribution has been given a non-integer value 111.2043563797385.\n",
      "\n",
      "C:\\Users\\Leonela\\anaconda3\\lib\\site-packages\\scipy\\stats\\_continuous_distns.py:2958: RuntimeWarning:\n",
      "\n",
      "The shape parameter of the erlang distribution has been given a non-integer value 111.22089780619316.\n",
      "\n",
      "C:\\Users\\Leonela\\anaconda3\\lib\\site-packages\\scipy\\stats\\_continuous_distns.py:2958: RuntimeWarning:\n",
      "\n",
      "The shape parameter of the erlang distribution has been given a non-integer value 108.06834321227501.\n",
      "\n",
      "C:\\Users\\Leonela\\anaconda3\\lib\\site-packages\\scipy\\stats\\_continuous_distns.py:2958: RuntimeWarning:\n",
      "\n",
      "The shape parameter of the erlang distribution has been given a non-integer value 110.35373853241569.\n",
      "\n",
      "C:\\Users\\Leonela\\anaconda3\\lib\\site-packages\\scipy\\stats\\_continuous_distns.py:2958: RuntimeWarning:\n",
      "\n",
      "The shape parameter of the erlang distribution has been given a non-integer value 115.5020957210568.\n",
      "\n",
      "C:\\Users\\Leonela\\anaconda3\\lib\\site-packages\\scipy\\stats\\_continuous_distns.py:2958: RuntimeWarning:\n",
      "\n",
      "The shape parameter of the erlang distribution has been given a non-integer value 120.07786053599784.\n",
      "\n",
      "C:\\Users\\Leonela\\anaconda3\\lib\\site-packages\\scipy\\stats\\_continuous_distns.py:2958: RuntimeWarning:\n",
      "\n",
      "The shape parameter of the erlang distribution has been given a non-integer value 114.93116140557663.\n",
      "\n",
      "C:\\Users\\Leonela\\anaconda3\\lib\\site-packages\\scipy\\stats\\_continuous_distns.py:2958: RuntimeWarning:\n",
      "\n",
      "The shape parameter of the erlang distribution has been given a non-integer value 117.21987284215709.\n",
      "\n",
      "C:\\Users\\Leonela\\anaconda3\\lib\\site-packages\\scipy\\stats\\_continuous_distns.py:2958: RuntimeWarning:\n",
      "\n",
      "The shape parameter of the erlang distribution has been given a non-integer value 118.06331882244177.\n",
      "\n",
      "C:\\Users\\Leonela\\anaconda3\\lib\\site-packages\\scipy\\stats\\_continuous_distns.py:2958: RuntimeWarning:\n",
      "\n",
      "The shape parameter of the erlang distribution has been given a non-integer value 122.6525018773653.\n",
      "\n",
      "C:\\Users\\Leonela\\anaconda3\\lib\\site-packages\\scipy\\stats\\_continuous_distns.py:2958: RuntimeWarning:\n",
      "\n",
      "The shape parameter of the erlang distribution has been given a non-integer value 128.3765746261787.\n",
      "\n",
      "C:\\Users\\Leonela\\anaconda3\\lib\\site-packages\\scipy\\stats\\_continuous_distns.py:2958: RuntimeWarning:\n",
      "\n",
      "The shape parameter of the erlang distribution has been given a non-integer value 118.85299480461103.\n",
      "\n",
      "C:\\Users\\Leonela\\anaconda3\\lib\\site-packages\\scipy\\stats\\_continuous_distns.py:2958: RuntimeWarning:\n",
      "\n",
      "The shape parameter of the erlang distribution has been given a non-integer value 118.26073781798408.\n",
      "\n",
      "C:\\Users\\Leonela\\anaconda3\\lib\\site-packages\\scipy\\stats\\_continuous_distns.py:2958: RuntimeWarning:\n",
      "\n",
      "The shape parameter of the erlang distribution has been given a non-integer value 123.25331263728083.\n",
      "\n",
      "C:\\Users\\Leonela\\anaconda3\\lib\\site-packages\\scipy\\stats\\_continuous_distns.py:2958: RuntimeWarning:\n",
      "\n",
      "The shape parameter of the erlang distribution has been given a non-integer value 127.12892109539285.\n",
      "\n",
      "C:\\Users\\Leonela\\anaconda3\\lib\\site-packages\\scipy\\stats\\_continuous_distns.py:2958: RuntimeWarning:\n",
      "\n",
      "The shape parameter of the erlang distribution has been given a non-integer value 126.40679272529275.\n",
      "\n",
      "C:\\Users\\Leonela\\anaconda3\\lib\\site-packages\\scipy\\stats\\_continuous_distns.py:2958: RuntimeWarning:\n",
      "\n",
      "The shape parameter of the erlang distribution has been given a non-integer value 133.57227095654352.\n",
      "\n",
      "C:\\Users\\Leonela\\anaconda3\\lib\\site-packages\\scipy\\stats\\_continuous_distns.py:2958: RuntimeWarning:\n",
      "\n",
      "The shape parameter of the erlang distribution has been given a non-integer value 121.3079723707537.\n",
      "\n",
      "C:\\Users\\Leonela\\anaconda3\\lib\\site-packages\\scipy\\stats\\_continuous_distns.py:2958: RuntimeWarning:\n",
      "\n",
      "The shape parameter of the erlang distribution has been given a non-integer value 127.24328891692758.\n",
      "\n",
      "C:\\Users\\Leonela\\anaconda3\\lib\\site-packages\\scipy\\stats\\_continuous_distns.py:2958: RuntimeWarning:\n",
      "\n",
      "The shape parameter of the erlang distribution has been given a non-integer value 132.5446961209884.\n",
      "\n",
      "C:\\Users\\Leonela\\anaconda3\\lib\\site-packages\\scipy\\stats\\_continuous_distns.py:2958: RuntimeWarning:\n",
      "\n",
      "The shape parameter of the erlang distribution has been given a non-integer value 138.16305799610575.\n",
      "\n",
      "C:\\Users\\Leonela\\anaconda3\\lib\\site-packages\\scipy\\stats\\_continuous_distns.py:2958: RuntimeWarning:\n",
      "\n",
      "The shape parameter of the erlang distribution has been given a non-integer value 131.53781136357975.\n",
      "\n",
      "C:\\Users\\Leonela\\anaconda3\\lib\\site-packages\\scipy\\stats\\_continuous_distns.py:2958: RuntimeWarning:\n",
      "\n",
      "The shape parameter of the erlang distribution has been given a non-integer value 133.5643301363797.\n",
      "\n",
      "C:\\Users\\Leonela\\anaconda3\\lib\\site-packages\\scipy\\stats\\_continuous_distns.py:2958: RuntimeWarning:\n",
      "\n",
      "The shape parameter of the erlang distribution has been given a non-integer value 136.7248507461058.\n",
      "\n",
      "C:\\Users\\Leonela\\anaconda3\\lib\\site-packages\\scipy\\stats\\_continuous_distns.py:2958: RuntimeWarning:\n",
      "\n",
      "The shape parameter of the erlang distribution has been given a non-integer value 130.62082020492755.\n",
      "\n",
      "C:\\Users\\Leonela\\anaconda3\\lib\\site-packages\\scipy\\stats\\_continuous_distns.py:2958: RuntimeWarning:\n",
      "\n",
      "The shape parameter of the erlang distribution has been given a non-integer value 131.3085635739167.\n",
      "\n",
      "C:\\Users\\Leonela\\anaconda3\\lib\\site-packages\\scipy\\stats\\_continuous_distns.py:2958: RuntimeWarning:\n",
      "\n",
      "The shape parameter of the erlang distribution has been given a non-integer value 137.81613879213035.\n",
      "\n",
      "C:\\Users\\Leonela\\anaconda3\\lib\\site-packages\\scipy\\stats\\_continuous_distns.py:2958: RuntimeWarning:\n",
      "\n",
      "The shape parameter of the erlang distribution has been given a non-integer value 137.97487979241558.\n",
      "\n",
      "C:\\Users\\Leonela\\anaconda3\\lib\\site-packages\\scipy\\stats\\_continuous_distns.py:2958: RuntimeWarning:\n",
      "\n",
      "The shape parameter of the erlang distribution has been given a non-integer value 132.97514262854142.\n",
      "\n",
      "C:\\Users\\Leonela\\anaconda3\\lib\\site-packages\\scipy\\stats\\_continuous_distns.py:2958: RuntimeWarning:\n",
      "\n",
      "The shape parameter of the erlang distribution has been given a non-integer value 137.0257115837126.\n",
      "\n",
      "C:\\Users\\Leonela\\anaconda3\\lib\\site-packages\\scipy\\stats\\_continuous_distns.py:2958: RuntimeWarning:\n",
      "\n",
      "The shape parameter of the erlang distribution has been given a non-integer value 139.2662193150747.\n",
      "\n",
      "C:\\Users\\Leonela\\anaconda3\\lib\\site-packages\\scipy\\stats\\_continuous_distns.py:2958: RuntimeWarning:\n",
      "\n",
      "The shape parameter of the erlang distribution has been given a non-integer value 131.2273174402921.\n",
      "\n",
      "C:\\Users\\Leonela\\anaconda3\\lib\\site-packages\\scipy\\stats\\_continuous_distns.py:2958: RuntimeWarning:\n",
      "\n",
      "The shape parameter of the erlang distribution has been given a non-integer value 136.16893345417077.\n",
      "\n",
      "C:\\Users\\Leonela\\anaconda3\\lib\\site-packages\\scipy\\stats\\_continuous_distns.py:2958: RuntimeWarning:\n",
      "\n",
      "The shape parameter of the erlang distribution has been given a non-integer value 137.2155283079035.\n",
      "\n",
      "C:\\Users\\Leonela\\anaconda3\\lib\\site-packages\\scipy\\stats\\_continuous_distns.py:2958: RuntimeWarning:\n",
      "\n",
      "The shape parameter of the erlang distribution has been given a non-integer value 139.04112739366536.\n",
      "\n",
      "C:\\Users\\Leonela\\anaconda3\\lib\\site-packages\\scipy\\stats\\_continuous_distns.py:2958: RuntimeWarning:\n",
      "\n",
      "The shape parameter of the erlang distribution has been given a non-integer value 141.84870565915773.\n",
      "\n",
      "C:\\Users\\Leonela\\anaconda3\\lib\\site-packages\\scipy\\stats\\_continuous_distns.py:2958: RuntimeWarning:\n",
      "\n",
      "The shape parameter of the erlang distribution has been given a non-integer value 142.44142963685306.\n",
      "\n",
      "C:\\Users\\Leonela\\anaconda3\\lib\\site-packages\\scipy\\stats\\_continuous_distns.py:2958: RuntimeWarning:\n",
      "\n",
      "The shape parameter of the erlang distribution has been given a non-integer value 145.5776777281942.\n",
      "\n",
      "C:\\Users\\Leonela\\anaconda3\\lib\\site-packages\\scipy\\stats\\_continuous_distns.py:2958: RuntimeWarning:\n",
      "\n",
      "The shape parameter of the erlang distribution has been given a non-integer value 139.2476388112237.\n",
      "\n",
      "C:\\Users\\Leonela\\anaconda3\\lib\\site-packages\\scipy\\stats\\_continuous_distns.py:2958: RuntimeWarning:\n",
      "\n",
      "The shape parameter of the erlang distribution has been given a non-integer value 145.55191770500963.\n",
      "\n",
      "C:\\Users\\Leonela\\anaconda3\\lib\\site-packages\\scipy\\stats\\_continuous_distns.py:2958: RuntimeWarning:\n",
      "\n",
      "The shape parameter of the erlang distribution has been given a non-integer value 149.81502076565818.\n",
      "\n",
      "C:\\Users\\Leonela\\anaconda3\\lib\\site-packages\\scipy\\stats\\_continuous_distns.py:2958: RuntimeWarning:\n",
      "\n",
      "The shape parameter of the erlang distribution has been given a non-integer value 147.8770287692863.\n",
      "\n",
      "C:\\Users\\Leonela\\anaconda3\\lib\\site-packages\\scipy\\stats\\_continuous_distns.py:2958: RuntimeWarning:\n",
      "\n",
      "The shape parameter of the erlang distribution has been given a non-integer value 152.29497945709682.\n",
      "\n",
      "C:\\Users\\Leonela\\anaconda3\\lib\\site-packages\\scipy\\stats\\_continuous_distns.py:2958: RuntimeWarning:\n",
      "\n",
      "The shape parameter of the erlang distribution has been given a non-integer value 153.42344399043637.\n",
      "\n",
      "C:\\Users\\Leonela\\anaconda3\\lib\\site-packages\\scipy\\stats\\_continuous_distns.py:2958: RuntimeWarning:\n",
      "\n",
      "The shape parameter of the erlang distribution has been given a non-integer value 142.7915901060269.\n",
      "\n",
      "C:\\Users\\Leonela\\anaconda3\\lib\\site-packages\\scipy\\stats\\_continuous_distns.py:2958: RuntimeWarning:\n",
      "\n",
      "The shape parameter of the erlang distribution has been given a non-integer value 145.23601332535435.\n",
      "\n",
      "C:\\Users\\Leonela\\anaconda3\\lib\\site-packages\\scipy\\stats\\_continuous_distns.py:2958: RuntimeWarning:\n",
      "\n",
      "The shape parameter of the erlang distribution has been given a non-integer value 145.0651811239344.\n",
      "\n",
      "C:\\Users\\Leonela\\anaconda3\\lib\\site-packages\\scipy\\stats\\_continuous_distns.py:2958: RuntimeWarning:\n",
      "\n",
      "The shape parameter of the erlang distribution has been given a non-integer value 144.93728229448877.\n",
      "\n",
      "C:\\Users\\Leonela\\anaconda3\\lib\\site-packages\\scipy\\stats\\_continuous_distns.py:2958: RuntimeWarning:\n",
      "\n",
      "The shape parameter of the erlang distribution has been given a non-integer value 145.3982588523794.\n",
      "\n",
      "C:\\Users\\Leonela\\anaconda3\\lib\\site-packages\\scipy\\stats\\_continuous_distns.py:2958: RuntimeWarning:\n",
      "\n",
      "The shape parameter of the erlang distribution has been given a non-integer value 149.43538905770652.\n",
      "\n",
      "C:\\Users\\Leonela\\anaconda3\\lib\\site-packages\\scipy\\stats\\_continuous_distns.py:2958: RuntimeWarning:\n",
      "\n",
      "The shape parameter of the erlang distribution has been given a non-integer value 152.75728853354633.\n",
      "\n",
      "C:\\Users\\Leonela\\anaconda3\\lib\\site-packages\\scipy\\stats\\_continuous_distns.py:2958: RuntimeWarning:\n",
      "\n",
      "The shape parameter of the erlang distribution has been given a non-integer value 145.3888572533939.\n",
      "\n",
      "C:\\Users\\Leonela\\anaconda3\\lib\\site-packages\\scipy\\stats\\_continuous_distns.py:2958: RuntimeWarning:\n",
      "\n",
      "The shape parameter of the erlang distribution has been given a non-integer value 144.14477149544769.\n",
      "\n",
      "C:\\Users\\Leonela\\anaconda3\\lib\\site-packages\\scipy\\stats\\_continuous_distns.py:2958: RuntimeWarning:\n",
      "\n",
      "The shape parameter of the erlang distribution has been given a non-integer value 147.86135943764378.\n",
      "\n",
      "C:\\Users\\Leonela\\anaconda3\\lib\\site-packages\\scipy\\stats\\_continuous_distns.py:2958: RuntimeWarning:\n",
      "\n",
      "The shape parameter of the erlang distribution has been given a non-integer value 149.092909730276.\n",
      "\n",
      "C:\\Users\\Leonela\\anaconda3\\lib\\site-packages\\scipy\\stats\\_continuous_distns.py:2958: RuntimeWarning:\n",
      "\n",
      "The shape parameter of the erlang distribution has been given a non-integer value 150.87958957031657.\n",
      "\n",
      "C:\\Users\\Leonela\\anaconda3\\lib\\site-packages\\scipy\\stats\\_continuous_distns.py:2958: RuntimeWarning:\n",
      "\n",
      "The shape parameter of the erlang distribution has been given a non-integer value 147.47218197828448.\n",
      "\n",
      "C:\\Users\\Leonela\\anaconda3\\lib\\site-packages\\scipy\\stats\\_continuous_distns.py:2958: RuntimeWarning:\n",
      "\n",
      "The shape parameter of the erlang distribution has been given a non-integer value 148.944587287851.\n",
      "\n",
      "C:\\Users\\Leonela\\anaconda3\\lib\\site-packages\\scipy\\stats\\_continuous_distns.py:2958: RuntimeWarning:\n",
      "\n",
      "The shape parameter of the erlang distribution has been given a non-integer value 153.88920047223513.\n",
      "\n",
      "C:\\Users\\Leonela\\anaconda3\\lib\\site-packages\\scipy\\stats\\_continuous_distns.py:2958: RuntimeWarning:\n",
      "\n",
      "The shape parameter of the erlang distribution has been given a non-integer value 158.13937208165578.\n",
      "\n",
      "C:\\Users\\Leonela\\anaconda3\\lib\\site-packages\\scipy\\stats\\_continuous_distns.py:2958: RuntimeWarning:\n",
      "\n",
      "The shape parameter of the erlang distribution has been given a non-integer value 153.6298792273675.\n",
      "\n",
      "C:\\Users\\Leonela\\anaconda3\\lib\\site-packages\\scipy\\stats\\_continuous_distns.py:2958: RuntimeWarning:\n",
      "\n",
      "The shape parameter of the erlang distribution has been given a non-integer value 155.97252519712572.\n",
      "\n",
      "C:\\Users\\Leonela\\anaconda3\\lib\\site-packages\\scipy\\stats\\_continuous_distns.py:2958: RuntimeWarning:\n",
      "\n",
      "The shape parameter of the erlang distribution has been given a non-integer value 153.52840338293583.\n",
      "\n",
      "C:\\Users\\Leonela\\anaconda3\\lib\\site-packages\\scipy\\stats\\_continuous_distns.py:2958: RuntimeWarning:\n",
      "\n",
      "The shape parameter of the erlang distribution has been given a non-integer value 154.85281028924544.\n",
      "\n",
      "C:\\Users\\Leonela\\anaconda3\\lib\\site-packages\\scipy\\stats\\_continuous_distns.py:2958: RuntimeWarning:\n",
      "\n",
      "The shape parameter of the erlang distribution has been given a non-integer value 158.27207899141632.\n",
      "\n",
      "C:\\Users\\Leonela\\anaconda3\\lib\\site-packages\\scipy\\stats\\_continuous_distns.py:2958: RuntimeWarning:\n",
      "\n",
      "The shape parameter of the erlang distribution has been given a non-integer value 155.97728667613126.\n",
      "\n",
      "C:\\Users\\Leonela\\anaconda3\\lib\\site-packages\\scipy\\stats\\_continuous_distns.py:2958: RuntimeWarning:\n",
      "\n",
      "The shape parameter of the erlang distribution has been given a non-integer value 154.86784571872124.\n",
      "\n",
      "C:\\Users\\Leonela\\anaconda3\\lib\\site-packages\\scipy\\stats\\_continuous_distns.py:2958: RuntimeWarning:\n",
      "\n",
      "The shape parameter of the erlang distribution has been given a non-integer value 155.35716834196433.\n",
      "\n",
      "C:\\Users\\Leonela\\anaconda3\\lib\\site-packages\\scipy\\stats\\_continuous_distns.py:2958: RuntimeWarning:\n",
      "\n",
      "The shape parameter of the erlang distribution has been given a non-integer value 155.95247795782473.\n",
      "\n",
      "C:\\Users\\Leonela\\anaconda3\\lib\\site-packages\\scipy\\stats\\_continuous_distns.py:2958: RuntimeWarning:\n",
      "\n",
      "The shape parameter of the erlang distribution has been given a non-integer value 157.11377732305334.\n",
      "\n",
      "C:\\Users\\Leonela\\anaconda3\\lib\\site-packages\\scipy\\stats\\_continuous_distns.py:2958: RuntimeWarning:\n",
      "\n",
      "The shape parameter of the erlang distribution has been given a non-integer value 158.44420309566806.\n",
      "\n",
      "C:\\Users\\Leonela\\anaconda3\\lib\\site-packages\\scipy\\stats\\_continuous_distns.py:2958: RuntimeWarning:\n",
      "\n",
      "The shape parameter of the erlang distribution has been given a non-integer value 160.90210295203417.\n",
      "\n",
      "C:\\Users\\Leonela\\anaconda3\\lib\\site-packages\\scipy\\stats\\_continuous_distns.py:2958: RuntimeWarning:\n",
      "\n",
      "The shape parameter of the erlang distribution has been given a non-integer value 157.63993074883052.\n",
      "\n",
      "C:\\Users\\Leonela\\anaconda3\\lib\\site-packages\\scipy\\stats\\_continuous_distns.py:2958: RuntimeWarning:\n",
      "\n",
      "The shape parameter of the erlang distribution has been given a non-integer value 156.3929476943061.\n",
      "\n",
      "C:\\Users\\Leonela\\anaconda3\\lib\\site-packages\\scipy\\stats\\_continuous_distns.py:2958: RuntimeWarning:\n",
      "\n",
      "The shape parameter of the erlang distribution has been given a non-integer value 159.76610635663042.\n",
      "\n",
      "C:\\Users\\Leonela\\anaconda3\\lib\\site-packages\\scipy\\stats\\_continuous_distns.py:2958: RuntimeWarning:\n",
      "\n",
      "The shape parameter of the erlang distribution has been given a non-integer value 162.215236675585.\n",
      "\n",
      "C:\\Users\\Leonela\\anaconda3\\lib\\site-packages\\scipy\\stats\\_continuous_distns.py:2958: RuntimeWarning:\n",
      "\n",
      "The shape parameter of the erlang distribution has been given a non-integer value 162.12253036856487.\n",
      "\n",
      "C:\\Users\\Leonela\\anaconda3\\lib\\site-packages\\scipy\\stats\\_continuous_distns.py:2958: RuntimeWarning:\n",
      "\n",
      "The shape parameter of the erlang distribution has been given a non-integer value 164.98732170569428.\n",
      "\n",
      "C:\\Users\\Leonela\\anaconda3\\lib\\site-packages\\scipy\\stats\\_continuous_distns.py:2958: RuntimeWarning:\n",
      "\n",
      "The shape parameter of the erlang distribution has been given a non-integer value 166.6507303282449.\n",
      "\n",
      "C:\\Users\\Leonela\\anaconda3\\lib\\site-packages\\scipy\\stats\\_continuous_distns.py:2958: RuntimeWarning:\n",
      "\n",
      "The shape parameter of the erlang distribution has been given a non-integer value 159.49801557435123.\n",
      "\n",
      "C:\\Users\\Leonela\\anaconda3\\lib\\site-packages\\scipy\\stats\\_continuous_distns.py:2958: RuntimeWarning:\n",
      "\n",
      "The shape parameter of the erlang distribution has been given a non-integer value 166.02284620808564.\n",
      "\n",
      "C:\\Users\\Leonela\\anaconda3\\lib\\site-packages\\scipy\\stats\\_continuous_distns.py:2958: RuntimeWarning:\n",
      "\n",
      "The shape parameter of the erlang distribution has been given a non-integer value 169.81216776429443.\n",
      "\n",
      "C:\\Users\\Leonela\\anaconda3\\lib\\site-packages\\scipy\\stats\\_continuous_distns.py:2958: RuntimeWarning:\n",
      "\n",
      "The shape parameter of the erlang distribution has been given a non-integer value 167.31643335397496.\n",
      "\n",
      "C:\\Users\\Leonela\\anaconda3\\lib\\site-packages\\scipy\\stats\\_continuous_distns.py:2958: RuntimeWarning:\n",
      "\n",
      "The shape parameter of the erlang distribution has been given a non-integer value 175.24593297495787.\n",
      "\n",
      "C:\\Users\\Leonela\\anaconda3\\lib\\site-packages\\scipy\\stats\\_continuous_distns.py:2958: RuntimeWarning:\n",
      "\n",
      "The shape parameter of the erlang distribution has been given a non-integer value 183.11989167526116.\n",
      "\n",
      "C:\\Users\\Leonela\\anaconda3\\lib\\site-packages\\scipy\\stats\\_continuous_distns.py:2958: RuntimeWarning:\n",
      "\n",
      "The shape parameter of the erlang distribution has been given a non-integer value 176.59570102312387.\n",
      "\n",
      "C:\\Users\\Leonela\\anaconda3\\lib\\site-packages\\scipy\\stats\\_continuous_distns.py:2958: RuntimeWarning:\n",
      "\n",
      "The shape parameter of the erlang distribution has been given a non-integer value 180.45276782094248.\n",
      "\n",
      "C:\\Users\\Leonela\\anaconda3\\lib\\site-packages\\scipy\\stats\\_continuous_distns.py:2958: RuntimeWarning:\n",
      "\n",
      "The shape parameter of the erlang distribution has been given a non-integer value 170.60051697071685.\n",
      "\n",
      "C:\\Users\\Leonela\\anaconda3\\lib\\site-packages\\scipy\\stats\\_continuous_distns.py:2958: RuntimeWarning:\n",
      "\n",
      "The shape parameter of the erlang distribution has been given a non-integer value 178.482599548238.\n",
      "\n",
      "C:\\Users\\Leonela\\anaconda3\\lib\\site-packages\\scipy\\stats\\_continuous_distns.py:2958: RuntimeWarning:\n",
      "\n",
      "The shape parameter of the erlang distribution has been given a non-integer value 182.81781544020976.\n",
      "\n",
      "C:\\Users\\Leonela\\anaconda3\\lib\\site-packages\\scipy\\stats\\_continuous_distns.py:2958: RuntimeWarning:\n",
      "\n",
      "The shape parameter of the erlang distribution has been given a non-integer value 185.83911598814416.\n",
      "\n",
      "C:\\Users\\Leonela\\anaconda3\\lib\\site-packages\\scipy\\stats\\_continuous_distns.py:2958: RuntimeWarning:\n",
      "\n",
      "The shape parameter of the erlang distribution has been given a non-integer value 174.41016672507368.\n",
      "\n",
      "C:\\Users\\Leonela\\anaconda3\\lib\\site-packages\\scipy\\stats\\_continuous_distns.py:2958: RuntimeWarning:\n",
      "\n",
      "The shape parameter of the erlang distribution has been given a non-integer value 178.38690907037034.\n",
      "\n",
      "C:\\Users\\Leonela\\anaconda3\\lib\\site-packages\\scipy\\stats\\_continuous_distns.py:2958: RuntimeWarning:\n",
      "\n",
      "The shape parameter of the erlang distribution has been given a non-integer value 181.83066118214467.\n",
      "\n",
      "C:\\Users\\Leonela\\anaconda3\\lib\\site-packages\\scipy\\stats\\_continuous_distns.py:2958: RuntimeWarning:\n",
      "\n",
      "The shape parameter of the erlang distribution has been given a non-integer value 185.12302528573804.\n",
      "\n",
      "C:\\Users\\Leonela\\anaconda3\\lib\\site-packages\\scipy\\stats\\_continuous_distns.py:2958: RuntimeWarning:\n",
      "\n",
      "The shape parameter of the erlang distribution has been given a non-integer value 189.80833313913843.\n",
      "\n",
      "C:\\Users\\Leonela\\anaconda3\\lib\\site-packages\\scipy\\stats\\_continuous_distns.py:2958: RuntimeWarning:\n",
      "\n",
      "The shape parameter of the erlang distribution has been given a non-integer value 178.25970832858985.\n",
      "\n",
      "C:\\Users\\Leonela\\anaconda3\\lib\\site-packages\\scipy\\stats\\_continuous_distns.py:2958: RuntimeWarning:\n",
      "\n",
      "The shape parameter of the erlang distribution has been given a non-integer value 185.74679029932145.\n",
      "\n",
      "C:\\Users\\Leonela\\anaconda3\\lib\\site-packages\\scipy\\stats\\_continuous_distns.py:2958: RuntimeWarning:\n",
      "\n",
      "The shape parameter of the erlang distribution has been given a non-integer value 183.26853383555647.\n",
      "\n",
      "C:\\Users\\Leonela\\anaconda3\\lib\\site-packages\\scipy\\stats\\_continuous_distns.py:2958: RuntimeWarning:\n",
      "\n",
      "The shape parameter of the erlang distribution has been given a non-integer value 191.16585795182073.\n",
      "\n",
      "C:\\Users\\Leonela\\anaconda3\\lib\\site-packages\\scipy\\stats\\_continuous_distns.py:2958: RuntimeWarning:\n",
      "\n",
      "The shape parameter of the erlang distribution has been given a non-integer value 197.6189327634362.\n",
      "\n",
      "C:\\Users\\Leonela\\anaconda3\\lib\\site-packages\\scipy\\stats\\_continuous_distns.py:2958: RuntimeWarning:\n",
      "\n",
      "The shape parameter of the erlang distribution has been given a non-integer value 191.5935376238324.\n",
      "\n",
      "C:\\Users\\Leonela\\anaconda3\\lib\\site-packages\\scipy\\stats\\_continuous_distns.py:2958: RuntimeWarning:\n",
      "\n",
      "The shape parameter of the erlang distribution has been given a non-integer value 194.51691128608786.\n",
      "\n",
      "C:\\Users\\Leonela\\anaconda3\\lib\\site-packages\\scipy\\stats\\_continuous_distns.py:2958: RuntimeWarning:\n",
      "\n",
      "The shape parameter of the erlang distribution has been given a non-integer value 201.57071238795157.\n",
      "\n",
      "C:\\Users\\Leonela\\anaconda3\\lib\\site-packages\\scipy\\stats\\_continuous_distns.py:2958: RuntimeWarning:\n",
      "\n",
      "The shape parameter of the erlang distribution has been given a non-integer value 187.84407847365526.\n",
      "\n",
      "C:\\Users\\Leonela\\anaconda3\\lib\\site-packages\\scipy\\stats\\_continuous_distns.py:2958: RuntimeWarning:\n",
      "\n",
      "The shape parameter of the erlang distribution has been given a non-integer value 201.5302563963815.\n",
      "\n",
      "C:\\Users\\Leonela\\anaconda3\\lib\\site-packages\\scipy\\stats\\_continuous_distns.py:2958: RuntimeWarning:\n",
      "\n",
      "The shape parameter of the erlang distribution has been given a non-integer value 207.93332182361513.\n",
      "\n",
      "C:\\Users\\Leonela\\anaconda3\\lib\\site-packages\\scipy\\stats\\_continuous_distns.py:2958: RuntimeWarning:\n",
      "\n",
      "The shape parameter of the erlang distribution has been given a non-integer value 192.8663893111452.\n",
      "\n",
      "C:\\Users\\Leonela\\anaconda3\\lib\\site-packages\\scipy\\stats\\_continuous_distns.py:2958: RuntimeWarning:\n",
      "\n",
      "The shape parameter of the erlang distribution has been given a non-integer value 194.9901052323068.\n",
      "\n",
      "C:\\Users\\Leonela\\anaconda3\\lib\\site-packages\\scipy\\stats\\_continuous_distns.py:2958: RuntimeWarning:\n",
      "\n",
      "The shape parameter of the erlang distribution has been given a non-integer value 193.67569146674214.\n",
      "\n",
      "C:\\Users\\Leonela\\anaconda3\\lib\\site-packages\\scipy\\stats\\_continuous_distns.py:2958: RuntimeWarning:\n",
      "\n",
      "The shape parameter of the erlang distribution has been given a non-integer value 200.28218345499573.\n",
      "\n",
      "C:\\Users\\Leonela\\anaconda3\\lib\\site-packages\\scipy\\stats\\_continuous_distns.py:2958: RuntimeWarning:\n",
      "\n",
      "The shape parameter of the erlang distribution has been given a non-integer value 190.78626774216895.\n",
      "\n",
      "C:\\Users\\Leonela\\anaconda3\\lib\\site-packages\\scipy\\stats\\_continuous_distns.py:2958: RuntimeWarning:\n",
      "\n",
      "The shape parameter of the erlang distribution has been given a non-integer value 195.31251715651666.\n",
      "\n",
      "C:\\Users\\Leonela\\anaconda3\\lib\\site-packages\\scipy\\stats\\_continuous_distns.py:2958: RuntimeWarning:\n",
      "\n",
      "The shape parameter of the erlang distribution has been given a non-integer value 186.23413412195612.\n",
      "\n",
      "C:\\Users\\Leonela\\anaconda3\\lib\\site-packages\\scipy\\stats\\_continuous_distns.py:2958: RuntimeWarning:\n",
      "\n",
      "The shape parameter of the erlang distribution has been given a non-integer value 196.7701711217358.\n",
      "\n",
      "C:\\Users\\Leonela\\anaconda3\\lib\\site-packages\\scipy\\stats\\_continuous_distns.py:2958: RuntimeWarning:\n",
      "\n",
      "The shape parameter of the erlang distribution has been given a non-integer value 199.7193187544941.\n",
      "\n",
      "C:\\Users\\Leonela\\anaconda3\\lib\\site-packages\\scipy\\stats\\_continuous_distns.py:2958: RuntimeWarning:\n",
      "\n",
      "The shape parameter of the erlang distribution has been given a non-integer value 204.18584426065672.\n",
      "\n",
      "C:\\Users\\Leonela\\anaconda3\\lib\\site-packages\\scipy\\stats\\_continuous_distns.py:2958: RuntimeWarning:\n",
      "\n",
      "The shape parameter of the erlang distribution has been given a non-integer value 198.13093707213142.\n",
      "\n",
      "C:\\Users\\Leonela\\anaconda3\\lib\\site-packages\\scipy\\stats\\_continuous_distns.py:2958: RuntimeWarning:\n",
      "\n",
      "The shape parameter of the erlang distribution has been given a non-integer value 197.42633209322773.\n",
      "\n",
      "C:\\Users\\Leonela\\anaconda3\\lib\\site-packages\\scipy\\stats\\_continuous_distns.py:2958: RuntimeWarning:\n",
      "\n",
      "The shape parameter of the erlang distribution has been given a non-integer value 197.11072375457354.\n",
      "\n",
      "C:\\Users\\Leonela\\anaconda3\\lib\\site-packages\\scipy\\stats\\_continuous_distns.py:2958: RuntimeWarning:\n",
      "\n",
      "The shape parameter of the erlang distribution has been given a non-integer value 202.49522493478815.\n",
      "\n",
      "C:\\Users\\Leonela\\anaconda3\\lib\\site-packages\\scipy\\stats\\_continuous_distns.py:2958: RuntimeWarning:\n",
      "\n",
      "The shape parameter of the erlang distribution has been given a non-integer value 202.12384620267616.\n",
      "\n",
      "C:\\Users\\Leonela\\anaconda3\\lib\\site-packages\\scipy\\stats\\_continuous_distns.py:2958: RuntimeWarning:\n",
      "\n",
      "The shape parameter of the erlang distribution has been given a non-integer value 204.4726032574004.\n",
      "\n",
      "C:\\Users\\Leonela\\anaconda3\\lib\\site-packages\\scipy\\stats\\_continuous_distns.py:2958: RuntimeWarning:\n",
      "\n",
      "The shape parameter of the erlang distribution has been given a non-integer value 196.80736753970774.\n",
      "\n",
      "C:\\Users\\Leonela\\anaconda3\\lib\\site-packages\\scipy\\stats\\_continuous_distns.py:2958: RuntimeWarning:\n",
      "\n",
      "The shape parameter of the erlang distribution has been given a non-integer value 201.98963124334512.\n",
      "\n",
      "C:\\Users\\Leonela\\anaconda3\\lib\\site-packages\\scipy\\stats\\_continuous_distns.py:2958: RuntimeWarning:\n",
      "\n",
      "The shape parameter of the erlang distribution has been given a non-integer value 198.33045062676644.\n",
      "\n",
      "C:\\Users\\Leonela\\anaconda3\\lib\\site-packages\\scipy\\stats\\_continuous_distns.py:2958: RuntimeWarning:\n",
      "\n",
      "The shape parameter of the erlang distribution has been given a non-integer value 198.45512415827278.\n",
      "\n",
      "C:\\Users\\Leonela\\anaconda3\\lib\\site-packages\\scipy\\stats\\_continuous_distns.py:2958: RuntimeWarning:\n",
      "\n",
      "The shape parameter of the erlang distribution has been given a non-integer value 202.4655797854358.\n",
      "\n",
      "C:\\Users\\Leonela\\anaconda3\\lib\\site-packages\\scipy\\stats\\_continuous_distns.py:2958: RuntimeWarning:\n",
      "\n",
      "The shape parameter of the erlang distribution has been given a non-integer value 205.2946859082998.\n",
      "\n",
      "C:\\Users\\Leonela\\anaconda3\\lib\\site-packages\\scipy\\stats\\_continuous_distns.py:2958: RuntimeWarning:\n",
      "\n",
      "The shape parameter of the erlang distribution has been given a non-integer value 203.69924947082347.\n",
      "\n",
      "C:\\Users\\Leonela\\anaconda3\\lib\\site-packages\\scipy\\stats\\_continuous_distns.py:2958: RuntimeWarning:\n",
      "\n",
      "The shape parameter of the erlang distribution has been given a non-integer value 206.38364889285197.\n",
      "\n",
      "C:\\Users\\Leonela\\anaconda3\\lib\\site-packages\\scipy\\stats\\_continuous_distns.py:2958: RuntimeWarning:\n",
      "\n",
      "The shape parameter of the erlang distribution has been given a non-integer value 208.8602590957032.\n",
      "\n",
      "C:\\Users\\Leonela\\anaconda3\\lib\\site-packages\\scipy\\stats\\_continuous_distns.py:2958: RuntimeWarning:\n",
      "\n",
      "The shape parameter of the erlang distribution has been given a non-integer value 201.05640789263038.\n",
      "\n",
      "C:\\Users\\Leonela\\anaconda3\\lib\\site-packages\\scipy\\stats\\_continuous_distns.py:2958: RuntimeWarning:\n",
      "\n",
      "The shape parameter of the erlang distribution has been given a non-integer value 204.4799115112693.\n",
      "\n",
      "C:\\Users\\Leonela\\anaconda3\\lib\\site-packages\\scipy\\stats\\_continuous_distns.py:2958: RuntimeWarning:\n",
      "\n",
      "The shape parameter of the erlang distribution has been given a non-integer value 205.481065745732.\n",
      "\n",
      "C:\\Users\\Leonela\\anaconda3\\lib\\site-packages\\scipy\\stats\\_continuous_distns.py:2958: RuntimeWarning:\n",
      "\n",
      "The shape parameter of the erlang distribution has been given a non-integer value 206.98880872588006.\n",
      "\n",
      "C:\\Users\\Leonela\\anaconda3\\lib\\site-packages\\scipy\\stats\\_continuous_distns.py:2958: RuntimeWarning:\n",
      "\n",
      "The shape parameter of the erlang distribution has been given a non-integer value 210.8451715273705.\n",
      "\n",
      "C:\\Users\\Leonela\\anaconda3\\lib\\site-packages\\scipy\\stats\\_continuous_distns.py:2958: RuntimeWarning:\n",
      "\n",
      "The shape parameter of the erlang distribution has been given a non-integer value 211.6651745861324.\n",
      "\n",
      "C:\\Users\\Leonela\\anaconda3\\lib\\site-packages\\scipy\\stats\\_continuous_distns.py:2958: RuntimeWarning:\n",
      "\n",
      "The shape parameter of the erlang distribution has been given a non-integer value 213.28245433340334.\n",
      "\n",
      "C:\\Users\\Leonela\\anaconda3\\lib\\site-packages\\scipy\\stats\\_continuous_distns.py:2958: RuntimeWarning:\n",
      "\n",
      "The shape parameter of the erlang distribution has been given a non-integer value 216.73185705367905.\n",
      "\n",
      "C:\\Users\\Leonela\\anaconda3\\lib\\site-packages\\scipy\\stats\\_continuous_distns.py:2958: RuntimeWarning:\n",
      "\n",
      "The shape parameter of the erlang distribution has been given a non-integer value 211.37871695182062.\n",
      "\n",
      "C:\\Users\\Leonela\\anaconda3\\lib\\site-packages\\scipy\\stats\\_continuous_distns.py:2958: RuntimeWarning:\n",
      "\n",
      "The shape parameter of the erlang distribution has been given a non-integer value 211.23548813466476.\n",
      "\n",
      "C:\\Users\\Leonela\\anaconda3\\lib\\site-packages\\scipy\\stats\\_continuous_distns.py:2958: RuntimeWarning:\n",
      "\n",
      "The shape parameter of the erlang distribution has been given a non-integer value 212.55441696021597.\n",
      "\n",
      "C:\\Users\\Leonela\\anaconda3\\lib\\site-packages\\scipy\\stats\\_continuous_distns.py:2958: RuntimeWarning:\n",
      "\n",
      "The shape parameter of the erlang distribution has been given a non-integer value 213.4090396766387.\n",
      "\n",
      "C:\\Users\\Leonela\\anaconda3\\lib\\site-packages\\scipy\\stats\\_continuous_distns.py:2958: RuntimeWarning:\n",
      "\n",
      "The shape parameter of the erlang distribution has been given a non-integer value 220.12118525126374.\n",
      "\n",
      "C:\\Users\\Leonela\\anaconda3\\lib\\site-packages\\scipy\\stats\\_continuous_distns.py:2958: RuntimeWarning:\n",
      "\n",
      "The shape parameter of the erlang distribution has been given a non-integer value 226.68737351395555.\n",
      "\n",
      "C:\\Users\\Leonela\\anaconda3\\lib\\site-packages\\scipy\\stats\\_continuous_distns.py:2958: RuntimeWarning:\n",
      "\n",
      "The shape parameter of the erlang distribution has been given a non-integer value 212.63768905518782.\n",
      "\n",
      "C:\\Users\\Leonela\\anaconda3\\lib\\site-packages\\scipy\\stats\\_continuous_distns.py:2958: RuntimeWarning:\n",
      "\n",
      "The shape parameter of the erlang distribution has been given a non-integer value 215.70831505405624.\n",
      "\n",
      "C:\\Users\\Leonela\\anaconda3\\lib\\site-packages\\scipy\\stats\\_continuous_distns.py:2958: RuntimeWarning:\n",
      "\n",
      "The shape parameter of the erlang distribution has been given a non-integer value 220.87722789187004.\n",
      "\n",
      "C:\\Users\\Leonela\\anaconda3\\lib\\site-packages\\scipy\\stats\\_continuous_distns.py:2958: RuntimeWarning:\n",
      "\n",
      "The shape parameter of the erlang distribution has been given a non-integer value 218.50260015685768.\n",
      "\n",
      "C:\\Users\\Leonela\\anaconda3\\lib\\site-packages\\scipy\\stats\\_continuous_distns.py:2958: RuntimeWarning:\n",
      "\n",
      "The shape parameter of the erlang distribution has been given a non-integer value 223.6669833479025.\n",
      "\n",
      "C:\\Users\\Leonela\\anaconda3\\lib\\site-packages\\scipy\\stats\\_continuous_distns.py:2958: RuntimeWarning:\n",
      "\n",
      "The shape parameter of the erlang distribution has been given a non-integer value 215.3325585571376.\n",
      "\n",
      "C:\\Users\\Leonela\\anaconda3\\lib\\site-packages\\scipy\\stats\\_continuous_distns.py:2958: RuntimeWarning:\n",
      "\n",
      "The shape parameter of the erlang distribution has been given a non-integer value 220.26258092278312.\n",
      "\n",
      "C:\\Users\\Leonela\\anaconda3\\lib\\site-packages\\scipy\\stats\\_continuous_distns.py:2958: RuntimeWarning:\n",
      "\n",
      "The shape parameter of the erlang distribution has been given a non-integer value 222.53971385714658.\n",
      "\n",
      "C:\\Users\\Leonela\\anaconda3\\lib\\site-packages\\scipy\\stats\\_continuous_distns.py:2958: RuntimeWarning:\n",
      "\n",
      "The shape parameter of the erlang distribution has been given a non-integer value 225.44310761970775.\n",
      "\n",
      "C:\\Users\\Leonela\\anaconda3\\lib\\site-packages\\scipy\\stats\\_continuous_distns.py:2958: RuntimeWarning:\n",
      "\n",
      "The shape parameter of the erlang distribution has been given a non-integer value 217.86019582278013.\n",
      "\n",
      "C:\\Users\\Leonela\\anaconda3\\lib\\site-packages\\scipy\\stats\\_continuous_distns.py:2958: RuntimeWarning:\n",
      "\n",
      "The shape parameter of the erlang distribution has been given a non-integer value 221.84479646393595.\n",
      "\n",
      "C:\\Users\\Leonela\\anaconda3\\lib\\site-packages\\scipy\\stats\\_continuous_distns.py:2958: RuntimeWarning:\n",
      "\n",
      "The shape parameter of the erlang distribution has been given a non-integer value 223.51589461747506.\n",
      "\n",
      "C:\\Users\\Leonela\\anaconda3\\lib\\site-packages\\scipy\\stats\\_continuous_distns.py:2958: RuntimeWarning:\n",
      "\n",
      "The shape parameter of the erlang distribution has been given a non-integer value 222.48935094700414.\n",
      "\n",
      "C:\\Users\\Leonela\\anaconda3\\lib\\site-packages\\scipy\\stats\\_continuous_distns.py:2958: RuntimeWarning:\n",
      "\n",
      "The shape parameter of the erlang distribution has been given a non-integer value 223.6734337948743.\n",
      "\n",
      "C:\\Users\\Leonela\\anaconda3\\lib\\site-packages\\scipy\\stats\\_continuous_distns.py:2958: RuntimeWarning:\n",
      "\n",
      "The shape parameter of the erlang distribution has been given a non-integer value 228.62583235688382.\n",
      "\n",
      "C:\\Users\\Leonela\\anaconda3\\lib\\site-packages\\scipy\\stats\\_continuous_distns.py:2958: RuntimeWarning:\n",
      "\n",
      "The shape parameter of the erlang distribution has been given a non-integer value 228.00372665567556.\n",
      "\n",
      "C:\\Users\\Leonela\\anaconda3\\lib\\site-packages\\scipy\\stats\\_continuous_distns.py:2958: RuntimeWarning:\n",
      "\n",
      "The shape parameter of the erlang distribution has been given a non-integer value 230.73573305494006.\n",
      "\n",
      "C:\\Users\\Leonela\\anaconda3\\lib\\site-packages\\scipy\\stats\\_continuous_distns.py:2958: RuntimeWarning:\n",
      "\n",
      "The shape parameter of the erlang distribution has been given a non-integer value 223.3242086213091.\n",
      "\n",
      "C:\\Users\\Leonela\\anaconda3\\lib\\site-packages\\scipy\\stats\\_continuous_distns.py:2958: RuntimeWarning:\n",
      "\n",
      "The shape parameter of the erlang distribution has been given a non-integer value 228.30635569660728.\n",
      "\n",
      "C:\\Users\\Leonela\\anaconda3\\lib\\site-packages\\scipy\\stats\\_continuous_distns.py:2958: RuntimeWarning:\n",
      "\n",
      "The shape parameter of the erlang distribution has been given a non-integer value 231.81947307630534.\n",
      "\n",
      "C:\\Users\\Leonela\\anaconda3\\lib\\site-packages\\scipy\\stats\\_continuous_distns.py:2958: RuntimeWarning:\n",
      "\n",
      "The shape parameter of the erlang distribution has been given a non-integer value 236.9009407570275.\n",
      "\n",
      "C:\\Users\\Leonela\\anaconda3\\lib\\site-packages\\scipy\\stats\\_continuous_distns.py:2958: RuntimeWarning:\n",
      "\n",
      "The shape parameter of the erlang distribution has been given a non-integer value 243.51469423810408.\n",
      "\n",
      "C:\\Users\\Leonela\\anaconda3\\lib\\site-packages\\scipy\\stats\\_continuous_distns.py:2958: RuntimeWarning:\n",
      "\n",
      "The shape parameter of the erlang distribution has been given a non-integer value 237.99774222890795.\n",
      "\n",
      "C:\\Users\\Leonela\\anaconda3\\lib\\site-packages\\scipy\\stats\\_continuous_distns.py:2958: RuntimeWarning:\n",
      "\n",
      "The shape parameter of the erlang distribution has been given a non-integer value 230.72920232968244.\n",
      "\n",
      "C:\\Users\\Leonela\\anaconda3\\lib\\site-packages\\scipy\\stats\\_continuous_distns.py:2958: RuntimeWarning:\n",
      "\n",
      "The shape parameter of the erlang distribution has been given a non-integer value 233.75777768479466.\n",
      "\n",
      "C:\\Users\\Leonela\\anaconda3\\lib\\site-packages\\scipy\\stats\\_continuous_distns.py:2958: RuntimeWarning:\n",
      "\n",
      "The shape parameter of the erlang distribution has been given a non-integer value 234.72692998903932.\n",
      "\n",
      "C:\\Users\\Leonela\\anaconda3\\lib\\site-packages\\scipy\\stats\\_continuous_distns.py:2958: RuntimeWarning:\n",
      "\n",
      "The shape parameter of the erlang distribution has been given a non-integer value 236.8670986681591.\n",
      "\n",
      "C:\\Users\\Leonela\\anaconda3\\lib\\site-packages\\scipy\\stats\\_continuous_distns.py:2958: RuntimeWarning:\n",
      "\n",
      "The shape parameter of the erlang distribution has been given a non-integer value 239.93604683739738.\n",
      "\n",
      "C:\\Users\\Leonela\\anaconda3\\lib\\site-packages\\scipy\\stats\\_continuous_distns.py:2958: RuntimeWarning:\n",
      "\n",
      "The shape parameter of the erlang distribution has been given a non-integer value 240.94814501838079.\n",
      "\n",
      "C:\\Users\\Leonela\\anaconda3\\lib\\site-packages\\scipy\\stats\\_continuous_distns.py:2958: RuntimeWarning:\n",
      "\n",
      "The shape parameter of the erlang distribution has been given a non-integer value 246.05435100010118.\n",
      "\n",
      "C:\\Users\\Leonela\\anaconda3\\lib\\site-packages\\scipy\\stats\\_continuous_distns.py:2958: RuntimeWarning:\n",
      "\n",
      "The shape parameter of the erlang distribution has been given a non-integer value 237.48107349052884.\n",
      "\n",
      "C:\\Users\\Leonela\\anaconda3\\lib\\site-packages\\scipy\\stats\\_continuous_distns.py:2958: RuntimeWarning:\n",
      "\n",
      "The shape parameter of the erlang distribution has been given a non-integer value 237.77113985727954.\n",
      "\n",
      "C:\\Users\\Leonela\\anaconda3\\lib\\site-packages\\scipy\\stats\\_continuous_distns.py:2958: RuntimeWarning:\n",
      "\n",
      "The shape parameter of the erlang distribution has been given a non-integer value 243.10643376658444.\n",
      "\n",
      "C:\\Users\\Leonela\\anaconda3\\lib\\site-packages\\scipy\\stats\\_continuous_distns.py:2958: RuntimeWarning:\n",
      "\n",
      "The shape parameter of the erlang distribution has been given a non-integer value 236.0949417052421.\n",
      "\n",
      "C:\\Users\\Leonela\\anaconda3\\lib\\site-packages\\scipy\\stats\\_continuous_distns.py:2958: RuntimeWarning:\n",
      "\n",
      "The shape parameter of the erlang distribution has been given a non-integer value 239.48234147460875.\n",
      "\n",
      "C:\\Users\\Leonela\\anaconda3\\lib\\site-packages\\scipy\\stats\\_continuous_distns.py:2958: RuntimeWarning:\n",
      "\n",
      "The shape parameter of the erlang distribution has been given a non-integer value 240.78996287783355.\n",
      "\n",
      "C:\\Users\\Leonela\\anaconda3\\lib\\site-packages\\scipy\\stats\\_continuous_distns.py:2958: RuntimeWarning:\n",
      "\n",
      "The shape parameter of the erlang distribution has been given a non-integer value 243.38451255258673.\n",
      "\n",
      "C:\\Users\\Leonela\\anaconda3\\lib\\site-packages\\scipy\\stats\\_continuous_distns.py:2958: RuntimeWarning:\n",
      "\n",
      "The shape parameter of the erlang distribution has been given a non-integer value 247.02929797625904.\n",
      "\n",
      "C:\\Users\\Leonela\\anaconda3\\lib\\site-packages\\scipy\\stats\\_continuous_distns.py:2958: RuntimeWarning:\n",
      "\n",
      "The shape parameter of the erlang distribution has been given a non-integer value 242.58541121136682.\n",
      "\n",
      "C:\\Users\\Leonela\\anaconda3\\lib\\site-packages\\scipy\\stats\\_continuous_distns.py:2958: RuntimeWarning:\n",
      "\n",
      "The shape parameter of the erlang distribution has been given a non-integer value 242.17609466312032.\n",
      "\n",
      "C:\\Users\\Leonela\\anaconda3\\lib\\site-packages\\scipy\\stats\\_continuous_distns.py:2958: RuntimeWarning:\n",
      "\n",
      "The shape parameter of the erlang distribution has been given a non-integer value 249.1824968542798.\n",
      "\n",
      "C:\\Users\\Leonela\\anaconda3\\lib\\site-packages\\scipy\\stats\\_continuous_distns.py:2958: RuntimeWarning:\n",
      "\n",
      "The shape parameter of the erlang distribution has been given a non-integer value 255.03320853615526.\n",
      "\n",
      "C:\\Users\\Leonela\\anaconda3\\lib\\site-packages\\scipy\\stats\\_continuous_distns.py:2958: RuntimeWarning:\n",
      "\n",
      "The shape parameter of the erlang distribution has been given a non-integer value 255.36910457252287.\n",
      "\n",
      "C:\\Users\\Leonela\\anaconda3\\lib\\site-packages\\scipy\\stats\\_continuous_distns.py:2958: RuntimeWarning:\n",
      "\n",
      "The shape parameter of the erlang distribution has been given a non-integer value 262.77831272683784.\n",
      "\n",
      "C:\\Users\\Leonela\\anaconda3\\lib\\site-packages\\scipy\\stats\\_continuous_distns.py:2958: RuntimeWarning:\n",
      "\n",
      "The shape parameter of the erlang distribution has been given a non-integer value 247.3266491790497.\n",
      "\n",
      "C:\\Users\\Leonela\\anaconda3\\lib\\site-packages\\scipy\\stats\\_continuous_distns.py:2958: RuntimeWarning:\n",
      "\n",
      "The shape parameter of the erlang distribution has been given a non-integer value 258.1233435488929.\n",
      "\n",
      "C:\\Users\\Leonela\\anaconda3\\lib\\site-packages\\scipy\\stats\\_continuous_distns.py:2958: RuntimeWarning:\n",
      "\n",
      "The shape parameter of the erlang distribution has been given a non-integer value 263.6703663352098.\n",
      "\n",
      "C:\\Users\\Leonela\\anaconda3\\lib\\site-packages\\scipy\\stats\\_continuous_distns.py:2958: RuntimeWarning:\n",
      "\n",
      "The shape parameter of the erlang distribution has been given a non-integer value 251.61969627020903.\n",
      "\n",
      "C:\\Users\\Leonela\\anaconda3\\lib\\site-packages\\scipy\\stats\\_continuous_distns.py:2958: RuntimeWarning:\n",
      "\n",
      "The shape parameter of the erlang distribution has been given a non-integer value 262.52418305778843.\n",
      "\n",
      "C:\\Users\\Leonela\\anaconda3\\lib\\site-packages\\scipy\\stats\\_continuous_distns.py:2958: RuntimeWarning:\n",
      "\n",
      "The shape parameter of the erlang distribution has been given a non-integer value 251.1260326487344.\n",
      "\n",
      "C:\\Users\\Leonela\\anaconda3\\lib\\site-packages\\scipy\\stats\\_continuous_distns.py:2958: RuntimeWarning:\n",
      "\n",
      "The shape parameter of the erlang distribution has been given a non-integer value 252.21283977573563.\n",
      "\n",
      "C:\\Users\\Leonela\\anaconda3\\lib\\site-packages\\scipy\\stats\\_continuous_distns.py:2958: RuntimeWarning:\n",
      "\n",
      "The shape parameter of the erlang distribution has been given a non-integer value 256.0217810453662.\n",
      "\n",
      "C:\\Users\\Leonela\\anaconda3\\lib\\site-packages\\scipy\\stats\\_continuous_distns.py:2958: RuntimeWarning:\n",
      "\n",
      "The shape parameter of the erlang distribution has been given a non-integer value 258.2228234329448.\n",
      "\n",
      "C:\\Users\\Leonela\\anaconda3\\lib\\site-packages\\scipy\\stats\\_continuous_distns.py:2958: RuntimeWarning:\n",
      "\n",
      "The shape parameter of the erlang distribution has been given a non-integer value 259.77927693126213.\n",
      "\n",
      "C:\\Users\\Leonela\\anaconda3\\lib\\site-packages\\scipy\\stats\\_continuous_distns.py:2958: RuntimeWarning:\n",
      "\n",
      "The shape parameter of the erlang distribution has been given a non-integer value 264.105899072526.\n",
      "\n",
      "C:\\Users\\Leonela\\anaconda3\\lib\\site-packages\\scipy\\stats\\_continuous_distns.py:2958: RuntimeWarning:\n",
      "\n",
      "The shape parameter of the erlang distribution has been given a non-integer value 263.73676124127843.\n",
      "\n",
      "C:\\Users\\Leonela\\anaconda3\\lib\\site-packages\\scipy\\stats\\_continuous_distns.py:2958: RuntimeWarning:\n",
      "\n",
      "The shape parameter of the erlang distribution has been given a non-integer value 255.09382014212133.\n",
      "\n",
      "C:\\Users\\Leonela\\anaconda3\\lib\\site-packages\\scipy\\stats\\_continuous_distns.py:2958: RuntimeWarning:\n",
      "\n",
      "The shape parameter of the erlang distribution has been given a non-integer value 255.80657519694023.\n",
      "\n",
      "C:\\Users\\Leonela\\anaconda3\\lib\\site-packages\\scipy\\stats\\_continuous_distns.py:2958: RuntimeWarning:\n",
      "\n",
      "The shape parameter of the erlang distribution has been given a non-integer value 254.64819102096385.\n",
      "\n",
      "C:\\Users\\Leonela\\anaconda3\\lib\\site-packages\\scipy\\stats\\_continuous_distns.py:2958: RuntimeWarning:\n",
      "\n",
      "The shape parameter of the erlang distribution has been given a non-integer value 257.76466713484956.\n",
      "\n",
      "C:\\Users\\Leonela\\anaconda3\\lib\\site-packages\\scipy\\stats\\_continuous_distns.py:2958: RuntimeWarning:\n",
      "\n",
      "The shape parameter of the erlang distribution has been given a non-integer value 258.63611017959124.\n",
      "\n",
      "C:\\Users\\Leonela\\anaconda3\\lib\\site-packages\\scipy\\stats\\_continuous_distns.py:2958: RuntimeWarning:\n",
      "\n",
      "The shape parameter of the erlang distribution has been given a non-integer value 261.0541547297411.\n",
      "\n",
      "C:\\Users\\Leonela\\anaconda3\\lib\\site-packages\\scipy\\stats\\_continuous_distns.py:2958: RuntimeWarning:\n",
      "\n",
      "The shape parameter of the erlang distribution has been given a non-integer value 264.0343220235509.\n",
      "\n",
      "C:\\Users\\Leonela\\anaconda3\\lib\\site-packages\\scipy\\stats\\_continuous_distns.py:2958: RuntimeWarning:\n",
      "\n",
      "The shape parameter of the erlang distribution has been given a non-integer value 259.20539466879274.\n",
      "\n",
      "C:\\Users\\Leonela\\anaconda3\\lib\\site-packages\\scipy\\stats\\_continuous_distns.py:2958: RuntimeWarning:\n",
      "\n",
      "The shape parameter of the erlang distribution has been given a non-integer value 259.6358063656448.\n",
      "\n",
      "C:\\Users\\Leonela\\anaconda3\\lib\\site-packages\\scipy\\stats\\_continuous_distns.py:2958: RuntimeWarning:\n",
      "\n",
      "The shape parameter of the erlang distribution has been given a non-integer value 265.7309171822511.\n",
      "\n",
      "C:\\Users\\Leonela\\anaconda3\\lib\\site-packages\\scipy\\stats\\_continuous_distns.py:2958: RuntimeWarning:\n",
      "\n",
      "The shape parameter of the erlang distribution has been given a non-integer value 270.6930881749065.\n",
      "\n",
      "C:\\Users\\Leonela\\anaconda3\\lib\\site-packages\\scipy\\stats\\_continuous_distns.py:2958: RuntimeWarning:\n",
      "\n",
      "The shape parameter of the erlang distribution has been given a non-integer value 267.6312535347066.\n",
      "\n",
      "C:\\Users\\Leonela\\anaconda3\\lib\\site-packages\\scipy\\stats\\_continuous_distns.py:2958: RuntimeWarning:\n",
      "\n",
      "The shape parameter of the erlang distribution has been given a non-integer value 260.8848960183701.\n",
      "\n",
      "C:\\Users\\Leonela\\anaconda3\\lib\\site-packages\\scipy\\stats\\_continuous_distns.py:2958: RuntimeWarning:\n",
      "\n",
      "The shape parameter of the erlang distribution has been given a non-integer value 267.4642837838033.\n",
      "\n",
      "C:\\Users\\Leonela\\anaconda3\\lib\\site-packages\\scipy\\stats\\_continuous_distns.py:2958: RuntimeWarning:\n",
      "\n",
      "The shape parameter of the erlang distribution has been given a non-integer value 271.37852249288255.\n",
      "\n",
      "C:\\Users\\Leonela\\anaconda3\\lib\\site-packages\\scipy\\stats\\_continuous_distns.py:2958: RuntimeWarning:\n",
      "\n",
      "The shape parameter of the erlang distribution has been given a non-integer value 273.21094511408626.\n",
      "\n",
      "C:\\Users\\Leonela\\anaconda3\\lib\\site-packages\\scipy\\stats\\_continuous_distns.py:2958: RuntimeWarning:\n",
      "\n",
      "The shape parameter of the erlang distribution has been given a non-integer value 276.17926783592907.\n",
      "\n",
      "C:\\Users\\Leonela\\anaconda3\\lib\\site-packages\\scipy\\stats\\_continuous_distns.py:2958: RuntimeWarning:\n",
      "\n",
      "The shape parameter of the erlang distribution has been given a non-integer value 268.98152655995557.\n",
      "\n",
      "C:\\Users\\Leonela\\anaconda3\\lib\\site-packages\\scipy\\stats\\_continuous_distns.py:2958: RuntimeWarning:\n",
      "\n",
      "The shape parameter of the erlang distribution has been given a non-integer value 261.2147096541304.\n",
      "\n",
      "C:\\Users\\Leonela\\anaconda3\\lib\\site-packages\\scipy\\stats\\_continuous_distns.py:2958: RuntimeWarning:\n",
      "\n",
      "The shape parameter of the erlang distribution has been given a non-integer value 272.4381282904794.\n",
      "\n",
      "C:\\Users\\Leonela\\anaconda3\\lib\\site-packages\\scipy\\stats\\_continuous_distns.py:2958: RuntimeWarning:\n",
      "\n",
      "The shape parameter of the erlang distribution has been given a non-integer value 276.13453437996054.\n",
      "\n",
      "C:\\Users\\Leonela\\anaconda3\\lib\\site-packages\\scipy\\stats\\_continuous_distns.py:2958: RuntimeWarning:\n",
      "\n",
      "The shape parameter of the erlang distribution has been given a non-integer value 281.3363429788153.\n",
      "\n",
      "C:\\Users\\Leonela\\anaconda3\\lib\\site-packages\\scipy\\stats\\_continuous_distns.py:2958: RuntimeWarning:\n",
      "\n",
      "The shape parameter of the erlang distribution has been given a non-integer value 271.89159399805305.\n",
      "\n",
      "C:\\Users\\Leonela\\anaconda3\\lib\\site-packages\\scipy\\stats\\_continuous_distns.py:2958: RuntimeWarning:\n",
      "\n",
      "The shape parameter of the erlang distribution has been given a non-integer value 277.28824068730853.\n",
      "\n",
      "C:\\Users\\Leonela\\anaconda3\\lib\\site-packages\\scipy\\stats\\_continuous_distns.py:2958: RuntimeWarning:\n",
      "\n",
      "The shape parameter of the erlang distribution has been given a non-integer value 281.441597750985.\n",
      "\n",
      "C:\\Users\\Leonela\\anaconda3\\lib\\site-packages\\scipy\\stats\\_continuous_distns.py:2958: RuntimeWarning:\n",
      "\n",
      "The shape parameter of the erlang distribution has been given a non-integer value 278.8310568839988.\n",
      "\n",
      "C:\\Users\\Leonela\\anaconda3\\lib\\site-packages\\scipy\\stats\\_continuous_distns.py:2958: RuntimeWarning:\n",
      "\n",
      "The shape parameter of the erlang distribution has been given a non-integer value 282.557324079557.\n",
      "\n",
      "C:\\Users\\Leonela\\anaconda3\\lib\\site-packages\\scipy\\stats\\_continuous_distns.py:2958: RuntimeWarning:\n",
      "\n",
      "The shape parameter of the erlang distribution has been given a non-integer value 285.42847209983097.\n",
      "\n",
      "C:\\Users\\Leonela\\anaconda3\\lib\\site-packages\\scipy\\stats\\_continuous_distns.py:2958: RuntimeWarning:\n",
      "\n",
      "The shape parameter of the erlang distribution has been given a non-integer value 275.2758135234975.\n",
      "\n",
      "C:\\Users\\Leonela\\anaconda3\\lib\\site-packages\\scipy\\stats\\_continuous_distns.py:2958: RuntimeWarning:\n",
      "\n",
      "The shape parameter of the erlang distribution has been given a non-integer value 280.6130511469481.\n",
      "\n",
      "C:\\Users\\Leonela\\anaconda3\\lib\\site-packages\\scipy\\stats\\_continuous_distns.py:2958: RuntimeWarning:\n",
      "\n",
      "The shape parameter of the erlang distribution has been given a non-integer value 282.85230953044197.\n",
      "\n",
      "C:\\Users\\Leonela\\anaconda3\\lib\\site-packages\\scipy\\stats\\_continuous_distns.py:2958: RuntimeWarning:\n",
      "\n",
      "The shape parameter of the erlang distribution has been given a non-integer value 283.1687240683558.\n",
      "\n",
      "C:\\Users\\Leonela\\anaconda3\\lib\\site-packages\\scipy\\stats\\_continuous_distns.py:2958: RuntimeWarning:\n",
      "\n",
      "The shape parameter of the erlang distribution has been given a non-integer value 286.10896575887944.\n",
      "\n",
      "C:\\Users\\Leonela\\anaconda3\\lib\\site-packages\\scipy\\stats\\_continuous_distns.py:2958: RuntimeWarning:\n",
      "\n",
      "The shape parameter of the erlang distribution has been given a non-integer value 292.4032527224215.\n",
      "\n",
      "C:\\Users\\Leonela\\anaconda3\\lib\\site-packages\\scipy\\stats\\_continuous_distns.py:2958: RuntimeWarning:\n",
      "\n",
      "The shape parameter of the erlang distribution has been given a non-integer value 291.68569459493824.\n",
      "\n",
      "C:\\Users\\Leonela\\anaconda3\\lib\\site-packages\\scipy\\stats\\_continuous_distns.py:2958: RuntimeWarning:\n",
      "\n",
      "The shape parameter of the erlang distribution has been given a non-integer value 296.24987985262885.\n",
      "\n",
      "C:\\Users\\Leonela\\anaconda3\\lib\\site-packages\\scipy\\stats\\_continuous_distns.py:2958: RuntimeWarning:\n",
      "\n",
      "The shape parameter of the erlang distribution has been given a non-integer value 284.4041840388787.\n",
      "\n",
      "C:\\Users\\Leonela\\anaconda3\\lib\\site-packages\\scipy\\stats\\_continuous_distns.py:2958: RuntimeWarning:\n",
      "\n",
      "The shape parameter of the erlang distribution has been given a non-integer value 286.4039512097644.\n",
      "\n",
      "C:\\Users\\Leonela\\anaconda3\\lib\\site-packages\\scipy\\stats\\_continuous_distns.py:2958: RuntimeWarning:\n",
      "\n",
      "The shape parameter of the erlang distribution has been given a non-integer value 296.3228883504065.\n",
      "\n",
      "C:\\Users\\Leonela\\anaconda3\\lib\\site-packages\\scipy\\stats\\_continuous_distns.py:2958: RuntimeWarning:\n",
      "\n",
      "The shape parameter of the erlang distribution has been given a non-integer value 303.05817776038884.\n",
      "\n",
      "C:\\Users\\Leonela\\anaconda3\\lib\\site-packages\\scipy\\stats\\_continuous_distns.py:2958: RuntimeWarning:\n",
      "\n",
      "The shape parameter of the erlang distribution has been given a non-integer value 303.87406437150037.\n",
      "\n",
      "C:\\Users\\Leonela\\anaconda3\\lib\\site-packages\\scipy\\stats\\_continuous_distns.py:2958: RuntimeWarning:\n",
      "\n",
      "The shape parameter of the erlang distribution has been given a non-integer value 290.7714795001984.\n",
      "\n",
      "C:\\Users\\Leonela\\anaconda3\\lib\\site-packages\\scipy\\stats\\_continuous_distns.py:2958: RuntimeWarning:\n",
      "\n",
      "The shape parameter of the erlang distribution has been given a non-integer value 307.2773923165979.\n",
      "\n",
      "C:\\Users\\Leonela\\anaconda3\\lib\\site-packages\\scipy\\stats\\_continuous_distns.py:2958: RuntimeWarning:\n",
      "\n",
      "The shape parameter of the erlang distribution has been given a non-integer value 313.61882045287865.\n",
      "\n",
      "C:\\Users\\Leonela\\anaconda3\\lib\\site-packages\\scipy\\stats\\_continuous_distns.py:2958: RuntimeWarning:\n",
      "\n",
      "The shape parameter of the erlang distribution has been given a non-integer value 296.48331473836845.\n",
      "\n",
      "C:\\Users\\Leonela\\anaconda3\\lib\\site-packages\\scipy\\stats\\_continuous_distns.py:2958: RuntimeWarning:\n",
      "\n",
      "The shape parameter of the erlang distribution has been given a non-integer value 308.2960433576079.\n",
      "\n",
      "C:\\Users\\Leonela\\anaconda3\\lib\\site-packages\\scipy\\stats\\_continuous_distns.py:2958: RuntimeWarning:\n",
      "\n",
      "The shape parameter of the erlang distribution has been given a non-integer value 297.94763158764556.\n",
      "\n",
      "C:\\Users\\Leonela\\anaconda3\\lib\\site-packages\\scipy\\stats\\_continuous_distns.py:2958: RuntimeWarning:\n",
      "\n",
      "The shape parameter of the erlang distribution has been given a non-integer value 293.2827512231694.\n",
      "\n",
      "C:\\Users\\Leonela\\anaconda3\\lib\\site-packages\\scipy\\stats\\_continuous_distns.py:2958: RuntimeWarning:\n",
      "\n",
      "The shape parameter of the erlang distribution has been given a non-integer value 290.0300393666606.\n",
      "\n",
      "C:\\Users\\Leonela\\anaconda3\\lib\\site-packages\\scipy\\stats\\_continuous_distns.py:2958: RuntimeWarning:\n",
      "\n",
      "The shape parameter of the erlang distribution has been given a non-integer value 303.72954235987106.\n",
      "\n",
      "C:\\Users\\Leonela\\anaconda3\\lib\\site-packages\\scipy\\stats\\_continuous_distns.py:2958: RuntimeWarning:\n",
      "\n",
      "The shape parameter of the erlang distribution has been given a non-integer value 306.6735864002352.\n",
      "\n",
      "C:\\Users\\Leonela\\anaconda3\\lib\\site-packages\\scipy\\stats\\_continuous_distns.py:2958: RuntimeWarning:\n",
      "\n",
      "The shape parameter of the erlang distribution has been given a non-integer value 299.03088265383514.\n",
      "\n",
      "C:\\Users\\Leonela\\anaconda3\\lib\\site-packages\\scipy\\stats\\_continuous_distns.py:2958: RuntimeWarning:\n",
      "\n",
      "The shape parameter of the erlang distribution has been given a non-integer value 297.41385997384566.\n",
      "\n",
      "C:\\Users\\Leonela\\anaconda3\\lib\\site-packages\\scipy\\stats\\_continuous_distns.py:2958: RuntimeWarning:\n",
      "\n",
      "The shape parameter of the erlang distribution has been given a non-integer value 300.3631399604064.\n",
      "\n",
      "C:\\Users\\Leonela\\anaconda3\\lib\\site-packages\\scipy\\stats\\_continuous_distns.py:2958: RuntimeWarning:\n",
      "\n",
      "The shape parameter of the erlang distribution has been given a non-integer value 301.029268613692.\n",
      "\n",
      "C:\\Users\\Leonela\\anaconda3\\lib\\site-packages\\scipy\\stats\\_continuous_distns.py:2958: RuntimeWarning:\n",
      "\n",
      "The shape parameter of the erlang distribution has been given a non-integer value 293.8642977569177.\n",
      "\n",
      "C:\\Users\\Leonela\\anaconda3\\lib\\site-packages\\scipy\\stats\\_continuous_distns.py:2958: RuntimeWarning:\n",
      "\n",
      "The shape parameter of the erlang distribution has been given a non-integer value 301.26323120913275.\n",
      "\n",
      "C:\\Users\\Leonela\\anaconda3\\lib\\site-packages\\scipy\\stats\\_continuous_distns.py:2958: RuntimeWarning:\n",
      "\n",
      "The shape parameter of the erlang distribution has been given a non-integer value 302.7462276331346.\n",
      "\n",
      "C:\\Users\\Leonela\\anaconda3\\lib\\site-packages\\scipy\\stats\\_continuous_distns.py:2958: RuntimeWarning:\n",
      "\n",
      "The shape parameter of the erlang distribution has been given a non-integer value 301.4131357183124.\n",
      "\n",
      "C:\\Users\\Leonela\\anaconda3\\lib\\site-packages\\scipy\\stats\\_continuous_distns.py:2958: RuntimeWarning:\n",
      "\n",
      "The shape parameter of the erlang distribution has been given a non-integer value 304.5227921064459.\n",
      "\n",
      "C:\\Users\\Leonela\\anaconda3\\lib\\site-packages\\scipy\\stats\\_continuous_distns.py:2958: RuntimeWarning:\n",
      "\n",
      "The shape parameter of the erlang distribution has been given a non-integer value 303.38023308316735.\n",
      "\n",
      "C:\\Users\\Leonela\\anaconda3\\lib\\site-packages\\scipy\\stats\\_continuous_distns.py:2958: RuntimeWarning:\n",
      "\n",
      "The shape parameter of the erlang distribution has been given a non-integer value 302.85098261465873.\n",
      "\n",
      "C:\\Users\\Leonela\\anaconda3\\lib\\site-packages\\scipy\\stats\\_continuous_distns.py:2958: RuntimeWarning:\n",
      "\n",
      "The shape parameter of the erlang distribution has been given a non-integer value 304.188893171552.\n",
      "\n",
      "C:\\Users\\Leonela\\anaconda3\\lib\\site-packages\\scipy\\stats\\_continuous_distns.py:2958: RuntimeWarning:\n",
      "\n",
      "The shape parameter of the erlang distribution has been given a non-integer value 305.57677189817184.\n",
      "\n",
      "C:\\Users\\Leonela\\anaconda3\\lib\\site-packages\\scipy\\stats\\_continuous_distns.py:2958: RuntimeWarning:\n",
      "\n",
      "The shape parameter of the erlang distribution has been given a non-integer value 300.8566374934893.\n",
      "\n",
      "C:\\Users\\Leonela\\anaconda3\\lib\\site-packages\\scipy\\stats\\_continuous_distns.py:2958: RuntimeWarning:\n",
      "\n",
      "The shape parameter of the erlang distribution has been given a non-integer value 299.02356018701107.\n",
      "\n",
      "C:\\Users\\Leonela\\anaconda3\\lib\\site-packages\\scipy\\stats\\_continuous_distns.py:2958: RuntimeWarning:\n",
      "\n",
      "The shape parameter of the erlang distribution has been given a non-integer value 301.1988835711635.\n",
      "\n",
      "C:\\Users\\Leonela\\anaconda3\\lib\\site-packages\\scipy\\stats\\_continuous_distns.py:2958: RuntimeWarning:\n",
      "\n",
      "The shape parameter of the erlang distribution has been given a non-integer value 300.3728340494158.\n",
      "\n",
      "C:\\Users\\Leonela\\anaconda3\\lib\\site-packages\\scipy\\stats\\_continuous_distns.py:2958: RuntimeWarning:\n",
      "\n",
      "The shape parameter of the erlang distribution has been given a non-integer value 302.58297452927934.\n",
      "\n",
      "C:\\Users\\Leonela\\anaconda3\\lib\\site-packages\\scipy\\stats\\_continuous_distns.py:2958: RuntimeWarning:\n",
      "\n",
      "The shape parameter of the erlang distribution has been given a non-integer value 303.35982748707306.\n",
      "\n",
      "C:\\Users\\Leonela\\anaconda3\\lib\\site-packages\\scipy\\stats\\_continuous_distns.py:2958: RuntimeWarning:\n",
      "\n",
      "The shape parameter of the erlang distribution has been given a non-integer value 298.8706395151001.\n",
      "\n",
      "C:\\Users\\Leonela\\anaconda3\\lib\\site-packages\\scipy\\stats\\_continuous_distns.py:2958: RuntimeWarning:\n",
      "\n",
      "The shape parameter of the erlang distribution has been given a non-integer value 300.2002029292131.\n",
      "\n",
      "C:\\Users\\Leonela\\anaconda3\\lib\\site-packages\\scipy\\stats\\_continuous_distns.py:2958: RuntimeWarning:\n",
      "\n",
      "The shape parameter of the erlang distribution has been given a non-integer value 301.76527215031206.\n",
      "\n",
      "C:\\Users\\Leonela\\anaconda3\\lib\\site-packages\\scipy\\stats\\_continuous_distns.py:2958: RuntimeWarning:\n",
      "\n",
      "The shape parameter of the erlang distribution has been given a non-integer value 302.2195894787235.\n",
      "\n",
      "C:\\Users\\Leonela\\anaconda3\\lib\\site-packages\\scipy\\stats\\_continuous_distns.py:2958: RuntimeWarning:\n",
      "\n",
      "The shape parameter of the erlang distribution has been given a non-integer value 303.76796441426177.\n",
      "\n",
      "C:\\Users\\Leonela\\anaconda3\\lib\\site-packages\\scipy\\stats\\_continuous_distns.py:2958: RuntimeWarning:\n",
      "\n",
      "The shape parameter of the erlang distribution has been given a non-integer value 305.55184515678616.\n",
      "\n",
      "C:\\Users\\Leonela\\anaconda3\\lib\\site-packages\\scipy\\stats\\_continuous_distns.py:2958: RuntimeWarning:\n",
      "\n",
      "The shape parameter of the erlang distribution has been given a non-integer value 307.04800736563936.\n",
      "\n",
      "C:\\Users\\Leonela\\anaconda3\\lib\\site-packages\\scipy\\stats\\_continuous_distns.py:2958: RuntimeWarning:\n",
      "\n",
      "The shape parameter of the erlang distribution has been given a non-integer value 306.519800513693.\n",
      "\n",
      "C:\\Users\\Leonela\\anaconda3\\lib\\site-packages\\scipy\\stats\\_continuous_distns.py:2958: RuntimeWarning:\n",
      "\n",
      "The shape parameter of the erlang distribution has been given a non-integer value 308.099787027003.\n",
      "\n",
      "C:\\Users\\Leonela\\anaconda3\\lib\\site-packages\\scipy\\stats\\_continuous_distns.py:2958: RuntimeWarning:\n",
      "\n",
      "The shape parameter of the erlang distribution has been given a non-integer value 311.5801702208955.\n",
      "\n",
      "C:\\Users\\Leonela\\anaconda3\\lib\\site-packages\\scipy\\stats\\_continuous_distns.py:2958: RuntimeWarning:\n",
      "\n",
      "The shape parameter of the erlang distribution has been given a non-integer value 309.7731942374837.\n",
      "\n",
      "C:\\Users\\Leonela\\anaconda3\\lib\\site-packages\\scipy\\stats\\_continuous_distns.py:2958: RuntimeWarning:\n",
      "\n",
      "The shape parameter of the erlang distribution has been given a non-integer value 311.13578767340596.\n",
      "\n",
      "C:\\Users\\Leonela\\anaconda3\\lib\\site-packages\\scipy\\stats\\_continuous_distns.py:2958: RuntimeWarning:\n",
      "\n",
      "The shape parameter of the erlang distribution has been given a non-integer value 304.94477635056785.\n",
      "\n",
      "C:\\Users\\Leonela\\anaconda3\\lib\\site-packages\\scipy\\stats\\_continuous_distns.py:2958: RuntimeWarning:\n",
      "\n",
      "The shape parameter of the erlang distribution has been given a non-integer value 309.9213217533136.\n",
      "\n",
      "C:\\Users\\Leonela\\anaconda3\\lib\\site-packages\\scipy\\stats\\_continuous_distns.py:2958: RuntimeWarning:\n",
      "\n",
      "The shape parameter of the erlang distribution has been given a non-integer value 313.88608581236224.\n",
      "\n",
      "C:\\Users\\Leonela\\anaconda3\\lib\\site-packages\\scipy\\stats\\_continuous_distns.py:2958: RuntimeWarning:\n",
      "\n",
      "The shape parameter of the erlang distribution has been given a non-integer value 315.1956764657182.\n",
      "\n",
      "C:\\Users\\Leonela\\anaconda3\\lib\\site-packages\\scipy\\stats\\_continuous_distns.py:2958: RuntimeWarning:\n",
      "\n",
      "The shape parameter of the erlang distribution has been given a non-integer value 318.74362118507577.\n",
      "\n",
      "C:\\Users\\Leonela\\anaconda3\\lib\\site-packages\\scipy\\stats\\_continuous_distns.py:2958: RuntimeWarning:\n",
      "\n",
      "The shape parameter of the erlang distribution has been given a non-integer value 319.2556746939157.\n",
      "\n",
      "C:\\Users\\Leonela\\anaconda3\\lib\\site-packages\\scipy\\stats\\_continuous_distns.py:2958: RuntimeWarning:\n",
      "\n",
      "The shape parameter of the erlang distribution has been given a non-integer value 323.9228511642168.\n",
      "\n",
      "C:\\Users\\Leonela\\anaconda3\\lib\\site-packages\\scipy\\stats\\_continuous_distns.py:2958: RuntimeWarning:\n",
      "\n",
      "The shape parameter of the erlang distribution has been given a non-integer value 321.98208753610345.\n",
      "\n",
      "C:\\Users\\Leonela\\anaconda3\\lib\\site-packages\\scipy\\stats\\_continuous_distns.py:2958: RuntimeWarning:\n",
      "\n",
      "The shape parameter of the erlang distribution has been given a non-integer value 331.96325225019143.\n",
      "\n",
      "C:\\Users\\Leonela\\anaconda3\\lib\\site-packages\\scipy\\stats\\_continuous_distns.py:2958: RuntimeWarning:\n",
      "\n",
      "The shape parameter of the erlang distribution has been given a non-integer value 333.16850611526536.\n",
      "\n",
      "C:\\Users\\Leonela\\anaconda3\\lib\\site-packages\\scipy\\stats\\_continuous_distns.py:2958: RuntimeWarning:\n",
      "\n",
      "The shape parameter of the erlang distribution has been given a non-integer value 340.38094858036015.\n",
      "\n",
      "C:\\Users\\Leonela\\anaconda3\\lib\\site-packages\\scipy\\stats\\_continuous_distns.py:2958: RuntimeWarning:\n",
      "\n",
      "The shape parameter of the erlang distribution has been given a non-integer value 320.7523776268656.\n",
      "\n",
      "C:\\Users\\Leonela\\anaconda3\\lib\\site-packages\\scipy\\stats\\_continuous_distns.py:2958: RuntimeWarning:\n",
      "\n",
      "The shape parameter of the erlang distribution has been given a non-integer value 329.16053359436.\n",
      "\n",
      "C:\\Users\\Leonela\\anaconda3\\lib\\site-packages\\scipy\\stats\\_continuous_distns.py:2958: RuntimeWarning:\n",
      "\n",
      "The shape parameter of the erlang distribution has been given a non-integer value 335.51917304645804.\n",
      "\n",
      "C:\\Users\\Leonela\\anaconda3\\lib\\site-packages\\scipy\\stats\\_continuous_distns.py:2958: RuntimeWarning:\n",
      "\n",
      "The shape parameter of the erlang distribution has been given a non-integer value 325.3663589136921.\n",
      "\n",
      "C:\\Users\\Leonela\\anaconda3\\lib\\site-packages\\scipy\\stats\\_continuous_distns.py:2958: RuntimeWarning:\n",
      "\n",
      "The shape parameter of the erlang distribution has been given a non-integer value 334.54074791799485.\n",
      "\n",
      "C:\\Users\\Leonela\\anaconda3\\lib\\site-packages\\scipy\\stats\\_continuous_distns.py:2958: RuntimeWarning:\n",
      "\n",
      "The shape parameter of the erlang distribution has been given a non-integer value 332.8898750369416.\n",
      "\n",
      "C:\\Users\\Leonela\\anaconda3\\lib\\site-packages\\scipy\\stats\\_continuous_distns.py:2958: RuntimeWarning:\n",
      "\n",
      "The shape parameter of the erlang distribution has been given a non-integer value 334.7545457582323.\n",
      "\n",
      "C:\\Users\\Leonela\\anaconda3\\lib\\site-packages\\scipy\\stats\\_continuous_distns.py:2958: RuntimeWarning:\n",
      "\n",
      "The shape parameter of the erlang distribution has been given a non-integer value 327.6521926067984.\n",
      "\n",
      "C:\\Users\\Leonela\\anaconda3\\lib\\site-packages\\scipy\\stats\\_continuous_distns.py:2958: RuntimeWarning:\n",
      "\n",
      "The shape parameter of the erlang distribution has been given a non-integer value 338.35047073983856.\n",
      "\n",
      "C:\\Users\\Leonela\\anaconda3\\lib\\site-packages\\scipy\\stats\\_continuous_distns.py:2958: RuntimeWarning:\n",
      "\n",
      "The shape parameter of the erlang distribution has been given a non-integer value 344.84252665291183.\n",
      "\n",
      "C:\\Users\\Leonela\\anaconda3\\lib\\site-packages\\scipy\\stats\\_continuous_distns.py:2958: RuntimeWarning:\n",
      "\n",
      "The shape parameter of the erlang distribution has been given a non-integer value 347.5248597441413.\n",
      "\n",
      "C:\\Users\\Leonela\\anaconda3\\lib\\site-packages\\scipy\\stats\\_continuous_distns.py:2958: RuntimeWarning:\n",
      "\n",
      "The shape parameter of the erlang distribution has been given a non-integer value 332.6203593911341.\n",
      "\n",
      "C:\\Users\\Leonela\\anaconda3\\lib\\site-packages\\scipy\\stats\\_continuous_distns.py:2958: RuntimeWarning:\n",
      "\n",
      "The shape parameter of the erlang distribution has been given a non-integer value 341.6431150862535.\n",
      "\n",
      "C:\\Users\\Leonela\\anaconda3\\lib\\site-packages\\scipy\\stats\\_continuous_distns.py:2958: RuntimeWarning:\n",
      "\n",
      "The shape parameter of the erlang distribution has been given a non-integer value 348.20643227379765.\n",
      "\n",
      "C:\\Users\\Leonela\\anaconda3\\lib\\site-packages\\scipy\\stats\\_continuous_distns.py:2958: RuntimeWarning:\n",
      "\n",
      "The shape parameter of the erlang distribution has been given a non-integer value 355.0401702504097.\n",
      "\n",
      "C:\\Users\\Leonela\\anaconda3\\lib\\site-packages\\scipy\\stats\\_continuous_distns.py:2958: RuntimeWarning:\n",
      "\n",
      "The shape parameter of the erlang distribution has been given a non-integer value 357.0829710318259.\n",
      "\n",
      "C:\\Users\\Leonela\\anaconda3\\lib\\site-packages\\scipy\\stats\\_continuous_distns.py:2958: RuntimeWarning:\n",
      "\n",
      "The shape parameter of the erlang distribution has been given a non-integer value 345.5030790726466.\n",
      "\n",
      "C:\\Users\\Leonela\\anaconda3\\lib\\site-packages\\scipy\\stats\\_continuous_distns.py:2958: RuntimeWarning:\n",
      "\n",
      "The shape parameter of the erlang distribution has been given a non-integer value 348.7174183768477.\n",
      "\n",
      "C:\\Users\\Leonela\\anaconda3\\lib\\site-packages\\scipy\\stats\\_continuous_distns.py:2958: RuntimeWarning:\n",
      "\n",
      "The shape parameter of the erlang distribution has been given a non-integer value 348.97291142837275.\n",
      "\n",
      "C:\\Users\\Leonela\\anaconda3\\lib\\site-packages\\scipy\\stats\\_continuous_distns.py:2958: RuntimeWarning:\n",
      "\n",
      "The shape parameter of the erlang distribution has been given a non-integer value 337.8388411855444.\n",
      "\n",
      "C:\\Users\\Leonela\\anaconda3\\lib\\site-packages\\scipy\\stats\\_continuous_distns.py:2958: RuntimeWarning:\n",
      "\n",
      "The shape parameter of the erlang distribution has been given a non-integer value 342.13917345176077.\n",
      "\n",
      "C:\\Users\\Leonela\\anaconda3\\lib\\site-packages\\scipy\\stats\\_continuous_distns.py:2958: RuntimeWarning:\n",
      "\n",
      "The shape parameter of the erlang distribution has been given a non-integer value 346.2342493156083.\n",
      "\n",
      "C:\\Users\\Leonela\\anaconda3\\lib\\site-packages\\scipy\\stats\\_continuous_distns.py:2958: RuntimeWarning:\n",
      "\n",
      "The shape parameter of the erlang distribution has been given a non-integer value 346.0611437245146.\n",
      "\n",
      "C:\\Users\\Leonela\\anaconda3\\lib\\site-packages\\scipy\\stats\\_continuous_distns.py:2958: RuntimeWarning:\n",
      "\n",
      "The shape parameter of the erlang distribution has been given a non-integer value 346.3401760504486.\n",
      "\n",
      "C:\\Users\\Leonela\\anaconda3\\lib\\site-packages\\scipy\\stats\\_continuous_distns.py:2958: RuntimeWarning:\n",
      "\n",
      "The shape parameter of the erlang distribution has been given a non-integer value 352.0396961939029.\n",
      "\n",
      "C:\\Users\\Leonela\\anaconda3\\lib\\site-packages\\scipy\\stats\\_continuous_distns.py:2958: RuntimeWarning:\n",
      "\n",
      "The shape parameter of the erlang distribution has been given a non-integer value 356.9899575649739.\n",
      "\n",
      "C:\\Users\\Leonela\\anaconda3\\lib\\site-packages\\scipy\\stats\\_continuous_distns.py:2958: RuntimeWarning:\n",
      "\n",
      "The shape parameter of the erlang distribution has been given a non-integer value 355.1150924962992.\n",
      "\n",
      "C:\\Users\\Leonela\\anaconda3\\lib\\site-packages\\scipy\\stats\\_continuous_distns.py:2958: RuntimeWarning:\n",
      "\n",
      "The shape parameter of the erlang distribution has been given a non-integer value 348.45446011078104.\n",
      "\n",
      "C:\\Users\\Leonela\\anaconda3\\lib\\site-packages\\scipy\\stats\\_continuous_distns.py:2958: RuntimeWarning:\n",
      "\n",
      "The shape parameter of the erlang distribution has been given a non-integer value 352.03079617180686.\n",
      "\n",
      "C:\\Users\\Leonela\\anaconda3\\lib\\site-packages\\scipy\\stats\\_continuous_distns.py:2958: RuntimeWarning:\n",
      "\n",
      "The shape parameter of the erlang distribution has been given a non-integer value 353.55973854352396.\n",
      "\n",
      "C:\\Users\\Leonela\\anaconda3\\lib\\site-packages\\scipy\\stats\\_continuous_distns.py:2958: RuntimeWarning:\n",
      "\n",
      "The shape parameter of the erlang distribution has been given a non-integer value 359.94162708833807.\n",
      "\n",
      "C:\\Users\\Leonela\\anaconda3\\lib\\site-packages\\scipy\\stats\\_continuous_distns.py:2958: RuntimeWarning:\n",
      "\n",
      "The shape parameter of the erlang distribution has been given a non-integer value 366.88186877024975.\n",
      "\n",
      "C:\\Users\\Leonela\\anaconda3\\lib\\site-packages\\scipy\\stats\\_continuous_distns.py:2958: RuntimeWarning:\n",
      "\n",
      "The shape parameter of the erlang distribution has been given a non-integer value 365.2064220204428.\n",
      "\n",
      "C:\\Users\\Leonela\\anaconda3\\lib\\site-packages\\scipy\\stats\\_continuous_distns.py:2958: RuntimeWarning:\n",
      "\n",
      "The shape parameter of the erlang distribution has been given a non-integer value 361.01843154302736.\n",
      "\n",
      "C:\\Users\\Leonela\\anaconda3\\lib\\site-packages\\scipy\\stats\\_continuous_distns.py:2958: RuntimeWarning:\n",
      "\n",
      "The shape parameter of the erlang distribution has been given a non-integer value 359.35657388495235.\n",
      "\n",
      "C:\\Users\\Leonela\\anaconda3\\lib\\site-packages\\scipy\\stats\\_continuous_distns.py:2958: RuntimeWarning:\n",
      "\n",
      "The shape parameter of the erlang distribution has been given a non-integer value 360.5398820449416.\n",
      "\n",
      "C:\\Users\\Leonela\\anaconda3\\lib\\site-packages\\scipy\\stats\\_continuous_distns.py:2958: RuntimeWarning:\n",
      "\n",
      "The shape parameter of the erlang distribution has been given a non-integer value 366.65134980068797.\n",
      "\n",
      "C:\\Users\\Leonela\\anaconda3\\lib\\site-packages\\scipy\\stats\\_continuous_distns.py:2958: RuntimeWarning:\n",
      "\n",
      "The shape parameter of the erlang distribution has been given a non-integer value 363.37844698639697.\n",
      "\n",
      "C:\\Users\\Leonela\\anaconda3\\lib\\site-packages\\scipy\\stats\\_continuous_distns.py:2958: RuntimeWarning:\n",
      "\n",
      "The shape parameter of the erlang distribution has been given a non-integer value 360.76600043009756.\n",
      "\n",
      "C:\\Users\\Leonela\\anaconda3\\lib\\site-packages\\scipy\\stats\\_continuous_distns.py:2958: RuntimeWarning:\n",
      "\n",
      "The shape parameter of the erlang distribution has been given a non-integer value 360.6397848736327.\n",
      "\n",
      "C:\\Users\\Leonela\\anaconda3\\lib\\site-packages\\scipy\\stats\\_continuous_distns.py:2958: RuntimeWarning:\n",
      "\n",
      "The shape parameter of the erlang distribution has been given a non-integer value 362.3923871126265.\n",
      "\n",
      "C:\\Users\\Leonela\\anaconda3\\lib\\site-packages\\scipy\\stats\\_continuous_distns.py:2958: RuntimeWarning:\n",
      "\n",
      "The shape parameter of the erlang distribution has been given a non-integer value 363.6177671247707.\n",
      "\n",
      "C:\\Users\\Leonela\\anaconda3\\lib\\site-packages\\scipy\\stats\\_continuous_distns.py:2958: RuntimeWarning:\n",
      "\n",
      "The shape parameter of the erlang distribution has been given a non-integer value 358.29819396538744.\n",
      "\n",
      "C:\\Users\\Leonela\\anaconda3\\lib\\site-packages\\scipy\\stats\\_continuous_distns.py:2958: RuntimeWarning:\n",
      "\n",
      "The shape parameter of the erlang distribution has been given a non-integer value 362.1083837311446.\n",
      "\n",
      "C:\\Users\\Leonela\\anaconda3\\lib\\site-packages\\scipy\\stats\\_continuous_distns.py:2958: RuntimeWarning:\n",
      "\n",
      "The shape parameter of the erlang distribution has been given a non-integer value 364.1546069642934.\n",
      "\n",
      "C:\\Users\\Leonela\\anaconda3\\lib\\site-packages\\scipy\\stats\\_continuous_distns.py:2958: RuntimeWarning:\n",
      "\n",
      "The shape parameter of the erlang distribution has been given a non-integer value 366.553623503964.\n",
      "\n",
      "C:\\Users\\Leonela\\anaconda3\\lib\\site-packages\\scipy\\stats\\_continuous_distns.py:2958: RuntimeWarning:\n",
      "\n",
      "The shape parameter of the erlang distribution has been given a non-integer value 362.76694594020034.\n",
      "\n",
      "C:\\Users\\Leonela\\anaconda3\\lib\\site-packages\\scipy\\stats\\_continuous_distns.py:2958: RuntimeWarning:\n",
      "\n",
      "The shape parameter of the erlang distribution has been given a non-integer value 363.09622704472827.\n",
      "\n",
      "C:\\Users\\Leonela\\anaconda3\\lib\\site-packages\\scipy\\stats\\_continuous_distns.py:2958: RuntimeWarning:\n",
      "\n",
      "The shape parameter of the erlang distribution has been given a non-integer value 365.44329291464936.\n",
      "\n",
      "C:\\Users\\Leonela\\anaconda3\\lib\\site-packages\\scipy\\stats\\_continuous_distns.py:2958: RuntimeWarning:\n",
      "\n",
      "The shape parameter of the erlang distribution has been given a non-integer value 367.7819391569252.\n",
      "\n",
      "C:\\Users\\Leonela\\anaconda3\\lib\\site-packages\\scipy\\stats\\_continuous_distns.py:2958: RuntimeWarning:\n",
      "\n",
      "The shape parameter of the erlang distribution has been given a non-integer value 365.8508434334688.\n",
      "\n",
      "C:\\Users\\Leonela\\anaconda3\\lib\\site-packages\\scipy\\stats\\_continuous_distns.py:2958: RuntimeWarning:\n",
      "\n",
      "The shape parameter of the erlang distribution has been given a non-integer value 367.58007159389.\n",
      "\n",
      "C:\\Users\\Leonela\\anaconda3\\lib\\site-packages\\scipy\\stats\\_continuous_distns.py:2958: RuntimeWarning:\n",
      "\n",
      "The shape parameter of the erlang distribution has been given a non-integer value 365.21944789458564.\n",
      "\n",
      "C:\\Users\\Leonela\\anaconda3\\lib\\site-packages\\scipy\\stats\\_continuous_distns.py:2958: RuntimeWarning:\n",
      "\n",
      "The shape parameter of the erlang distribution has been given a non-integer value 365.7518683597318.\n",
      "\n",
      "C:\\Users\\Leonela\\anaconda3\\lib\\site-packages\\scipy\\stats\\_continuous_distns.py:2958: RuntimeWarning:\n",
      "\n",
      "The shape parameter of the erlang distribution has been given a non-integer value 368.2421102216023.\n",
      "\n",
      "C:\\Users\\Leonela\\anaconda3\\lib\\site-packages\\scipy\\stats\\_continuous_distns.py:2958: RuntimeWarning:\n",
      "\n",
      "The shape parameter of the erlang distribution has been given a non-integer value 370.97969236230324.\n",
      "\n",
      "C:\\Users\\Leonela\\anaconda3\\lib\\site-packages\\scipy\\stats\\_continuous_distns.py:2958: RuntimeWarning:\n",
      "\n",
      "The shape parameter of the erlang distribution has been given a non-integer value 367.4316414517884.\n",
      "\n",
      "C:\\Users\\Leonela\\anaconda3\\lib\\site-packages\\scipy\\stats\\_continuous_distns.py:2958: RuntimeWarning:\n",
      "\n",
      "The shape parameter of the erlang distribution has been given a non-integer value 368.42581572035795.\n",
      "\n",
      "C:\\Users\\Leonela\\anaconda3\\lib\\site-packages\\scipy\\stats\\_continuous_distns.py:2958: RuntimeWarning:\n",
      "\n",
      "The shape parameter of the erlang distribution has been given a non-integer value 368.0779562785154.\n",
      "\n",
      "C:\\Users\\Leonela\\anaconda3\\lib\\site-packages\\scipy\\stats\\_continuous_distns.py:2958: RuntimeWarning:\n",
      "\n",
      "The shape parameter of the erlang distribution has been given a non-integer value 369.19151270103873.\n",
      "\n",
      "C:\\Users\\Leonela\\anaconda3\\lib\\site-packages\\scipy\\stats\\_continuous_distns.py:2958: RuntimeWarning:\n",
      "\n",
      "The shape parameter of the erlang distribution has been given a non-integer value 371.35739502170065.\n",
      "\n",
      "C:\\Users\\Leonela\\anaconda3\\lib\\site-packages\\scipy\\stats\\_continuous_distns.py:2958: RuntimeWarning:\n",
      "\n",
      "The shape parameter of the erlang distribution has been given a non-integer value 374.42636858525816.\n",
      "\n",
      "C:\\Users\\Leonela\\anaconda3\\lib\\site-packages\\scipy\\stats\\_continuous_distns.py:2958: RuntimeWarning:\n",
      "\n",
      "The shape parameter of the erlang distribution has been given a non-integer value 370.4115892280829.\n",
      "\n",
      "C:\\Users\\Leonela\\anaconda3\\lib\\site-packages\\scipy\\stats\\_continuous_distns.py:2958: RuntimeWarning:\n",
      "\n",
      "The shape parameter of the erlang distribution has been given a non-integer value 371.4963287313233.\n",
      "\n",
      "C:\\Users\\Leonela\\anaconda3\\lib\\site-packages\\scipy\\stats\\_continuous_distns.py:2958: RuntimeWarning:\n",
      "\n",
      "The shape parameter of the erlang distribution has been given a non-integer value 373.9318495175867.\n",
      "\n",
      "C:\\Users\\Leonela\\anaconda3\\lib\\site-packages\\scipy\\stats\\_continuous_distns.py:2958: RuntimeWarning:\n",
      "\n",
      "The shape parameter of the erlang distribution has been given a non-integer value 375.3322028127018.\n",
      "\n",
      "C:\\Users\\Leonela\\anaconda3\\lib\\site-packages\\scipy\\stats\\_continuous_distns.py:2958: RuntimeWarning:\n",
      "\n",
      "The shape parameter of the erlang distribution has been given a non-integer value 378.40254786853325.\n",
      "\n",
      "C:\\Users\\Leonela\\anaconda3\\lib\\site-packages\\scipy\\stats\\_continuous_distns.py:2958: RuntimeWarning:\n",
      "\n",
      "The shape parameter of the erlang distribution has been given a non-integer value 377.86308905659484.\n",
      "\n",
      "C:\\Users\\Leonela\\anaconda3\\lib\\site-packages\\scipy\\stats\\_continuous_distns.py:2958: RuntimeWarning:\n",
      "\n",
      "The shape parameter of the erlang distribution has been given a non-integer value 381.1159360740419.\n",
      "\n",
      "C:\\Users\\Leonela\\anaconda3\\lib\\site-packages\\scipy\\stats\\_continuous_distns.py:2958: RuntimeWarning:\n",
      "\n",
      "The shape parameter of the erlang distribution has been given a non-integer value 380.0780255983455.\n",
      "\n",
      "C:\\Users\\Leonela\\anaconda3\\lib\\site-packages\\scipy\\stats\\_continuous_distns.py:2958: RuntimeWarning:\n",
      "\n",
      "The shape parameter of the erlang distribution has been given a non-integer value 388.23467762929045.\n",
      "\n",
      "C:\\Users\\Leonela\\anaconda3\\lib\\site-packages\\scipy\\stats\\_continuous_distns.py:2958: RuntimeWarning:\n",
      "\n",
      "The shape parameter of the erlang distribution has been given a non-integer value 396.60385207827403.\n",
      "\n",
      "C:\\Users\\Leonela\\anaconda3\\lib\\site-packages\\scipy\\stats\\_continuous_distns.py:2958: RuntimeWarning:\n",
      "\n",
      "The shape parameter of the erlang distribution has been given a non-integer value 387.88321166591857.\n",
      "\n",
      "C:\\Users\\Leonela\\anaconda3\\lib\\site-packages\\scipy\\stats\\_continuous_distns.py:2958: RuntimeWarning:\n",
      "\n",
      "The shape parameter of the erlang distribution has been given a non-integer value 392.6235435646113.\n",
      "\n",
      "C:\\Users\\Leonela\\anaconda3\\lib\\site-packages\\scipy\\stats\\_continuous_distns.py:2958: RuntimeWarning:\n",
      "\n",
      "The shape parameter of the erlang distribution has been given a non-integer value 394.5714125802836.\n",
      "\n",
      "C:\\Users\\Leonela\\anaconda3\\lib\\site-packages\\scipy\\stats\\_continuous_distns.py:2958: RuntimeWarning:\n",
      "\n",
      "The shape parameter of the erlang distribution has been given a non-integer value 383.70137234383003.\n",
      "\n",
      "C:\\Users\\Leonela\\anaconda3\\lib\\site-packages\\scipy\\stats\\_continuous_distns.py:2958: RuntimeWarning:\n",
      "\n",
      "The shape parameter of the erlang distribution has been given a non-integer value 395.25712628444603.\n",
      "\n",
      "C:\\Users\\Leonela\\anaconda3\\lib\\site-packages\\scipy\\stats\\_continuous_distns.py:2958: RuntimeWarning:\n",
      "\n",
      "The shape parameter of the erlang distribution has been given a non-integer value 402.3277213896481.\n",
      "\n",
      "C:\\Users\\Leonela\\anaconda3\\lib\\site-packages\\scipy\\stats\\_continuous_distns.py:2958: RuntimeWarning:\n",
      "\n",
      "The shape parameter of the erlang distribution has been given a non-integer value 392.8200171659679.\n",
      "\n",
      "C:\\Users\\Leonela\\anaconda3\\lib\\site-packages\\scipy\\stats\\_continuous_distns.py:2958: RuntimeWarning:\n",
      "\n",
      "The shape parameter of the erlang distribution has been given a non-integer value 389.38101251345984.\n",
      "\n",
      "C:\\Users\\Leonela\\anaconda3\\lib\\site-packages\\scipy\\stats\\_continuous_distns.py:2958: RuntimeWarning:\n",
      "\n",
      "The shape parameter of the erlang distribution has been given a non-integer value 401.13974923118144.\n",
      "\n",
      "C:\\Users\\Leonela\\anaconda3\\lib\\site-packages\\scipy\\stats\\_continuous_distns.py:2958: RuntimeWarning:\n",
      "\n",
      "The shape parameter of the erlang distribution has been given a non-integer value 403.29926687336604.\n",
      "\n",
      "C:\\Users\\Leonela\\anaconda3\\lib\\site-packages\\scipy\\stats\\_continuous_distns.py:2958: RuntimeWarning:\n",
      "\n",
      "The shape parameter of the erlang distribution has been given a non-integer value 410.2583940533191.\n",
      "\n",
      "C:\\Users\\Leonela\\anaconda3\\lib\\site-packages\\scipy\\stats\\_continuous_distns.py:2958: RuntimeWarning:\n",
      "\n",
      "The shape parameter of the erlang distribution has been given a non-integer value 407.1738846947177.\n",
      "\n",
      "C:\\Users\\Leonela\\anaconda3\\lib\\site-packages\\scipy\\stats\\_continuous_distns.py:2958: RuntimeWarning:\n",
      "\n",
      "The shape parameter of the erlang distribution has been given a non-integer value 396.2611288471379.\n",
      "\n",
      "C:\\Users\\Leonela\\anaconda3\\lib\\site-packages\\scipy\\stats\\_continuous_distns.py:2958: RuntimeWarning:\n",
      "\n",
      "The shape parameter of the erlang distribution has been given a non-integer value 395.40526543878525.\n",
      "\n",
      "C:\\Users\\Leonela\\anaconda3\\lib\\site-packages\\scipy\\stats\\_continuous_distns.py:2958: RuntimeWarning:\n",
      "\n",
      "The shape parameter of the erlang distribution has been given a non-integer value 401.3866478217467.\n",
      "\n",
      "C:\\Users\\Leonela\\anaconda3\\lib\\site-packages\\scipy\\stats\\_continuous_distns.py:2958: RuntimeWarning:\n",
      "\n",
      "The shape parameter of the erlang distribution has been given a non-integer value 405.2260969227152.\n",
      "\n",
      "C:\\Users\\Leonela\\anaconda3\\lib\\site-packages\\scipy\\stats\\_continuous_distns.py:2958: RuntimeWarning:\n",
      "\n",
      "The shape parameter of the erlang distribution has been given a non-integer value 402.7708890517327.\n",
      "\n",
      "C:\\Users\\Leonela\\anaconda3\\lib\\site-packages\\scipy\\stats\\_continuous_distns.py:2958: RuntimeWarning:\n",
      "\n",
      "The shape parameter of the erlang distribution has been given a non-integer value 408.7100736507591.\n",
      "\n",
      "C:\\Users\\Leonela\\anaconda3\\lib\\site-packages\\scipy\\stats\\_continuous_distns.py:2958: RuntimeWarning:\n",
      "\n",
      "The shape parameter of the erlang distribution has been given a non-integer value 414.93454605256966.\n",
      "\n",
      "C:\\Users\\Leonela\\anaconda3\\lib\\site-packages\\scipy\\stats\\_continuous_distns.py:2958: RuntimeWarning:\n",
      "\n",
      "The shape parameter of the erlang distribution has been given a non-integer value 406.1597698455153.\n",
      "\n",
      "C:\\Users\\Leonela\\anaconda3\\lib\\site-packages\\scipy\\stats\\_continuous_distns.py:2958: RuntimeWarning:\n",
      "\n",
      "The shape parameter of the erlang distribution has been given a non-integer value 407.85421024240657.\n",
      "\n",
      "C:\\Users\\Leonela\\anaconda3\\lib\\site-packages\\scipy\\stats\\_continuous_distns.py:2958: RuntimeWarning:\n",
      "\n",
      "The shape parameter of the erlang distribution has been given a non-integer value 411.8557193559411.\n",
      "\n",
      "C:\\Users\\Leonela\\anaconda3\\lib\\site-packages\\scipy\\stats\\_continuous_distns.py:2958: RuntimeWarning:\n",
      "\n",
      "The shape parameter of the erlang distribution has been given a non-integer value 404.0039157052953.\n",
      "\n",
      "C:\\Users\\Leonela\\anaconda3\\lib\\site-packages\\scipy\\stats\\_continuous_distns.py:2958: RuntimeWarning:\n",
      "\n",
      "The shape parameter of the erlang distribution has been given a non-integer value 410.4128661922746.\n",
      "\n",
      "C:\\Users\\Leonela\\anaconda3\\lib\\site-packages\\scipy\\stats\\_continuous_distns.py:2958: RuntimeWarning:\n",
      "\n",
      "The shape parameter of the erlang distribution has been given a non-integer value 413.9696658517289.\n",
      "\n",
      "C:\\Users\\Leonela\\anaconda3\\lib\\site-packages\\scipy\\stats\\_continuous_distns.py:2958: RuntimeWarning:\n",
      "\n",
      "The shape parameter of the erlang distribution has been given a non-integer value 408.5084542155281.\n",
      "\n",
      "C:\\Users\\Leonela\\anaconda3\\lib\\site-packages\\scipy\\stats\\_continuous_distns.py:2958: RuntimeWarning:\n",
      "\n",
      "The shape parameter of the erlang distribution has been given a non-integer value 416.21763783448046.\n",
      "\n",
      "C:\\Users\\Leonela\\anaconda3\\lib\\site-packages\\scipy\\stats\\_continuous_distns.py:2958: RuntimeWarning:\n",
      "\n",
      "The shape parameter of the erlang distribution has been given a non-integer value 422.324498899073.\n",
      "\n",
      "C:\\Users\\Leonela\\anaconda3\\lib\\site-packages\\scipy\\stats\\_continuous_distns.py:2958: RuntimeWarning:\n",
      "\n",
      "The shape parameter of the erlang distribution has been given a non-integer value 420.92379577994427.\n",
      "\n",
      "C:\\Users\\Leonela\\anaconda3\\lib\\site-packages\\scipy\\stats\\_continuous_distns.py:2958: RuntimeWarning:\n",
      "\n",
      "The shape parameter of the erlang distribution has been given a non-integer value 411.61228960663215.\n",
      "\n",
      "C:\\Users\\Leonela\\anaconda3\\lib\\site-packages\\scipy\\stats\\_continuous_distns.py:2958: RuntimeWarning:\n",
      "\n",
      "The shape parameter of the erlang distribution has been given a non-integer value 424.08342599588286.\n",
      "\n",
      "C:\\Users\\Leonela\\anaconda3\\lib\\site-packages\\scipy\\stats\\_continuous_distns.py:2958: RuntimeWarning:\n",
      "\n",
      "The shape parameter of the erlang distribution has been given a non-integer value 411.9115141807756.\n",
      "\n",
      "C:\\Users\\Leonela\\anaconda3\\lib\\site-packages\\scipy\\stats\\_continuous_distns.py:2958: RuntimeWarning:\n",
      "\n",
      "The shape parameter of the erlang distribution has been given a non-integer value 416.5958692725916.\n",
      "\n",
      "C:\\Users\\Leonela\\anaconda3\\lib\\site-packages\\scipy\\stats\\_continuous_distns.py:2958: RuntimeWarning:\n",
      "\n",
      "The shape parameter of the erlang distribution has been given a non-integer value 417.908970983023.\n",
      "\n",
      "C:\\Users\\Leonela\\anaconda3\\lib\\site-packages\\scipy\\stats\\_continuous_distns.py:2958: RuntimeWarning:\n",
      "\n",
      "The shape parameter of the erlang distribution has been given a non-integer value 422.2756319616612.\n",
      "\n",
      "C:\\Users\\Leonela\\anaconda3\\lib\\site-packages\\scipy\\stats\\_continuous_distns.py:2958: RuntimeWarning:\n",
      "\n",
      "The shape parameter of the erlang distribution has been given a non-integer value 427.60730313917577.\n",
      "\n",
      "C:\\Users\\Leonela\\anaconda3\\lib\\site-packages\\scipy\\stats\\_continuous_distns.py:2958: RuntimeWarning:\n",
      "\n",
      "The shape parameter of the erlang distribution has been given a non-integer value 428.8858192414415.\n",
      "\n",
      "C:\\Users\\Leonela\\anaconda3\\lib\\site-packages\\scipy\\stats\\_continuous_distns.py:2958: RuntimeWarning:\n",
      "\n",
      "The shape parameter of the erlang distribution has been given a non-integer value 422.84704808472304.\n",
      "\n",
      "C:\\Users\\Leonela\\anaconda3\\lib\\site-packages\\scipy\\stats\\_continuous_distns.py:2958: RuntimeWarning:\n",
      "\n",
      "The shape parameter of the erlang distribution has been given a non-integer value 423.10832267754813.\n",
      "\n",
      "C:\\Users\\Leonela\\anaconda3\\lib\\site-packages\\scipy\\stats\\_continuous_distns.py:2958: RuntimeWarning:\n",
      "\n",
      "The shape parameter of the erlang distribution has been given a non-integer value 432.7431302526254.\n",
      "\n",
      "C:\\Users\\Leonela\\anaconda3\\lib\\site-packages\\scipy\\stats\\_continuous_distns.py:2958: RuntimeWarning:\n",
      "\n",
      "The shape parameter of the erlang distribution has been given a non-integer value 420.63268451760007.\n",
      "\n",
      "C:\\Users\\Leonela\\anaconda3\\lib\\site-packages\\scipy\\stats\\_continuous_distns.py:2958: RuntimeWarning:\n",
      "\n",
      "The shape parameter of the erlang distribution has been given a non-integer value 414.9510904678814.\n",
      "\n",
      "C:\\Users\\Leonela\\anaconda3\\lib\\site-packages\\scipy\\stats\\_continuous_distns.py:2958: RuntimeWarning:\n",
      "\n",
      "The shape parameter of the erlang distribution has been given a non-integer value 425.4021370480515.\n",
      "\n",
      "C:\\Users\\Leonela\\anaconda3\\lib\\site-packages\\scipy\\stats\\_continuous_distns.py:2958: RuntimeWarning:\n",
      "\n",
      "The shape parameter of the erlang distribution has been given a non-integer value 423.64561447192176.\n",
      "\n",
      "C:\\Users\\Leonela\\anaconda3\\lib\\site-packages\\scipy\\stats\\_continuous_distns.py:2958: RuntimeWarning:\n",
      "\n",
      "The shape parameter of the erlang distribution has been given a non-integer value 424.3306057270521.\n",
      "\n",
      "C:\\Users\\Leonela\\anaconda3\\lib\\site-packages\\scipy\\stats\\_continuous_distns.py:2958: RuntimeWarning:\n",
      "\n",
      "The shape parameter of the erlang distribution has been given a non-integer value 427.2971818855308.\n",
      "\n",
      "C:\\Users\\Leonela\\anaconda3\\lib\\site-packages\\scipy\\stats\\_continuous_distns.py:2958: RuntimeWarning:\n",
      "\n",
      "The shape parameter of the erlang distribution has been given a non-integer value 430.6294305694962.\n",
      "\n",
      "C:\\Users\\Leonela\\anaconda3\\lib\\site-packages\\scipy\\stats\\_continuous_distns.py:2958: RuntimeWarning:\n",
      "\n",
      "The shape parameter of the erlang distribution has been given a non-integer value 426.0125917027092.\n",
      "\n",
      "C:\\Users\\Leonela\\anaconda3\\lib\\site-packages\\scipy\\stats\\_continuous_distns.py:2958: RuntimeWarning:\n",
      "\n",
      "The shape parameter of the erlang distribution has been given a non-integer value 425.5547507117159.\n",
      "\n",
      "C:\\Users\\Leonela\\anaconda3\\lib\\site-packages\\scipy\\stats\\_continuous_distns.py:2958: RuntimeWarning:\n",
      "\n",
      "The shape parameter of the erlang distribution has been given a non-integer value 430.3728157506995.\n",
      "\n",
      "C:\\Users\\Leonela\\anaconda3\\lib\\site-packages\\scipy\\stats\\_continuous_distns.py:2958: RuntimeWarning:\n",
      "\n",
      "The shape parameter of the erlang distribution has been given a non-integer value 434.05905021601933.\n",
      "\n",
      "C:\\Users\\Leonela\\anaconda3\\lib\\site-packages\\scipy\\stats\\_continuous_distns.py:2958: RuntimeWarning:\n",
      "\n",
      "The shape parameter of the erlang distribution has been given a non-integer value 437.8194469790941.\n",
      "\n",
      "C:\\Users\\Leonela\\anaconda3\\lib\\site-packages\\scipy\\stats\\_continuous_distns.py:2958: RuntimeWarning:\n",
      "\n",
      "The shape parameter of the erlang distribution has been given a non-integer value 431.82207865017386.\n",
      "\n",
      "C:\\Users\\Leonela\\anaconda3\\lib\\site-packages\\scipy\\stats\\_continuous_distns.py:2958: RuntimeWarning:\n",
      "\n",
      "The shape parameter of the erlang distribution has been given a non-integer value 430.70359286725113.\n",
      "\n",
      "C:\\Users\\Leonela\\anaconda3\\lib\\site-packages\\scipy\\stats\\_continuous_distns.py:2958: RuntimeWarning:\n",
      "\n",
      "The shape parameter of the erlang distribution has been given a non-integer value 424.0634363344857.\n",
      "\n",
      "C:\\Users\\Leonela\\anaconda3\\lib\\site-packages\\scipy\\stats\\_continuous_distns.py:2958: RuntimeWarning:\n",
      "\n",
      "The shape parameter of the erlang distribution has been given a non-integer value 434.38044431794196.\n",
      "\n",
      "C:\\Users\\Leonela\\anaconda3\\lib\\site-packages\\scipy\\stats\\_continuous_distns.py:2958: RuntimeWarning:\n",
      "\n",
      "The shape parameter of the erlang distribution has been given a non-integer value 434.1818199410418.\n",
      "\n",
      "C:\\Users\\Leonela\\anaconda3\\lib\\site-packages\\scipy\\stats\\_continuous_distns.py:2958: RuntimeWarning:\n",
      "\n",
      "The shape parameter of the erlang distribution has been given a non-integer value 436.086322036213.\n",
      "\n",
      "C:\\Users\\Leonela\\anaconda3\\lib\\site-packages\\scipy\\stats\\_continuous_distns.py:2958: RuntimeWarning:\n",
      "\n",
      "The shape parameter of the erlang distribution has been given a non-integer value 437.563132766723.\n",
      "\n",
      "C:\\Users\\Leonela\\anaconda3\\lib\\site-packages\\scipy\\stats\\_continuous_distns.py:2958: RuntimeWarning:\n",
      "\n",
      "The shape parameter of the erlang distribution has been given a non-integer value 441.02998386533636.\n",
      "\n",
      "C:\\Users\\Leonela\\anaconda3\\lib\\site-packages\\scipy\\stats\\_continuous_distns.py:2958: RuntimeWarning:\n",
      "\n",
      "The shape parameter of the erlang distribution has been given a non-integer value 438.2451453832068.\n",
      "\n",
      "C:\\Users\\Leonela\\anaconda3\\lib\\site-packages\\scipy\\stats\\_continuous_distns.py:2958: RuntimeWarning:\n",
      "\n",
      "The shape parameter of the erlang distribution has been given a non-integer value 445.08555553966363.\n",
      "\n",
      "C:\\Users\\Leonela\\anaconda3\\lib\\site-packages\\scipy\\stats\\_continuous_distns.py:2958: RuntimeWarning:\n",
      "\n",
      "The shape parameter of the erlang distribution has been given a non-integer value 443.22276224426844.\n",
      "\n",
      "C:\\Users\\Leonela\\anaconda3\\lib\\site-packages\\scipy\\stats\\_continuous_distns.py:2958: RuntimeWarning:\n",
      "\n",
      "The shape parameter of the erlang distribution has been given a non-integer value 441.97835802900306.\n",
      "\n",
      "C:\\Users\\Leonela\\anaconda3\\lib\\site-packages\\scipy\\stats\\_continuous_distns.py:2958: RuntimeWarning:\n",
      "\n",
      "The shape parameter of the erlang distribution has been given a non-integer value 449.3096095864556.\n",
      "\n",
      "C:\\Users\\Leonela\\anaconda3\\lib\\site-packages\\scipy\\stats\\_continuous_distns.py:2958: RuntimeWarning:\n",
      "\n",
      "The shape parameter of the erlang distribution has been given a non-integer value 448.3050746319673.\n",
      "\n",
      "C:\\Users\\Leonela\\anaconda3\\lib\\site-packages\\scipy\\stats\\_continuous_distns.py:2958: RuntimeWarning:\n",
      "\n",
      "The shape parameter of the erlang distribution has been given a non-integer value 451.4684329334493.\n",
      "\n",
      "C:\\Users\\Leonela\\anaconda3\\lib\\site-packages\\scipy\\stats\\_continuous_distns.py:2958: RuntimeWarning:\n",
      "\n",
      "The shape parameter of the erlang distribution has been given a non-integer value 440.30413310485585.\n",
      "\n",
      "C:\\Users\\Leonela\\anaconda3\\lib\\site-packages\\scipy\\stats\\_continuous_distns.py:2958: RuntimeWarning:\n",
      "\n",
      "The shape parameter of the erlang distribution has been given a non-integer value 447.0582404660557.\n",
      "\n",
      "C:\\Users\\Leonela\\anaconda3\\lib\\site-packages\\scipy\\stats\\_continuous_distns.py:2958: RuntimeWarning:\n",
      "\n",
      "The shape parameter of the erlang distribution has been given a non-integer value 445.84331043590925.\n",
      "\n",
      "C:\\Users\\Leonela\\anaconda3\\lib\\site-packages\\scipy\\stats\\_continuous_distns.py:2958: RuntimeWarning:\n",
      "\n",
      "The shape parameter of the erlang distribution has been given a non-integer value 446.222187884032.\n",
      "\n",
      "C:\\Users\\Leonela\\anaconda3\\lib\\site-packages\\scipy\\stats\\_continuous_distns.py:2958: RuntimeWarning:\n",
      "\n",
      "The shape parameter of the erlang distribution has been given a non-integer value 453.36035145603364.\n",
      "\n",
      "C:\\Users\\Leonela\\anaconda3\\lib\\site-packages\\scipy\\stats\\_continuous_distns.py:2958: RuntimeWarning:\n",
      "\n",
      "The shape parameter of the erlang distribution has been given a non-integer value 450.2777595583593.\n",
      "\n",
      "C:\\Users\\Leonela\\anaconda3\\lib\\site-packages\\scipy\\stats\\_continuous_distns.py:2958: RuntimeWarning:\n",
      "\n",
      "The shape parameter of the erlang distribution has been given a non-integer value 449.47844091684993.\n",
      "\n",
      "C:\\Users\\Leonela\\anaconda3\\lib\\site-packages\\scipy\\stats\\_continuous_distns.py:2958: RuntimeWarning:\n",
      "\n",
      "The shape parameter of the erlang distribution has been given a non-integer value 450.6885411422471.\n",
      "\n",
      "C:\\Users\\Leonela\\anaconda3\\lib\\site-packages\\scipy\\stats\\_continuous_distns.py:2958: RuntimeWarning:\n",
      "\n",
      "The shape parameter of the erlang distribution has been given a non-integer value 449.8205844244584.\n",
      "\n",
      "C:\\Users\\Leonela\\anaconda3\\lib\\site-packages\\scipy\\stats\\_continuous_distns.py:2958: RuntimeWarning:\n",
      "\n",
      "The shape parameter of the erlang distribution has been given a non-integer value 447.5431160754657.\n",
      "\n",
      "C:\\Users\\Leonela\\anaconda3\\lib\\site-packages\\scipy\\stats\\_continuous_distns.py:2958: RuntimeWarning:\n",
      "\n",
      "The shape parameter of the erlang distribution has been given a non-integer value 446.175794334019.\n",
      "\n",
      "C:\\Users\\Leonela\\anaconda3\\lib\\site-packages\\scipy\\stats\\_continuous_distns.py:2958: RuntimeWarning:\n",
      "\n",
      "The shape parameter of the erlang distribution has been given a non-integer value 451.56775871645095.\n",
      "\n",
      "C:\\Users\\Leonela\\anaconda3\\lib\\site-packages\\scipy\\stats\\_continuous_distns.py:2958: RuntimeWarning:\n",
      "\n",
      "The shape parameter of the erlang distribution has been given a non-integer value 454.2405441326605.\n",
      "\n",
      "C:\\Users\\Leonela\\anaconda3\\lib\\site-packages\\scipy\\stats\\_continuous_distns.py:2958: RuntimeWarning:\n",
      "\n",
      "The shape parameter of the erlang distribution has been given a non-integer value 450.91600198149274.\n",
      "\n",
      "C:\\Users\\Leonela\\anaconda3\\lib\\site-packages\\scipy\\stats\\_continuous_distns.py:2958: RuntimeWarning:\n",
      "\n",
      "The shape parameter of the erlang distribution has been given a non-integer value 451.4637107600099.\n",
      "\n",
      "C:\\Users\\Leonela\\anaconda3\\lib\\site-packages\\scipy\\stats\\_continuous_distns.py:2958: RuntimeWarning:\n",
      "\n",
      "The shape parameter of the erlang distribution has been given a non-integer value 450.5648250088791.\n",
      "\n",
      "C:\\Users\\Leonela\\anaconda3\\lib\\site-packages\\scipy\\stats\\_continuous_distns.py:2958: RuntimeWarning:\n",
      "\n",
      "The shape parameter of the erlang distribution has been given a non-integer value 450.59575404222113.\n",
      "\n",
      "C:\\Users\\Leonela\\anaconda3\\lib\\site-packages\\scipy\\stats\\_continuous_distns.py:2958: RuntimeWarning:\n",
      "\n",
      "The shape parameter of the erlang distribution has been given a non-integer value 458.0242116225754.\n",
      "\n",
      "C:\\Users\\Leonela\\anaconda3\\lib\\site-packages\\scipy\\stats\\_continuous_distns.py:2958: RuntimeWarning:\n",
      "\n",
      "The shape parameter of the erlang distribution has been given a non-integer value 458.55655696794275.\n",
      "\n",
      "C:\\Users\\Leonela\\anaconda3\\lib\\site-packages\\scipy\\stats\\_continuous_distns.py:2958: RuntimeWarning:\n",
      "\n",
      "The shape parameter of the erlang distribution has been given a non-integer value 462.53695843080357.\n",
      "\n",
      "C:\\Users\\Leonela\\anaconda3\\lib\\site-packages\\scipy\\stats\\_continuous_distns.py:2958: RuntimeWarning:\n",
      "\n",
      "The shape parameter of the erlang distribution has been given a non-integer value 457.7891087676916.\n",
      "\n",
      "C:\\Users\\Leonela\\anaconda3\\lib\\site-packages\\scipy\\stats\\_continuous_distns.py:2958: RuntimeWarning:\n",
      "\n",
      "The shape parameter of the erlang distribution has been given a non-integer value 459.56339108520706.\n",
      "\n",
      "C:\\Users\\Leonela\\anaconda3\\lib\\site-packages\\scipy\\stats\\_continuous_distns.py:2958: RuntimeWarning:\n",
      "\n",
      "The shape parameter of the erlang distribution has been given a non-integer value 455.031560919531.\n",
      "\n",
      "C:\\Users\\Leonela\\anaconda3\\lib\\site-packages\\scipy\\stats\\_continuous_distns.py:2958: RuntimeWarning:\n",
      "\n",
      "The shape parameter of the erlang distribution has been given a non-integer value 453.53523556800883.\n",
      "\n",
      "C:\\Users\\Leonela\\anaconda3\\lib\\site-packages\\scipy\\stats\\_continuous_distns.py:2958: RuntimeWarning:\n",
      "\n",
      "The shape parameter of the erlang distribution has been given a non-integer value 463.9706285551107.\n",
      "\n",
      "C:\\Users\\Leonela\\anaconda3\\lib\\site-packages\\scipy\\stats\\_continuous_distns.py:2958: RuntimeWarning:\n",
      "\n",
      "The shape parameter of the erlang distribution has been given a non-integer value 470.224087452661.\n",
      "\n",
      "C:\\Users\\Leonela\\anaconda3\\lib\\site-packages\\scipy\\stats\\_continuous_distns.py:2958: RuntimeWarning:\n",
      "\n",
      "The shape parameter of the erlang distribution has been given a non-integer value 460.4871634052898.\n",
      "\n",
      "C:\\Users\\Leonela\\anaconda3\\lib\\site-packages\\scipy\\stats\\_continuous_distns.py:2958: RuntimeWarning:\n",
      "\n",
      "The shape parameter of the erlang distribution has been given a non-integer value 460.096177501414.\n",
      "\n",
      "C:\\Users\\Leonela\\anaconda3\\lib\\site-packages\\scipy\\stats\\_continuous_distns.py:2958: RuntimeWarning:\n",
      "\n",
      "The shape parameter of the erlang distribution has been given a non-integer value 460.3625707095175.\n",
      "\n",
      "C:\\Users\\Leonela\\anaconda3\\lib\\site-packages\\scipy\\stats\\_continuous_distns.py:2958: RuntimeWarning:\n",
      "\n",
      "The shape parameter of the erlang distribution has been given a non-integer value 468.0044187216786.\n",
      "\n",
      "C:\\Users\\Leonela\\anaconda3\\lib\\site-packages\\scipy\\stats\\_continuous_distns.py:2958: RuntimeWarning:\n",
      "\n",
      "The shape parameter of the erlang distribution has been given a non-integer value 467.5603197801791.\n",
      "\n",
      "C:\\Users\\Leonela\\anaconda3\\lib\\site-packages\\scipy\\stats\\_continuous_distns.py:2958: RuntimeWarning:\n",
      "\n",
      "The shape parameter of the erlang distribution has been given a non-integer value 466.46998211373716.\n",
      "\n",
      "C:\\Users\\Leonela\\anaconda3\\lib\\site-packages\\scipy\\stats\\_continuous_distns.py:2958: RuntimeWarning:\n",
      "\n",
      "The shape parameter of the erlang distribution has been given a non-integer value 467.71965889305034.\n",
      "\n",
      "C:\\Users\\Leonela\\anaconda3\\lib\\site-packages\\scipy\\stats\\_continuous_distns.py:2958: RuntimeWarning:\n",
      "\n",
      "The shape parameter of the erlang distribution has been given a non-integer value 462.98651696391624.\n",
      "\n",
      "C:\\Users\\Leonela\\anaconda3\\lib\\site-packages\\scipy\\stats\\_continuous_distns.py:2958: RuntimeWarning:\n",
      "\n",
      "The shape parameter of the erlang distribution has been given a non-integer value 466.41686907611336.\n",
      "\n",
      "C:\\Users\\Leonela\\anaconda3\\lib\\site-packages\\scipy\\stats\\_continuous_distns.py:2958: RuntimeWarning:\n",
      "\n",
      "The shape parameter of the erlang distribution has been given a non-integer value 461.4840515920399.\n",
      "\n",
      "C:\\Users\\Leonela\\anaconda3\\lib\\site-packages\\scipy\\stats\\_continuous_distns.py:2958: RuntimeWarning:\n",
      "\n",
      "The shape parameter of the erlang distribution has been given a non-integer value 466.37432693926894.\n",
      "\n",
      "C:\\Users\\Leonela\\anaconda3\\lib\\site-packages\\scipy\\stats\\_continuous_distns.py:2958: RuntimeWarning:\n",
      "\n",
      "The shape parameter of the erlang distribution has been given a non-integer value 473.5777257708744.\n",
      "\n",
      "C:\\Users\\Leonela\\anaconda3\\lib\\site-packages\\scipy\\stats\\_continuous_distns.py:2958: RuntimeWarning:\n",
      "\n",
      "The shape parameter of the erlang distribution has been given a non-integer value 470.20733870350927.\n",
      "\n",
      "C:\\Users\\Leonela\\anaconda3\\lib\\site-packages\\scipy\\stats\\_continuous_distns.py:2958: RuntimeWarning:\n",
      "\n",
      "The shape parameter of the erlang distribution has been given a non-integer value 469.78401394777234.\n",
      "\n",
      "C:\\Users\\Leonela\\anaconda3\\lib\\site-packages\\scipy\\stats\\_continuous_distns.py:2958: RuntimeWarning:\n",
      "\n",
      "The shape parameter of the erlang distribution has been given a non-integer value 471.4675863836019.\n",
      "\n",
      "C:\\Users\\Leonela\\anaconda3\\lib\\site-packages\\scipy\\stats\\_continuous_distns.py:2958: RuntimeWarning:\n",
      "\n",
      "The shape parameter of the erlang distribution has been given a non-integer value 473.2220623808388.\n",
      "\n",
      "C:\\Users\\Leonela\\anaconda3\\lib\\site-packages\\scipy\\stats\\_continuous_distns.py:2958: RuntimeWarning:\n",
      "\n",
      "The shape parameter of the erlang distribution has been given a non-integer value 476.64593010162366.\n",
      "\n",
      "C:\\Users\\Leonela\\anaconda3\\lib\\site-packages\\scipy\\stats\\_continuous_distns.py:2958: RuntimeWarning:\n",
      "\n",
      "The shape parameter of the erlang distribution has been given a non-integer value 473.68144488200795.\n",
      "\n",
      "C:\\Users\\Leonela\\anaconda3\\lib\\site-packages\\scipy\\stats\\_continuous_distns.py:2958: RuntimeWarning:\n",
      "\n",
      "The shape parameter of the erlang distribution has been given a non-integer value 472.8129183373833.\n",
      "\n",
      "C:\\Users\\Leonela\\anaconda3\\lib\\site-packages\\scipy\\stats\\_continuous_distns.py:2958: RuntimeWarning:\n",
      "\n",
      "The shape parameter of the erlang distribution has been given a non-integer value 479.5646309886889.\n",
      "\n",
      "C:\\Users\\Leonela\\anaconda3\\lib\\site-packages\\scipy\\stats\\_continuous_distns.py:2958: RuntimeWarning:\n",
      "\n",
      "The shape parameter of the erlang distribution has been given a non-integer value 481.2147332348619.\n",
      "\n",
      "C:\\Users\\Leonela\\anaconda3\\lib\\site-packages\\scipy\\stats\\_continuous_distns.py:2958: RuntimeWarning:\n",
      "\n",
      "The shape parameter of the erlang distribution has been given a non-integer value 486.088306660492.\n",
      "\n",
      "C:\\Users\\Leonela\\anaconda3\\lib\\site-packages\\scipy\\stats\\_continuous_distns.py:2958: RuntimeWarning:\n",
      "\n",
      "The shape parameter of the erlang distribution has been given a non-integer value 488.7196601631532.\n",
      "\n",
      "C:\\Users\\Leonela\\anaconda3\\lib\\site-packages\\scipy\\stats\\_continuous_distns.py:2958: RuntimeWarning:\n",
      "\n",
      "The shape parameter of the erlang distribution has been given a non-integer value 488.0713002948237.\n",
      "\n",
      "C:\\Users\\Leonela\\anaconda3\\lib\\site-packages\\scipy\\stats\\_continuous_distns.py:2958: RuntimeWarning:\n",
      "\n",
      "The shape parameter of the erlang distribution has been given a non-integer value 492.3246349478911.\n",
      "\n",
      "C:\\Users\\Leonela\\anaconda3\\lib\\site-packages\\scipy\\stats\\_continuous_distns.py:2958: RuntimeWarning:\n",
      "\n",
      "The shape parameter of the erlang distribution has been given a non-integer value 501.44247107940066.\n",
      "\n",
      "C:\\Users\\Leonela\\anaconda3\\lib\\site-packages\\scipy\\stats\\_continuous_distns.py:2958: RuntimeWarning:\n",
      "\n",
      "The shape parameter of the erlang distribution has been given a non-integer value 513.8407415682891.\n",
      "\n",
      "C:\\Users\\Leonela\\anaconda3\\lib\\site-packages\\scipy\\stats\\_continuous_distns.py:2958: RuntimeWarning:\n",
      "\n",
      "The shape parameter of the erlang distribution has been given a non-integer value 497.85061496203605.\n",
      "\n",
      "C:\\Users\\Leonela\\anaconda3\\lib\\site-packages\\scipy\\stats\\_continuous_distns.py:2958: RuntimeWarning:\n",
      "\n",
      "The shape parameter of the erlang distribution has been given a non-integer value 508.3235073323932.\n",
      "\n",
      "C:\\Users\\Leonela\\anaconda3\\lib\\site-packages\\scipy\\stats\\_continuous_distns.py:2958: RuntimeWarning:\n",
      "\n",
      "The shape parameter of the erlang distribution has been given a non-integer value 502.7647071644179.\n",
      "\n",
      "C:\\Users\\Leonela\\anaconda3\\lib\\site-packages\\scipy\\stats\\_continuous_distns.py:2958: RuntimeWarning:\n",
      "\n",
      "The shape parameter of the erlang distribution has been given a non-integer value 509.0472271893452.\n",
      "\n",
      "C:\\Users\\Leonela\\anaconda3\\lib\\site-packages\\scipy\\stats\\_continuous_distns.py:2958: RuntimeWarning:\n",
      "\n",
      "The shape parameter of the erlang distribution has been given a non-integer value 510.9856553267398.\n",
      "\n",
      "C:\\Users\\Leonela\\anaconda3\\lib\\site-packages\\scipy\\stats\\_continuous_distns.py:2958: RuntimeWarning:\n",
      "\n",
      "The shape parameter of the erlang distribution has been given a non-integer value 501.134375053212.\n",
      "\n",
      "C:\\Users\\Leonela\\anaconda3\\lib\\site-packages\\scipy\\stats\\_continuous_distns.py:2958: RuntimeWarning:\n",
      "\n",
      "The shape parameter of the erlang distribution has been given a non-integer value 507.1884018585828.\n",
      "\n",
      "C:\\Users\\Leonela\\anaconda3\\lib\\site-packages\\scipy\\stats\\_continuous_distns.py:2958: RuntimeWarning:\n",
      "\n",
      "The shape parameter of the erlang distribution has been given a non-integer value 502.8789537741962.\n",
      "\n",
      "C:\\Users\\Leonela\\anaconda3\\lib\\site-packages\\scipy\\stats\\_continuous_distns.py:2958: RuntimeWarning:\n",
      "\n",
      "The shape parameter of the erlang distribution has been given a non-integer value 495.4714634718722.\n",
      "\n",
      "C:\\Users\\Leonela\\anaconda3\\lib\\site-packages\\scipy\\stats\\_continuous_distns.py:2958: RuntimeWarning:\n",
      "\n",
      "The shape parameter of the erlang distribution has been given a non-integer value 505.653286259977.\n",
      "\n",
      "C:\\Users\\Leonela\\anaconda3\\lib\\site-packages\\scipy\\stats\\_continuous_distns.py:2958: RuntimeWarning:\n",
      "\n",
      "The shape parameter of the erlang distribution has been given a non-integer value 503.6797028938389.\n",
      "\n",
      "C:\\Users\\Leonela\\anaconda3\\lib\\site-packages\\scipy\\stats\\_continuous_distns.py:2958: RuntimeWarning:\n",
      "\n",
      "The shape parameter of the erlang distribution has been given a non-integer value 504.1372007585494.\n",
      "\n",
      "C:\\Users\\Leonela\\anaconda3\\lib\\site-packages\\scipy\\stats\\_continuous_distns.py:2958: RuntimeWarning:\n",
      "\n",
      "The shape parameter of the erlang distribution has been given a non-integer value 504.09928903048905.\n",
      "\n",
      "C:\\Users\\Leonela\\anaconda3\\lib\\site-packages\\scipy\\stats\\_continuous_distns.py:2958: RuntimeWarning:\n",
      "\n",
      "The shape parameter of the erlang distribution has been given a non-integer value 504.70945665863553.\n",
      "\n",
      "C:\\Users\\Leonela\\anaconda3\\lib\\site-packages\\scipy\\stats\\_continuous_distns.py:2958: RuntimeWarning:\n",
      "\n",
      "The shape parameter of the erlang distribution has been given a non-integer value 500.2889583917164.\n",
      "\n",
      "C:\\Users\\Leonela\\anaconda3\\lib\\site-packages\\scipy\\stats\\_continuous_distns.py:2958: RuntimeWarning:\n",
      "\n",
      "The shape parameter of the erlang distribution has been given a non-integer value 504.24425849081763.\n",
      "\n",
      "C:\\Users\\Leonela\\anaconda3\\lib\\site-packages\\scipy\\stats\\_continuous_distns.py:2958: RuntimeWarning:\n",
      "\n",
      "The shape parameter of the erlang distribution has been given a non-integer value 505.7992002096205.\n",
      "\n",
      "C:\\Users\\Leonela\\anaconda3\\lib\\site-packages\\scipy\\stats\\_continuous_distns.py:2958: RuntimeWarning:\n",
      "\n",
      "The shape parameter of the erlang distribution has been given a non-integer value 502.07530104817647.\n",
      "\n",
      "C:\\Users\\Leonela\\anaconda3\\lib\\site-packages\\scipy\\stats\\_continuous_distns.py:2958: RuntimeWarning:\n",
      "\n",
      "The shape parameter of the erlang distribution has been given a non-integer value 502.4764015095921.\n",
      "\n",
      "C:\\Users\\Leonela\\anaconda3\\lib\\site-packages\\scipy\\stats\\_continuous_distns.py:2958: RuntimeWarning:\n",
      "\n",
      "The shape parameter of the erlang distribution has been given a non-integer value 506.9243409622161.\n",
      "\n",
      "C:\\Users\\Leonela\\anaconda3\\lib\\site-packages\\scipy\\stats\\_continuous_distns.py:2958: RuntimeWarning:\n",
      "\n",
      "The shape parameter of the erlang distribution has been given a non-integer value 504.99737827792814.\n",
      "\n",
      "C:\\Users\\Leonela\\anaconda3\\lib\\site-packages\\scipy\\stats\\_continuous_distns.py:2958: RuntimeWarning:\n",
      "\n",
      "The shape parameter of the erlang distribution has been given a non-integer value 505.4464229016477.\n",
      "\n",
      "C:\\Users\\Leonela\\anaconda3\\lib\\site-packages\\scipy\\stats\\_continuous_distns.py:2958: RuntimeWarning:\n",
      "\n",
      "The shape parameter of the erlang distribution has been given a non-integer value 508.3009169777159.\n",
      "\n",
      "C:\\Users\\Leonela\\anaconda3\\lib\\site-packages\\scipy\\stats\\_continuous_distns.py:2958: RuntimeWarning:\n",
      "\n",
      "The shape parameter of the erlang distribution has been given a non-integer value 503.93253037662305.\n",
      "\n",
      "C:\\Users\\Leonela\\anaconda3\\lib\\site-packages\\scipy\\stats\\_continuous_distns.py:2958: RuntimeWarning:\n",
      "\n",
      "The shape parameter of the erlang distribution has been given a non-integer value 501.8584371346964.\n",
      "\n",
      "C:\\Users\\Leonela\\anaconda3\\lib\\site-packages\\scipy\\stats\\_continuous_distns.py:2958: RuntimeWarning:\n",
      "\n",
      "The shape parameter of the erlang distribution has been given a non-integer value 502.94797203534745.\n",
      "\n",
      "C:\\Users\\Leonela\\anaconda3\\lib\\site-packages\\scipy\\stats\\_continuous_distns.py:2958: RuntimeWarning:\n",
      "\n",
      "The shape parameter of the erlang distribution has been given a non-integer value 502.29982880761236.\n",
      "\n",
      "C:\\Users\\Leonela\\anaconda3\\lib\\site-packages\\scipy\\stats\\_continuous_distns.py:2958: RuntimeWarning:\n",
      "\n",
      "The shape parameter of the erlang distribution has been given a non-integer value 502.60332792202485.\n",
      "\n",
      "C:\\Users\\Leonela\\anaconda3\\lib\\site-packages\\scipy\\stats\\_continuous_distns.py:2958: RuntimeWarning:\n",
      "\n",
      "The shape parameter of the erlang distribution has been given a non-integer value 505.1740150221706.\n",
      "\n",
      "C:\\Users\\Leonela\\anaconda3\\lib\\site-packages\\scipy\\stats\\_continuous_distns.py:2958: RuntimeWarning:\n",
      "\n",
      "The shape parameter of the erlang distribution has been given a non-integer value 506.83180396590774.\n",
      "\n",
      "C:\\Users\\Leonela\\anaconda3\\lib\\site-packages\\scipy\\stats\\_continuous_distns.py:2958: RuntimeWarning:\n",
      "\n",
      "The shape parameter of the erlang distribution has been given a non-integer value 507.24810826409737.\n",
      "\n",
      "C:\\Users\\Leonela\\anaconda3\\lib\\site-packages\\scipy\\stats\\_continuous_distns.py:2958: RuntimeWarning:\n",
      "\n",
      "The shape parameter of the erlang distribution has been given a non-integer value 506.3545445656402.\n",
      "\n",
      "C:\\Users\\Leonela\\anaconda3\\lib\\site-packages\\scipy\\stats\\_continuous_distns.py:2958: RuntimeWarning:\n",
      "\n",
      "The shape parameter of the erlang distribution has been given a non-integer value 507.03312770949617.\n",
      "\n",
      "C:\\Users\\Leonela\\anaconda3\\lib\\site-packages\\scipy\\stats\\_continuous_distns.py:2958: RuntimeWarning:\n",
      "\n",
      "The shape parameter of the erlang distribution has been given a non-integer value 511.12738792432003.\n",
      "\n",
      "C:\\Users\\Leonela\\anaconda3\\lib\\site-packages\\scipy\\stats\\_continuous_distns.py:2958: RuntimeWarning:\n",
      "\n",
      "The shape parameter of the erlang distribution has been given a non-integer value 509.4134381357186.\n",
      "\n",
      "C:\\Users\\Leonela\\anaconda3\\lib\\site-packages\\scipy\\stats\\_continuous_distns.py:2958: RuntimeWarning:\n",
      "\n",
      "The shape parameter of the erlang distribution has been given a non-integer value 510.4961030715292.\n",
      "\n",
      "C:\\Users\\Leonela\\anaconda3\\lib\\site-packages\\scipy\\stats\\_continuous_distns.py:2958: RuntimeWarning:\n",
      "\n",
      "The shape parameter of the erlang distribution has been given a non-integer value 512.2726085043225.\n",
      "\n",
      "C:\\Users\\Leonela\\anaconda3\\lib\\site-packages\\scipy\\stats\\_continuous_distns.py:2958: RuntimeWarning:\n",
      "\n",
      "The shape parameter of the erlang distribution has been given a non-integer value array(510.49610307).\n",
      "\n"
     ]
    },
    {
     "name": "stderr",
     "output_type": "stream",
     "text": [
      "C:\\Users\\Leonela\\anaconda3\\lib\\site-packages\\scipy\\stats\\_continuous_distns.py:2666: RuntimeWarning:\n",
      "\n",
      "invalid value encountered in subtract\n",
      "\n",
      "C:\\Users\\Leonela\\anaconda3\\lib\\site-packages\\scipy\\stats\\_continuous_distns.py:3487: RuntimeWarning:\n",
      "\n",
      "invalid value encountered in power\n",
      "\n",
      "C:\\Users\\Leonela\\anaconda3\\lib\\site-packages\\scipy\\stats\\_distn_infrastructure.py:1722: RuntimeWarning:\n",
      "\n",
      "divide by zero encountered in log\n",
      "\n",
      "C:\\Users\\Leonela\\anaconda3\\lib\\site-packages\\scipy\\stats\\_continuous_distns.py:3487: RuntimeWarning:\n",
      "\n",
      "divide by zero encountered in double_scalars\n",
      "\n",
      "C:\\Users\\Leonela\\anaconda3\\lib\\site-packages\\scipy\\stats\\_continuous_distns.py:4963: RuntimeWarning:\n",
      "\n",
      "divide by zero encountered in true_divide\n",
      "\n",
      "C:\\Users\\Leonela\\anaconda3\\lib\\site-packages\\scipy\\stats\\_continuous_distns.py:4954: RuntimeWarning:\n",
      "\n",
      "divide by zero encountered in power\n",
      "\n",
      "C:\\Users\\Leonela\\anaconda3\\lib\\site-packages\\scipy\\stats\\_continuous_distns.py:5266: RuntimeWarning:\n",
      "\n",
      "divide by zero encountered in log\n",
      "\n",
      "C:\\Users\\Leonela\\anaconda3\\lib\\site-packages\\scipy\\stats\\_continuous_distns.py:5711: RuntimeWarning:\n",
      "\n",
      "divide by zero encountered in power\n",
      "\n",
      "C:\\Users\\Leonela\\anaconda3\\lib\\site-packages\\scipy\\stats\\_continuous_distns.py:6763: RuntimeWarning:\n",
      "\n",
      "overflow encountered in exp\n",
      "\n",
      "C:\\Users\\Leonela\\anaconda3\\lib\\site-packages\\scipy\\stats\\_continuous_distns.py:6763: RuntimeWarning:\n",
      "\n",
      "invalid value encountered in multiply\n",
      "\n",
      "C:\\Users\\Leonela\\anaconda3\\lib\\site-packages\\scipy\\stats\\_distn_infrastructure.py:1932: RuntimeWarning:\n",
      "\n",
      "invalid value encountered in less_equal\n",
      "\n",
      "C:\\Users\\Leonela\\anaconda3\\lib\\site-packages\\scipy\\stats\\_continuous_distns.py:7735: RuntimeWarning:\n",
      "\n",
      "divide by zero encountered in power\n",
      "\n",
      "C:\\Users\\Leonela\\anaconda3\\lib\\site-packages\\scipy\\stats\\_continuous_distns.py:4522: IntegrationWarning:\n",
      "\n",
      "The integral is probably divergent, or slowly convergent.\n",
      "\n",
      "C:\\Users\\Leonela\\anaconda3\\lib\\site-packages\\scipy\\stats\\_distn_infrastructure.py:1722: RuntimeWarning:\n",
      "\n",
      "invalid value encountered in log\n",
      "\n"
     ]
    },
    {
     "name": "stdout",
     "output_type": "stream",
     "text": [
      "nct: statistic=0.031164750052415147, pvalue=0.9938167689041847\n",
      "johnsonsu: statistic=0.03395193507851746, pvalue=0.9836474750713962\n",
      "recipinvgauss: statistic=nan, pvalue=nan\n",
      "levy_stable: statistic=0.032666245452989795, pvalue=0.9892205553421044\n",
      "johnsonsu: statistic=0.03395193507851746, pvalue=0.9836474750713962\n",
      "t: statistic=0.045912304902085074, pvalue=0.8376138871065153\n",
      "tukeylambda: statistic=0.04853275814590578, pvalue=0.7856359073981276\n",
      "dweibull: statistic=0.05967845791825781, pvalue=0.5413508794696944\n",
      "dweibull: statistic=0.05967845791825781, pvalue=0.5413508794696944\n",
      "dgamma: statistic=0.060258284616272625, pvalue=0.5289323757421174\n",
      "gennorm: statistic=0.06767542131278391, pvalue=0.3822736387520739\n",
      "cauchy: statistic=0.0725442281811584, pvalue=0.3010784589056814\n",
      "hypsecant: statistic=0.07255212618790519, pvalue=0.30095725300826714\n",
      "laplace: statistic=0.07590185826350965, pvalue=0.2526148325424359\n",
      "logistic: statistic=0.08062723743498734, pvalue=0.19451778100787398\n",
      "genlogistic: statistic=0.0822885037866388, pvalue=0.1767522448020712\n",
      "burr12: statistic=0.09113884878494474, pvalue=0.10261822111135932\n",
      "exponnorm: statistic=0.13359224449886523, pvalue=0.003483327556581537\n",
      "powernorm: statistic=0.13494848805245915, pvalue=0.003060950612536373\n",
      "loggamma: statistic=0.1358010192476005, pvalue=0.002820168831451975\n",
      "johnsonsb: statistic=0.13627556610262817, pvalue=0.0026938375883915244\n",
      "beta: statistic=0.13633212517218748, pvalue=0.0026791344012858705\n",
      "foldnorm: statistic=0.13720832156249038, pvalue=0.0024606219297945435\n",
      "norm: statistic=0.13721160085790604, pvalue=0.0024598359916211715\n",
      "lognorm: statistic=0.1373969580658043, pvalue=0.0024157874399406937\n",
      "powerlognorm: statistic=0.13812370286010053, pvalue=0.0022500253381965694\n",
      "f: statistic=0.13852048341254602, pvalue=0.002164029416115884\n",
      "fatiguelife: statistic=0.13899083646233454, pvalue=0.0020660327408490125\n",
      "gamma: statistic=0.1418114070163458, pvalue=0.001559554490543794\n",
      "alpha: statistic=0.14480936427095023, pvalue=0.0011493730339156374\n",
      "chi: statistic=0.1450975639001634, pvalue=0.0011157626654571657\n",
      "erlang: statistic=0.14516540025892224, pvalue=0.001107985815736349\n",
      "exponweib: statistic=0.15036071864481695, pvalue=0.0006421251710203013\n",
      "chi2: statistic=0.15235961502510106, pvalue=0.0005178649529543676\n",
      "invgamma: statistic=0.15496735095180172, pvalue=0.0003894766346717161\n",
      "invgauss: statistic=0.16642385403526957, pvalue=0.00010509241335879079\n",
      "frechet_l: statistic=0.17008152874531324, pvalue=6.780031017057398e-05\n",
      "weibull_max: statistic=0.17008152874531324, pvalue=6.780031017057398e-05\n",
      "gumbel_r: statistic=0.21496130101882419, pvalue=1.410307716268199e-07\n",
      "invweibull: statistic=0.2154124686428733, pvalue=1.315442000667754e-07\n",
      "gumbel_l: statistic=0.2247414222961312, pvalue=3.012648701319662e-08\n",
      "exponpow: statistic=0.25697697400115693, pvalue=1.1162942746933718e-10\n",
      "triang: statistic=0.27287801882222823, pvalue=5.267211484772663e-12\n",
      "kstwobign: statistic=0.28784811693684176, pvalue=2.483882292832201e-13\n",
      "uniform: statistic=0.3426727220193899, pvalue=7.516860664668854e-19\n",
      "maxwell: statistic=0.34649682337733934, pvalue=2.8274255487442576e-19\n",
      "wald: statistic=0.3513383707234575, pvalue=8.057072784753999e-20\n",
      "foldcauchy: statistic=0.3536448979631305, pvalue=4.39989494215101e-20\n",
      "gilbrat: statistic=0.37330043981089106, pvalue=2.1150071708461632e-22\n",
      "halfcauchy: statistic=0.3789475995262774, pvalue=4.293421088113481e-23\n",
      "arcsine: statistic=0.38165797112010497, pvalue=1.9778074634091628e-23\n",
      "rice: statistic=0.39639839852297615, pvalue=2.610713219218322e-25\n",
      "ncf: statistic=0.4036353297985512, pvalue=2.908023584816617e-26\n",
      "powerlaw: statistic=0.4048568425952985, pvalue=1.9985588544266433e-26\n",
      "rayleigh: statistic=0.405439236909032, pvalue=1.6705302843799923e-26\n",
      "genpareto: statistic=0.42096806533631315, pvalue=1.2524743606232836e-28\n",
      "genhalflogistic: statistic=0.4317000892354835, pvalue=3.743110830036554e-30\n",
      "bradford: statistic=0.43406283931134504, pvalue=1.7036132420794073e-30\n",
      "truncexpon: statistic=0.4413378335433051, pvalue=1.4605642190888418e-31\n",
      "burr: statistic=0.44919119398805224, pvalue=9.738552473949799e-33\n",
      "genexpon: statistic=0.4603015609266578, pvalue=1.9095188139112068e-34\n",
      "pareto: statistic=0.461487004398245, pvalue=1.2464256420024645e-34\n",
      "genextreme: statistic=0.46722656946983976, pvalue=1.5497498300260396e-35\n",
      "halflogistic: statistic=0.4873156696668101, pvalue=8.11466615859449e-39\n",
      "expon: statistic=0.4945671821480004, pvalue=4.8005318116950844e-40\n",
      "lomax: statistic=0.5009388995180153, pvalue=3.826262752611925e-41\n",
      "halfgennorm: statistic=0.5031895316535059, pvalue=1.550051676745703e-41\n",
      "halfnorm: statistic=0.5087678801993909, pvalue=1.6131265236945546e-42\n",
      "gompertz: statistic=0.5222498357723712, pvalue=5.927869173053227e-45\n",
      "levy: statistic=0.5377584234366635, pvalue=7.326756416712128e-48\n",
      "betaprime: statistic=0.5460308959085869, pvalue=1.8430418545131702e-49\n",
      "levy_l: statistic=0.5532472490608362, pvalue=6.954843235543584e-51\n",
      "gengamma: statistic=0.5729120536010666, pvalue=6.719553271436227e-55\n",
      "mielke: statistic=0.5766539885621564, pvalue=1.0968191655131063e-55\n",
      "nakagami: statistic=0.6230389483119072, pvalue=4.2125808585045113e-66\n",
      "reciprocal: statistic=0.6914284815686015, pvalue=5.498525281227272e-84\n",
      "truncnorm: statistic=0.6914285591610194, pvalue=5.498243491717031e-84\n",
      "frechet_r: statistic=0.7247639098646972, pvalue=5.006695494610887e-94\n",
      "weibull_min: statistic=0.7247639098646972, pvalue=5.006695494610887e-94\n",
      "ncx2: statistic=0.7505092457378689, pvalue=1.647124784967011e-102\n",
      "fisk: statistic=0.7716061767695112, pvalue=5.12659503798372e-110\n",
      "loglaplace: statistic=0.7818329003732405, pvalue=7.334239969969076e-114\n",
      "anglit: statistic=1.0, pvalue=0.0\n",
      "cosine: statistic=1.0, pvalue=0.0\n",
      "gausshyper: statistic=1.2600321113641233, pvalue=0.0\n",
      "pearson3: statistic=0.9999993671874721, pvalue=0.0\n",
      "rdist: statistic=1.0, pvalue=0.0\n",
      "semicircular: statistic=1.0, pvalue=0.0\n",
      "vonmises: statistic=1.4736310878208094e+30, pvalue=0.0\n",
      "vonmises_line: statistic=1.0, pvalue=0.0\n"
     ]
    }
   ],
   "source": [
    "import warnings\n",
    "warnings.filterwarnings(\"ignore\", category=DeprecationWarning)\n",
    "list_of_dists = ['dweibull','johnsonsu','alpha','anglit','arcsine','beta','betaprime','bradford','burr','burr12','cauchy',\n",
    "'chi','chi2','cosine','dgamma','dweibull','erlang','expon','exponnorm','exponweib',\n",
    "'exponpow','f','fatiguelife','fisk','foldcauchy','foldnorm','frechet_r','frechet_l',\n",
    "'genlogistic','genpareto','gennorm','genexpon','genextreme','gausshyper','gamma','gengamma',\n",
    "'genhalflogistic','gilbrat','gompertz','gumbel_r','gumbel_l','halfcauchy','halflogistic','halfnorm',\n",
    "'halfgennorm','hypsecant','invgamma','invgauss','invweibull','johnsonsb','johnsonsu','kstwobign',\n",
    "'laplace','levy','levy_l','logistic','loggamma','loglaplace','lognorm','lomax','maxwell','mielke',\n",
    "'nakagami','ncx2','ncf','nct','norm','pareto','pearson3','powerlaw','powerlognorm','powernorm','rdist',\n",
    "'reciprocal','rayleigh','rice','recipinvgauss','semicircular','t','triang','truncexpon','truncnorm',\n",
    "'tukeylambda','uniform','vonmises','vonmises_line','wald','weibull_min','weibull_max','levy_stable']\n",
    "\n",
    "results = []\n",
    "for i in list_of_dists:\n",
    "    dist = getattr(stats, i)\n",
    "    param = dist.fit(importado[\"inf_importado\"])\n",
    "    k_stat, ks_p_value = stats.kstest(importado[\"inf_importado\"], i, args=param)\n",
    "    a = stats.kstest(importado[\"inf_importado\"], i, args=param) ###\n",
    "    results.append((i,a[0],a[1]))\n",
    "    \n",
    "    \n",
    "results.sort(key=lambda x:float(x[2]), reverse=True)\n",
    "for j in results:\n",
    "    print(\"{}: statistic={}, pvalue={}\".format(j[0], j[1], j[2]))"
   ]
  },
  {
   "cell_type": "markdown",
   "metadata": {},
   "source": [
    "#### ganador nct y levy_stable distribution (nct, jhonsonsu, t)"
   ]
  },
  {
   "cell_type": "code",
   "execution_count": 344,
   "metadata": {},
   "outputs": [],
   "source": [
    "data= importado['inf_importado']\n",
    "best_fit_name_i, best_fit_params_i = best_fit_distribution(data, 200, ax)\n",
    "best_dist_i = getattr(st, best_fit_name_i)"
   ]
  },
  {
   "cell_type": "code",
   "execution_count": 345,
   "metadata": {},
   "outputs": [
    {
     "data": {
      "text/plain": [
       "'levy_stable'"
      ]
     },
     "execution_count": 345,
     "metadata": {},
     "output_type": "execute_result"
    }
   ],
   "source": [
    "best_fit_name_i"
   ]
  },
  {
   "cell_type": "code",
   "execution_count": 348,
   "metadata": {},
   "outputs": [
    {
     "name": "stderr",
     "output_type": "stream",
     "text": [
      "C:\\Users\\Leonela\\anaconda3\\lib\\site-packages\\scipy\\stats\\_continuous_distns.py:4522: IntegrationWarning:\n",
      "\n",
      "The integral is probably divergent, or slowly convergent.\n",
      "\n"
     ]
    },
    {
     "data": {
      "text/plain": [
       "Text(0.5, 1.0, 'El Niño sea temp. with best fit distribution \\nlevy_stable(alpha=1.40, beta=0.36, loc=0.00, scale=0.00)')"
      ]
     },
     "execution_count": 348,
     "metadata": {},
     "output_type": "execute_result"
    },
    {
     "data": {
      "image/png": "[encoded data removed]",
      "text/plain": [
       "<Figure size 864x576 with 1 Axes>"
      ]
     },
     "metadata": {},
     "output_type": "display_data"
    }
   ],
   "source": [
    "pdf = make_pdf(best_dist_i, best_fit_params_i)\n",
    "\n",
    "# Display\n",
    "plt.figure(figsize=(12,8))\n",
    "ax = pdf.plot(lw=2, label='PDF', legend=True)\n",
    "data.plot(kind='hist', bins=50, density=True, alpha=0.5, label='Data', legend=True, ax=ax)\n",
    "\n",
    "param_names = (best_dist_i.shapes + ', loc, scale').split(', ') if best_dist_i.shapes else ['loc', 'scale']\n",
    "param_str = ', '.join(['{}={:0.2f}'.format(k,v) for k,v in zip(param_names, best_fit_params_i)])\n",
    "dist_str = '{}({})'.format(best_fit_name_i, param_str)\n",
    "ax.set_title(u'El Niño sea temp. with best fit distribution \\n' + dist_str)"
   ]
  },
  {
   "cell_type": "code",
   "execution_count": 349,
   "metadata": {},
   "outputs": [],
   "source": [
    "inf_import=np.array(best_fit_params_i)\n",
    "alpha = inf_import[0]\n",
    "beta = inf_import[1]\n",
    "loc=inf_import[2]\n",
    "scale=inf_import[3]"
   ]
  },
  {
   "cell_type": "code",
   "execution_count": 350,
   "metadata": {},
   "outputs": [
    {
     "data": {
      "text/plain": [
       "0.019764282934157225"
      ]
     },
     "execution_count": 350,
     "metadata": {},
     "output_type": "execute_result"
    }
   ],
   "source": [
    "infim_inter1=levy_stable.interval(0.95, alpha, beta, loc, scale)\n",
    "infim_ls1=np.array(infim_inter1)\n",
    "inter_ls2_high1 = infim_ls1[1]\n",
    "inter_ls2_high1"
   ]
  },
  {
   "cell_type": "code",
   "execution_count": 351,
   "metadata": {},
   "outputs": [
    {
     "data": {
      "text/plain": [
       "0.039067274347156455"
      ]
     },
     "execution_count": 351,
     "metadata": {},
     "output_type": "execute_result"
    }
   ],
   "source": [
    "infim_inter2=levy_stable.interval(0.99, alpha, beta, loc, scale)\n",
    "infim_ls2=np.array(infim_inter2)\n",
    "inter_ls2_high2 = inter_ls2[1]\n",
    "inter_ls2_high2"
   ]
  },
  {
   "cell_type": "code",
   "execution_count": 358,
   "metadata": {},
   "outputs": [
    {
     "data": {
      "text/plain": [
       "[0.01976,\n",
       " 0.02795,\n",
       " 0.03423,\n",
       " 0.03953,\n",
       " 0.04419,\n",
       " 0.04841,\n",
       " 0.05229,\n",
       " 0.0559,\n",
       " 0.05929,\n",
       " 0.0625,\n",
       " 0.06555,\n",
       " 0.06847,\n",
       " 0.07126,\n",
       " 0.07395,\n",
       " 0.07655,\n",
       " 0.07906,\n",
       " 0.08149,\n",
       " 0.08385]"
      ]
     },
     "execution_count": 358,
     "metadata": {},
     "output_type": "execute_result"
    }
   ],
   "source": [
    "var_array_lsim1 = []\n",
    "num_days = int(18)\n",
    "for x in range(1, num_days+1): \n",
    "    var_array_lsim1.append(np.round(inter_ls2_high1 * np.sqrt(x),5))\n",
    "   # print(str(x) + \" day VaR @ 95% confidence: \" + str(np.round(var_1d1 * stdev_investment* np.sqrt(x),3)))\n",
    "var_array_lsim1"
   ]
  },
  {
   "cell_type": "code",
   "execution_count": 357,
   "metadata": {},
   "outputs": [
    {
     "data": {
      "text/plain": [
       "[0.03907,\n",
       " 0.05525,\n",
       " 0.06767,\n",
       " 0.07813,\n",
       " 0.08736,\n",
       " 0.09569,\n",
       " 0.10336,\n",
       " 0.1105,\n",
       " 0.1172,\n",
       " 0.12354,\n",
       " 0.12957,\n",
       " 0.13533,\n",
       " 0.14086,\n",
       " 0.14618,\n",
       " 0.15131,\n",
       " 0.15627,\n",
       " 0.16108,\n",
       " 0.16575]"
      ]
     },
     "execution_count": 357,
     "metadata": {},
     "output_type": "execute_result"
    }
   ],
   "source": [
    "var_array_lsim2 = []\n",
    "num_days = int(18)\n",
    "for x in range(1, num_days+1): \n",
    "    var_array_lsim2.append(np.round(inter_ls2_high2 * np.sqrt(x),5))\n",
    "    #print(str(x) + \" day VaR @ 95% confidence: \" + str(np.round(var_1d2 * stdev_investment* np.sqrt(x),3)))\n",
    "\n",
    "var_array_lsim2    "
   ]
  },
  {
   "cell_type": "code",
   "execution_count": 359,
   "metadata": {},
   "outputs": [
    {
     "data": {
      "text/html": [
       "<div>\n",
       "<style scoped>\n",
       "    .dataframe tbody tr th:only-of-type {\n",
       "        vertical-align: middle;\n",
       "    }\n",
       "\n",
       "    .dataframe tbody tr th {\n",
       "        vertical-align: top;\n",
       "    }\n",
       "\n",
       "    .dataframe thead th {\n",
       "        text-align: right;\n",
       "    }\n",
       "</style>\n",
       "<table border=\"1\" class=\"dataframe\">\n",
       "  <thead>\n",
       "    <tr style=\"text-align: right;\">\n",
       "      <th></th>\n",
       "      <th>95%</th>\n",
       "      <th>99%</th>\n",
       "    </tr>\n",
       "    <tr>\n",
       "      <th>fecha</th>\n",
       "      <th></th>\n",
       "      <th></th>\n",
       "    </tr>\n",
       "  </thead>\n",
       "  <tbody>\n",
       "    <tr>\n",
       "      <th>2021-08-31</th>\n",
       "      <td>0.01976</td>\n",
       "      <td>0.03907</td>\n",
       "    </tr>\n",
       "    <tr>\n",
       "      <th>2021-09-30</th>\n",
       "      <td>0.02795</td>\n",
       "      <td>0.05525</td>\n",
       "    </tr>\n",
       "    <tr>\n",
       "      <th>2021-10-31</th>\n",
       "      <td>0.03423</td>\n",
       "      <td>0.06767</td>\n",
       "    </tr>\n",
       "    <tr>\n",
       "      <th>2021-11-30</th>\n",
       "      <td>0.03953</td>\n",
       "      <td>0.07813</td>\n",
       "    </tr>\n",
       "    <tr>\n",
       "      <th>2021-12-31</th>\n",
       "      <td>0.04419</td>\n",
       "      <td>0.08736</td>\n",
       "    </tr>\n",
       "    <tr>\n",
       "      <th>2022-01-31</th>\n",
       "      <td>0.04841</td>\n",
       "      <td>0.09569</td>\n",
       "    </tr>\n",
       "    <tr>\n",
       "      <th>2022-02-28</th>\n",
       "      <td>0.05229</td>\n",
       "      <td>0.10336</td>\n",
       "    </tr>\n",
       "    <tr>\n",
       "      <th>2022-03-31</th>\n",
       "      <td>0.05590</td>\n",
       "      <td>0.11050</td>\n",
       "    </tr>\n",
       "    <tr>\n",
       "      <th>2022-04-30</th>\n",
       "      <td>0.05929</td>\n",
       "      <td>0.11720</td>\n",
       "    </tr>\n",
       "    <tr>\n",
       "      <th>2022-05-31</th>\n",
       "      <td>0.06250</td>\n",
       "      <td>0.12354</td>\n",
       "    </tr>\n",
       "    <tr>\n",
       "      <th>2022-06-30</th>\n",
       "      <td>0.06555</td>\n",
       "      <td>0.12957</td>\n",
       "    </tr>\n",
       "    <tr>\n",
       "      <th>2022-07-31</th>\n",
       "      <td>0.06847</td>\n",
       "      <td>0.13533</td>\n",
       "    </tr>\n",
       "    <tr>\n",
       "      <th>2022-08-31</th>\n",
       "      <td>0.07126</td>\n",
       "      <td>0.14086</td>\n",
       "    </tr>\n",
       "    <tr>\n",
       "      <th>2022-09-30</th>\n",
       "      <td>0.07395</td>\n",
       "      <td>0.14618</td>\n",
       "    </tr>\n",
       "    <tr>\n",
       "      <th>2022-10-31</th>\n",
       "      <td>0.07655</td>\n",
       "      <td>0.15131</td>\n",
       "    </tr>\n",
       "    <tr>\n",
       "      <th>2022-11-30</th>\n",
       "      <td>0.07906</td>\n",
       "      <td>0.15627</td>\n",
       "    </tr>\n",
       "    <tr>\n",
       "      <th>2022-12-31</th>\n",
       "      <td>0.08149</td>\n",
       "      <td>0.16108</td>\n",
       "    </tr>\n",
       "    <tr>\n",
       "      <th>2023-01-31</th>\n",
       "      <td>0.08385</td>\n",
       "      <td>0.16575</td>\n",
       "    </tr>\n",
       "  </tbody>\n",
       "</table>\n",
       "</div>"
      ],
      "text/plain": [
       "                95%      99%\n",
       "fecha                       \n",
       "2021-08-31  0.01976  0.03907\n",
       "2021-09-30  0.02795  0.05525\n",
       "2021-10-31  0.03423  0.06767\n",
       "2021-11-30  0.03953  0.07813\n",
       "2021-12-31  0.04419  0.08736\n",
       "2022-01-31  0.04841  0.09569\n",
       "2022-02-28  0.05229  0.10336\n",
       "2022-03-31  0.05590  0.11050\n",
       "2022-04-30  0.05929  0.11720\n",
       "2022-05-31  0.06250  0.12354\n",
       "2022-06-30  0.06555  0.12957\n",
       "2022-07-31  0.06847  0.13533\n",
       "2022-08-31  0.07126  0.14086\n",
       "2022-09-30  0.07395  0.14618\n",
       "2022-10-31  0.07655  0.15131\n",
       "2022-11-30  0.07906  0.15627\n",
       "2022-12-31  0.08149  0.16108\n",
       "2023-01-31  0.08385  0.16575"
      ]
     },
     "execution_count": 359,
     "metadata": {},
     "output_type": "execute_result"
    }
   ],
   "source": [
    "df4 = pd.DataFrame(var_array_lsim1)\n",
    "df4.columns = ['95%']\n",
    "df4['99%'] = var_array_lsim2\n",
    "df4['fecha'] = pd.date_range(start='8/1/2021', end='2/1/2023', freq='M')\n",
    "df4.set_index('fecha', inplace =True)\n",
    "df4"
   ]
  },
  {
   "cell_type": "code",
   "execution_count": 362,
   "metadata": {},
   "outputs": [
    {
     "data": {
      "application/vnd.plotly.v1+json": {
       "config": {
        "plotlyServerURL": "https://plot.ly"
       },
       "data": [
        {
         "name": "99% de probabilidad",
         "type": "scatter",
         "x": [
          "2021-08-31T00:00:00",
          "2021-09-30T00:00:00",
          "2021-10-31T00:00:00",
          "2021-11-30T00:00:00",
          "2021-12-31T00:00:00",
          "2022-01-31T00:00:00",
          "2022-02-28T00:00:00",
          "2022-03-31T00:00:00",
          "2022-04-30T00:00:00",
          "2022-05-31T00:00:00",
          "2022-06-30T00:00:00",
          "2022-07-31T00:00:00",
          "2022-08-31T00:00:00",
          "2022-09-30T00:00:00",
          "2022-10-31T00:00:00",
          "2022-11-30T00:00:00",
          "2022-12-31T00:00:00",
          "2023-01-31T00:00:00"
         ],
         "y": [
          0.03907,
          0.05525,
          0.06767,
          0.07813,
          0.08736,
          0.09569,
          0.10336,
          0.1105,
          0.1172,
          0.12354,
          0.12957,
          0.13533,
          0.14086,
          0.14618,
          0.15131,
          0.15627,
          0.16108,
          0.16575
         ]
        },
        {
         "name": "95% de probabilidad",
         "type": "scatter",
         "x": [
          "2021-08-31T00:00:00",
          "2021-09-30T00:00:00",
          "2021-10-31T00:00:00",
          "2021-11-30T00:00:00",
          "2021-12-31T00:00:00",
          "2022-01-31T00:00:00",
          "2022-02-28T00:00:00",
          "2022-03-31T00:00:00",
          "2022-04-30T00:00:00",
          "2022-05-31T00:00:00",
          "2022-06-30T00:00:00",
          "2022-07-31T00:00:00",
          "2022-08-31T00:00:00",
          "2022-09-30T00:00:00",
          "2022-10-31T00:00:00",
          "2022-11-30T00:00:00",
          "2022-12-31T00:00:00",
          "2023-01-31T00:00:00"
         ],
         "y": [
          0.01976,
          0.02795,
          0.03423,
          0.03953,
          0.04419,
          0.04841,
          0.05229,
          0.0559,
          0.05929,
          0.0625,
          0.06555,
          0.06847,
          0.07126,
          0.07395,
          0.07655,
          0.07906,
          0.08149,
          0.08385
         ]
        }
       ],
       "layout": {
        "template": {
         "data": {
          "bar": [
           {
            "error_x": {
             "color": "#2a3f5f"
            },
            "error_y": {
             "color": "#2a3f5f"
            },
            "marker": {
             "line": {
              "color": "#E5ECF6",
              "width": 0.5
             }
            },
            "type": "bar"
           }
          ],
          "barpolar": [
           {
            "marker": {
             "line": {
              "color": "#E5ECF6",
              "width": 0.5
             }
            },
            "type": "barpolar"
           }
          ],
          "carpet": [
           {
            "aaxis": {
             "endlinecolor": "#2a3f5f",
             "gridcolor": "white",
             "linecolor": "white",
             "minorgridcolor": "white",
             "startlinecolor": "#2a3f5f"
            },
            "baxis": {
             "endlinecolor": "#2a3f5f",
             "gridcolor": "white",
             "linecolor": "white",
             "minorgridcolor": "white",
             "startlinecolor": "#2a3f5f"
            },
            "type": "carpet"
           }
          ],
          "choropleth": [
           {
            "colorbar": {
             "outlinewidth": 0,
             "ticks": ""
            },
            "type": "choropleth"
           }
          ],
          "contour": [
           {
            "colorbar": {
             "outlinewidth": 0,
             "ticks": ""
            },
            "colorscale": [
             [
              0,
              "#0d0887"
             ],
             [
              0.1111111111111111,
              "#46039f"
             ],
             [
              0.2222222222222222,
              "#7201a8"
             ],
             [
              0.3333333333333333,
              "#9c179e"
             ],
             [
              0.4444444444444444,
              "#bd3786"
             ],
             [
              0.5555555555555556,
              "#d8576b"
             ],
             [
              0.6666666666666666,
              "#ed7953"
             ],
             [
              0.7777777777777778,
              "#fb9f3a"
             ],
             [
              0.8888888888888888,
              "#fdca26"
             ],
             [
              1,
              "#f0f921"
             ]
            ],
            "type": "contour"
           }
          ],
          "contourcarpet": [
           {
            "colorbar": {
             "outlinewidth": 0,
             "ticks": ""
            },
            "type": "contourcarpet"
           }
          ],
          "heatmap": [
           {
            "colorbar": {
             "outlinewidth": 0,
             "ticks": ""
            },
            "colorscale": [
             [
              0,
              "#0d0887"
             ],
             [
              0.1111111111111111,
              "#46039f"
             ],
             [
              0.2222222222222222,
              "#7201a8"
             ],
             [
              0.3333333333333333,
              "#9c179e"
             ],
             [
              0.4444444444444444,
              "#bd3786"
             ],
             [
              0.5555555555555556,
              "#d8576b"
             ],
             [
              0.6666666666666666,
              "#ed7953"
             ],
             [
              0.7777777777777778,
              "#fb9f3a"
             ],
             [
              0.8888888888888888,
              "#fdca26"
             ],
             [
              1,
              "#f0f921"
             ]
            ],
            "type": "heatmap"
           }
          ],
          "heatmapgl": [
           {
            "colorbar": {
             "outlinewidth": 0,
             "ticks": ""
            },
            "colorscale": [
             [
              0,
              "#0d0887"
             ],
             [
              0.1111111111111111,
              "#46039f"
             ],
             [
              0.2222222222222222,
              "#7201a8"
             ],
             [
              0.3333333333333333,
              "#9c179e"
             ],
             [
              0.4444444444444444,
              "#bd3786"
             ],
             [
              0.5555555555555556,
              "#d8576b"
             ],
             [
              0.6666666666666666,
              "#ed7953"
             ],
             [
              0.7777777777777778,
              "#fb9f3a"
             ],
             [
              0.8888888888888888,
              "#fdca26"
             ],
             [
              1,
              "#f0f921"
             ]
            ],
            "type": "heatmapgl"
           }
          ],
          "histogram": [
           {
            "marker": {
             "colorbar": {
              "outlinewidth": 0,
              "ticks": ""
             }
            },
            "type": "histogram"
           }
          ],
          "histogram2d": [
           {
            "colorbar": {
             "outlinewidth": 0,
             "ticks": ""
            },
            "colorscale": [
             [
              0,
              "#0d0887"
             ],
             [
              0.1111111111111111,
              "#46039f"
             ],
             [
              0.2222222222222222,
              "#7201a8"
             ],
             [
              0.3333333333333333,
              "#9c179e"
             ],
             [
              0.4444444444444444,
              "#bd3786"
             ],
             [
              0.5555555555555556,
              "#d8576b"
             ],
             [
              0.6666666666666666,
              "#ed7953"
             ],
             [
              0.7777777777777778,
              "#fb9f3a"
             ],
             [
              0.8888888888888888,
              "#fdca26"
             ],
             [
              1,
              "#f0f921"
             ]
            ],
            "type": "histogram2d"
           }
          ],
          "histogram2dcontour": [
           {
            "colorbar": {
             "outlinewidth": 0,
             "ticks": ""
            },
            "colorscale": [
             [
              0,
              "#0d0887"
             ],
             [
              0.1111111111111111,
              "#46039f"
             ],
             [
              0.2222222222222222,
              "#7201a8"
             ],
             [
              0.3333333333333333,
              "#9c179e"
             ],
             [
              0.4444444444444444,
              "#bd3786"
             ],
             [
              0.5555555555555556,
              "#d8576b"
             ],
             [
              0.6666666666666666,
              "#ed7953"
             ],
             [
              0.7777777777777778,
              "#fb9f3a"
             ],
             [
              0.8888888888888888,
              "#fdca26"
             ],
             [
              1,
              "#f0f921"
             ]
            ],
            "type": "histogram2dcontour"
           }
          ],
          "mesh3d": [
           {
            "colorbar": {
             "outlinewidth": 0,
             "ticks": ""
            },
            "type": "mesh3d"
           }
          ],
          "parcoords": [
           {
            "line": {
             "colorbar": {
              "outlinewidth": 0,
              "ticks": ""
             }
            },
            "type": "parcoords"
           }
          ],
          "pie": [
           {
            "automargin": true,
            "type": "pie"
           }
          ],
          "scatter": [
           {
            "marker": {
             "colorbar": {
              "outlinewidth": 0,
              "ticks": ""
             }
            },
            "type": "scatter"
           }
          ],
          "scatter3d": [
           {
            "line": {
             "colorbar": {
              "outlinewidth": 0,
              "ticks": ""
             }
            },
            "marker": {
             "colorbar": {
              "outlinewidth": 0,
              "ticks": ""
             }
            },
            "type": "scatter3d"
           }
          ],
          "scattercarpet": [
           {
            "marker": {
             "colorbar": {
              "outlinewidth": 0,
              "ticks": ""
             }
            },
            "type": "scattercarpet"
           }
          ],
          "scattergeo": [
           {
            "marker": {
             "colorbar": {
              "outlinewidth": 0,
              "ticks": ""
             }
            },
            "type": "scattergeo"
           }
          ],
          "scattergl": [
           {
            "marker": {
             "colorbar": {
              "outlinewidth": 0,
              "ticks": ""
             }
            },
            "type": "scattergl"
           }
          ],
          "scattermapbox": [
           {
            "marker": {
             "colorbar": {
              "outlinewidth": 0,
              "ticks": ""
             }
            },
            "type": "scattermapbox"
           }
          ],
          "scatterpolar": [
           {
            "marker": {
             "colorbar": {
              "outlinewidth": 0,
              "ticks": ""
             }
            },
            "type": "scatterpolar"
           }
          ],
          "scatterpolargl": [
           {
            "marker": {
             "colorbar": {
              "outlinewidth": 0,
              "ticks": ""
             }
            },
            "type": "scatterpolargl"
           }
          ],
          "scatterternary": [
           {
            "marker": {
             "colorbar": {
              "outlinewidth": 0,
              "ticks": ""
             }
            },
            "type": "scatterternary"
           }
          ],
          "surface": [
           {
            "colorbar": {
             "outlinewidth": 0,
             "ticks": ""
            },
            "colorscale": [
             [
              0,
              "#0d0887"
             ],
             [
              0.1111111111111111,
              "#46039f"
             ],
             [
              0.2222222222222222,
              "#7201a8"
             ],
             [
              0.3333333333333333,
              "#9c179e"
             ],
             [
              0.4444444444444444,
              "#bd3786"
             ],
             [
              0.5555555555555556,
              "#d8576b"
             ],
             [
              0.6666666666666666,
              "#ed7953"
             ],
             [
              0.7777777777777778,
              "#fb9f3a"
             ],
             [
              0.8888888888888888,
              "#fdca26"
             ],
             [
              1,
              "#f0f921"
             ]
            ],
            "type": "surface"
           }
          ],
          "table": [
           {
            "cells": {
             "fill": {
              "color": "#EBF0F8"
             },
             "line": {
              "color": "white"
             }
            },
            "header": {
             "fill": {
              "color": "#C8D4E3"
             },
             "line": {
              "color": "white"
             }
            },
            "type": "table"
           }
          ]
         },
         "layout": {
          "annotationdefaults": {
           "arrowcolor": "#2a3f5f",
           "arrowhead": 0,
           "arrowwidth": 1
          },
          "autotypenumbers": "strict",
          "coloraxis": {
           "colorbar": {
            "outlinewidth": 0,
            "ticks": ""
           }
          },
          "colorscale": {
           "diverging": [
            [
             0,
             "#8e0152"
            ],
            [
             0.1,
             "#c51b7d"
            ],
            [
             0.2,
             "#de77ae"
            ],
            [
             0.3,
             "#f1b6da"
            ],
            [
             0.4,
             "#fde0ef"
            ],
            [
             0.5,
             "#f7f7f7"
            ],
            [
             0.6,
             "#e6f5d0"
            ],
            [
             0.7,
             "#b8e186"
            ],
            [
             0.8,
             "#7fbc41"
            ],
            [
             0.9,
             "#4d9221"
            ],
            [
             1,
             "#276419"
            ]
           ],
           "sequential": [
            [
             0,
             "#0d0887"
            ],
            [
             0.1111111111111111,
             "#46039f"
            ],
            [
             0.2222222222222222,
             "#7201a8"
            ],
            [
             0.3333333333333333,
             "#9c179e"
            ],
            [
             0.4444444444444444,
             "#bd3786"
            ],
            [
             0.5555555555555556,
             "#d8576b"
            ],
            [
             0.6666666666666666,
             "#ed7953"
            ],
            [
             0.7777777777777778,
             "#fb9f3a"
            ],
            [
             0.8888888888888888,
             "#fdca26"
            ],
            [
             1,
             "#f0f921"
            ]
           ],
           "sequentialminus": [
            [
             0,
             "#0d0887"
            ],
            [
             0.1111111111111111,
             "#46039f"
            ],
            [
             0.2222222222222222,
             "#7201a8"
            ],
            [
             0.3333333333333333,
             "#9c179e"
            ],
            [
             0.4444444444444444,
             "#bd3786"
            ],
            [
             0.5555555555555556,
             "#d8576b"
            ],
            [
             0.6666666666666666,
             "#ed7953"
            ],
            [
             0.7777777777777778,
             "#fb9f3a"
            ],
            [
             0.8888888888888888,
             "#fdca26"
            ],
            [
             1,
             "#f0f921"
            ]
           ]
          },
          "colorway": [
           "#636efa",
           "#EF553B",
           "#00cc96",
           "#ab63fa",
           "#FFA15A",
           "#19d3f3",
           "#FF6692",
           "#B6E880",
           "#FF97FF",
           "#FECB52"
          ],
          "font": {
           "color": "#2a3f5f"
          },
          "geo": {
           "bgcolor": "white",
           "lakecolor": "white",
           "landcolor": "#E5ECF6",
           "showlakes": true,
           "showland": true,
           "subunitcolor": "white"
          },
          "hoverlabel": {
           "align": "left"
          },
          "hovermode": "closest",
          "mapbox": {
           "style": "light"
          },
          "paper_bgcolor": "white",
          "plot_bgcolor": "#E5ECF6",
          "polar": {
           "angularaxis": {
            "gridcolor": "white",
            "linecolor": "white",
            "ticks": ""
           },
           "bgcolor": "#E5ECF6",
           "radialaxis": {
            "gridcolor": "white",
            "linecolor": "white",
            "ticks": ""
           }
          },
          "scene": {
           "xaxis": {
            "backgroundcolor": "#E5ECF6",
            "gridcolor": "white",
            "gridwidth": 2,
            "linecolor": "white",
            "showbackground": true,
            "ticks": "",
            "zerolinecolor": "white"
           },
           "yaxis": {
            "backgroundcolor": "#E5ECF6",
            "gridcolor": "white",
            "gridwidth": 2,
            "linecolor": "white",
            "showbackground": true,
            "ticks": "",
            "zerolinecolor": "white"
           },
           "zaxis": {
            "backgroundcolor": "#E5ECF6",
            "gridcolor": "white",
            "gridwidth": 2,
            "linecolor": "white",
            "showbackground": true,
            "ticks": "",
            "zerolinecolor": "white"
           }
          },
          "shapedefaults": {
           "line": {
            "color": "#2a3f5f"
           }
          },
          "ternary": {
           "aaxis": {
            "gridcolor": "white",
            "linecolor": "white",
            "ticks": ""
           },
           "baxis": {
            "gridcolor": "white",
            "linecolor": "white",
            "ticks": ""
           },
           "bgcolor": "#E5ECF6",
           "caxis": {
            "gridcolor": "white",
            "linecolor": "white",
            "ticks": ""
           }
          },
          "title": {
           "x": 0.05
          },
          "xaxis": {
           "automargin": true,
           "gridcolor": "white",
           "linecolor": "white",
           "ticks": "",
           "title": {
            "standoff": 15
           },
           "zerolinecolor": "white",
           "zerolinewidth": 2
          },
          "yaxis": {
           "automargin": true,
           "gridcolor": "white",
           "linecolor": "white",
           "ticks": "",
           "title": {
            "standoff": 15
           },
           "zerolinecolor": "white",
           "zerolinewidth": 2
          }
         }
        },
        "title": {
         "text": "Evolución Máxima de la Inflación de Importación"
        },
        "xaxis": {
         "title": {
          "text": "Fecha"
         }
        },
        "yaxis": {
         "title": {
          "text": "Inflación de Importación"
         }
        }
       }
      },
      "text/html": [
       "<div>                            <div id=\"dfcbd137-27da-464b-8857-90dc525b1a7b\" class=\"plotly-graph-div\" style=\"height:525px; width:100%;\"></div>            <script type=\"text/javascript\">                require([\"plotly\"], function(Plotly) {                    window.PLOTLYENV=window.PLOTLYENV || {};                                    if (document.getElementById(\"dfcbd137-27da-464b-8857-90dc525b1a7b\")) {                    Plotly.newPlot(                        \"dfcbd137-27da-464b-8857-90dc525b1a7b\",                        [{\"name\": \"99% de probabilidad\", \"type\": \"scatter\", \"x\": [\"2021-08-31T00:00:00\", \"2021-09-30T00:00:00\", \"2021-10-31T00:00:00\", \"2021-11-30T00:00:00\", \"2021-12-31T00:00:00\", \"2022-01-31T00:00:00\", \"2022-02-28T00:00:00\", \"2022-03-31T00:00:00\", \"2022-04-30T00:00:00\", \"2022-05-31T00:00:00\", \"2022-06-30T00:00:00\", \"2022-07-31T00:00:00\", \"2022-08-31T00:00:00\", \"2022-09-30T00:00:00\", \"2022-10-31T00:00:00\", \"2022-11-30T00:00:00\", \"2022-12-31T00:00:00\", \"2023-01-31T00:00:00\"], \"y\": [0.03907, 0.05525, 0.06767, 0.07813, 0.08736, 0.09569, 0.10336, 0.1105, 0.1172, 0.12354, 0.12957, 0.13533, 0.14086, 0.14618, 0.15131, 0.15627, 0.16108, 0.16575]}, {\"name\": \"95% de probabilidad\", \"type\": \"scatter\", \"x\": [\"2021-08-31T00:00:00\", \"2021-09-30T00:00:00\", \"2021-10-31T00:00:00\", \"2021-11-30T00:00:00\", \"2021-12-31T00:00:00\", \"2022-01-31T00:00:00\", \"2022-02-28T00:00:00\", \"2022-03-31T00:00:00\", \"2022-04-30T00:00:00\", \"2022-05-31T00:00:00\", \"2022-06-30T00:00:00\", \"2022-07-31T00:00:00\", \"2022-08-31T00:00:00\", \"2022-09-30T00:00:00\", \"2022-10-31T00:00:00\", \"2022-11-30T00:00:00\", \"2022-12-31T00:00:00\", \"2023-01-31T00:00:00\"], \"y\": [0.01976, 0.02795, 0.03423, 0.03953, 0.04419, 0.04841, 0.05229, 0.0559, 0.05929, 0.0625, 0.06555, 0.06847, 0.07126, 0.07395, 0.07655, 0.07906, 0.08149, 0.08385]}],                        {\"template\": {\"data\": {\"bar\": [{\"error_x\": {\"color\": \"#2a3f5f\"}, \"error_y\": {\"color\": \"#2a3f5f\"}, \"marker\": {\"line\": {\"color\": \"#E5ECF6\", \"width\": 0.5}}, \"type\": \"bar\"}], \"barpolar\": [{\"marker\": {\"line\": {\"color\": \"#E5ECF6\", \"width\": 0.5}}, \"type\": \"barpolar\"}], \"carpet\": [{\"aaxis\": {\"endlinecolor\": \"#2a3f5f\", \"gridcolor\": \"white\", \"linecolor\": \"white\", \"minorgridcolor\": \"white\", \"startlinecolor\": \"#2a3f5f\"}, \"baxis\": {\"endlinecolor\": \"#2a3f5f\", \"gridcolor\": \"white\", \"linecolor\": \"white\", \"minorgridcolor\": \"white\", \"startlinecolor\": \"#2a3f5f\"}, \"type\": \"carpet\"}], \"choropleth\": [{\"colorbar\": {\"outlinewidth\": 0, \"ticks\": \"\"}, \"type\": \"choropleth\"}], \"contour\": [{\"colorbar\": {\"outlinewidth\": 0, \"ticks\": \"\"}, \"colorscale\": [[0.0, \"#0d0887\"], [0.1111111111111111, \"#46039f\"], [0.2222222222222222, \"#7201a8\"], [0.3333333333333333, \"#9c179e\"], [0.4444444444444444, \"#bd3786\"], [0.5555555555555556, \"#d8576b\"], [0.6666666666666666, \"#ed7953\"], [0.7777777777777778, \"#fb9f3a\"], [0.8888888888888888, \"#fdca26\"], [1.0, \"#f0f921\"]], \"type\": \"contour\"}], \"contourcarpet\": [{\"colorbar\": {\"outlinewidth\": 0, \"ticks\": \"\"}, \"type\": \"contourcarpet\"}], \"heatmap\": [{\"colorbar\": {\"outlinewidth\": 0, \"ticks\": \"\"}, \"colorscale\": [[0.0, \"#0d0887\"], [0.1111111111111111, \"#46039f\"], [0.2222222222222222, \"#7201a8\"], [0.3333333333333333, \"#9c179e\"], [0.4444444444444444, \"#bd3786\"], [0.5555555555555556, \"#d8576b\"], [0.6666666666666666, \"#ed7953\"], [0.7777777777777778, \"#fb9f3a\"], [0.8888888888888888, \"#fdca26\"], [1.0, \"#f0f921\"]], \"type\": \"heatmap\"}], \"heatmapgl\": [{\"colorbar\": {\"outlinewidth\": 0, \"ticks\": \"\"}, \"colorscale\": [[0.0, \"#0d0887\"], [0.1111111111111111, \"#46039f\"], [0.2222222222222222, \"#7201a8\"], [0.3333333333333333, \"#9c179e\"], [0.4444444444444444, \"#bd3786\"], [0.5555555555555556, \"#d8576b\"], [0.6666666666666666, \"#ed7953\"], [0.7777777777777778, \"#fb9f3a\"], [0.8888888888888888, \"#fdca26\"], [1.0, \"#f0f921\"]], \"type\": \"heatmapgl\"}], \"histogram\": [{\"marker\": {\"colorbar\": {\"outlinewidth\": 0, \"ticks\": \"\"}}, \"type\": \"histogram\"}], \"histogram2d\": [{\"colorbar\": {\"outlinewidth\": 0, \"ticks\": \"\"}, \"colorscale\": [[0.0, \"#0d0887\"], [0.1111111111111111, \"#46039f\"], [0.2222222222222222, \"#7201a8\"], [0.3333333333333333, \"#9c179e\"], [0.4444444444444444, \"#bd3786\"], [0.5555555555555556, \"#d8576b\"], [0.6666666666666666, \"#ed7953\"], [0.7777777777777778, \"#fb9f3a\"], [0.8888888888888888, \"#fdca26\"], [1.0, \"#f0f921\"]], \"type\": \"histogram2d\"}], \"histogram2dcontour\": [{\"colorbar\": {\"outlinewidth\": 0, \"ticks\": \"\"}, \"colorscale\": [[0.0, \"#0d0887\"], [0.1111111111111111, \"#46039f\"], [0.2222222222222222, \"#7201a8\"], [0.3333333333333333, \"#9c179e\"], [0.4444444444444444, \"#bd3786\"], [0.5555555555555556, \"#d8576b\"], [0.6666666666666666, \"#ed7953\"], [0.7777777777777778, \"#fb9f3a\"], [0.8888888888888888, \"#fdca26\"], [1.0, \"#f0f921\"]], \"type\": \"histogram2dcontour\"}], \"mesh3d\": [{\"colorbar\": {\"outlinewidth\": 0, \"ticks\": \"\"}, \"type\": \"mesh3d\"}], \"parcoords\": [{\"line\": {\"colorbar\": {\"outlinewidth\": 0, \"ticks\": \"\"}}, \"type\": \"parcoords\"}], \"pie\": [{\"automargin\": true, \"type\": \"pie\"}], \"scatter\": [{\"marker\": {\"colorbar\": {\"outlinewidth\": 0, \"ticks\": \"\"}}, \"type\": \"scatter\"}], \"scatter3d\": [{\"line\": {\"colorbar\": {\"outlinewidth\": 0, \"ticks\": \"\"}}, \"marker\": {\"colorbar\": {\"outlinewidth\": 0, \"ticks\": \"\"}}, \"type\": \"scatter3d\"}], \"scattercarpet\": [{\"marker\": {\"colorbar\": {\"outlinewidth\": 0, \"ticks\": \"\"}}, \"type\": \"scattercarpet\"}], \"scattergeo\": [{\"marker\": {\"colorbar\": {\"outlinewidth\": 0, \"ticks\": \"\"}}, \"type\": \"scattergeo\"}], \"scattergl\": [{\"marker\": {\"colorbar\": {\"outlinewidth\": 0, \"ticks\": \"\"}}, \"type\": \"scattergl\"}], \"scattermapbox\": [{\"marker\": {\"colorbar\": {\"outlinewidth\": 0, \"ticks\": \"\"}}, \"type\": \"scattermapbox\"}], \"scatterpolar\": [{\"marker\": {\"colorbar\": {\"outlinewidth\": 0, \"ticks\": \"\"}}, \"type\": \"scatterpolar\"}], \"scatterpolargl\": [{\"marker\": {\"colorbar\": {\"outlinewidth\": 0, \"ticks\": \"\"}}, \"type\": \"scatterpolargl\"}], \"scatterternary\": [{\"marker\": {\"colorbar\": {\"outlinewidth\": 0, \"ticks\": \"\"}}, \"type\": \"scatterternary\"}], \"surface\": [{\"colorbar\": {\"outlinewidth\": 0, \"ticks\": \"\"}, \"colorscale\": [[0.0, \"#0d0887\"], [0.1111111111111111, \"#46039f\"], [0.2222222222222222, \"#7201a8\"], [0.3333333333333333, \"#9c179e\"], [0.4444444444444444, \"#bd3786\"], [0.5555555555555556, \"#d8576b\"], [0.6666666666666666, \"#ed7953\"], [0.7777777777777778, \"#fb9f3a\"], [0.8888888888888888, \"#fdca26\"], [1.0, \"#f0f921\"]], \"type\": \"surface\"}], \"table\": [{\"cells\": {\"fill\": {\"color\": \"#EBF0F8\"}, \"line\": {\"color\": \"white\"}}, \"header\": {\"fill\": {\"color\": \"#C8D4E3\"}, \"line\": {\"color\": \"white\"}}, \"type\": \"table\"}]}, \"layout\": {\"annotationdefaults\": {\"arrowcolor\": \"#2a3f5f\", \"arrowhead\": 0, \"arrowwidth\": 1}, \"autotypenumbers\": \"strict\", \"coloraxis\": {\"colorbar\": {\"outlinewidth\": 0, \"ticks\": \"\"}}, \"colorscale\": {\"diverging\": [[0, \"#8e0152\"], [0.1, \"#c51b7d\"], [0.2, \"#de77ae\"], [0.3, \"#f1b6da\"], [0.4, \"#fde0ef\"], [0.5, \"#f7f7f7\"], [0.6, \"#e6f5d0\"], [0.7, \"#b8e186\"], [0.8, \"#7fbc41\"], [0.9, \"#4d9221\"], [1, \"#276419\"]], \"sequential\": [[0.0, \"#0d0887\"], [0.1111111111111111, \"#46039f\"], [0.2222222222222222, \"#7201a8\"], [0.3333333333333333, \"#9c179e\"], [0.4444444444444444, \"#bd3786\"], [0.5555555555555556, \"#d8576b\"], [0.6666666666666666, \"#ed7953\"], [0.7777777777777778, \"#fb9f3a\"], [0.8888888888888888, \"#fdca26\"], [1.0, \"#f0f921\"]], \"sequentialminus\": [[0.0, \"#0d0887\"], [0.1111111111111111, \"#46039f\"], [0.2222222222222222, \"#7201a8\"], [0.3333333333333333, \"#9c179e\"], [0.4444444444444444, \"#bd3786\"], [0.5555555555555556, \"#d8576b\"], [0.6666666666666666, \"#ed7953\"], [0.7777777777777778, \"#fb9f3a\"], [0.8888888888888888, \"#fdca26\"], [1.0, \"#f0f921\"]]}, \"colorway\": [\"#636efa\", \"#EF553B\", \"#00cc96\", \"#ab63fa\", \"#FFA15A\", \"#19d3f3\", \"#FF6692\", \"#B6E880\", \"#FF97FF\", \"#FECB52\"], \"font\": {\"color\": \"#2a3f5f\"}, \"geo\": {\"bgcolor\": \"white\", \"lakecolor\": \"white\", \"landcolor\": \"#E5ECF6\", \"showlakes\": true, \"showland\": true, \"subunitcolor\": \"white\"}, \"hoverlabel\": {\"align\": \"left\"}, \"hovermode\": \"closest\", \"mapbox\": {\"style\": \"light\"}, \"paper_bgcolor\": \"white\", \"plot_bgcolor\": \"#E5ECF6\", \"polar\": {\"angularaxis\": {\"gridcolor\": \"white\", \"linecolor\": \"white\", \"ticks\": \"\"}, \"bgcolor\": \"#E5ECF6\", \"radialaxis\": {\"gridcolor\": \"white\", \"linecolor\": \"white\", \"ticks\": \"\"}}, \"scene\": {\"xaxis\": {\"backgroundcolor\": \"#E5ECF6\", \"gridcolor\": \"white\", \"gridwidth\": 2, \"linecolor\": \"white\", \"showbackground\": true, \"ticks\": \"\", \"zerolinecolor\": \"white\"}, \"yaxis\": {\"backgroundcolor\": \"#E5ECF6\", \"gridcolor\": \"white\", \"gridwidth\": 2, \"linecolor\": \"white\", \"showbackground\": true, \"ticks\": \"\", \"zerolinecolor\": \"white\"}, \"zaxis\": {\"backgroundcolor\": \"#E5ECF6\", \"gridcolor\": \"white\", \"gridwidth\": 2, \"linecolor\": \"white\", \"showbackground\": true, \"ticks\": \"\", \"zerolinecolor\": \"white\"}}, \"shapedefaults\": {\"line\": {\"color\": \"#2a3f5f\"}}, \"ternary\": {\"aaxis\": {\"gridcolor\": \"white\", \"linecolor\": \"white\", \"ticks\": \"\"}, \"baxis\": {\"gridcolor\": \"white\", \"linecolor\": \"white\", \"ticks\": \"\"}, \"bgcolor\": \"#E5ECF6\", \"caxis\": {\"gridcolor\": \"white\", \"linecolor\": \"white\", \"ticks\": \"\"}}, \"title\": {\"x\": 0.05}, \"xaxis\": {\"automargin\": true, \"gridcolor\": \"white\", \"linecolor\": \"white\", \"ticks\": \"\", \"title\": {\"standoff\": 15}, \"zerolinecolor\": \"white\", \"zerolinewidth\": 2}, \"yaxis\": {\"automargin\": true, \"gridcolor\": \"white\", \"linecolor\": \"white\", \"ticks\": \"\", \"title\": {\"standoff\": 15}, \"zerolinecolor\": \"white\", \"zerolinewidth\": 2}}}, \"title\": {\"text\": \"Evoluci\\u00f3n M\\u00e1xima de la Inflaci\\u00f3n de Importaci\\u00f3n\"}, \"xaxis\": {\"title\": {\"text\": \"Fecha\"}}, \"yaxis\": {\"title\": {\"text\": \"Inflaci\\u00f3n de Importaci\\u00f3n\"}}},                        {\"responsive\": true}                    ).then(function(){\n",
       "                            \n",
       "var gd = document.getElementById('dfcbd137-27da-464b-8857-90dc525b1a7b');\n",
       "var x = new MutationObserver(function (mutations, observer) {{\n",
       "        var display = window.getComputedStyle(gd).display;\n",
       "        if (!display || display === 'none') {{\n",
       "            console.log([gd, 'removed!']);\n",
       "            Plotly.purge(gd);\n",
       "            observer.disconnect();\n",
       "        }}\n",
       "}});\n",
       "\n",
       "// Listen for the removal of the full notebook cells\n",
       "var notebookContainer = gd.closest('#notebook-container');\n",
       "if (notebookContainer) {{\n",
       "    x.observe(notebookContainer, {childList: true});\n",
       "}}\n",
       "\n",
       "// Listen for the clearing of the current output cell\n",
       "var outputEl = gd.closest('.output');\n",
       "if (outputEl) {{\n",
       "    x.observe(outputEl, {childList: true});\n",
       "}}\n",
       "\n",
       "                        })                };                });            </script>        </div>"
      ]
     },
     "metadata": {},
     "output_type": "display_data"
    }
   ],
   "source": [
    "\n",
    "fig4 = go.Figure(\n",
    "    data=[\n",
    "        go.Scatter(\n",
    "            name=\"99% de probabilidad\",\n",
    "            x=df4.index,\n",
    "            y=df4['99%'],\n",
    "            #offsetgroup=0,\n",
    "        ),\n",
    "        go.Scatter(\n",
    "            name=\"95% de probabilidad\",\n",
    "            x=df4.index,\n",
    "            y=df4['95%'],\n",
    "            #offsetgroup=1,\n",
    "            #base=df2[\"RS_Cum1\"],\n",
    "        )\n",
    "    ],\n",
    "    layout=go.Layout(\n",
    "        title=\"Evolución Máxima de la Inflación de Importación\",\n",
    "        yaxis_title=\"Inflación de Importación\",xaxis_title=\"Fecha\"\n",
    "        #template='plotly_dark'\n",
    "    )\n",
    ")\n",
    "fig4.show()"
   ]
  },
  {
   "cell_type": "code",
   "execution_count": 376,
   "metadata": {},
   "outputs": [],
   "source": [
    "df4.to_csv(r'G:\\.shortcut-targets-by-id\\1CvCex95agcRH6L6KPy5QTdP2_XJoAUNX\\02. Investment (I)\\7. Reportes\\3. Consultas\\Analitico\\Inversiones\\Gino\\Pruebas\\Movimiento Browniano Geométrico\\Var Inflación Subyacente\\resultados.csv', sep=';', encoding='iso-8859-1',index =True)\n"
   ]
  },
  {
   "cell_type": "markdown",
   "metadata": {},
   "source": [
    "## Tasas de cambio de la inflacion mensual"
   ]
  },
  {
   "cell_type": "code",
   "execution_count": null,
   "metadata": {},
   "outputs": [],
   "source": []
  },
  {
   "cell_type": "code",
   "execution_count": 387,
   "metadata": {},
   "outputs": [
    {
     "name": "stderr",
     "output_type": "stream",
     "text": [
      "<ipython-input-387-932143324343>:5: SettingWithCopyWarning:\n",
      "\n",
      "\n",
      "A value is trying to be set on a copy of a slice from a DataFrame.\n",
      "Try using .loc[row_indexer,col_indexer] = value instead\n",
      "\n",
      "See the caveats in the documentation: https://pandas.pydata.org/pandas-docs/stable/user_guide/indexing.html#returning-a-view-versus-a-copy\n",
      "\n"
     ]
    },
    {
     "data": {
      "text/html": [
       "<div>\n",
       "<style scoped>\n",
       "    .dataframe tbody tr th:only-of-type {\n",
       "        vertical-align: middle;\n",
       "    }\n",
       "\n",
       "    .dataframe tbody tr th {\n",
       "        vertical-align: top;\n",
       "    }\n",
       "\n",
       "    .dataframe thead th {\n",
       "        text-align: right;\n",
       "    }\n",
       "</style>\n",
       "<table border=\"1\" class=\"dataframe\">\n",
       "  <thead>\n",
       "    <tr style=\"text-align: right;\">\n",
       "      <th></th>\n",
       "      <th>Fecha</th>\n",
       "      <th>inf_mensual</th>\n",
       "    </tr>\n",
       "  </thead>\n",
       "  <tbody>\n",
       "    <tr>\n",
       "      <th>0</th>\n",
       "      <td>1990-12-31</td>\n",
       "      <td>NaN</td>\n",
       "    </tr>\n",
       "    <tr>\n",
       "      <th>1</th>\n",
       "      <td>1991-01-31</td>\n",
       "      <td>NaN</td>\n",
       "    </tr>\n",
       "    <tr>\n",
       "      <th>2</th>\n",
       "      <td>1991-02-28</td>\n",
       "      <td>NaN</td>\n",
       "    </tr>\n",
       "    <tr>\n",
       "      <th>3</th>\n",
       "      <td>1991-03-31</td>\n",
       "      <td>NaN</td>\n",
       "    </tr>\n",
       "    <tr>\n",
       "      <th>4</th>\n",
       "      <td>1991-04-30</td>\n",
       "      <td>NaN</td>\n",
       "    </tr>\n",
       "    <tr>\n",
       "      <th>...</th>\n",
       "      <td>...</td>\n",
       "      <td>...</td>\n",
       "    </tr>\n",
       "    <tr>\n",
       "      <th>363</th>\n",
       "      <td>2021-03-31</td>\n",
       "      <td>-0.004392</td>\n",
       "    </tr>\n",
       "    <tr>\n",
       "      <th>364</th>\n",
       "      <td>2021-04-30</td>\n",
       "      <td>-0.508759</td>\n",
       "    </tr>\n",
       "    <tr>\n",
       "      <th>365</th>\n",
       "      <td>2021-05-31</td>\n",
       "      <td>1.089612</td>\n",
       "    </tr>\n",
       "    <tr>\n",
       "      <th>366</th>\n",
       "      <td>2021-06-30</td>\n",
       "      <td>0.798283</td>\n",
       "    </tr>\n",
       "    <tr>\n",
       "      <th>367</th>\n",
       "      <td>2021-07-31</td>\n",
       "      <td>0.503689</td>\n",
       "    </tr>\n",
       "  </tbody>\n",
       "</table>\n",
       "<p>368 rows × 2 columns</p>\n",
       "</div>"
      ],
      "text/plain": [
       "         Fecha  inf_mensual\n",
       "0   1990-12-31          NaN\n",
       "1   1991-01-31          NaN\n",
       "2   1991-02-28          NaN\n",
       "3   1991-03-31          NaN\n",
       "4   1991-04-30          NaN\n",
       "..         ...          ...\n",
       "363 2021-03-31    -0.004392\n",
       "364 2021-04-30    -0.508759\n",
       "365 2021-05-31     1.089612\n",
       "366 2021-06-30     0.798283\n",
       "367 2021-07-31     0.503689\n",
       "\n",
       "[368 rows x 2 columns]"
      ]
     },
     "execution_count": 387,
     "metadata": {},
     "output_type": "execute_result"
    }
   ],
   "source": [
    "inf_mensual = pd.read_excel (r\"G:\\.shortcut-targets-by-id\\1CvCex95agcRH6L6KPy5QTdP2_XJoAUNX\\02. Investment (I)\\7. Reportes\\3. Consultas\\Analitico\\Inversiones\\Gino\\Pruebas\\Movimiento Browniano Geométrico\\Var Inflación Subyacente\\Mensuales-20210806-094841.xlsx\")\n",
    "inf_mensual['Fecha'] = pd.date_range(start='12/1/1990', end='8/1/2021', freq='M')\n",
    "inf_mensual.rename(columns={ inf_mensual.columns[5]: \"inf_mensual\" }, inplace = True)\n",
    "inf_men=inf_mensual[['Fecha','inf_mensual']]\n",
    "inf_men['inf_mensual'] = inf_men['inf_mensual'].astype(float)\n",
    "inf_men"
   ]
  },
  {
   "cell_type": "code",
   "execution_count": 389,
   "metadata": {},
   "outputs": [
    {
     "data": {
      "text/plain": [
       "0     1990-12-31\n",
       "1     1991-01-31\n",
       "2     1991-02-28\n",
       "3     1991-03-31\n",
       "4     1991-04-30\n",
       "         ...    \n",
       "363   2021-03-31\n",
       "364   2021-04-30\n",
       "365   2021-05-31\n",
       "366   2021-06-30\n",
       "367   2021-07-31\n",
       "Name: Fecha, Length: 368, dtype: datetime64[ns]"
      ]
     },
     "execution_count": 389,
     "metadata": {},
     "output_type": "execute_result"
    }
   ],
   "source": [
    "inf_men['Fecha']"
   ]
  },
  {
   "cell_type": "code",
   "execution_count": 400,
   "metadata": {},
   "outputs": [
    {
     "data": {
      "text/html": [
       "<div>\n",
       "<style scoped>\n",
       "    .dataframe tbody tr th:only-of-type {\n",
       "        vertical-align: middle;\n",
       "    }\n",
       "\n",
       "    .dataframe tbody tr th {\n",
       "        vertical-align: top;\n",
       "    }\n",
       "\n",
       "    .dataframe thead th {\n",
       "        text-align: right;\n",
       "    }\n",
       "</style>\n",
       "<table border=\"1\" class=\"dataframe\">\n",
       "  <thead>\n",
       "    <tr style=\"text-align: right;\">\n",
       "      <th></th>\n",
       "      <th>Fecha</th>\n",
       "      <th>inf_mensual</th>\n",
       "    </tr>\n",
       "  </thead>\n",
       "  <tbody>\n",
       "    <tr>\n",
       "      <th>230</th>\n",
       "      <td>2010-02-28</td>\n",
       "      <td>-0.805177</td>\n",
       "    </tr>\n",
       "    <tr>\n",
       "      <th>231</th>\n",
       "      <td>2010-03-31</td>\n",
       "      <td>-1.098794</td>\n",
       "    </tr>\n",
       "    <tr>\n",
       "      <th>232</th>\n",
       "      <td>2010-04-30</td>\n",
       "      <td>-8.188829</td>\n",
       "    </tr>\n",
       "    <tr>\n",
       "      <th>233</th>\n",
       "      <td>2010-05-31</td>\n",
       "      <td>5.004197</td>\n",
       "    </tr>\n",
       "    <tr>\n",
       "      <th>234</th>\n",
       "      <td>2010-06-30</td>\n",
       "      <td>-0.858065</td>\n",
       "    </tr>\n",
       "    <tr>\n",
       "      <th>...</th>\n",
       "      <td>...</td>\n",
       "      <td>...</td>\n",
       "    </tr>\n",
       "    <tr>\n",
       "      <th>363</th>\n",
       "      <td>2021-03-31</td>\n",
       "      <td>-0.004392</td>\n",
       "    </tr>\n",
       "    <tr>\n",
       "      <th>364</th>\n",
       "      <td>2021-04-30</td>\n",
       "      <td>-0.508759</td>\n",
       "    </tr>\n",
       "    <tr>\n",
       "      <th>365</th>\n",
       "      <td>2021-05-31</td>\n",
       "      <td>1.089612</td>\n",
       "    </tr>\n",
       "    <tr>\n",
       "      <th>366</th>\n",
       "      <td>2021-06-30</td>\n",
       "      <td>0.798283</td>\n",
       "    </tr>\n",
       "    <tr>\n",
       "      <th>367</th>\n",
       "      <td>2021-07-31</td>\n",
       "      <td>0.503689</td>\n",
       "    </tr>\n",
       "  </tbody>\n",
       "</table>\n",
       "<p>138 rows × 2 columns</p>\n",
       "</div>"
      ],
      "text/plain": [
       "         Fecha  inf_mensual\n",
       "230 2010-02-28    -0.805177\n",
       "231 2010-03-31    -1.098794\n",
       "232 2010-04-30    -8.188829\n",
       "233 2010-05-31     5.004197\n",
       "234 2010-06-30    -0.858065\n",
       "..         ...          ...\n",
       "363 2021-03-31    -0.004392\n",
       "364 2021-04-30    -0.508759\n",
       "365 2021-05-31     1.089612\n",
       "366 2021-06-30     0.798283\n",
       "367 2021-07-31     0.503689\n",
       "\n",
       "[138 rows x 2 columns]"
      ]
     },
     "execution_count": 400,
     "metadata": {},
     "output_type": "execute_result"
    }
   ],
   "source": [
    "start_date = \"2010-1-31\"\n",
    "after_start_date  = inf_men[\"Fecha\"] > start_date\n",
    "inf_m=inf_men.loc[after_start_date]\n",
    "inf_m"
   ]
  },
  {
   "cell_type": "code",
   "execution_count": 405,
   "metadata": {},
   "outputs": [
    {
     "data": {
      "text/plain": [
       "<matplotlib.axes._subplots.AxesSubplot at 0x17d896f3400>"
      ]
     },
     "execution_count": 405,
     "metadata": {},
     "output_type": "execute_result"
    },
    {
     "data": {
      "image/png": "[encoded data removed]",
      "text/plain": [
       "<Figure size 576x288 with 1 Axes>"
      ]
     },
     "metadata": {},
     "output_type": "display_data"
    }
   ],
   "source": [
    "sns.distplot(inf_m[\"inf_mensual\"])"
   ]
  },
  {
   "cell_type": "code",
   "execution_count": 406,
   "metadata": {
    "scrolled": false
   },
   "outputs": [
    {
     "name": "stderr",
     "output_type": "stream",
     "text": [
      "C:\\Users\\Leonela\\anaconda3\\lib\\site-packages\\scipy\\stats\\_distn_infrastructure.py:2429: RuntimeWarning:\n",
      "\n",
      "invalid value encountered in double_scalars\n",
      "\n",
      "C:\\Users\\Leonela\\anaconda3\\lib\\site-packages\\scipy\\stats\\_continuous_distns.py:496: RuntimeWarning:\n",
      "\n",
      "divide by zero encountered in true_divide\n",
      "\n",
      "C:\\Users\\Leonela\\anaconda3\\lib\\site-packages\\scipy\\stats\\_continuous_distns.py:621: RuntimeWarning:\n",
      "\n",
      "invalid value encountered in sqrt\n",
      "\n",
      "C:\\Users\\Leonela\\anaconda3\\lib\\site-packages\\scipy\\optimize\\minpack.py:175: RuntimeWarning:\n",
      "\n",
      "The iteration is not making good progress, as measured by the \n",
      "  improvement from the last ten iterations.\n",
      "\n",
      "C:\\Users\\Leonela\\anaconda3\\lib\\site-packages\\scipy\\stats\\_continuous_distns.py:781: RuntimeWarning:\n",
      "\n",
      "divide by zero encountered in true_divide\n",
      "\n",
      "C:\\Users\\Leonela\\anaconda3\\lib\\site-packages\\scipy\\stats\\_continuous_distns.py:785: RuntimeWarning:\n",
      "\n",
      "divide by zero encountered in true_divide\n",
      "\n",
      "C:\\Users\\Leonela\\anaconda3\\lib\\site-packages\\scipy\\stats\\_continuous_distns.py:2958: RuntimeWarning:\n",
      "\n",
      "The shape parameter of the erlang distribution has been given a non-integer value 0.00025.\n",
      "\n",
      "C:\\Users\\Leonela\\anaconda3\\lib\\site-packages\\scipy\\stats\\_continuous_distns.py:2958: RuntimeWarning:\n",
      "\n",
      "The shape parameter of the erlang distribution has been given a non-integer value 0.00016666666666666666.\n",
      "\n",
      "C:\\Users\\Leonela\\anaconda3\\lib\\site-packages\\scipy\\stats\\_continuous_distns.py:2958: RuntimeWarning:\n",
      "\n",
      "The shape parameter of the erlang distribution has been given a non-integer value 0.0002777777777777778.\n",
      "\n",
      "C:\\Users\\Leonela\\anaconda3\\lib\\site-packages\\scipy\\stats\\_continuous_distns.py:2958: RuntimeWarning:\n",
      "\n",
      "The shape parameter of the erlang distribution has been given a non-integer value 0.000462962962962963.\n",
      "\n",
      "C:\\Users\\Leonela\\anaconda3\\lib\\site-packages\\scipy\\stats\\_continuous_distns.py:2958: RuntimeWarning:\n",
      "\n",
      "The shape parameter of the erlang distribution has been given a non-integer value 0.0004938271604938273.\n",
      "\n",
      "C:\\Users\\Leonela\\anaconda3\\lib\\site-packages\\scipy\\stats\\_continuous_distns.py:2958: RuntimeWarning:\n",
      "\n",
      "The shape parameter of the erlang distribution has been given a non-integer value 0.0006574074074074075.\n",
      "\n",
      "C:\\Users\\Leonela\\anaconda3\\lib\\site-packages\\scipy\\stats\\_continuous_distns.py:2958: RuntimeWarning:\n",
      "\n",
      "The shape parameter of the erlang distribution has been given a non-integer value 0.00032716049382716065.\n",
      "\n",
      "C:\\Users\\Leonela\\anaconda3\\lib\\site-packages\\scipy\\stats\\_continuous_distns.py:2958: RuntimeWarning:\n",
      "\n",
      "The shape parameter of the erlang distribution has been given a non-integer value 0.0005452674897119345.\n",
      "\n",
      "C:\\Users\\Leonela\\anaconda3\\lib\\site-packages\\scipy\\stats\\_continuous_distns.py:2958: RuntimeWarning:\n",
      "\n",
      "The shape parameter of the erlang distribution has been given a non-integer value 0.0006790123456790128.\n",
      "\n",
      "C:\\Users\\Leonela\\anaconda3\\lib\\site-packages\\scipy\\stats\\_continuous_distns.py:2958: RuntimeWarning:\n",
      "\n",
      "The shape parameter of the erlang distribution has been given a non-integer value 0.0008590534979423872.\n",
      "\n",
      "C:\\Users\\Leonela\\anaconda3\\lib\\site-packages\\scipy\\stats\\_continuous_distns.py:2958: RuntimeWarning:\n",
      "\n",
      "The shape parameter of the erlang distribution has been given a non-integer value 0.0011635802469135807.\n",
      "\n",
      "C:\\Users\\Leonela\\anaconda3\\lib\\site-packages\\scipy\\stats\\_continuous_distns.py:2958: RuntimeWarning:\n",
      "\n",
      "The shape parameter of the erlang distribution has been given a non-integer value 0.0011364883401920444.\n",
      "\n",
      "C:\\Users\\Leonela\\anaconda3\\lib\\site-packages\\scipy\\stats\\_continuous_distns.py:2958: RuntimeWarning:\n",
      "\n",
      "The shape parameter of the erlang distribution has been given a non-integer value 0.0015411522633744866.\n",
      "\n",
      "C:\\Users\\Leonela\\anaconda3\\lib\\site-packages\\scipy\\stats\\_continuous_distns.py:2958: RuntimeWarning:\n",
      "\n",
      "The shape parameter of the erlang distribution has been given a non-integer value 0.0011256287151348889.\n",
      "\n",
      "C:\\Users\\Leonela\\anaconda3\\lib\\site-packages\\scipy\\stats\\_continuous_distns.py:2958: RuntimeWarning:\n",
      "\n",
      "The shape parameter of the erlang distribution has been given a non-integer value 0.0007744627343392778.\n",
      "\n",
      "C:\\Users\\Leonela\\anaconda3\\lib\\site-packages\\scipy\\stats\\_continuous_distns.py:2958: RuntimeWarning:\n",
      "\n",
      "The shape parameter of the erlang distribution has been given a non-integer value 0.0010085733882030186.\n",
      "\n",
      "C:\\Users\\Leonela\\anaconda3\\lib\\site-packages\\scipy\\stats\\_continuous_distns.py:2958: RuntimeWarning:\n",
      "\n",
      "The shape parameter of the erlang distribution has been given a non-integer value 0.0008329903978052131.\n",
      "\n",
      "C:\\Users\\Leonela\\anaconda3\\lib\\site-packages\\scipy\\stats\\_continuous_distns.py:2958: RuntimeWarning:\n",
      "\n",
      "The shape parameter of the erlang distribution has been given a non-integer value 0.0012066758116140836.\n",
      "\n",
      "C:\\Users\\Leonela\\anaconda3\\lib\\site-packages\\scipy\\stats\\_continuous_distns.py:2958: RuntimeWarning:\n",
      "\n",
      "The shape parameter of the erlang distribution has been given a non-integer value 0.0008109282121627804.\n",
      "\n",
      "C:\\Users\\Leonela\\anaconda3\\lib\\site-packages\\scipy\\stats\\_continuous_distns.py:2958: RuntimeWarning:\n",
      "\n",
      "The shape parameter of the erlang distribution has been given a non-integer value 0.0010379896357262616.\n",
      "\n",
      "C:\\Users\\Leonela\\anaconda3\\lib\\site-packages\\scipy\\stats\\_continuous_distns.py:2958: RuntimeWarning:\n",
      "\n",
      "The shape parameter of the erlang distribution has been given a non-integer value 0.0008842402072854751.\n",
      "\n",
      "C:\\Users\\Leonela\\anaconda3\\lib\\site-packages\\scipy\\stats\\_continuous_distns.py:2958: RuntimeWarning:\n",
      "\n",
      "The shape parameter of the erlang distribution has been given a non-integer value 0.0011089264847838239.\n",
      "\n",
      "C:\\Users\\Leonela\\anaconda3\\lib\\site-packages\\scipy\\stats\\_continuous_distns.py:2958: RuntimeWarning:\n",
      "\n",
      "The shape parameter of the erlang distribution has been given a non-integer value 0.0008854277803180413.\n",
      "\n",
      "C:\\Users\\Leonela\\anaconda3\\lib\\site-packages\\scipy\\stats\\_continuous_distns.py:2958: RuntimeWarning:\n",
      "\n",
      "The shape parameter of the erlang distribution has been given a non-integer value 0.0010364062050161734.\n",
      "\n",
      "C:\\Users\\Leonela\\anaconda3\\lib\\site-packages\\scipy\\stats\\_continuous_distns.py:2958: RuntimeWarning:\n",
      "\n",
      "The shape parameter of the erlang distribution has been given a non-integer value 0.0011124892038815227.\n",
      "\n",
      "C:\\Users\\Leonela\\anaconda3\\lib\\site-packages\\scipy\\stats\\_continuous_distns.py:2958: RuntimeWarning:\n",
      "\n",
      "The shape parameter of the erlang distribution has been given a non-integer value 0.0011358709151156952.\n",
      "\n",
      "C:\\Users\\Leonela\\anaconda3\\lib\\site-packages\\scipy\\stats\\_continuous_distns.py:2958: RuntimeWarning:\n",
      "\n",
      "The shape parameter of the erlang distribution has been given a non-integer value 0.0009480385640174548.\n",
      "\n",
      "C:\\Users\\Leonela\\anaconda3\\lib\\site-packages\\scipy\\stats\\_continuous_distns.py:2958: RuntimeWarning:\n",
      "\n",
      "The shape parameter of the erlang distribution has been given a non-integer value 0.0010732601314162819.\n",
      "\n",
      "C:\\Users\\Leonela\\anaconda3\\lib\\site-packages\\scipy\\stats\\_continuous_distns.py:2958: RuntimeWarning:\n",
      "\n",
      "The shape parameter of the erlang distribution has been given a non-integer value 0.0009793439558671616.\n",
      "\n",
      "C:\\Users\\Leonela\\anaconda3\\lib\\site-packages\\scipy\\stats\\_continuous_distns.py:2958: RuntimeWarning:\n",
      "\n",
      "The shape parameter of the erlang distribution has been given a non-integer value 0.0012424388361078659.\n",
      "\n",
      "C:\\Users\\Leonela\\anaconda3\\lib\\site-packages\\scipy\\stats\\_continuous_distns.py:2958: RuntimeWarning:\n",
      "\n",
      "The shape parameter of the erlang distribution has been given a non-integer value 0.0012975449650102274.\n",
      "\n",
      "C:\\Users\\Leonela\\anaconda3\\lib\\site-packages\\scipy\\stats\\_continuous_distns.py:2958: RuntimeWarning:\n",
      "\n",
      "The shape parameter of the erlang distribution has been given a non-integer value 0.00145664546958176.\n",
      "\n",
      "C:\\Users\\Leonela\\anaconda3\\lib\\site-packages\\scipy\\stats\\_continuous_distns.py:2958: RuntimeWarning:\n",
      "\n",
      "The shape parameter of the erlang distribution has been given a non-integer value 0.001247771663897467.\n",
      "\n",
      "C:\\Users\\Leonela\\anaconda3\\lib\\site-packages\\scipy\\stats\\_continuous_distns.py:2958: RuntimeWarning:\n",
      "\n",
      "The shape parameter of the erlang distribution has been given a non-integer value 0.0011643091711184.\n",
      "\n",
      "C:\\Users\\Leonela\\anaconda3\\lib\\site-packages\\scipy\\stats\\_continuous_distns.py:2958: RuntimeWarning:\n",
      "\n",
      "The shape parameter of the erlang distribution has been given a non-integer value 0.0012199508329711114.\n",
      "\n",
      "C:\\Users\\Leonela\\anaconda3\\lib\\site-packages\\scipy\\stats\\_continuous_distns.py:2958: RuntimeWarning:\n",
      "\n",
      "The shape parameter of the erlang distribution has been given a non-integer value 0.0012477716638974673.\n",
      "\n",
      "C:\\Users\\Leonela\\anaconda3\\lib\\site-packages\\scipy\\stats\\_continuous_distns.py:2958: RuntimeWarning:\n",
      "\n",
      "The shape parameter of the erlang distribution has been given a non-integer value 0.0011268291658904756.\n",
      "\n",
      "C:\\Users\\Leonela\\anaconda3\\lib\\site-packages\\scipy\\stats\\_continuous_distns.py:2958: RuntimeWarning:\n",
      "\n",
      "The shape parameter of the erlang distribution has been given a non-integer value 0.0012135364185535183.\n",
      "\n",
      "C:\\Users\\Leonela\\anaconda3\\lib\\site-packages\\scipy\\stats\\_continuous_distns.py:2958: RuntimeWarning:\n",
      "\n",
      "The shape parameter of the erlang distribution has been given a non-integer value 0.001450948606007065.\n",
      "\n",
      "C:\\Users\\Leonela\\anaconda3\\lib\\site-packages\\scipy\\stats\\_continuous_distns.py:2958: RuntimeWarning:\n",
      "\n",
      "The shape parameter of the erlang distribution has been given a non-integer value 0.0016582198065025104.\n",
      "\n",
      "C:\\Users\\Leonela\\anaconda3\\lib\\site-packages\\scipy\\stats\\_continuous_distns.py:2958: RuntimeWarning:\n",
      "\n",
      "The shape parameter of the erlang distribution has been given a non-integer value 0.0015702739844357147.\n",
      "\n",
      "C:\\Users\\Leonela\\anaconda3\\lib\\site-packages\\scipy\\stats\\_continuous_distns.py:2958: RuntimeWarning:\n",
      "\n",
      "The shape parameter of the erlang distribution has been given a non-integer value 0.0017486427673768126.\n",
      "\n",
      "C:\\Users\\Leonela\\anaconda3\\lib\\site-packages\\scipy\\stats\\_continuous_distns.py:2958: RuntimeWarning:\n",
      "\n",
      "The shape parameter of the erlang distribution has been given a non-integer value 0.0017869973062233954.\n",
      "\n",
      "C:\\Users\\Leonela\\anaconda3\\lib\\site-packages\\scipy\\stats\\_continuous_distns.py:2958: RuntimeWarning:\n",
      "\n",
      "The shape parameter of the erlang distribution has been given a non-integer value 0.0022426224204307008.\n",
      "\n",
      "C:\\Users\\Leonela\\anaconda3\\lib\\site-packages\\scipy\\stats\\_continuous_distns.py:2958: RuntimeWarning:\n",
      "\n",
      "The shape parameter of the erlang distribution has been given a non-integer value 0.0027539582141604957.\n",
      "\n",
      "C:\\Users\\Leonela\\anaconda3\\lib\\site-packages\\scipy\\stats\\_continuous_distns.py:2958: RuntimeWarning:\n",
      "\n",
      "The shape parameter of the erlang distribution has been given a non-integer value 0.0025348457186712926.\n",
      "\n",
      "C:\\Users\\Leonela\\anaconda3\\lib\\site-packages\\scipy\\stats\\_continuous_distns.py:2958: RuntimeWarning:\n",
      "\n",
      "The shape parameter of the erlang distribution has been given a non-integer value 0.0029731586747556837.\n",
      "\n",
      "C:\\Users\\Leonela\\anaconda3\\lib\\site-packages\\scipy\\stats\\_continuous_distns.py:2958: RuntimeWarning:\n",
      "\n",
      "The shape parameter of the erlang distribution has been given a non-integer value 0.0031968424646386.\n",
      "\n",
      "C:\\Users\\Leonela\\anaconda3\\lib\\site-packages\\scipy\\stats\\_continuous_distns.py:2958: RuntimeWarning:\n",
      "\n",
      "The shape parameter of the erlang distribution has been given a non-integer value 0.0042006634683263745.\n",
      "\n",
      "C:\\Users\\Leonela\\anaconda3\\lib\\site-packages\\scipy\\stats\\_continuous_distns.py:2958: RuntimeWarning:\n",
      "\n",
      "The shape parameter of the erlang distribution has been given a non-integer value 0.005426673818801154.\n",
      "\n",
      "C:\\Users\\Leonela\\anaconda3\\lib\\site-packages\\scipy\\stats\\_continuous_distns.py:2958: RuntimeWarning:\n",
      "\n",
      "The shape parameter of the erlang distribution has been given a non-integer value 0.004977158424636463.\n",
      "\n",
      "C:\\Users\\Leonela\\anaconda3\\lib\\site-packages\\scipy\\stats\\_continuous_distns.py:2958: RuntimeWarning:\n",
      "\n",
      "The shape parameter of the erlang distribution has been given a non-integer value 0.006088758529874446.\n",
      "\n",
      "C:\\Users\\Leonela\\anaconda3\\lib\\site-packages\\scipy\\stats\\_continuous_distns.py:2958: RuntimeWarning:\n",
      "\n",
      "The shape parameter of the erlang distribution has been given a non-integer value 0.006462218217648924.\n",
      "\n",
      "C:\\Users\\Leonela\\anaconda3\\lib\\site-packages\\scipy\\stats\\_continuous_distns.py:2958: RuntimeWarning:\n",
      "\n",
      "The shape parameter of the erlang distribution has been given a non-integer value 0.008094906094154086.\n",
      "\n",
      "C:\\Users\\Leonela\\anaconda3\\lib\\site-packages\\scipy\\stats\\_continuous_distns.py:2958: RuntimeWarning:\n",
      "\n",
      "The shape parameter of the erlang distribution has been given a non-integer value 0.010100400287130775.\n",
      "\n",
      "C:\\Users\\Leonela\\anaconda3\\lib\\site-packages\\scipy\\stats\\_continuous_distns.py:2958: RuntimeWarning:\n",
      "\n",
      "The shape parameter of the erlang distribution has been given a non-integer value 0.01366402109331832.\n",
      "\n",
      "C:\\Users\\Leonela\\anaconda3\\lib\\site-packages\\scipy\\stats\\_continuous_distns.py:2958: RuntimeWarning:\n",
      "\n",
      "The shape parameter of the erlang distribution has been given a non-integer value 0.013138449992763413.\n",
      "\n",
      "C:\\Users\\Leonela\\anaconda3\\lib\\site-packages\\scipy\\stats\\_continuous_distns.py:2958: RuntimeWarning:\n",
      "\n",
      "The shape parameter of the erlang distribution has been given a non-integer value 0.016994338079744542.\n",
      "\n",
      "C:\\Users\\Leonela\\anaconda3\\lib\\site-packages\\scipy\\stats\\_continuous_distns.py:2958: RuntimeWarning:\n",
      "\n",
      "The shape parameter of the erlang distribution has been given a non-integer value 0.019746751648270187.\n",
      "\n",
      "C:\\Users\\Leonela\\anaconda3\\lib\\site-packages\\scipy\\stats\\_continuous_distns.py:2958: RuntimeWarning:\n",
      "\n",
      "The shape parameter of the erlang distribution has been given a non-integer value 0.02657574820746806.\n",
      "\n",
      "C:\\Users\\Leonela\\anaconda3\\lib\\site-packages\\scipy\\stats\\_continuous_distns.py:2958: RuntimeWarning:\n",
      "\n",
      "The shape parameter of the erlang distribution has been given a non-integer value 0.030061165492866526.\n",
      "\n",
      "C:\\Users\\Leonela\\anaconda3\\lib\\site-packages\\scipy\\stats\\_continuous_distns.py:2958: RuntimeWarning:\n",
      "\n",
      "The shape parameter of the erlang distribution has been given a non-integer value 0.041044295192222746.\n",
      "\n",
      "C:\\Users\\Leonela\\anaconda3\\lib\\site-packages\\scipy\\stats\\_continuous_distns.py:2958: RuntimeWarning:\n",
      "\n",
      "The shape parameter of the erlang distribution has been given a non-integer value 0.04274556655963857.\n",
      "\n",
      "C:\\Users\\Leonela\\anaconda3\\lib\\site-packages\\scipy\\stats\\_continuous_distns.py:2958: RuntimeWarning:\n",
      "\n",
      "The shape parameter of the erlang distribution has been given a non-integer value 0.0572863392927987.\n",
      "\n",
      "C:\\Users\\Leonela\\anaconda3\\lib\\site-packages\\scipy\\stats\\_continuous_distns.py:2958: RuntimeWarning:\n",
      "\n",
      "The shape parameter of the erlang distribution has been given a non-integer value 0.06627658371524846.\n",
      "\n",
      "C:\\Users\\Leonela\\anaconda3\\lib\\site-packages\\scipy\\stats\\_continuous_distns.py:2958: RuntimeWarning:\n",
      "\n",
      "The shape parameter of the erlang distribution has been given a non-integer value 0.09091770653300041.\n",
      "\n",
      "C:\\Users\\Leonela\\anaconda3\\lib\\site-packages\\scipy\\stats\\_continuous_distns.py:2958: RuntimeWarning:\n",
      "\n",
      "The shape parameter of the erlang distribution has been given a non-integer value 0.09958981247121318.\n",
      "\n",
      "C:\\Users\\Leonela\\anaconda3\\lib\\site-packages\\scipy\\stats\\_continuous_distns.py:2958: RuntimeWarning:\n",
      "\n",
      "The shape parameter of the erlang distribution has been given a non-integer value 0.13609684460308574.\n",
      "\n",
      "C:\\Users\\Leonela\\anaconda3\\lib\\site-packages\\scipy\\stats\\_continuous_distns.py:2958: RuntimeWarning:\n",
      "\n",
      "The shape parameter of the erlang distribution has been given a non-integer value 0.14848963176036714.\n",
      "\n",
      "C:\\Users\\Leonela\\anaconda3\\lib\\site-packages\\scipy\\stats\\_continuous_distns.py:2958: RuntimeWarning:\n",
      "\n",
      "The shape parameter of the erlang distribution has been given a non-integer value 0.20221230004443935.\n",
      "\n",
      "C:\\Users\\Leonela\\anaconda3\\lib\\site-packages\\scipy\\stats\\_continuous_distns.py:2958: RuntimeWarning:\n",
      "\n",
      "The shape parameter of the erlang distribution has been given a non-integer value 0.22886489482755162.\n",
      "\n",
      "C:\\Users\\Leonela\\anaconda3\\lib\\site-packages\\scipy\\stats\\_continuous_distns.py:2958: RuntimeWarning:\n",
      "\n",
      "The shape parameter of the erlang distribution has been given a non-integer value 0.3146541725949281.\n",
      "\n",
      "C:\\Users\\Leonela\\anaconda3\\lib\\site-packages\\scipy\\stats\\_continuous_distns.py:2958: RuntimeWarning:\n",
      "\n",
      "The shape parameter of the erlang distribution has been given a non-integer value 0.34439117162863503.\n",
      "\n",
      "C:\\Users\\Leonela\\anaconda3\\lib\\site-packages\\scipy\\stats\\_continuous_distns.py:2958: RuntimeWarning:\n",
      "\n",
      "The shape parameter of the erlang distribution has been given a non-integer value 0.47112790417645234.\n",
      "\n",
      "C:\\Users\\Leonela\\anaconda3\\lib\\site-packages\\scipy\\stats\\_continuous_distns.py:2958: RuntimeWarning:\n",
      "\n",
      "The shape parameter of the erlang distribution has been given a non-integer value 0.5225660732741275.\n",
      "\n",
      "C:\\Users\\Leonela\\anaconda3\\lib\\site-packages\\scipy\\stats\\_continuous_distns.py:2958: RuntimeWarning:\n",
      "\n",
      "The shape parameter of the erlang distribution has been given a non-integer value 0.7158006876096483.\n",
      "\n",
      "C:\\Users\\Leonela\\anaconda3\\lib\\site-packages\\scipy\\stats\\_continuous_distns.py:2958: RuntimeWarning:\n",
      "\n",
      "The shape parameter of the erlang distribution has been given a non-integer value 0.7988428762095798.\n",
      "\n",
      "C:\\Users\\Leonela\\anaconda3\\lib\\site-packages\\scipy\\stats\\_continuous_distns.py:2958: RuntimeWarning:\n",
      "\n",
      "The shape parameter of the erlang distribution has been given a non-integer value 1.09715816429215.\n",
      "\n",
      "C:\\Users\\Leonela\\anaconda3\\lib\\site-packages\\scipy\\stats\\_continuous_distns.py:2958: RuntimeWarning:\n",
      "\n",
      "The shape parameter of the erlang distribution has been given a non-integer value 1.208070331457239.\n",
      "\n",
      "C:\\Users\\Leonela\\anaconda3\\lib\\site-packages\\scipy\\stats\\_continuous_distns.py:2958: RuntimeWarning:\n",
      "\n",
      "The shape parameter of the erlang distribution has been given a non-integer value 1.6547784108883943.\n",
      "\n",
      "C:\\Users\\Leonela\\anaconda3\\lib\\site-packages\\scipy\\stats\\_continuous_distns.py:2958: RuntimeWarning:\n",
      "\n",
      "The shape parameter of the erlang distribution has been given a non-integer value 1.840696937683676.\n",
      "\n",
      "C:\\Users\\Leonela\\anaconda3\\lib\\site-packages\\scipy\\stats\\_continuous_distns.py:2958: RuntimeWarning:\n",
      "\n",
      "The shape parameter of the erlang distribution has been given a non-integer value 2.3459549876331645.\n",
      "\n",
      "C:\\Users\\Leonela\\anaconda3\\lib\\site-packages\\scipy\\stats\\_continuous_distns.py:2958: RuntimeWarning:\n",
      "\n",
      "The shape parameter of the erlang distribution has been given a non-integer value 1.9384164126272858.\n",
      "\n",
      "C:\\Users\\Leonela\\anaconda3\\lib\\site-packages\\scipy\\stats\\_continuous_distns.py:2958: RuntimeWarning:\n",
      "\n",
      "The shape parameter of the erlang distribution has been given a non-integer value 2.5254363431740874.\n",
      "\n",
      "C:\\Users\\Leonela\\anaconda3\\lib\\site-packages\\scipy\\stats\\_continuous_distns.py:2958: RuntimeWarning:\n",
      "\n",
      "The shape parameter of the erlang distribution has been given a non-integer value 1.4542277090126343.\n",
      "\n",
      "C:\\Users\\Leonela\\anaconda3\\lib\\site-packages\\scipy\\stats\\_continuous_distns.py:2958: RuntimeWarning:\n",
      "\n",
      "The shape parameter of the erlang distribution has been given a non-integer value 1.3613856257625172.\n",
      "\n",
      "C:\\Users\\Leonela\\anaconda3\\lib\\site-packages\\scipy\\stats\\_continuous_distns.py:2958: RuntimeWarning:\n",
      "\n",
      "The shape parameter of the erlang distribution has been given a non-integer value 1.072870232330133.\n",
      "\n",
      "C:\\Users\\Leonela\\anaconda3\\lib\\site-packages\\scipy\\stats\\_continuous_distns.py:2958: RuntimeWarning:\n",
      "\n",
      "The shape parameter of the erlang distribution has been given a non-integer value 1.1395642260920216.\n",
      "\n",
      "C:\\Users\\Leonela\\anaconda3\\lib\\site-packages\\scipy\\stats\\_continuous_distns.py:2958: RuntimeWarning:\n",
      "\n",
      "The shape parameter of the erlang distribution has been given a non-integer value 1.3162577994826545.\n",
      "\n",
      "C:\\Users\\Leonela\\anaconda3\\lib\\site-packages\\scipy\\stats\\_continuous_distns.py:2958: RuntimeWarning:\n",
      "\n",
      "The shape parameter of the erlang distribution has been given a non-integer value 1.2472728447176644.\n",
      "\n",
      "C:\\Users\\Leonela\\anaconda3\\lib\\site-packages\\scipy\\stats\\_continuous_distns.py:2958: RuntimeWarning:\n",
      "\n",
      "The shape parameter of the erlang distribution has been given a non-integer value 0.8440367201597412.\n",
      "\n",
      "C:\\Users\\Leonela\\anaconda3\\lib\\site-packages\\scipy\\stats\\_continuous_distns.py:2958: RuntimeWarning:\n",
      "\n",
      "The shape parameter of the erlang distribution has been given a non-integer value 1.452092988206231.\n",
      "\n",
      "C:\\Users\\Leonela\\anaconda3\\lib\\site-packages\\scipy\\stats\\_continuous_distns.py:2958: RuntimeWarning:\n",
      "\n",
      "The shape parameter of the erlang distribution has been given a non-integer value 1.5676034130322538.\n",
      "\n",
      "C:\\Users\\Leonela\\anaconda3\\lib\\site-packages\\scipy\\stats\\_continuous_distns.py:2958: RuntimeWarning:\n",
      "\n",
      "The shape parameter of the erlang distribution has been given a non-integer value 1.483260538208249.\n",
      "\n",
      "C:\\Users\\Leonela\\anaconda3\\lib\\site-packages\\scipy\\stats\\_continuous_distns.py:2958: RuntimeWarning:\n",
      "\n",
      "The shape parameter of the erlang distribution has been given a non-integer value 1.4133315424325472.\n",
      "\n",
      "C:\\Users\\Leonela\\anaconda3\\lib\\site-packages\\scipy\\stats\\_continuous_distns.py:2958: RuntimeWarning:\n",
      "\n",
      "The shape parameter of the erlang distribution has been given a non-integer value 1.3939508195457053.\n",
      "\n",
      "C:\\Users\\Leonela\\anaconda3\\lib\\site-packages\\scipy\\stats\\_continuous_distns.py:2958: RuntimeWarning:\n",
      "\n",
      "The shape parameter of the erlang distribution has been given a non-integer value 1.1820527219488253.\n",
      "\n",
      "C:\\Users\\Leonela\\anaconda3\\lib\\site-packages\\scipy\\stats\\_continuous_distns.py:2958: RuntimeWarning:\n",
      "\n",
      "The shape parameter of the erlang distribution has been given a non-integer value 0.9892773764071112.\n",
      "\n",
      "C:\\Users\\Leonela\\anaconda3\\lib\\site-packages\\scipy\\stats\\_continuous_distns.py:2958: RuntimeWarning:\n",
      "\n",
      "The shape parameter of the erlang distribution has been given a non-integer value 0.9370734889054049.\n",
      "\n",
      "C:\\Users\\Leonela\\anaconda3\\lib\\site-packages\\scipy\\stats\\_continuous_distns.py:2958: RuntimeWarning:\n",
      "\n",
      "The shape parameter of the erlang distribution has been given a non-integer value 0.9662616118544833.\n",
      "\n",
      "C:\\Users\\Leonela\\anaconda3\\lib\\site-packages\\scipy\\stats\\_continuous_distns.py:2958: RuntimeWarning:\n",
      "\n",
      "The shape parameter of the erlang distribution has been given a non-integer value 0.8257559954228926.\n",
      "\n",
      "C:\\Users\\Leonela\\anaconda3\\lib\\site-packages\\scipy\\stats\\_continuous_distns.py:2958: RuntimeWarning:\n",
      "\n",
      "The shape parameter of the erlang distribution has been given a non-integer value 0.5344574985656276.\n",
      "\n",
      "C:\\Users\\Leonela\\anaconda3\\lib\\site-packages\\scipy\\stats\\_continuous_distns.py:2958: RuntimeWarning:\n",
      "\n",
      "The shape parameter of the erlang distribution has been given a non-integer value 1.179077489300686.\n",
      "\n",
      "C:\\Users\\Leonela\\anaconda3\\lib\\site-packages\\scipy\\stats\\_continuous_distns.py:2958: RuntimeWarning:\n",
      "\n",
      "The shape parameter of the erlang distribution has been given a non-integer value 0.749330828810647.\n",
      "\n",
      "C:\\Users\\Leonela\\anaconda3\\lib\\site-packages\\scipy\\stats\\_continuous_distns.py:2958: RuntimeWarning:\n",
      "\n",
      "The shape parameter of the erlang distribution has been given a non-integer value 1.0716408241781763.\n",
      "\n",
      "C:\\Users\\Leonela\\anaconda3\\lib\\site-packages\\scipy\\stats\\_continuous_distns.py:2958: RuntimeWarning:\n",
      "\n",
      "The shape parameter of the erlang distribution has been given a non-integer value 1.0810463860544424.\n",
      "\n",
      "C:\\Users\\Leonela\\anaconda3\\lib\\site-packages\\scipy\\stats\\_continuous_distns.py:2958: RuntimeWarning:\n",
      "\n",
      "The shape parameter of the erlang distribution has been given a non-integer value 0.9527494253658482.\n",
      "\n",
      "C:\\Users\\Leonela\\anaconda3\\lib\\site-packages\\scipy\\stats\\_continuous_distns.py:2958: RuntimeWarning:\n",
      "\n",
      "The shape parameter of the erlang distribution has been given a non-integer value 0.8933037259596839.\n",
      "\n",
      "C:\\Users\\Leonela\\anaconda3\\lib\\site-packages\\scipy\\stats\\_continuous_distns.py:2958: RuntimeWarning:\n",
      "\n",
      "The shape parameter of the erlang distribution has been given a non-integer value 1.0107609057760714.\n",
      "\n",
      "C:\\Users\\Leonela\\anaconda3\\lib\\site-packages\\scipy\\stats\\_continuous_distns.py:2958: RuntimeWarning:\n",
      "\n",
      "The shape parameter of the erlang distribution has been given a non-integer value 0.9946482587493513.\n",
      "\n",
      "C:\\Users\\Leonela\\anaconda3\\lib\\site-packages\\scipy\\stats\\_continuous_distns.py:2958: RuntimeWarning:\n",
      "\n",
      "The shape parameter of the erlang distribution has been given a non-integer value 1.0053900234338313.\n",
      "\n",
      "C:\\Users\\Leonela\\anaconda3\\lib\\site-packages\\scipy\\stats\\_continuous_distns.py:2958: RuntimeWarning:\n",
      "\n",
      "The shape parameter of the erlang distribution has been given a non-integer value 0.8685543210483331.\n",
      "\n",
      "C:\\Users\\Leonela\\anaconda3\\lib\\site-packages\\scipy\\stats\\_continuous_distns.py:2958: RuntimeWarning:\n",
      "\n",
      "The shape parameter of the erlang distribution has been given a non-integer value 1.027923369802915.\n",
      "\n",
      "C:\\Users\\Leonela\\anaconda3\\lib\\site-packages\\scipy\\stats\\_continuous_distns.py:2958: RuntimeWarning:\n",
      "\n",
      "The shape parameter of the erlang distribution has been given a non-integer value 0.9216773372998603.\n",
      "\n",
      "C:\\Users\\Leonela\\anaconda3\\lib\\site-packages\\scipy\\stats\\_continuous_distns.py:2958: RuntimeWarning:\n",
      "\n",
      "The shape parameter of the erlang distribution has been given a non-integer value 1.0013618616771514.\n",
      "\n",
      "C:\\Users\\Leonela\\anaconda3\\lib\\site-packages\\scipy\\stats\\_continuous_distns.py:2958: RuntimeWarning:\n",
      "\n",
      "The shape parameter of the erlang distribution has been given a non-integer value 1.0067392617967372.\n",
      "\n",
      "C:\\Users\\Leonela\\anaconda3\\lib\\site-packages\\scipy\\stats\\_continuous_distns.py:2958: RuntimeWarning:\n",
      "\n",
      "The shape parameter of the erlang distribution has been given a non-integer value 1.0269780867678642.\n",
      "\n",
      "C:\\Users\\Leonela\\anaconda3\\lib\\site-packages\\scipy\\stats\\_continuous_distns.py:2958: RuntimeWarning:\n",
      "\n",
      "The shape parameter of the erlang distribution has been given a non-integer value 0.9752239453871265.\n",
      "\n",
      "C:\\Users\\Leonela\\anaconda3\\lib\\site-packages\\scipy\\stats\\_continuous_distns.py:2958: RuntimeWarning:\n",
      "\n",
      "The shape parameter of the erlang distribution has been given a non-integer value 0.9948273826046452.\n",
      "\n",
      "C:\\Users\\Leonela\\anaconda3\\lib\\site-packages\\scipy\\stats\\_continuous_distns.py:2958: RuntimeWarning:\n",
      "\n",
      "The shape parameter of the erlang distribution has been given a non-integer value 0.9817584244596327.\n",
      "\n",
      "C:\\Users\\Leonela\\anaconda3\\lib\\site-packages\\scipy\\stats\\_continuous_distns.py:2958: RuntimeWarning:\n",
      "\n",
      "The shape parameter of the erlang distribution has been given a non-integer value 1.0431757144276192.\n",
      "\n",
      "C:\\Users\\Leonela\\anaconda3\\lib\\site-packages\\scipy\\stats\\_continuous_distns.py:2958: RuntimeWarning:\n",
      "\n",
      "The shape parameter of the erlang distribution has been given a non-integer value 0.9753559976312909.\n",
      "\n",
      "C:\\Users\\Leonela\\anaconda3\\lib\\site-packages\\scipy\\stats\\_continuous_distns.py:2958: RuntimeWarning:\n",
      "\n",
      "The shape parameter of the erlang distribution has been given a non-integer value 0.9705124324912757.\n",
      "\n",
      "C:\\Users\\Leonela\\anaconda3\\lib\\site-packages\\scipy\\stats\\_continuous_distns.py:2958: RuntimeWarning:\n",
      "\n",
      "The shape parameter of the erlang distribution has been given a non-integer value 0.9530736370199979.\n",
      "\n",
      "C:\\Users\\Leonela\\anaconda3\\lib\\site-packages\\scipy\\stats\\_continuous_distns.py:2958: RuntimeWarning:\n",
      "\n",
      "The shape parameter of the erlang distribution has been given a non-integer value 0.9973174148671395.\n",
      "\n",
      "C:\\Users\\Leonela\\anaconda3\\lib\\site-packages\\scipy\\stats\\_continuous_distns.py:2958: RuntimeWarning:\n",
      "\n",
      "The shape parameter of the erlang distribution has been given a non-integer value 0.980846351940253.\n",
      "\n",
      "C:\\Users\\Leonela\\anaconda3\\lib\\site-packages\\scipy\\stats\\_continuous_distns.py:2958: RuntimeWarning:\n",
      "\n",
      "The shape parameter of the erlang distribution has been given a non-integer value 0.9486722107973704.\n",
      "\n",
      "C:\\Users\\Leonela\\anaconda3\\lib\\site-packages\\scipy\\stats\\_continuous_distns.py:2958: RuntimeWarning:\n",
      "\n",
      "The shape parameter of the erlang distribution has been given a non-integer value 0.919638685297687.\n",
      "\n",
      "C:\\Users\\Leonela\\anaconda3\\lib\\site-packages\\scipy\\stats\\_continuous_distns.py:2958: RuntimeWarning:\n",
      "\n",
      "The shape parameter of the erlang distribution has been given a non-integer value 0.9531156932252662.\n",
      "\n",
      "C:\\Users\\Leonela\\anaconda3\\lib\\site-packages\\scipy\\stats\\_continuous_distns.py:2958: RuntimeWarning:\n",
      "\n",
      "The shape parameter of the erlang distribution has been given a non-integer value 0.9739136872615064.\n",
      "\n",
      "C:\\Users\\Leonela\\anaconda3\\lib\\site-packages\\scipy\\stats\\_continuous_distns.py:2958: RuntimeWarning:\n",
      "\n",
      "The shape parameter of the erlang distribution has been given a non-integer value 0.9600483579040129.\n",
      "\n",
      "C:\\Users\\Leonela\\anaconda3\\lib\\site-packages\\scipy\\stats\\_continuous_distns.py:2958: RuntimeWarning:\n",
      "\n",
      "The shape parameter of the erlang distribution has been given a non-integer value 0.9704473549221331.\n",
      "\n",
      "C:\\Users\\Leonela\\anaconda3\\lib\\site-packages\\scipy\\stats\\_continuous_distns.py:2958: RuntimeWarning:\n",
      "\n",
      "The shape parameter of the erlang distribution has been given a non-integer value 0.9635146902433862.\n",
      "\n",
      "C:\\Users\\Leonela\\anaconda3\\lib\\site-packages\\scipy\\stats\\_continuous_distns.py:2958: RuntimeWarning:\n",
      "\n",
      "The shape parameter of the erlang distribution has been given a non-integer value 0.9600483579040127.\n",
      "\n",
      "C:\\Users\\Leonela\\anaconda3\\lib\\site-packages\\scipy\\stats\\_continuous_distns.py:2958: RuntimeWarning:\n",
      "\n",
      "The shape parameter of the erlang distribution has been given a non-integer value 0.940041131228389.\n",
      "\n",
      "C:\\Users\\Leonela\\anaconda3\\lib\\site-packages\\scipy\\stats\\_continuous_distns.py:2958: RuntimeWarning:\n",
      "\n",
      "The shape parameter of the erlang distribution has been given a non-integer value 0.919182484612767.\n",
      "\n",
      "C:\\Users\\Leonela\\anaconda3\\lib\\site-packages\\scipy\\stats\\_continuous_distns.py:2958: RuntimeWarning:\n",
      "\n",
      "The shape parameter of the erlang distribution has been given a non-integer value 0.9309729223548215.\n",
      "\n",
      "C:\\Users\\Leonela\\anaconda3\\lib\\site-packages\\scipy\\stats\\_continuous_distns.py:2958: RuntimeWarning:\n",
      "\n",
      "The shape parameter of the erlang distribution has been given a non-integer value 0.9606275549571621.\n",
      "\n",
      "C:\\Users\\Leonela\\anaconda3\\lib\\site-packages\\scipy\\stats\\_continuous_distns.py:2958: RuntimeWarning:\n",
      "\n",
      "The shape parameter of the erlang distribution has been given a non-integer value 0.9408577998889351.\n",
      "\n",
      "C:\\Users\\Leonela\\anaconda3\\lib\\site-packages\\scipy\\stats\\_continuous_distns.py:2958: RuntimeWarning:\n",
      "\n",
      "The shape parameter of the erlang distribution has been given a non-integer value 0.9476035367764364.\n",
      "\n",
      "C:\\Users\\Leonela\\anaconda3\\lib\\site-packages\\scipy\\stats\\_continuous_distns.py:2958: RuntimeWarning:\n",
      "\n",
      "The shape parameter of the erlang distribution has been given a non-integer value 0.9484050422921368.\n",
      "\n",
      "C:\\Users\\Leonela\\anaconda3\\lib\\site-packages\\scipy\\stats\\_continuous_distns.py:2958: RuntimeWarning:\n",
      "\n",
      "The shape parameter of the erlang distribution has been given a non-integer value 0.9226879586962544.\n",
      "\n",
      "C:\\Users\\Leonela\\anaconda3\\lib\\site-packages\\scipy\\stats\\_continuous_distns.py:2958: RuntimeWarning:\n",
      "\n",
      "The shape parameter of the erlang distribution has been given a non-integer value 0.9206528842502488.\n",
      "\n",
      "C:\\Users\\Leonela\\anaconda3\\lib\\site-packages\\scipy\\stats\\_continuous_distns.py:2958: RuntimeWarning:\n",
      "\n",
      "The shape parameter of the erlang distribution has been given a non-integer value 0.9414670027816648.\n",
      "\n",
      "C:\\Users\\Leonela\\anaconda3\\lib\\site-packages\\scipy\\stats\\_continuous_distns.py:2958: RuntimeWarning:\n",
      "\n",
      "The shape parameter of the erlang distribution has been given a non-integer value 0.929967376349514.\n",
      "\n",
      "C:\\Users\\Leonela\\anaconda3\\lib\\site-packages\\scipy\\stats\\_continuous_distns.py:2958: RuntimeWarning:\n",
      "\n",
      "The shape parameter of the erlang distribution has been given a non-integer value 0.9249304989100766.\n",
      "\n",
      "C:\\Users\\Leonela\\anaconda3\\lib\\site-packages\\scipy\\stats\\_continuous_distns.py:2958: RuntimeWarning:\n",
      "\n",
      "The shape parameter of the erlang distribution has been given a non-integer value 0.920875087174804.\n",
      "\n",
      "C:\\Users\\Leonela\\anaconda3\\lib\\site-packages\\scipy\\stats\\_continuous_distns.py:2958: RuntimeWarning:\n",
      "\n",
      "The shape parameter of the erlang distribution has been given a non-integer value 0.9363190238799497.\n",
      "\n",
      "C:\\Users\\Leonela\\anaconda3\\lib\\site-packages\\scipy\\stats\\_continuous_distns.py:2958: RuntimeWarning:\n",
      "\n",
      "The shape parameter of the erlang distribution has been given a non-integer value 0.9260230660765192.\n",
      "\n",
      "C:\\Users\\Leonela\\anaconda3\\lib\\site-packages\\scipy\\stats\\_continuous_distns.py:2958: RuntimeWarning:\n",
      "\n",
      "The shape parameter of the erlang distribution has been given a non-integer value 0.9337450344290921.\n",
      "\n",
      "C:\\Users\\Leonela\\anaconda3\\lib\\site-packages\\scipy\\stats\\_continuous_distns.py:2958: RuntimeWarning:\n",
      "\n",
      "The shape parameter of the erlang distribution has been given a non-integer value 0.9285970555273768.\n",
      "\n",
      "C:\\Users\\Leonela\\anaconda3\\lib\\site-packages\\scipy\\stats\\_continuous_distns.py:2958: RuntimeWarning:\n",
      "\n",
      "The shape parameter of the erlang distribution has been given a non-integer value 0.9435935291476296.\n",
      "\n",
      "C:\\Users\\Leonela\\anaconda3\\lib\\site-packages\\scipy\\stats\\_continuous_distns.py:2958: RuntimeWarning:\n",
      "\n",
      "The shape parameter of the erlang distribution has been given a non-integer value 0.9279143513090982.\n",
      "\n",
      "C:\\Users\\Leonela\\anaconda3\\lib\\site-packages\\scipy\\stats\\_continuous_distns.py:2958: RuntimeWarning:\n",
      "\n",
      "The shape parameter of the erlang distribution has been given a non-integer value 0.9167947222350574.\n",
      "\n",
      "C:\\Users\\Leonela\\anaconda3\\lib\\site-packages\\scipy\\stats\\_continuous_distns.py:2958: RuntimeWarning:\n",
      "\n",
      "The shape parameter of the erlang distribution has been given a non-integer value 0.9047631834081185.\n",
      "\n",
      "C:\\Users\\Leonela\\anaconda3\\lib\\site-packages\\scipy\\stats\\_continuous_distns.py:2958: RuntimeWarning:\n",
      "\n",
      "The shape parameter of the erlang distribution has been given a non-integer value 0.9143040588809079.\n",
      "\n",
      "C:\\Users\\Leonela\\anaconda3\\lib\\site-packages\\scipy\\stats\\_continuous_distns.py:2958: RuntimeWarning:\n",
      "\n",
      "The shape parameter of the erlang distribution has been given a non-integer value 0.9245117782020507.\n",
      "\n",
      "C:\\Users\\Leonela\\anaconda3\\lib\\site-packages\\scipy\\stats\\_continuous_distns.py:2958: RuntimeWarning:\n",
      "\n",
      "The shape parameter of the erlang distribution has been given a non-integer value 0.9177066319879554.\n",
      "\n",
      "C:\\Users\\Leonela\\anaconda3\\lib\\site-packages\\scipy\\stats\\_continuous_distns.py:2958: RuntimeWarning:\n",
      "\n",
      "The shape parameter of the erlang distribution has been given a non-integer value 0.9143040588809077.\n",
      "\n",
      "C:\\Users\\Leonela\\anaconda3\\lib\\site-packages\\scipy\\stats\\_continuous_distns.py:2958: RuntimeWarning:\n",
      "\n",
      "The shape parameter of the erlang distribution has been given a non-integer value 0.9063610723030151.\n",
      "\n",
      "C:\\Users\\Leonela\\anaconda3\\lib\\site-packages\\scipy\\stats\\_continuous_distns.py:2958: RuntimeWarning:\n",
      "\n",
      "The shape parameter of the erlang distribution has been given a non-integer value 0.8892532154498785.\n",
      "\n",
      "C:\\Users\\Leonela\\anaconda3\\lib\\site-packages\\scipy\\stats\\_continuous_distns.py:2958: RuntimeWarning:\n",
      "\n",
      "The shape parameter of the erlang distribution has been given a non-integer value 0.9041174297524477.\n",
      "\n",
      "C:\\Users\\Leonela\\anaconda3\\lib\\site-packages\\scipy\\stats\\_continuous_distns.py:2958: RuntimeWarning:\n",
      "\n",
      "The shape parameter of the erlang distribution has been given a non-integer value 0.9046017449942008.\n",
      "\n",
      "C:\\Users\\Leonela\\anaconda3\\lib\\site-packages\\scipy\\stats\\_continuous_distns.py:2958: RuntimeWarning:\n",
      "\n",
      "The shape parameter of the erlang distribution has been given a non-integer value 0.9298597507402357.\n",
      "\n",
      "C:\\Users\\Leonela\\anaconda3\\lib\\site-packages\\scipy\\stats\\_continuous_distns.py:2958: RuntimeWarning:\n",
      "\n",
      "The shape parameter of the erlang distribution has been given a non-integer value 0.8994048492724678.\n",
      "\n",
      "C:\\Users\\Leonela\\anaconda3\\lib\\site-packages\\scipy\\stats\\_continuous_distns.py:2958: RuntimeWarning:\n",
      "\n",
      "The shape parameter of the erlang distribution has been given a non-integer value 0.9110466240480914.\n",
      "\n",
      "C:\\Users\\Leonela\\anaconda3\\lib\\site-packages\\scipy\\stats\\_continuous_distns.py:2958: RuntimeWarning:\n",
      "\n",
      "The shape parameter of the erlang distribution has been given a non-integer value 0.9142690635750368.\n",
      "\n",
      "C:\\Users\\Leonela\\anaconda3\\lib\\site-packages\\scipy\\stats\\_continuous_distns.py:2958: RuntimeWarning:\n",
      "\n",
      "The shape parameter of the erlang distribution has been given a non-integer value 0.9240047029535736.\n",
      "\n",
      "C:\\Users\\Leonela\\anaconda3\\lib\\site-packages\\scipy\\stats\\_continuous_distns.py:2958: RuntimeWarning:\n",
      "\n",
      "The shape parameter of the erlang distribution has been given a non-integer value 0.9055548126927442.\n",
      "\n",
      "C:\\Users\\Leonela\\anaconda3\\lib\\site-packages\\scipy\\stats\\_continuous_distns.py:2958: RuntimeWarning:\n",
      "\n",
      "The shape parameter of the erlang distribution has been given a non-integer value 0.9165109735161789.\n",
      "\n",
      "C:\\Users\\Leonela\\anaconda3\\lib\\site-packages\\scipy\\stats\\_continuous_distns.py:2958: RuntimeWarning:\n",
      "\n",
      "The shape parameter of the erlang distribution has been given a non-integer value 0.9088985476063061.\n",
      "\n",
      "C:\\Users\\Leonela\\anaconda3\\lib\\site-packages\\scipy\\stats\\_continuous_distns.py:2958: RuntimeWarning:\n",
      "\n",
      "The shape parameter of the erlang distribution has been given a non-integer value 0.9195463897354912.\n",
      "\n",
      "C:\\Users\\Leonela\\anaconda3\\lib\\site-packages\\scipy\\stats\\_continuous_distns.py:2958: RuntimeWarning:\n",
      "\n",
      "The shape parameter of the erlang distribution has been given a non-integer value 0.9090527069534309.\n",
      "\n",
      "C:\\Users\\Leonela\\anaconda3\\lib\\site-packages\\scipy\\stats\\_continuous_distns.py:2958: RuntimeWarning:\n",
      "\n",
      "The shape parameter of the erlang distribution has been given a non-integer value 0.9163054277200124.\n",
      "\n",
      "C:\\Users\\Leonela\\anaconda3\\lib\\site-packages\\scipy\\stats\\_continuous_distns.py:2958: RuntimeWarning:\n",
      "\n",
      "The shape parameter of the erlang distribution has been given a non-integer value 0.9107502676347327.\n",
      "\n",
      "C:\\Users\\Leonela\\anaconda3\\lib\\site-packages\\scipy\\stats\\_continuous_distns.py:2958: RuntimeWarning:\n",
      "\n",
      "The shape parameter of the erlang distribution has been given a non-integer value 0.9172829754937555.\n",
      "\n",
      "C:\\Users\\Leonela\\anaconda3\\lib\\site-packages\\scipy\\stats\\_continuous_distns.py:2958: RuntimeWarning:\n",
      "\n",
      "The shape parameter of the erlang distribution has been given a non-integer value 0.911110274088512.\n",
      "\n",
      "C:\\Users\\Leonela\\anaconda3\\lib\\site-packages\\scipy\\stats\\_continuous_distns.py:2958: RuntimeWarning:\n",
      "\n",
      "The shape parameter of the erlang distribution has been given a non-integer value 0.9158254191149734.\n",
      "\n",
      "C:\\Users\\Leonela\\anaconda3\\lib\\site-packages\\scipy\\stats\\_continuous_distns.py:2958: RuntimeWarning:\n",
      "\n",
      "The shape parameter of the erlang distribution has been given a non-integer value 0.9120190555047929.\n",
      "\n",
      "C:\\Users\\Leonela\\anaconda3\\lib\\site-packages\\scipy\\stats\\_continuous_distns.py:2958: RuntimeWarning:\n",
      "\n",
      "The shape parameter of the erlang distribution has been given a non-integer value 0.9160712669387148.\n",
      "\n",
      "C:\\Users\\Leonela\\anaconda3\\lib\\site-packages\\scipy\\stats\\_continuous_distns.py:2958: RuntimeWarning:\n",
      "\n",
      "The shape parameter of the erlang distribution has been given a non-integer value 0.918551763363816.\n",
      "\n",
      "C:\\Users\\Leonela\\anaconda3\\lib\\site-packages\\scipy\\stats\\_continuous_distns.py:2958: RuntimeWarning:\n",
      "\n",
      "The shape parameter of the erlang distribution has been given a non-integer value 0.9178639598117149.\n",
      "\n",
      "C:\\Users\\Leonela\\anaconda3\\lib\\site-packages\\scipy\\stats\\_continuous_distns.py:2958: RuntimeWarning:\n",
      "\n",
      "The shape parameter of the erlang distribution has been given a non-integer value 0.9134802815815234.\n",
      "\n",
      "C:\\Users\\Leonela\\anaconda3\\lib\\site-packages\\scipy\\stats\\_continuous_distns.py:2958: RuntimeWarning:\n",
      "\n",
      "The shape parameter of the erlang distribution has been given a non-integer value 0.909358816390931.\n",
      "\n",
      "C:\\Users\\Leonela\\anaconda3\\lib\\site-packages\\scipy\\stats\\_continuous_distns.py:2958: RuntimeWarning:\n",
      "\n",
      "The shape parameter of the erlang distribution has been given a non-integer value 0.9108375233369682.\n",
      "\n",
      "C:\\Users\\Leonela\\anaconda3\\lib\\site-packages\\scipy\\stats\\_continuous_distns.py:2958: RuntimeWarning:\n",
      "\n",
      "The shape parameter of the erlang distribution has been given a non-integer value 0.9128195920203845.\n",
      "\n",
      "C:\\Users\\Leonela\\anaconda3\\lib\\site-packages\\scipy\\stats\\_continuous_distns.py:2958: RuntimeWarning:\n",
      "\n",
      "The shape parameter of the erlang distribution has been given a non-integer value 0.9114982128981071.\n",
      "\n",
      "C:\\Users\\Leonela\\anaconda3\\lib\\site-packages\\scipy\\stats\\_continuous_distns.py:2958: RuntimeWarning:\n",
      "\n",
      "The shape parameter of the erlang distribution has been given a non-integer value 0.9124892472398152.\n",
      "\n",
      "C:\\Users\\Leonela\\anaconda3\\lib\\site-packages\\scipy\\stats\\_continuous_distns.py:2958: RuntimeWarning:\n",
      "\n",
      "The shape parameter of the erlang distribution has been given a non-integer value 0.9118285576786764.\n",
      "\n",
      "C:\\Users\\Leonela\\anaconda3\\lib\\site-packages\\scipy\\stats\\_continuous_distns.py:2958: RuntimeWarning:\n",
      "\n",
      "The shape parameter of the erlang distribution has been given a non-integer value 0.9137924699574567.\n",
      "\n",
      "C:\\Users\\Leonela\\anaconda3\\lib\\site-packages\\scipy\\stats\\_continuous_distns.py:2958: RuntimeWarning:\n",
      "\n",
      "The shape parameter of the erlang distribution has been given a non-integer value 0.9117330855254328.\n",
      "\n",
      "C:\\Users\\Leonela\\anaconda3\\lib\\site-packages\\scipy\\stats\\_continuous_distns.py:2958: RuntimeWarning:\n",
      "\n",
      "The shape parameter of the erlang distribution has been given a non-integer value 0.9131060084801154.\n",
      "\n",
      "C:\\Users\\Leonela\\anaconda3\\lib\\site-packages\\scipy\\stats\\_continuous_distns.py:2958: RuntimeWarning:\n",
      "\n",
      "The shape parameter of the erlang distribution has been given a non-integer value 0.9120763162641035.\n",
      "\n",
      "C:\\Users\\Leonela\\anaconda3\\lib\\site-packages\\scipy\\stats\\_continuous_distns.py:2958: RuntimeWarning:\n",
      "\n",
      "The shape parameter of the erlang distribution has been given a non-integer value 0.9127627777414447.\n",
      "\n",
      "C:\\Users\\Leonela\\anaconda3\\lib\\site-packages\\scipy\\stats\\_continuous_distns.py:2958: RuntimeWarning:\n",
      "\n",
      "The shape parameter of the erlang distribution has been given a non-integer value 0.9131060084801152.\n",
      "\n",
      "C:\\Users\\Leonela\\anaconda3\\lib\\site-packages\\scipy\\stats\\_continuous_distns.py:2958: RuntimeWarning:\n",
      "\n",
      "The shape parameter of the erlang distribution has been given a non-integer value 0.9177495851816264.\n",
      "\n",
      "C:\\Users\\Leonela\\anaconda3\\lib\\site-packages\\scipy\\stats\\_continuous_distns.py:2958: RuntimeWarning:\n",
      "\n",
      "The shape parameter of the erlang distribution has been given a non-integer value 0.9114565085886048.\n",
      "\n",
      "C:\\Users\\Leonela\\anaconda3\\lib\\site-packages\\scipy\\stats\\_continuous_distns.py:2958: RuntimeWarning:\n",
      "\n",
      "The shape parameter of the erlang distribution has been given a non-integer value 0.9156518929839526.\n",
      "\n",
      "C:\\Users\\Leonela\\anaconda3\\lib\\site-packages\\scipy\\stats\\_continuous_distns.py:2958: RuntimeWarning:\n",
      "\n",
      "The shape parameter of the erlang distribution has been given a non-integer value 0.9125053546874418.\n",
      "\n",
      "C:\\Users\\Leonela\\anaconda3\\lib\\site-packages\\scipy\\stats\\_continuous_distns.py:2958: RuntimeWarning:\n",
      "\n",
      "The shape parameter of the erlang distribution has been given a non-integer value 0.9146030468851156.\n",
      "\n",
      "C:\\Users\\Leonela\\anaconda3\\lib\\site-packages\\scipy\\stats\\_continuous_distns.py:2958: RuntimeWarning:\n",
      "\n",
      "The shape parameter of the erlang distribution has been given a non-integer value 0.9130297777368602.\n",
      "\n",
      "C:\\Users\\Leonela\\anaconda3\\lib\\site-packages\\scipy\\stats\\_continuous_distns.py:2958: RuntimeWarning:\n",
      "\n",
      "The shape parameter of the erlang distribution has been given a non-integer value 0.9090094751659394.\n",
      "\n",
      "C:\\Users\\Leonela\\anaconda3\\lib\\site-packages\\scipy\\stats\\_continuous_distns.py:2958: RuntimeWarning:\n",
      "\n",
      "The shape parameter of the erlang distribution has been given a non-integer value 0.9093707626538469.\n",
      "\n",
      "C:\\Users\\Leonela\\anaconda3\\lib\\site-packages\\scipy\\stats\\_continuous_distns.py:2958: RuntimeWarning:\n",
      "\n",
      "The shape parameter of the erlang distribution has been given a non-integer value 0.9075412551123401.\n",
      "\n",
      "C:\\Users\\Leonela\\anaconda3\\lib\\site-packages\\scipy\\stats\\_continuous_distns.py:2958: RuntimeWarning:\n",
      "\n",
      "The shape parameter of the erlang distribution has been given a non-integer value 0.9077137810011398.\n",
      "\n",
      "C:\\Users\\Leonela\\anaconda3\\lib\\site-packages\\scipy\\stats\\_continuous_distns.py:2958: RuntimeWarning:\n",
      "\n",
      "The shape parameter of the erlang distribution has been given a non-integer value 0.9056563926623715.\n",
      "\n",
      "C:\\Users\\Leonela\\anaconda3\\lib\\site-packages\\scipy\\stats\\_continuous_distns.py:2958: RuntimeWarning:\n",
      "\n",
      "The shape parameter of the erlang distribution has been given a non-integer value 0.90966906740401.\n",
      "\n",
      "C:\\Users\\Leonela\\anaconda3\\lib\\site-packages\\scipy\\stats\\_continuous_distns.py:2958: RuntimeWarning:\n",
      "\n",
      "The shape parameter of the erlang distribution has been given a non-integer value 0.9091743732254571.\n",
      "\n",
      "C:\\Users\\Leonela\\anaconda3\\lib\\site-packages\\scipy\\stats\\_continuous_distns.py:2958: RuntimeWarning:\n",
      "\n",
      "The shape parameter of the erlang distribution has been given a non-integer value 0.9035234951511799.\n",
      "\n",
      "C:\\Users\\Leonela\\anaconda3\\lib\\site-packages\\scipy\\stats\\_continuous_distns.py:2958: RuntimeWarning:\n",
      "\n",
      "The shape parameter of the erlang distribution has been given a non-integer value 0.8989038538560474.\n",
      "\n",
      "C:\\Users\\Leonela\\anaconda3\\lib\\site-packages\\scipy\\stats\\_continuous_distns.py:2958: RuntimeWarning:\n",
      "\n",
      "The shape parameter of the erlang distribution has been given a non-integer value 0.9033446476176494.\n",
      "\n",
      "C:\\Users\\Leonela\\anaconda3\\lib\\site-packages\\scipy\\stats\\_continuous_distns.py:2958: RuntimeWarning:\n",
      "\n",
      "The shape parameter of the erlang distribution has been given a non-integer value 0.9077169418235052.\n",
      "\n",
      "C:\\Users\\Leonela\\anaconda3\\lib\\site-packages\\scipy\\stats\\_continuous_distns.py:2958: RuntimeWarning:\n",
      "\n",
      "The shape parameter of the erlang distribution has been given a non-integer value 0.9048020790196014.\n",
      "\n",
      "C:\\Users\\Leonela\\anaconda3\\lib\\site-packages\\scipy\\stats\\_continuous_distns.py:2958: RuntimeWarning:\n",
      "\n",
      "The shape parameter of the erlang distribution has been given a non-integer value 0.9069882261225293.\n",
      "\n",
      "C:\\Users\\Leonela\\anaconda3\\lib\\site-packages\\scipy\\stats\\_continuous_distns.py:2958: RuntimeWarning:\n",
      "\n",
      "The shape parameter of the erlang distribution has been given a non-integer value 0.9055307947205773.\n",
      "\n",
      "C:\\Users\\Leonela\\anaconda3\\lib\\site-packages\\scipy\\stats\\_continuous_distns.py:2958: RuntimeWarning:\n",
      "\n",
      "The shape parameter of the erlang distribution has been given a non-integer value 0.9066238682720413.\n",
      "\n",
      "C:\\Users\\Leonela\\anaconda3\\lib\\site-packages\\scipy\\stats\\_continuous_distns.py:2958: RuntimeWarning:\n",
      "\n",
      "The shape parameter of the erlang distribution has been given a non-integer value 0.9058951525710652.\n",
      "\n",
      "C:\\Users\\Leonela\\anaconda3\\lib\\site-packages\\scipy\\stats\\_continuous_distns.py:2958: RuntimeWarning:\n",
      "\n",
      "The shape parameter of the erlang distribution has been given a non-integer value 0.9064416893467973.\n",
      "\n",
      "C:\\Users\\Leonela\\anaconda3\\lib\\site-packages\\scipy\\stats\\_continuous_distns.py:2958: RuntimeWarning:\n",
      "\n",
      "The shape parameter of the erlang distribution has been given a non-integer value 0.9042447218870713.\n",
      "\n",
      "C:\\Users\\Leonela\\anaconda3\\lib\\site-packages\\scipy\\stats\\_continuous_distns.py:2958: RuntimeWarning:\n",
      "\n",
      "The shape parameter of the erlang distribution has been given a non-integer value 0.9067171218060228.\n",
      "\n",
      "C:\\Users\\Leonela\\anaconda3\\lib\\site-packages\\scipy\\stats\\_continuous_distns.py:2958: RuntimeWarning:\n",
      "\n",
      "The shape parameter of the erlang distribution has been given a non-integer value 0.9055279092920978.\n",
      "\n",
      "C:\\Users\\Leonela\\anaconda3\\lib\\site-packages\\scipy\\stats\\_continuous_distns.py:2958: RuntimeWarning:\n",
      "\n",
      "The shape parameter of the erlang distribution has been given a non-integer value 0.9062132443331223.\n",
      "\n",
      "C:\\Users\\Leonela\\anaconda3\\lib\\site-packages\\scipy\\stats\\_continuous_distns.py:2958: RuntimeWarning:\n",
      "\n",
      "The shape parameter of the erlang distribution has been given a non-integer value 0.9049165585176051.\n",
      "\n",
      "C:\\Users\\Leonela\\anaconda3\\lib\\site-packages\\scipy\\stats\\_continuous_distns.py:2958: RuntimeWarning:\n",
      "\n",
      "The shape parameter of the erlang distribution has been given a non-integer value 0.9062669809839183.\n",
      "\n",
      "C:\\Users\\Leonela\\anaconda3\\lib\\site-packages\\scipy\\stats\\_continuous_distns.py:2958: RuntimeWarning:\n",
      "\n",
      "The shape parameter of the erlang distribution has been given a non-integer value 0.9054562604243697.\n",
      "\n",
      "C:\\Users\\Leonela\\anaconda3\\lib\\site-packages\\scipy\\stats\\_continuous_distns.py:2958: RuntimeWarning:\n",
      "\n",
      "The shape parameter of the erlang distribution has been given a non-integer value 0.9060239983559342.\n",
      "\n",
      "C:\\Users\\Leonela\\anaconda3\\lib\\site-packages\\scipy\\stats\\_continuous_distns.py:2958: RuntimeWarning:\n",
      "\n",
      "The shape parameter of the erlang distribution has been given a non-integer value 0.9052405353549178.\n",
      "\n",
      "C:\\Users\\Leonela\\anaconda3\\lib\\site-packages\\scipy\\stats\\_continuous_distns.py:2958: RuntimeWarning:\n",
      "\n",
      "The shape parameter of the erlang distribution has been given a non-integer value 0.9047273125404174.\n",
      "\n",
      "C:\\Users\\Leonela\\anaconda3\\lib\\site-packages\\scipy\\stats\\_continuous_distns.py:2958: RuntimeWarning:\n",
      "\n",
      "The shape parameter of the erlang distribution has been given a non-integer value 0.9049612093155577.\n",
      "\n",
      "C:\\Users\\Leonela\\anaconda3\\lib\\site-packages\\scipy\\stats\\_continuous_distns.py:2958: RuntimeWarning:\n",
      "\n",
      "The shape parameter of the erlang distribution has been given a non-integer value 0.9057583010958401.\n",
      "\n",
      "C:\\Users\\Leonela\\anaconda3\\lib\\site-packages\\scipy\\stats\\_continuous_distns.py:2958: RuntimeWarning:\n",
      "\n",
      "The shape parameter of the erlang distribution has been given a non-integer value 0.9019677734001519.\n",
      "\n",
      "C:\\Users\\Leonela\\anaconda3\\lib\\site-packages\\scipy\\stats\\_continuous_distns.py:2958: RuntimeWarning:\n",
      "\n",
      "The shape parameter of the erlang distribution has been given a non-integer value 0.9062772791008928.\n",
      "\n",
      "C:\\Users\\Leonela\\anaconda3\\lib\\site-packages\\scipy\\stats\\_continuous_distns.py:2958: RuntimeWarning:\n",
      "\n",
      "The shape parameter of the erlang distribution has been given a non-integer value 0.9042692386421536.\n",
      "\n",
      "C:\\Users\\Leonela\\anaconda3\\lib\\site-packages\\scipy\\stats\\_continuous_distns.py:2958: RuntimeWarning:\n",
      "\n",
      "The shape parameter of the erlang distribution has been given a non-integer value 0.9053860354824185.\n",
      "\n",
      "C:\\Users\\Leonela\\anaconda3\\lib\\site-packages\\scipy\\stats\\_continuous_distns.py:2958: RuntimeWarning:\n",
      "\n",
      "The shape parameter of the erlang distribution has been given a non-integer value 0.9031560982247846.\n",
      "\n",
      "C:\\Users\\Leonela\\anaconda3\\lib\\site-packages\\scipy\\stats\\_continuous_distns.py:2958: RuntimeWarning:\n",
      "\n",
      "The shape parameter of the erlang distribution has been given a non-integer value 0.9054969838818658.\n",
      "\n",
      "C:\\Users\\Leonela\\anaconda3\\lib\\site-packages\\scipy\\stats\\_continuous_distns.py:2958: RuntimeWarning:\n",
      "\n",
      "The shape parameter of the erlang distribution has been given a non-integer value 0.9041213074428903.\n",
      "\n",
      "C:\\Users\\Leonela\\anaconda3\\lib\\site-packages\\scipy\\stats\\_continuous_distns.py:2958: RuntimeWarning:\n",
      "\n",
      "The shape parameter of the erlang distribution has been given a non-integer value 0.9050698534725364.\n",
      "\n",
      "C:\\Users\\Leonela\\anaconda3\\lib\\site-packages\\scipy\\stats\\_continuous_distns.py:2958: RuntimeWarning:\n",
      "\n",
      "The shape parameter of the erlang distribution has been given a non-integer value 0.9037256054372236.\n",
      "\n",
      "C:\\Users\\Leonela\\anaconda3\\lib\\site-packages\\scipy\\stats\\_continuous_distns.py:2958: RuntimeWarning:\n",
      "\n",
      "The shape parameter of the erlang distribution has been given a non-integer value 0.9050541392707052.\n",
      "\n",
      "C:\\Users\\Leonela\\anaconda3\\lib\\site-packages\\scipy\\stats\\_continuous_distns.py:2958: RuntimeWarning:\n",
      "\n",
      "The shape parameter of the erlang distribution has been given a non-integer value 0.9041422597119989.\n",
      "\n",
      "C:\\Users\\Leonela\\anaconda3\\lib\\site-packages\\scipy\\stats\\_continuous_distns.py:2958: RuntimeWarning:\n",
      "\n",
      "The shape parameter of the erlang distribution has been given a non-integer value 0.904837955032402.\n",
      "\n",
      "C:\\Users\\Leonela\\anaconda3\\lib\\site-packages\\scipy\\stats\\_continuous_distns.py:2958: RuntimeWarning:\n",
      "\n",
      "The shape parameter of the erlang distribution has been given a non-integer value 0.9040138510882947.\n",
      "\n",
      "C:\\Users\\Leonela\\anaconda3\\lib\\site-packages\\scipy\\stats\\_continuous_distns.py:2958: RuntimeWarning:\n",
      "\n",
      "The shape parameter of the erlang distribution has been given a non-integer value 0.9047940672251026.\n",
      "\n",
      "C:\\Users\\Leonela\\anaconda3\\lib\\site-packages\\scipy\\stats\\_continuous_distns.py:2958: RuntimeWarning:\n",
      "\n",
      "The shape parameter of the erlang distribution has been given a non-integer value 0.9042007767883983.\n",
      "\n",
      "C:\\Users\\Leonela\\anaconda3\\lib\\site-packages\\scipy\\stats\\_continuous_distns.py:2958: RuntimeWarning:\n",
      "\n",
      "The shape parameter of the erlang distribution has been given a non-integer value 0.9046786604714011.\n",
      "\n",
      "C:\\Users\\Leonela\\anaconda3\\lib\\site-packages\\scipy\\stats\\_continuous_distns.py:2958: RuntimeWarning:\n",
      "\n",
      "The shape parameter of the erlang distribution has been given a non-integer value 0.9041677267598968.\n",
      "\n",
      "C:\\Users\\Leonela\\anaconda3\\lib\\site-packages\\scipy\\stats\\_continuous_distns.py:2958: RuntimeWarning:\n",
      "\n",
      "The shape parameter of the erlang distribution has been given a non-integer value 0.9039425110392619.\n",
      "\n",
      "C:\\Users\\Leonela\\anaconda3\\lib\\site-packages\\scipy\\stats\\_continuous_distns.py:2958: RuntimeWarning:\n",
      "\n",
      "The shape parameter of the erlang distribution has been given a non-integer value 0.9044946231133664.\n",
      "\n",
      "C:\\Users\\Leonela\\anaconda3\\lib\\site-packages\\scipy\\stats\\_continuous_distns.py:2958: RuntimeWarning:\n",
      "\n",
      "The shape parameter of the erlang distribution has been given a non-integer value 0.9057450950009407.\n",
      "\n",
      "C:\\Users\\Leonela\\anaconda3\\lib\\site-packages\\scipy\\stats\\_continuous_distns.py:2958: RuntimeWarning:\n",
      "\n",
      "The shape parameter of the erlang distribution has been given a non-integer value 0.90407889511362.\n",
      "\n",
      "C:\\Users\\Leonela\\anaconda3\\lib\\site-packages\\scipy\\stats\\_continuous_distns.py:2958: RuntimeWarning:\n",
      "\n",
      "The shape parameter of the erlang distribution has been given a non-integer value 0.9044968150389232.\n",
      "\n",
      "C:\\Users\\Leonela\\anaconda3\\lib\\site-packages\\scipy\\stats\\_continuous_distns.py:2958: RuntimeWarning:\n",
      "\n",
      "The shape parameter of the erlang distribution has been given a non-integer value 0.9044951710947555.\n",
      "\n",
      "C:\\Users\\Leonela\\anaconda3\\lib\\site-packages\\scipy\\stats\\_continuous_distns.py:2958: RuntimeWarning:\n",
      "\n",
      "The shape parameter of the erlang distribution has been given a non-integer value 0.9051900603594267.\n",
      "\n",
      "C:\\Users\\Leonela\\anaconda3\\lib\\site-packages\\scipy\\stats\\_continuous_distns.py:2958: RuntimeWarning:\n",
      "\n",
      "The shape parameter of the erlang distribution has been given a non-integer value 0.9043566864250717.\n",
      "\n",
      "C:\\Users\\Leonela\\anaconda3\\lib\\site-packages\\scipy\\stats\\_continuous_distns.py:2958: RuntimeWarning:\n",
      "\n",
      "The shape parameter of the erlang distribution has been given a non-integer value 0.9046814612651688.\n",
      "\n",
      "C:\\Users\\Leonela\\anaconda3\\lib\\site-packages\\scipy\\stats\\_continuous_distns.py:2958: RuntimeWarning:\n",
      "\n",
      "The shape parameter of the erlang distribution has been given a non-integer value 0.9045417436373588.\n",
      "\n",
      "C:\\Users\\Leonela\\anaconda3\\lib\\site-packages\\scipy\\stats\\_continuous_distns.py:2958: RuntimeWarning:\n",
      "\n",
      "The shape parameter of the erlang distribution has been given a non-integer value 0.9049433174097107.\n",
      "\n",
      "C:\\Users\\Leonela\\anaconda3\\lib\\site-packages\\scipy\\stats\\_continuous_distns.py:2958: RuntimeWarning:\n",
      "\n",
      "The shape parameter of the erlang distribution has been given a non-integer value 0.9045033441712315.\n",
      "\n",
      "C:\\Users\\Leonela\\anaconda3\\lib\\site-packages\\scipy\\stats\\_continuous_distns.py:2958: RuntimeWarning:\n",
      "\n",
      "The shape parameter of the erlang distribution has been given a non-integer value 0.9047326605533386.\n",
      "\n",
      "C:\\Users\\Leonela\\anaconda3\\lib\\site-packages\\scipy\\stats\\_continuous_distns.py:2958: RuntimeWarning:\n",
      "\n",
      "The shape parameter of the erlang distribution has been given a non-integer value 0.9045894728663537.\n",
      "\n",
      "C:\\Users\\Leonela\\anaconda3\\lib\\site-packages\\scipy\\stats\\_continuous_distns.py:2958: RuntimeWarning:\n",
      "\n",
      "The shape parameter of the erlang distribution has been given a non-integer value 0.9048284791495474.\n",
      "\n",
      "C:\\Users\\Leonela\\anaconda3\\lib\\site-packages\\scipy\\stats\\_continuous_distns.py:2958: RuntimeWarning:\n",
      "\n",
      "The shape parameter of the erlang distribution has been given a non-integer value 0.9045846279158105.\n",
      "\n",
      "C:\\Users\\Leonela\\anaconda3\\lib\\site-packages\\scipy\\stats\\_continuous_distns.py:2958: RuntimeWarning:\n",
      "\n",
      "The shape parameter of the erlang distribution has been given a non-integer value 0.9047391204873965.\n",
      "\n",
      "C:\\Users\\Leonela\\anaconda3\\lib\\site-packages\\scipy\\stats\\_continuous_distns.py:2958: RuntimeWarning:\n",
      "\n",
      "The shape parameter of the erlang distribution has been given a non-integer value 0.9046268847716143.\n",
      "\n",
      "C:\\Users\\Leonela\\anaconda3\\lib\\site-packages\\scipy\\stats\\_continuous_distns.py:2958: RuntimeWarning:\n",
      "\n",
      "The shape parameter of the erlang distribution has been given a non-integer value 0.9047721366751422.\n",
      "\n",
      "C:\\Users\\Leonela\\anaconda3\\lib\\site-packages\\scipy\\stats\\_continuous_distns.py:2958: RuntimeWarning:\n",
      "\n",
      "The shape parameter of the erlang distribution has been given a non-integer value 0.9046315051056435.\n",
      "\n",
      "C:\\Users\\Leonela\\anaconda3\\lib\\site-packages\\scipy\\stats\\_continuous_distns.py:2958: RuntimeWarning:\n",
      "\n",
      "The shape parameter of the erlang distribution has been given a non-integer value 0.9047329600420246.\n",
      "\n",
      "C:\\Users\\Leonela\\anaconda3\\lib\\site-packages\\scipy\\stats\\_continuous_distns.py:2958: RuntimeWarning:\n",
      "\n",
      "The shape parameter of the erlang distribution has been given a non-integer value 0.9047859976772297.\n",
      "\n",
      "C:\\Users\\Leonela\\anaconda3\\lib\\site-packages\\scipy\\stats\\_continuous_distns.py:2958: RuntimeWarning:\n",
      "\n",
      "The shape parameter of the erlang distribution has been given a non-integer value 0.9047959763322493.\n",
      "\n",
      "C:\\Users\\Leonela\\anaconda3\\lib\\site-packages\\scipy\\stats\\_continuous_distns.py:2958: RuntimeWarning:\n",
      "\n",
      "The shape parameter of the erlang distribution has been given a non-integer value 0.904672622912295.\n",
      "\n",
      "C:\\Users\\Leonela\\anaconda3\\lib\\site-packages\\scipy\\stats\\_continuous_distns.py:2958: RuntimeWarning:\n",
      "\n",
      "The shape parameter of the erlang distribution has been given a non-integer value 0.9047548585255978.\n",
      "\n",
      "C:\\Users\\Leonela\\anaconda3\\lib\\site-packages\\scipy\\stats\\_continuous_distns.py:2958: RuntimeWarning:\n",
      "\n",
      "The shape parameter of the erlang distribution has been given a non-integer value 0.9046931818156208.\n",
      "\n",
      "C:\\Users\\Leonela\\anaconda3\\lib\\site-packages\\scipy\\stats\\_continuous_distns.py:2958: RuntimeWarning:\n",
      "\n",
      "The shape parameter of the erlang distribution has been given a non-integer value 0.9056100580484786.\n",
      "\n",
      "C:\\Users\\Leonela\\anaconda3\\lib\\site-packages\\scipy\\stats\\_continuous_distns.py:2958: RuntimeWarning:\n",
      "\n",
      "The shape parameter of the erlang distribution has been given a non-integer value 0.9045283095820422.\n",
      "\n",
      "C:\\Users\\Leonela\\anaconda3\\lib\\site-packages\\scipy\\stats\\_continuous_distns.py:2958: RuntimeWarning:\n",
      "\n",
      "The shape parameter of the erlang distribution has been given a non-integer value 0.9049746881703691.\n",
      "\n",
      "C:\\Users\\Leonela\\anaconda3\\lib\\site-packages\\scipy\\stats\\_continuous_distns.py:2958: RuntimeWarning:\n",
      "\n",
      "The shape parameter of the erlang distribution has been given a non-integer value 0.9047635584043079.\n",
      "\n",
      "C:\\Users\\Leonela\\anaconda3\\lib\\site-packages\\scipy\\stats\\_continuous_distns.py:2958: RuntimeWarning:\n",
      "\n",
      "The shape parameter of the erlang distribution has been given a non-integer value 0.9052963929521245.\n",
      "\n",
      "C:\\Users\\Leonela\\anaconda3\\lib\\site-packages\\scipy\\stats\\_continuous_distns.py:2958: RuntimeWarning:\n",
      "\n",
      "The shape parameter of the erlang distribution has been given a non-integer value 0.9047203304245628.\n",
      "\n",
      "C:\\Users\\Leonela\\anaconda3\\lib\\site-packages\\scipy\\stats\\_continuous_distns.py:2958: RuntimeWarning:\n",
      "\n",
      "The shape parameter of the erlang distribution has been given a non-integer value 0.9050323254766954.\n",
      "\n",
      "C:\\Users\\Leonela\\anaconda3\\lib\\site-packages\\scipy\\stats\\_continuous_distns.py:2958: RuntimeWarning:\n",
      "\n",
      "The shape parameter of the erlang distribution has been given a non-integer value 0.9051667090128892.\n",
      "\n",
      "C:\\Users\\Leonela\\anaconda3\\lib\\site-packages\\scipy\\stats\\_continuous_distns.py:2958: RuntimeWarning:\n",
      "\n",
      "The shape parameter of the erlang distribution has been given a non-integer value 0.9052835501578627.\n",
      "\n",
      "C:\\Users\\Leonela\\anaconda3\\lib\\site-packages\\scipy\\stats\\_continuous_distns.py:2958: RuntimeWarning:\n",
      "\n",
      "The shape parameter of the erlang distribution has been given a non-integer value 0.9048611353578877.\n",
      "\n",
      "C:\\Users\\Leonela\\anaconda3\\lib\\site-packages\\scipy\\stats\\_continuous_distns.py:2958: RuntimeWarning:\n",
      "\n",
      "The shape parameter of the erlang distribution has been given a non-integer value 0.904510411896154.\n",
      "\n",
      "C:\\Users\\Leonela\\anaconda3\\lib\\site-packages\\scipy\\stats\\_continuous_distns.py:2958: RuntimeWarning:\n",
      "\n",
      "The shape parameter of the erlang distribution has been given a non-integer value 0.9050580044902268.\n",
      "\n",
      "C:\\Users\\Leonela\\anaconda3\\lib\\site-packages\\scipy\\stats\\_continuous_distns.py:2958: RuntimeWarning:\n",
      "\n",
      "The shape parameter of the erlang distribution has been given a non-integer value 0.90502105798141.\n",
      "\n",
      "C:\\Users\\Leonela\\anaconda3\\lib\\site-packages\\scipy\\stats\\_continuous_distns.py:2958: RuntimeWarning:\n",
      "\n",
      "The shape parameter of the erlang distribution has been given a non-integer value 0.9049011160137683.\n",
      "\n",
      "C:\\Users\\Leonela\\anaconda3\\lib\\site-packages\\scipy\\stats\\_continuous_distns.py:2958: RuntimeWarning:\n",
      "\n",
      "The shape parameter of the erlang distribution has been given a non-integer value 0.9047195965314321.\n",
      "\n",
      "C:\\Users\\Leonela\\anaconda3\\lib\\site-packages\\scipy\\stats\\_continuous_distns.py:2958: RuntimeWarning:\n",
      "\n",
      "The shape parameter of the erlang distribution has been given a non-integer value 0.904973402500528.\n",
      "\n",
      "C:\\Users\\Leonela\\anaconda3\\lib\\site-packages\\scipy\\stats\\_continuous_distns.py:2958: RuntimeWarning:\n",
      "\n",
      "The shape parameter of the erlang distribution has been given a non-integer value 0.9049246759990639.\n",
      "\n",
      "C:\\Users\\Leonela\\anaconda3\\lib\\site-packages\\scipy\\stats\\_continuous_distns.py:2958: RuntimeWarning:\n",
      "\n",
      "The shape parameter of the erlang distribution has been given a non-integer value 0.9049070060100922.\n",
      "\n",
      "C:\\Users\\Leonela\\anaconda3\\lib\\site-packages\\scipy\\stats\\_continuous_distns.py:2958: RuntimeWarning:\n",
      "\n",
      "The shape parameter of the erlang distribution has been given a non-integer value 0.9048081251853468.\n",
      "\n",
      "C:\\Users\\Leonela\\anaconda3\\lib\\site-packages\\scipy\\stats\\_continuous_distns.py:2958: RuntimeWarning:\n",
      "\n",
      "The shape parameter of the erlang distribution has been given a non-integer value 0.9047254865277563.\n",
      "\n",
      "C:\\Users\\Leonela\\anaconda3\\lib\\site-packages\\scipy\\stats\\_continuous_distns.py:2958: RuntimeWarning:\n",
      "\n",
      "The shape parameter of the erlang distribution has been given a non-integer value 0.9048086011259523.\n",
      "\n",
      "C:\\Users\\Leonela\\anaconda3\\lib\\site-packages\\scipy\\stats\\_continuous_distns.py:2958: RuntimeWarning:\n",
      "\n",
      "The shape parameter of the erlang distribution has been given a non-integer value 0.9048824047890572.\n",
      "\n",
      "C:\\Users\\Leonela\\anaconda3\\lib\\site-packages\\scipy\\stats\\_continuous_distns.py:2958: RuntimeWarning:\n",
      "\n",
      "The shape parameter of the erlang distribution has been given a non-integer value 0.9048332023469873.\n",
      "\n",
      "C:\\Users\\Leonela\\anaconda3\\lib\\site-packages\\scipy\\stats\\_continuous_distns.py:2958: RuntimeWarning:\n",
      "\n",
      "The shape parameter of the erlang distribution has been given a non-integer value 0.9048701041785397.\n",
      "\n",
      "C:\\Users\\Leonela\\anaconda3\\lib\\site-packages\\scipy\\stats\\_continuous_distns.py:2958: RuntimeWarning:\n",
      "\n",
      "The shape parameter of the erlang distribution has been given a non-integer value 0.9050740765183634.\n",
      "\n",
      "C:\\Users\\Leonela\\anaconda3\\lib\\site-packages\\scipy\\stats\\_continuous_distns.py:2958: RuntimeWarning:\n",
      "\n",
      "The shape parameter of the erlang distribution has been given a non-integer value 0.9048182391611093.\n",
      "\n",
      "C:\\Users\\Leonela\\anaconda3\\lib\\site-packages\\scipy\\stats\\_continuous_distns.py:2958: RuntimeWarning:\n",
      "\n",
      "The shape parameter of the erlang distribution has been given a non-integer value 0.9049023557035613.\n",
      "\n",
      "C:\\Users\\Leonela\\anaconda3\\lib\\site-packages\\scipy\\stats\\_continuous_distns.py:2958: RuntimeWarning:\n",
      "\n",
      "The shape parameter of the erlang distribution has been given a non-integer value 0.904918481466072.\n",
      "\n",
      "C:\\Users\\Leonela\\anaconda3\\lib\\site-packages\\scipy\\stats\\_continuous_distns.py:2958: RuntimeWarning:\n",
      "\n",
      "The shape parameter of the erlang distribution has been given a non-integer value 0.90501029841596.\n",
      "\n",
      "C:\\Users\\Leonela\\anaconda3\\lib\\site-packages\\scipy\\stats\\_continuous_distns.py:2958: RuntimeWarning:\n",
      "\n",
      "The shape parameter of the erlang distribution has been given a non-integer value 0.904866253974822.\n",
      "\n",
      "C:\\Users\\Leonela\\anaconda3\\lib\\site-packages\\scipy\\stats\\_continuous_distns.py:2958: RuntimeWarning:\n",
      "\n",
      "The shape parameter of the erlang distribution has been given a non-integer value 0.9049622836022473.\n",
      "\n",
      "C:\\Users\\Leonela\\anaconda3\\lib\\site-packages\\scipy\\stats\\_continuous_distns.py:2958: RuntimeWarning:\n",
      "\n",
      "The shape parameter of the erlang distribution has been given a non-integer value 0.9048902613816783.\n",
      "\n",
      "C:\\Users\\Leonela\\anaconda3\\lib\\site-packages\\scipy\\stats\\_continuous_distns.py:2958: RuntimeWarning:\n",
      "\n",
      "The shape parameter of the erlang distribution has been given a non-integer value 0.9047015027036953.\n",
      "\n",
      "C:\\Users\\Leonela\\anaconda3\\lib\\site-packages\\scipy\\stats\\_continuous_distns.py:2958: RuntimeWarning:\n",
      "\n",
      "The shape parameter of the erlang distribution has been given a non-integer value 0.9049496197834455.\n",
      "\n",
      "C:\\Users\\Leonela\\anaconda3\\lib\\site-packages\\scipy\\stats\\_continuous_distns.py:2958: RuntimeWarning:\n",
      "\n",
      "The shape parameter of the erlang distribution has been given a non-integer value 0.9048831390665573.\n",
      "\n",
      "C:\\Users\\Leonela\\anaconda3\\lib\\site-packages\\scipy\\stats\\_continuous_distns.py:2958: RuntimeWarning:\n",
      "\n",
      "The shape parameter of the erlang distribution has been given a non-integer value 0.9048884808028981.\n",
      "\n",
      "C:\\Users\\Leonela\\anaconda3\\lib\\site-packages\\scipy\\stats\\_continuous_distns.py:2958: RuntimeWarning:\n",
      "\n",
      "The shape parameter of the erlang distribution has been given a non-integer value 0.9047830213444255.\n",
      "\n",
      "C:\\Users\\Leonela\\anaconda3\\lib\\site-packages\\scipy\\stats\\_continuous_distns.py:2958: RuntimeWarning:\n",
      "\n",
      "The shape parameter of the erlang distribution has been given a non-integer value 0.9046997221249153.\n",
      "\n",
      "C:\\Users\\Leonela\\anaconda3\\lib\\site-packages\\scipy\\stats\\_continuous_distns.py:2958: RuntimeWarning:\n",
      "\n",
      "The shape parameter of the erlang distribution has been given a non-integer value 0.904773854019324.\n",
      "\n",
      "C:\\Users\\Leonela\\anaconda3\\lib\\site-packages\\scipy\\stats\\_continuous_distns.py:2958: RuntimeWarning:\n",
      "\n",
      "The shape parameter of the erlang distribution has been given a non-integer value 0.9048598241070045.\n",
      "\n",
      "C:\\Users\\Leonela\\anaconda3\\lib\\site-packages\\scipy\\stats\\_continuous_distns.py:2958: RuntimeWarning:\n",
      "\n",
      "The shape parameter of the erlang distribution has been given a non-integer value 0.9048886755846473.\n",
      "\n",
      "C:\\Users\\Leonela\\anaconda3\\lib\\site-packages\\scipy\\stats\\_continuous_distns.py:2958: RuntimeWarning:\n",
      "\n",
      "The shape parameter of the erlang distribution has been given a non-integer value 0.9048282627851719.\n",
      "\n",
      "C:\\Users\\Leonela\\anaconda3\\lib\\site-packages\\scipy\\stats\\_continuous_distns.py:2958: RuntimeWarning:\n",
      "\n",
      "The shape parameter of the erlang distribution has been given a non-integer value 0.904815935781768.\n",
      "\n",
      "C:\\Users\\Leonela\\anaconda3\\lib\\site-packages\\scipy\\stats\\_continuous_distns.py:2958: RuntimeWarning:\n",
      "\n",
      "The shape parameter of the erlang distribution has been given a non-integer value 0.9048488520256954.\n",
      "\n",
      "C:\\Users\\Leonela\\anaconda3\\lib\\site-packages\\scipy\\stats\\_continuous_distns.py:2958: RuntimeWarning:\n",
      "\n",
      "The shape parameter of the erlang distribution has been given a non-integer value 0.9048612232639496.\n",
      "\n",
      "C:\\Users\\Leonela\\anaconda3\\lib\\site-packages\\scipy\\stats\\_continuous_distns.py:2958: RuntimeWarning:\n",
      "\n",
      "The shape parameter of the erlang distribution has been given a non-integer value 0.9048365029048664.\n",
      "\n",
      "C:\\Users\\Leonela\\anaconda3\\lib\\site-packages\\scipy\\stats\\_continuous_distns.py:2958: RuntimeWarning:\n",
      "\n",
      "The shape parameter of the erlang distribution has been given a non-integer value 0.9048324012762068.\n",
      "\n",
      "C:\\Users\\Leonela\\anaconda3\\lib\\site-packages\\scipy\\stats\\_continuous_distns.py:2958: RuntimeWarning:\n",
      "\n",
      "The shape parameter of the erlang distribution has been given a non-integer value 0.9048447393383232.\n",
      "\n",
      "C:\\Users\\Leonela\\anaconda3\\lib\\site-packages\\scipy\\stats\\_continuous_distns.py:2958: RuntimeWarning:\n",
      "\n",
      "The shape parameter of the erlang distribution has been given a non-integer value 0.9048502413526736.\n",
      "\n",
      "C:\\Users\\Leonela\\anaconda3\\lib\\site-packages\\scipy\\stats\\_continuous_distns.py:2958: RuntimeWarning:\n",
      "\n",
      "The shape parameter of the erlang distribution has been given a non-integer value 0.9048399375168181.\n",
      "\n",
      "C:\\Users\\Leonela\\anaconda3\\lib\\site-packages\\scipy\\stats\\_continuous_distns.py:2958: RuntimeWarning:\n",
      "\n",
      "The shape parameter of the erlang distribution has been given a non-integer value 0.9048388037048798.\n",
      "\n",
      "C:\\Users\\Leonela\\anaconda3\\lib\\site-packages\\scipy\\stats\\_continuous_distns.py:2958: RuntimeWarning:\n",
      "\n",
      "The shape parameter of the erlang distribution has been given a non-integer value 0.9048432554299624.\n",
      "\n",
      "C:\\Users\\Leonela\\anaconda3\\lib\\site-packages\\scipy\\stats\\_continuous_distns.py:2958: RuntimeWarning:\n",
      "\n",
      "The shape parameter of the erlang distribution has been given a non-integer value 0.904845817468481.\n",
      "\n",
      "C:\\Users\\Leonela\\anaconda3\\lib\\site-packages\\scipy\\stats\\_continuous_distns.py:2958: RuntimeWarning:\n",
      "\n",
      "The shape parameter of the erlang distribution has been given a non-integer value 0.9048414075047339.\n",
      "\n",
      "C:\\Users\\Leonela\\anaconda3\\lib\\site-packages\\scipy\\stats\\_continuous_distns.py:2958: RuntimeWarning:\n",
      "\n",
      "The shape parameter of the erlang distribution has been given a non-integer value 0.9048412676051845.\n",
      "\n",
      "C:\\Users\\Leonela\\anaconda3\\lib\\site-packages\\scipy\\stats\\_continuous_distns.py:2958: RuntimeWarning:\n",
      "\n",
      "The shape parameter of the erlang distribution has been given a non-integer value 0.9048427584737679.\n",
      "\n",
      "C:\\Users\\Leonela\\anaconda3\\lib\\site-packages\\scipy\\stats\\_continuous_distns.py:2958: RuntimeWarning:\n",
      "\n",
      "The shape parameter of the erlang distribution has been given a non-integer value 0.9048440161764356.\n",
      "\n",
      "C:\\Users\\Leonela\\anaconda3\\lib\\site-packages\\scipy\\stats\\_continuous_distns.py:2958: RuntimeWarning:\n",
      "\n",
      "The shape parameter of the erlang distribution has been given a non-integer value 0.9048453205122866.\n",
      "\n",
      "C:\\Users\\Leonela\\anaconda3\\lib\\site-packages\\scipy\\stats\\_continuous_distns.py:2958: RuntimeWarning:\n",
      "\n",
      "The shape parameter of the erlang distribution has been given a non-integer value 0.9048435036758469.\n",
      "\n",
      "C:\\Users\\Leonela\\anaconda3\\lib\\site-packages\\scipy\\stats\\_continuous_distns.py:2958: RuntimeWarning:\n",
      "\n",
      "The shape parameter of the erlang distribution has been given a non-integer value 0.9048429447742876.\n",
      "\n",
      "C:\\Users\\Leonela\\anaconda3\\lib\\site-packages\\scipy\\stats\\_continuous_distns.py:2958: RuntimeWarning:\n",
      "\n",
      "The shape parameter of the erlang distribution has been given a non-integer value 0.9047442991598712.\n",
      "\n",
      "C:\\Users\\Leonela\\anaconda3\\lib\\site-packages\\scipy\\stats\\_continuous_distns.py:2958: RuntimeWarning:\n",
      "\n",
      "The shape parameter of the erlang distribution has been given a non-integer value 0.9048628415676387.\n",
      "\n",
      "C:\\Users\\Leonela\\anaconda3\\lib\\site-packages\\scipy\\stats\\_continuous_distns.py:2958: RuntimeWarning:\n",
      "\n",
      "The shape parameter of the erlang distribution has been given a non-integer value 0.9048169746180454.\n",
      "\n",
      "C:\\Users\\Leonela\\anaconda3\\lib\\site-packages\\scipy\\stats\\_continuous_distns.py:2958: RuntimeWarning:\n",
      "\n",
      "The shape parameter of the erlang distribution has been given a non-integer value 0.904836452235227.\n",
      "\n",
      "C:\\Users\\Leonela\\anaconda3\\lib\\site-packages\\scipy\\stats\\_continuous_distns.py:2958: RuntimeWarning:\n",
      "\n",
      "The shape parameter of the erlang distribution has been given a non-integer value 0.9047794849364199.\n",
      "\n",
      "C:\\Users\\Leonela\\anaconda3\\lib\\site-packages\\scipy\\stats\\_continuous_distns.py:2958: RuntimeWarning:\n",
      "\n",
      "The shape parameter of the erlang distribution has been given a non-integer value 0.904842002409834.\n",
      "\n",
      "C:\\Users\\Leonela\\anaconda3\\lib\\site-packages\\scipy\\stats\\_continuous_distns.py:2958: RuntimeWarning:\n",
      "\n",
      "The shape parameter of the erlang distribution has been given a non-integer value 0.9048095743852362.\n",
      "\n",
      "C:\\Users\\Leonela\\anaconda3\\lib\\site-packages\\scipy\\stats\\_continuous_distns.py:2958: RuntimeWarning:\n",
      "\n",
      "The shape parameter of the erlang distribution has been given a non-integer value 0.9048297327727293.\n",
      "\n",
      "C:\\Users\\Leonela\\anaconda3\\lib\\site-packages\\scipy\\stats\\_continuous_distns.py:2958: RuntimeWarning:\n",
      "\n",
      "The shape parameter of the erlang distribution has been given a non-integer value 0.9047958444525592.\n",
      "\n",
      "C:\\Users\\Leonela\\anaconda3\\lib\\site-packages\\scipy\\stats\\_continuous_distns.py:2958: RuntimeWarning:\n",
      "\n",
      "The shape parameter of the erlang distribution has been given a non-integer value 0.9048304629205153.\n",
      "\n",
      "C:\\Users\\Leonela\\anaconda3\\lib\\site-packages\\scipy\\stats\\_continuous_distns.py:2958: RuntimeWarning:\n",
      "\n",
      "The shape parameter of the erlang distribution has been given a non-integer value 0.9048086008548548.\n",
      "\n",
      "C:\\Users\\Leonela\\anaconda3\\lib\\site-packages\\scipy\\stats\\_continuous_distns.py:2958: RuntimeWarning:\n",
      "\n",
      "The shape parameter of the erlang distribution has been given a non-integer value 0.9048244497932607.\n",
      "\n",
      "C:\\Users\\Leonela\\anaconda3\\lib\\site-packages\\scipy\\stats\\_continuous_distns.py:2958: RuntimeWarning:\n",
      "\n",
      "The shape parameter of the erlang distribution has been given a non-integer value 0.9048038619555661.\n",
      "\n",
      "C:\\Users\\Leonela\\anaconda3\\lib\\site-packages\\scipy\\stats\\_continuous_distns.py:2958: RuntimeWarning:\n",
      "\n",
      "The shape parameter of the erlang distribution has been given a non-integer value 0.9047905614730913.\n",
      "\n",
      "C:\\Users\\Leonela\\anaconda3\\lib\\site-packages\\scipy\\stats\\_continuous_distns.py:2958: RuntimeWarning:\n",
      "\n",
      "The shape parameter of the erlang distribution has been given a non-integer value 0.9047961498576909.\n",
      "\n",
      "C:\\Users\\Leonela\\anaconda3\\lib\\site-packages\\scipy\\stats\\_continuous_distns.py:2958: RuntimeWarning:\n",
      "\n",
      "The shape parameter of the erlang distribution has been given a non-integer value 0.9048173748093682.\n",
      "\n",
      "C:\\Users\\Leonela\\anaconda3\\lib\\site-packages\\scipy\\stats\\_continuous_distns.py:2958: RuntimeWarning:\n",
      "\n",
      "The shape parameter of the erlang distribution has been given a non-integer value 0.9048032248415834.\n",
      "\n",
      "C:\\Users\\Leonela\\anaconda3\\lib\\site-packages\\scipy\\stats\\_continuous_distns.py:2958: RuntimeWarning:\n",
      "\n",
      "The shape parameter of the erlang distribution has been given a non-integer value 0.9048138373174219.\n",
      "\n",
      "C:\\Users\\Leonela\\anaconda3\\lib\\site-packages\\scipy\\stats\\_continuous_distns.py:2958: RuntimeWarning:\n",
      "\n",
      "The shape parameter of the erlang distribution has been given a non-integer value 0.9048581222885237.\n",
      "\n",
      "C:\\Users\\Leonela\\anaconda3\\lib\\site-packages\\scipy\\stats\\_continuous_distns.py:2958: RuntimeWarning:\n",
      "\n",
      "The shape parameter of the erlang distribution has been given a non-integer value 0.90480179658045.\n",
      "\n",
      "C:\\Users\\Leonela\\anaconda3\\lib\\site-packages\\scipy\\stats\\_continuous_distns.py:2958: RuntimeWarning:\n",
      "\n",
      "The shape parameter of the erlang distribution has been given a non-integer value 0.904819279157546.\n",
      "\n",
      "C:\\Users\\Leonela\\anaconda3\\lib\\site-packages\\scipy\\stats\\_continuous_distns.py:2958: RuntimeWarning:\n",
      "\n",
      "The shape parameter of the erlang distribution has been given a non-integer value 0.904815197777453.\n",
      "\n",
      "C:\\Users\\Leonela\\anaconda3\\lib\\site-packages\\scipy\\stats\\_continuous_distns.py:2958: RuntimeWarning:\n",
      "\n",
      "The shape parameter of the erlang distribution has been given a non-integer value 0.9048402540258533.\n",
      "\n",
      "C:\\Users\\Leonela\\anaconda3\\lib\\site-packages\\scipy\\stats\\_continuous_distns.py:2958: RuntimeWarning:\n",
      "\n",
      "The shape parameter of the erlang distribution has been given a non-integer value 0.9048114109418008.\n",
      "\n",
      "C:\\Users\\Leonela\\anaconda3\\lib\\site-packages\\scipy\\stats\\_continuous_distns.py:2958: RuntimeWarning:\n",
      "\n",
      "The shape parameter of the erlang distribution has been given a non-integer value 0.904824328271749.\n",
      "\n",
      "C:\\Users\\Leonela\\anaconda3\\lib\\site-packages\\scipy\\stats\\_continuous_distns.py:2958: RuntimeWarning:\n",
      "\n",
      "The shape parameter of the erlang distribution has been given a non-integer value 0.9048288935188968.\n",
      "\n",
      "C:\\Users\\Leonela\\anaconda3\\lib\\site-packages\\scipy\\stats\\_continuous_distns.py:2958: RuntimeWarning:\n",
      "\n",
      "The shape parameter of the erlang distribution has been given a non-integer value 0.9048367266606996.\n",
      "\n",
      "C:\\Users\\Leonela\\anaconda3\\lib\\site-packages\\scipy\\stats\\_continuous_distns.py:2958: RuntimeWarning:\n",
      "\n",
      "The shape parameter of the erlang distribution has been given a non-integer value 0.9048177398715256.\n",
      "\n",
      "C:\\Users\\Leonela\\anaconda3\\lib\\site-packages\\scipy\\stats\\_continuous_distns.py:2958: RuntimeWarning:\n",
      "\n",
      "The shape parameter of the erlang distribution has been given a non-integer value 0.9048303977309748.\n",
      "\n",
      "C:\\Users\\Leonela\\anaconda3\\lib\\site-packages\\scipy\\stats\\_continuous_distns.py:2958: RuntimeWarning:\n",
      "\n",
      "The shape parameter of the erlang distribution has been given a non-integer value 0.904820904336388.\n",
      "\n",
      "C:\\Users\\Leonela\\anaconda3\\lib\\site-packages\\scipy\\stats\\_continuous_distns.py:2958: RuntimeWarning:\n",
      "\n",
      "The shape parameter of the erlang distribution has been given a non-integer value 0.9047887135326996.\n",
      "\n",
      "C:\\Users\\Leonela\\anaconda3\\lib\\site-packages\\scipy\\stats\\_continuous_distns.py:2958: RuntimeWarning:\n",
      "\n",
      "The shape parameter of the erlang distribution has been given a non-integer value 0.9048301905155016.\n",
      "\n",
      "C:\\Users\\Leonela\\anaconda3\\lib\\site-packages\\scipy\\stats\\_continuous_distns.py:2958: RuntimeWarning:\n",
      "\n",
      "The shape parameter of the erlang distribution has been given a non-integer value 0.9048180161588231.\n",
      "\n",
      "C:\\Users\\Leonela\\anaconda3\\lib\\site-packages\\scipy\\stats\\_continuous_distns.py:2958: RuntimeWarning:\n",
      "\n",
      "The shape parameter of the erlang distribution has been given a non-integer value 0.9048165720700405.\n",
      "\n",
      "C:\\Users\\Leonela\\anaconda3\\lib\\site-packages\\scipy\\stats\\_continuous_distns.py:2958: RuntimeWarning:\n",
      "\n",
      "The shape parameter of the erlang distribution has been given a non-integer value 0.9048006137419238.\n",
      "\n",
      "C:\\Users\\Leonela\\anaconda3\\lib\\site-packages\\scipy\\stats\\_continuous_distns.py:2958: RuntimeWarning:\n",
      "\n",
      "The shape parameter of the erlang distribution has been given a non-integer value 0.9048227963221072.\n",
      "\n",
      "C:\\Users\\Leonela\\anaconda3\\lib\\site-packages\\scipy\\stats\\_continuous_distns.py:2958: RuntimeWarning:\n",
      "\n",
      "The shape parameter of the erlang distribution has been given a non-integer value 0.9048080079353182.\n",
      "\n",
      "C:\\Users\\Leonela\\anaconda3\\lib\\site-packages\\scipy\\stats\\_continuous_distns.py:2958: RuntimeWarning:\n",
      "\n",
      "The shape parameter of the erlang distribution has been given a non-integer value 0.9048190992254099.\n",
      "\n",
      "C:\\Users\\Leonela\\anaconda3\\lib\\site-packages\\scipy\\stats\\_continuous_distns.py:2958: RuntimeWarning:\n",
      "\n",
      "The shape parameter of the erlang distribution has been given a non-integer value 0.9048371004817555.\n",
      "\n",
      "C:\\Users\\Leonela\\anaconda3\\lib\\site-packages\\scipy\\stats\\_continuous_distns.py:2958: RuntimeWarning:\n",
      "\n",
      "The shape parameter of the erlang distribution has been given a non-integer value 0.9048537197448501.\n",
      "\n",
      "C:\\Users\\Leonela\\anaconda3\\lib\\site-packages\\scipy\\stats\\_continuous_distns.py:2958: RuntimeWarning:\n",
      "\n",
      "The shape parameter of the erlang distribution has been given a non-integer value 0.9048338640494749.\n",
      "\n",
      "C:\\Users\\Leonela\\anaconda3\\lib\\site-packages\\scipy\\stats\\_continuous_distns.py:2958: RuntimeWarning:\n",
      "\n",
      "The shape parameter of the erlang distribution has been given a non-integer value 0.9048227904314261.\n",
      "\n",
      "C:\\Users\\Leonela\\anaconda3\\lib\\site-packages\\scipy\\stats\\_continuous_distns.py:2958: RuntimeWarning:\n",
      "\n",
      "The shape parameter of the erlang distribution has been given a non-integer value 0.9048301728434587.\n",
      "\n",
      "C:\\Users\\Leonela\\anaconda3\\lib\\site-packages\\scipy\\stats\\_continuous_distns.py:2958: RuntimeWarning:\n",
      "\n",
      "The shape parameter of the erlang distribution has been given a non-integer value 0.9048246360344343.\n",
      "\n",
      "C:\\Users\\Leonela\\anaconda3\\lib\\site-packages\\scipy\\stats\\_continuous_distns.py:2958: RuntimeWarning:\n",
      "\n",
      "The shape parameter of the erlang distribution has been given a non-integer value 0.9048288401782596.\n",
      "\n",
      "C:\\Users\\Leonela\\anaconda3\\lib\\site-packages\\scipy\\stats\\_continuous_distns.py:2958: RuntimeWarning:\n",
      "\n",
      "The shape parameter of the erlang distribution has been given a non-integer value 0.9048254562483766.\n",
      "\n",
      "C:\\Users\\Leonela\\anaconda3\\lib\\site-packages\\scipy\\stats\\_continuous_distns.py:2958: RuntimeWarning:\n",
      "\n",
      "The shape parameter of the erlang distribution has been given a non-integer value 0.904829079224869.\n",
      "\n",
      "C:\\Users\\Leonela\\anaconda3\\lib\\site-packages\\scipy\\stats\\_continuous_distns.py:2958: RuntimeWarning:\n",
      "\n",
      "The shape parameter of the erlang distribution has been given a non-integer value 0.9048313008200863.\n",
      "\n",
      "C:\\Users\\Leonela\\anaconda3\\lib\\site-packages\\scipy\\stats\\_continuous_distns.py:2958: RuntimeWarning:\n",
      "\n",
      "The shape parameter of the erlang distribution has been given a non-integer value 0.9048306743285883.\n",
      "\n",
      "C:\\Users\\Leonela\\anaconda3\\lib\\site-packages\\scipy\\stats\\_continuous_distns.py:2958: RuntimeWarning:\n",
      "\n",
      "The shape parameter of the erlang distribution has been given a non-integer value 0.9048267607684295.\n",
      "\n",
      "C:\\Users\\Leonela\\anaconda3\\lib\\site-packages\\scipy\\stats\\_continuous_distns.py:2958: RuntimeWarning:\n",
      "\n",
      "The shape parameter of the erlang distribution has been given a non-integer value 0.9048293698085355.\n",
      "\n",
      "C:\\Users\\Leonela\\anaconda3\\lib\\site-packages\\scipy\\stats\\_continuous_distns.py:2958: RuntimeWarning:\n",
      "\n",
      "The shape parameter of the erlang distribution has been given a non-integer value 0.9048274130284559.\n",
      "\n",
      "C:\\Users\\Leonela\\anaconda3\\lib\\site-packages\\scipy\\stats\\_continuous_distns.py:2958: RuntimeWarning:\n",
      "\n",
      "The shape parameter of the erlang distribution has been given a non-integer value 0.904828717548509.\n",
      "\n",
      "C:\\Users\\Leonela\\anaconda3\\lib\\site-packages\\scipy\\stats\\_continuous_distns.py:2958: RuntimeWarning:\n",
      "\n",
      "The shape parameter of the erlang distribution has been given a non-integer value 0.9048452486779326.\n",
      "\n",
      "C:\\Users\\Leonela\\anaconda3\\lib\\site-packages\\scipy\\stats\\_continuous_distns.py:2958: RuntimeWarning:\n",
      "\n",
      "The shape parameter of the erlang distribution has been given a non-integer value 0.9048248242886004.\n",
      "\n",
      "C:\\Users\\Leonela\\anaconda3\\lib\\site-packages\\scipy\\stats\\_continuous_distns.py:2958: RuntimeWarning:\n",
      "\n",
      "The shape parameter of the erlang distribution has been given a non-integer value 0.9048179802262302.\n",
      "\n",
      "C:\\Users\\Leonela\\anaconda3\\lib\\site-packages\\scipy\\stats\\_continuous_distns.py:2958: RuntimeWarning:\n",
      "\n",
      "The shape parameter of the erlang distribution has been given a non-integer value 0.9048323204178741.\n",
      "\n",
      "C:\\Users\\Leonela\\anaconda3\\lib\\site-packages\\scipy\\stats\\_continuous_distns.py:2958: RuntimeWarning:\n",
      "\n",
      "The shape parameter of the erlang distribution has been given a non-integer value 0.9048352538389007.\n",
      "\n",
      "C:\\Users\\Leonela\\anaconda3\\lib\\site-packages\\scipy\\stats\\_continuous_distns.py:2958: RuntimeWarning:\n",
      "\n",
      "The shape parameter of the erlang distribution has been given a non-integer value 0.9048274316761755.\n",
      "\n",
      "C:\\Users\\Leonela\\anaconda3\\lib\\site-packages\\scipy\\stats\\_continuous_distns.py:2958: RuntimeWarning:\n",
      "\n",
      "The shape parameter of the erlang distribution has been given a non-integer value 0.9048244985484948.\n",
      "\n",
      "C:\\Users\\Leonela\\anaconda3\\lib\\site-packages\\scipy\\stats\\_continuous_distns.py:2958: RuntimeWarning:\n",
      "\n",
      "The shape parameter of the erlang distribution has been given a non-integer value 0.9048205876138051.\n",
      "\n",
      "C:\\Users\\Leonela\\anaconda3\\lib\\site-packages\\scipy\\stats\\_continuous_distns.py:2958: RuntimeWarning:\n",
      "\n",
      "The shape parameter of the erlang distribution has been given a non-integer value 0.9048274318717398.\n",
      "\n",
      "C:\\Users\\Leonela\\anaconda3\\lib\\site-packages\\scipy\\stats\\_continuous_distns.py:2958: RuntimeWarning:\n",
      "\n",
      "The shape parameter of the erlang distribution has been given a non-integer value 0.9048274317250666.\n",
      "\n",
      "C:\\Users\\Leonela\\anaconda3\\lib\\site-packages\\scipy\\stats\\_continuous_distns.py:2958: RuntimeWarning:\n",
      "\n",
      "The shape parameter of the erlang distribution has been given a non-integer value 0.9048274318228486.\n",
      "\n",
      "C:\\Users\\Leonela\\anaconda3\\lib\\site-packages\\scipy\\stats\\_continuous_distns.py:2958: RuntimeWarning:\n",
      "\n",
      "The shape parameter of the erlang distribution has been given a non-integer value 0.9048274317495122.\n",
      "\n",
      "C:\\Users\\Leonela\\anaconda3\\lib\\site-packages\\scipy\\stats\\_continuous_distns.py:2958: RuntimeWarning:\n",
      "\n",
      "The shape parameter of the erlang distribution has been given a non-integer value 0.904825288800075.\n",
      "\n",
      "C:\\Users\\Leonela\\anaconda3\\lib\\site-packages\\scipy\\stats\\_continuous_distns.py:2958: RuntimeWarning:\n",
      "\n",
      "The shape parameter of the erlang distribution has been given a non-integer value 0.9048251459661134.\n",
      "\n",
      "C:\\Users\\Leonela\\anaconda3\\lib\\site-packages\\scipy\\stats\\_continuous_distns.py:2958: RuntimeWarning:\n",
      "\n",
      "The shape parameter of the erlang distribution has been given a non-integer value 0.9048268603036624.\n",
      "\n",
      "C:\\Users\\Leonela\\anaconda3\\lib\\site-packages\\scipy\\stats\\_continuous_distns.py:2958: RuntimeWarning:\n",
      "\n",
      "The shape parameter of the erlang distribution has been given a non-integer value 0.9048257174119632.\n",
      "\n",
      "C:\\Users\\Leonela\\anaconda3\\lib\\site-packages\\scipy\\stats\\_continuous_distns.py:2958: RuntimeWarning:\n",
      "\n",
      "The shape parameter of the erlang distribution has been given a non-integer value 0.9048265745807376.\n",
      "\n",
      "C:\\Users\\Leonela\\anaconda3\\lib\\site-packages\\scipy\\stats\\_continuous_distns.py:2958: RuntimeWarning:\n",
      "\n",
      "The shape parameter of the erlang distribution has been given a non-integer value 0.9048218287280025.\n",
      "\n",
      "C:\\Users\\Leonela\\anaconda3\\lib\\site-packages\\scipy\\stats\\_continuous_distns.py:2958: RuntimeWarning:\n",
      "\n",
      "The shape parameter of the erlang distribution has been given a non-integer value 0.9048272666006524.\n",
      "\n",
      "C:\\Users\\Leonela\\anaconda3\\lib\\site-packages\\scipy\\stats\\_continuous_distns.py:2958: RuntimeWarning:\n",
      "\n",
      "The shape parameter of the erlang distribution has been given a non-integer value 0.9048247947187438.\n",
      "\n",
      "C:\\Users\\Leonela\\anaconda3\\lib\\site-packages\\scipy\\stats\\_continuous_distns.py:2958: RuntimeWarning:\n",
      "\n",
      "The shape parameter of the erlang distribution has been given a non-integer value 0.9048261296152391.\n",
      "\n",
      "C:\\Users\\Leonela\\anaconda3\\lib\\site-packages\\scipy\\stats\\_continuous_distns.py:2958: RuntimeWarning:\n",
      "\n",
      "The shape parameter of the erlang distribution has been given a non-integer value 0.9048233447085537.\n",
      "\n",
      "C:\\Users\\Leonela\\anaconda3\\lib\\site-packages\\scipy\\stats\\_continuous_distns.py:2958: RuntimeWarning:\n",
      "\n",
      "The shape parameter of the erlang distribution has been given a non-integer value 0.9048262861276277.\n",
      "\n",
      "C:\\Users\\Leonela\\anaconda3\\lib\\site-packages\\scipy\\stats\\_continuous_distns.py:2958: RuntimeWarning:\n",
      "\n",
      "The shape parameter of the erlang distribution has been given a non-integer value 0.9048245860355593.\n",
      "\n",
      "C:\\Users\\Leonela\\anaconda3\\lib\\site-packages\\scipy\\stats\\_continuous_distns.py:2958: RuntimeWarning:\n",
      "\n",
      "The shape parameter of the erlang distribution has been given a non-integer value 0.9048257437203191.\n",
      "\n",
      "C:\\Users\\Leonela\\anaconda3\\lib\\site-packages\\scipy\\stats\\_continuous_distns.py:2958: RuntimeWarning:\n",
      "\n",
      "The shape parameter of the erlang distribution has been given a non-integer value 0.904824067918298.\n",
      "\n",
      "C:\\Users\\Leonela\\anaconda3\\lib\\site-packages\\scipy\\stats\\_continuous_distns.py:2958: RuntimeWarning:\n",
      "\n",
      "The shape parameter of the erlang distribution has been given a non-integer value 0.9048257315752952.\n",
      "\n",
      "C:\\Users\\Leonela\\anaconda3\\lib\\site-packages\\scipy\\stats\\_continuous_distns.py:2958: RuntimeWarning:\n",
      "\n",
      "The shape parameter of the erlang distribution has been given a non-integer value 0.9048246022289241.\n",
      "\n",
      "C:\\Users\\Leonela\\anaconda3\\lib\\site-packages\\scipy\\stats\\_continuous_distns.py:2958: RuntimeWarning:\n",
      "\n",
      "The shape parameter of the erlang distribution has been given a non-integer value 0.9048238614763673.\n",
      "\n",
      "C:\\Users\\Leonela\\anaconda3\\lib\\site-packages\\scipy\\stats\\_continuous_distns.py:2958: RuntimeWarning:\n",
      "\n",
      "The shape parameter of the erlang distribution has been given a non-integer value 0.9048252640505632.\n",
      "\n",
      "C:\\Users\\Leonela\\anaconda3\\lib\\site-packages\\scipy\\stats\\_continuous_distns.py:2958: RuntimeWarning:\n",
      "\n",
      "The shape parameter of the erlang distribution has been given a non-integer value 0.904824287751913.\n",
      "\n",
      "C:\\Users\\Leonela\\anaconda3\\lib\\site-packages\\scipy\\stats\\_continuous_distns.py:2958: RuntimeWarning:\n",
      "\n",
      "The shape parameter of the erlang distribution has been given a non-integer value 0.9048250385380345.\n",
      "\n",
      "C:\\Users\\Leonela\\anaconda3\\lib\\site-packages\\scipy\\stats\\_continuous_distns.py:2958: RuntimeWarning:\n",
      "\n",
      "The shape parameter of the erlang distribution has been given a non-integer value 0.904824162159739.\n",
      "\n",
      "C:\\Users\\Leonela\\anaconda3\\lib\\site-packages\\scipy\\stats\\_continuous_distns.py:2958: RuntimeWarning:\n",
      "\n",
      "The shape parameter of the erlang distribution has been given a non-integer value 0.9048249885778572.\n",
      "\n",
      "C:\\Users\\Leonela\\anaconda3\\lib\\site-packages\\scipy\\stats\\_continuous_distns.py:2958: RuntimeWarning:\n",
      "\n",
      "The shape parameter of the erlang distribution has been given a non-integer value 0.9048243543654828.\n",
      "\n",
      "C:\\Users\\Leonela\\anaconda3\\lib\\site-packages\\scipy\\stats\\_continuous_distns.py:2958: RuntimeWarning:\n",
      "\n",
      "The shape parameter of the erlang distribution has been given a non-integer value 0.9048240122792071.\n",
      "\n",
      "C:\\Users\\Leonela\\anaconda3\\lib\\site-packages\\scipy\\stats\\_continuous_distns.py:2958: RuntimeWarning:\n",
      "\n",
      "The shape parameter of the erlang distribution has been given a non-integer value 0.9048237534598935.\n",
      "\n",
      "C:\\Users\\Leonela\\anaconda3\\lib\\site-packages\\scipy\\stats\\_continuous_distns.py:2958: RuntimeWarning:\n",
      "\n",
      "The shape parameter of the erlang distribution has been given a non-integer value 0.9048246797983663.\n",
      "\n",
      "C:\\Users\\Leonela\\anaconda3\\lib\\site-packages\\scipy\\stats\\_continuous_distns.py:2958: RuntimeWarning:\n",
      "\n",
      "The shape parameter of the erlang distribution has been given a non-integer value 0.9048240622393844.\n",
      "\n",
      "C:\\Users\\Leonela\\anaconda3\\lib\\site-packages\\scipy\\stats\\_continuous_distns.py:2958: RuntimeWarning:\n",
      "\n",
      "The shape parameter of the erlang distribution has been given a non-integer value 0.9048245254086209.\n",
      "\n",
      "C:\\Users\\Leonela\\anaconda3\\lib\\site-packages\\scipy\\stats\\_continuous_distns.py:2958: RuntimeWarning:\n",
      "\n",
      "The shape parameter of the erlang distribution has been given a non-integer value array(0.90482401).\n",
      "\n"
     ]
    },
    {
     "name": "stderr",
     "output_type": "stream",
     "text": [
      "C:\\Users\\Leonela\\anaconda3\\lib\\site-packages\\scipy\\stats\\_continuous_distns.py:1677: RuntimeWarning:\n",
      "\n",
      "invalid value encountered in add\n",
      "\n",
      "C:\\Users\\Leonela\\anaconda3\\lib\\site-packages\\scipy\\stats\\_distn_infrastructure.py:1722: RuntimeWarning:\n",
      "\n",
      "divide by zero encountered in log\n",
      "\n",
      "C:\\Users\\Leonela\\anaconda3\\lib\\site-packages\\scipy\\stats\\_continuous_distns.py:3487: RuntimeWarning:\n",
      "\n",
      "divide by zero encountered in power\n",
      "\n",
      "C:\\Users\\Leonela\\anaconda3\\lib\\site-packages\\scipy\\stats\\_continuous_distns.py:4963: RuntimeWarning:\n",
      "\n",
      "divide by zero encountered in true_divide\n",
      "\n",
      "C:\\Users\\Leonela\\anaconda3\\lib\\site-packages\\scipy\\stats\\_continuous_distns.py:4954: RuntimeWarning:\n",
      "\n",
      "divide by zero encountered in power\n",
      "\n",
      "C:\\Users\\Leonela\\anaconda3\\lib\\site-packages\\scipy\\stats\\_continuous_distns.py:5711: RuntimeWarning:\n",
      "\n",
      "divide by zero encountered in power\n",
      "\n",
      "C:\\Users\\Leonela\\anaconda3\\lib\\site-packages\\scipy\\stats\\_continuous_distns.py:6411: RuntimeWarning:\n",
      "\n",
      "divide by zero encountered in power\n",
      "\n",
      "C:\\Users\\Leonela\\anaconda3\\lib\\site-packages\\scipy\\stats\\_continuous_distns.py:6411: RuntimeWarning:\n",
      "\n",
      "overflow encountered in power\n",
      "\n",
      "C:\\Users\\Leonela\\anaconda3\\lib\\site-packages\\scipy\\stats\\_continuous_distns.py:6410: RuntimeWarning:\n",
      "\n",
      "invalid value encountered in multiply\n",
      "\n",
      "C:\\Users\\Leonela\\anaconda3\\lib\\site-packages\\scipy\\stats\\_continuous_distns.py:7735: RuntimeWarning:\n",
      "\n",
      "divide by zero encountered in power\n",
      "\n"
     ]
    },
    {
     "name": "stdout",
     "output_type": "stream",
     "text": [
      "nct: statistic=0.032990370309727624, pvalue=0.9971360544815582\n",
      "johnsonsu: statistic=0.041142829608510456, pvalue=0.9661015896738695\n",
      "johnsonsu: statistic=0.041142829608510456, pvalue=0.9661015896738695\n",
      "levy_stable: statistic=0.05339527345973255, pvalue=0.8061834266608207\n",
      "t: statistic=0.06784547851473949, pvalue=0.5267450533901614\n",
      "cauchy: statistic=0.06906717152562825, pvalue=0.5038498313928583\n",
      "gennorm: statistic=0.08437779831509676, pvalue=0.2643745779138893\n",
      "burr12: statistic=0.17107321788364538, pvalue=0.0005317003677092534\n",
      "laplace: statistic=0.17190542421449623, pvalue=0.0004906880444098804\n",
      "hypsecant: statistic=0.17590518872005828, pvalue=0.0003317752456386875\n",
      "genlogistic: statistic=0.186070106768217, pvalue=0.00011773665546294301\n",
      "mielke: statistic=0.18947766271113936, pvalue=8.208894195611771e-05\n",
      "logistic: statistic=0.19191629039122576, pvalue=6.31541559182269e-05\n",
      "dweibull: statistic=0.2042681310872217, pvalue=1.5868528108729763e-05\n",
      "dweibull: statistic=0.2042681310872217, pvalue=1.5868528108729763e-05\n",
      "dgamma: statistic=0.20922920037864423, pvalue=8.8864999779566e-06\n",
      "vonmises_line: statistic=0.22820084375994087, pvalue=8.470568693506096e-07\n",
      "exponnorm: statistic=0.22953272794630322, pvalue=7.124943930237087e-07\n",
      "lognorm: statistic=0.2436493811086996, pvalue=1.0673505354058531e-07\n",
      "pearson3: statistic=0.2444322092165809, pvalue=9.573591347725049e-08\n",
      "beta: statistic=0.244986730876762, pvalue=8.861784586258319e-08\n",
      "recipinvgauss: statistic=0.24513081632561093, pvalue=8.685395275294468e-08\n",
      "fatiguelife: statistic=0.2451383913932095, pvalue=8.676216655696453e-08\n",
      "invgamma: statistic=0.24648750069176442, pvalue=7.183056196952096e-08\n",
      "gamma: statistic=0.24668117897707434, pvalue=6.990293175700712e-08\n",
      "kstwobign: statistic=0.24677522972976204, pvalue=6.898505470246314e-08\n",
      "alpha: statistic=0.24744786323746257, pvalue=6.275288561294928e-08\n",
      "chi: statistic=0.25110541931270214, pvalue=3.73219054201174e-08\n",
      "powernorm: statistic=0.25682206403663943, pvalue=1.63020218223774e-08\n",
      "johnsonsb: statistic=0.2585404294881902, pvalue=1.2660107233837069e-08\n",
      "norm: statistic=0.2586142488572707, pvalue=1.252284266550849e-08\n",
      "tukeylambda: statistic=0.262724707365226, pvalue=6.789109910708252e-09\n",
      "loggamma: statistic=0.2679556754243718, pvalue=3.069000349925083e-09\n",
      "genextreme: statistic=0.2710849569887157, pvalue=1.893472510675727e-09\n",
      "frechet_l: statistic=0.2710850255435263, pvalue=1.8934523538050852e-09\n",
      "weibull_max: statistic=0.2710850255435263, pvalue=1.8934523538050852e-09\n",
      "gumbel_r: statistic=0.2798680100069031, pvalue=4.727969811840145e-10\n",
      "invweibull: statistic=0.2798681379900032, pvalue=4.727872590414537e-10\n",
      "betaprime: statistic=0.2918087706998751, pvalue=6.642639459653291e-11\n",
      "invgauss: statistic=0.2954052590537969, pvalue=3.61488857000192e-11\n",
      "gumbel_l: statistic=0.3376837091355157, pvalue=1.534024677871577e-14\n",
      "wald: statistic=0.37898283992087156, pvalue=2.5365681196053578e-18\n",
      "gilbrat: statistic=0.3805919103954325, pvalue=1.7654310831669607e-18\n",
      "halfcauchy: statistic=0.3878319576424808, pvalue=3.381582079642323e-19\n",
      "truncexpon: statistic=0.3935723755858487, pvalue=8.890074579671052e-20\n",
      "bradford: statistic=0.3938583456104602, pvalue=8.312690348304916e-20\n",
      "erlang: statistic=0.39721617639855167, pvalue=3.762311680888527e-20\n",
      "maxwell: statistic=0.4007962456946986, pvalue=1.6018312275830444e-20\n",
      "triang: statistic=0.41318476182589425, pvalue=7.782479524675205e-22\n",
      "gausshyper: statistic=0.43782507680588123, pvalue=1.3690301478493828e-24\n",
      "rayleigh: statistic=0.44627383392730846, pvalue=1.4038137559021547e-25\n",
      "cosine: statistic=0.45515720465234955, pvalue=1.2084907391808376e-26\n",
      "arcsine: statistic=0.4647875906691992, pvalue=7.909308517573735e-28\n",
      "genpareto: statistic=0.4715514093295883, pvalue=1.1166004905337841e-28\n",
      "genhalflogistic: statistic=0.472769216968852, pvalue=7.819294964953177e-29\n",
      "uniform: statistic=0.47399469017466694, pvalue=5.456993519349533e-29\n",
      "powerlaw: statistic=0.4825979451878841, pvalue=4.22451387574581e-30\n",
      "semicircular: statistic=0.4832577754469994, pvalue=3.463378520671002e-30\n",
      "anglit: statistic=0.48786755584217073, pvalue=8.560834483197493e-31\n",
      "expon: statistic=0.5003969218177944, pvalue=1.7576978436296828e-32\n",
      "halflogistic: statistic=0.5045736203941726, pvalue=4.67668608356126e-33\n",
      "genexpon: statistic=0.50878773161024, pvalue=1.2116726667778895e-33\n",
      "halfgennorm: statistic=0.5170799959780337, pvalue=8.132609210269533e-35\n",
      "halfnorm: statistic=0.5267088761253593, pvalue=3.28030727847575e-36\n",
      "powerlognorm: statistic=0.5283188855721126, pvalue=1.9026864345724006e-36\n",
      "lomax: statistic=0.5452423285627267, pvalue=5.402447967882722e-39\n",
      "pareto: statistic=0.5527156941956134, pvalue=3.733867273966094e-40\n",
      "levy: statistic=0.555942799625166, pvalue=1.1591583352071975e-40\n",
      "levy_l: statistic=0.5812542999426854, pvalue=8.516719201146386e-45\n",
      "rice: statistic=0.6504898615488225, pvalue=1.374253336717784e-57\n",
      "rdist: statistic=0.6761771646219928, pvalue=5.787000579993518e-63\n",
      "burr: statistic=0.6882230800020421, pvalue=1.2813512302380404e-65\n",
      "reciprocal: statistic=0.6884057971014492, pvalue=1.1660167045123654e-65\n",
      "truncnorm: statistic=0.6884057971014492, pvalue=1.1660167045123654e-65\n",
      "f: statistic=0.6939261473855498, pvalue=6.592388916303322e-67\n",
      "ncf: statistic=0.7034500498088307, pvalue=4.1655663744593227e-69\n",
      "ncx2: statistic=0.7096996975388306, pvalue=1.390162262865224e-70\n",
      "fisk: statistic=0.7602738898602731, pvalue=1.2445244929648505e-83\n",
      "loglaplace: statistic=0.7643056017279077, pvalue=9.113850448225313e-85\n",
      "gengamma: statistic=0.7739262853933039, pvalue=1.531818311730908e-87\n",
      "foldnorm: statistic=0.8063912685041954, pvalue=1.126686169253218e-97\n",
      "exponweib: statistic=0.8183579980001523, pvalue=9.204187936870953e-102\n",
      "frechet_r: statistic=0.8413259935729721, pvalue=2.791939270368277e-110\n",
      "weibull_min: statistic=0.8413259935729721, pvalue=2.791939270368277e-110\n",
      "foldcauchy: statistic=0.9068525948323705, pvalue=1.1360703319344566e-142\n",
      "exponpow: statistic=0.9133103265621115, pvalue=5.553380555262889e-147\n",
      "nakagami: statistic=0.9137831017223257, pvalue=2.609560756557969e-147\n",
      "gompertz: statistic=0.9710144662867765, pvalue=1.2079517863426142e-212\n",
      "chi2: statistic=0.9907713168518596, pvalue=3.092526909389173e-281\n",
      "vonmises: statistic=1.2571737280420643e+32, pvalue=0.0\n"
     ]
    }
   ],
   "source": [
    "import warnings\n",
    "warnings.filterwarnings(\"ignore\", category=DeprecationWarning)\n",
    "list_of_dists = ['dweibull','johnsonsu','alpha','anglit','arcsine','beta','betaprime','bradford','burr','burr12','cauchy',\n",
    "'chi','chi2','cosine','dgamma','dweibull','erlang','expon','exponnorm','exponweib',\n",
    "'exponpow','f','fatiguelife','fisk','foldcauchy','foldnorm','frechet_r','frechet_l',\n",
    "'genlogistic','genpareto','gennorm','genexpon','genextreme','gausshyper','gamma','gengamma',\n",
    "'genhalflogistic','gilbrat','gompertz','gumbel_r','gumbel_l','halfcauchy','halflogistic','halfnorm',\n",
    "'halfgennorm','hypsecant','invgamma','invgauss','invweibull','johnsonsb','johnsonsu','kstwobign',\n",
    "'laplace','levy','levy_l','logistic','loggamma','loglaplace','lognorm','lomax','maxwell','mielke',\n",
    "'nakagami','ncx2','ncf','nct','norm','pareto','pearson3','powerlaw','powerlognorm','powernorm','rdist',\n",
    "'reciprocal','rayleigh','rice','recipinvgauss','semicircular','t','triang','truncexpon','truncnorm',\n",
    "'tukeylambda','uniform','vonmises','vonmises_line','wald','weibull_min','weibull_max','levy_stable']\n",
    "\n",
    "results = []\n",
    "for i in list_of_dists:\n",
    "    dist = getattr(stats, i)\n",
    "    param = dist.fit(inf_m[\"inf_mensual\"])\n",
    "    k_stat, ks_p_value = stats.kstest(inf_m[\"inf_mensual\"], i, args=param)\n",
    "    a = stats.kstest(inf_m[\"inf_mensual\"], i, args=param) ###\n",
    "    results.append((i,a[0],a[1]))\n",
    "    \n",
    "    \n",
    "results.sort(key=lambda x:float(x[2]), reverse=True)\n",
    "for j in results:\n",
    "    print(\"{}: statistic={}, pvalue={}\".format(j[0], j[1], j[2]))"
   ]
  },
  {
   "cell_type": "code",
   "execution_count": 409,
   "metadata": {},
   "outputs": [],
   "source": [
    "data= inf_m[\"inf_mensual\"]\n",
    "best_fit_name_im, best_fit_params_im = best_fit_distribution(data, 200, ax)\n",
    "best_dist_im = getattr(st, best_fit_name_im)"
   ]
  },
  {
   "cell_type": "code",
   "execution_count": 410,
   "metadata": {},
   "outputs": [
    {
     "data": {
      "text/plain": [
       "'nct'"
      ]
     },
     "execution_count": 410,
     "metadata": {},
     "output_type": "execute_result"
    }
   ],
   "source": [
    "best_fit_name_im"
   ]
  },
  {
   "cell_type": "code",
   "execution_count": 411,
   "metadata": {},
   "outputs": [
    {
     "data": {
      "text/plain": [
       "Text(0.5, 1.0, 'El Niño sea temp. with best fit distribution \\nnct(df=1.07, nc=0.31, loc=-0.79, scale=0.92)')"
      ]
     },
     "execution_count": 411,
     "metadata": {},
     "output_type": "execute_result"
    },
    {
     "data": {
      "image/png": "[encoded data removed]",
      "text/plain": [
       "<Figure size 864x576 with 1 Axes>"
      ]
     },
     "metadata": {},
     "output_type": "display_data"
    }
   ],
   "source": [
    "pdf = make_pdf(best_dist_im, best_fit_params_im)\n",
    "\n",
    "# Display\n",
    "plt.figure(figsize=(12,8))\n",
    "ax = pdf.plot(lw=2, label='PDF', legend=True)\n",
    "data.plot(kind='hist', bins=50, density=True, alpha=0.5, label='Data', legend=True, ax=ax)\n",
    "\n",
    "param_names = (best_dist_im.shapes + ', loc, scale').split(', ') if best_dist_im.shapes else ['loc', 'scale']\n",
    "param_str = ', '.join(['{}={:0.2f}'.format(k,v) for k,v in zip(param_names, best_fit_params_im)])\n",
    "dist_str = '{}({})'.format(best_fit_name_im, param_str)\n",
    "ax.set_title(u'El Niño sea temp. with best fit distribution \\n' + dist_str)"
   ]
  },
  {
   "cell_type": "code",
   "execution_count": 412,
   "metadata": {},
   "outputs": [],
   "source": [
    "inf_men=np.array(best_fit_params_im)\n",
    "df = inf_men[0]\n",
    "nc = inf_men[1]\n",
    "loc=inf_men[2]\n",
    "scale=inf_men[3]"
   ]
  },
  {
   "cell_type": "code",
   "execution_count": 423,
   "metadata": {},
   "outputs": [
    {
     "data": {
      "text/plain": [
       "13.341937740403155"
      ]
     },
     "execution_count": 423,
     "metadata": {},
     "output_type": "execute_result"
    }
   ],
   "source": [
    "from scipy.stats import nct\n",
    "infm_inter1=nct.interval(0.95, df=df, nc=nc, loc=loc, scale=scale)\n",
    "inter_nct1=np.array(infm_inter1)\n",
    "inter_nct_high1 = inter_nct1[1]\n",
    "inter_nct_high1"
   ]
  },
  {
   "cell_type": "code",
   "execution_count": 424,
   "metadata": {},
   "outputs": [
    {
     "data": {
      "text/plain": [
       "62.71990182661565"
      ]
     },
     "execution_count": 424,
     "metadata": {},
     "output_type": "execute_result"
    }
   ],
   "source": [
    "infm_inter2=nct.interval(0.99, df=df, nc=nc, loc=loc, scale=scale)\n",
    "inter_nct2=np.array(infm_inter2)\n",
    "inter_nct_high2 = inter_nct2[1]\n",
    "inter_nct_high2"
   ]
  },
  {
   "cell_type": "code",
   "execution_count": 425,
   "metadata": {},
   "outputs": [
    {
     "data": {
      "text/plain": [
       "[13.34194,\n",
       " 18.86835,\n",
       " 23.10891,\n",
       " 26.68388,\n",
       " 29.83348,\n",
       " 32.68094,\n",
       " 35.29945,\n",
       " 37.7367,\n",
       " 40.02581,\n",
       " 42.19091,\n",
       " 44.2502,\n",
       " 46.21783]"
      ]
     },
     "execution_count": 425,
     "metadata": {},
     "output_type": "execute_result"
    }
   ],
   "source": [
    "var_array_nct1 = []\n",
    "num_days = int(12)\n",
    "for x in range(1, num_days+1): \n",
    "    var_array_nct1.append(np.round(inter_nct_high1 * np.sqrt(x),5))\n",
    "   # print(str(x) + \" day VaR @ 95% confidence: \" + str(np.round(var_1d1 * stdev_investment* np.sqrt(x),3)))\n",
    "var_array_nct1"
   ]
  },
  {
   "cell_type": "code",
   "execution_count": 426,
   "metadata": {},
   "outputs": [
    {
     "data": {
      "text/plain": [
       "[62.7199,\n",
       " 88.69934,\n",
       " 108.63406,\n",
       " 125.4398,\n",
       " 140.24596,\n",
       " 153.63176,\n",
       " 165.94126,\n",
       " 177.39867,\n",
       " 188.15971,\n",
       " 198.33774,\n",
       " 208.01838,\n",
       " 217.26811]"
      ]
     },
     "execution_count": 426,
     "metadata": {},
     "output_type": "execute_result"
    }
   ],
   "source": [
    "var_array_nct2 = []\n",
    "num_days = int(12)\n",
    "for x in range(1, num_days+1): \n",
    "    var_array_nct2.append(np.round(inter_nct_high2 * np.sqrt(x),5))\n",
    "    #print(str(x) + \" day VaR @ 95% confidence: \" + str(np.round(var_1d2 * stdev_investment* np.sqrt(x),3)))\n",
    "var_array_nct2    "
   ]
  },
  {
   "cell_type": "code",
   "execution_count": 427,
   "metadata": {},
   "outputs": [],
   "source": [
    "def best_fit_distribution_unique(data, bins=200, ax=None):\n",
    "    \"\"\"Model data by finding best fit distribution to data\"\"\"\n",
    "    # Get histogram of original data\n",
    "    y, x = np.histogram(data, bins=bins, density=True)\n",
    "    x = (x + np.roll(x, -1))[:-1] / 2.0\n",
    "\n",
    "    # Distributions to check\n",
    "    DISTRIBUTIONS = [        \n",
    "        st.levy_stable,\n",
    "    ]\n",
    "\n",
    "    # Best holders\n",
    "    best_distribution = st.norm\n",
    "    best_params = (0.0, 1.0)\n",
    "    best_sse = np.inf\n",
    "\n",
    "    # Estimate distribution parameters from data\n",
    "    for distribution in DISTRIBUTIONS:\n",
    "\n",
    "        # Try to fit the distribution\n",
    "        try:\n",
    "            # Ignore warnings from data that can't be fit\n",
    "            with warnings.catch_warnings():\n",
    "                warnings.filterwarnings('ignore')\n",
    "\n",
    "                # fit dist to data\n",
    "                params = distribution.fit(data)\n",
    "\n",
    "                # Separate parts of parameters\n",
    "                arg = params[:-2]\n",
    "                loc = params[-2]\n",
    "                scale = params[-1]\n",
    "\n",
    "                # Calculate fitted PDF and error with fit in distribution\n",
    "                pdf = distribution.pdf(x, loc=loc, scale=scale, *arg)\n",
    "                sse = np.sum(np.power(y - pdf, 2.0))\n",
    "\n",
    "                # if axis pass in add to plot\n",
    "                try:\n",
    "                    if ax:\n",
    "                        pd.Series(pdf, x).plot(ax=ax)\n",
    "                    end\n",
    "                except Exception:\n",
    "                    pass\n",
    "\n",
    "                # identify if this distribution is better\n",
    "                if best_sse > sse > 0:\n",
    "                    best_distribution = distribution\n",
    "                    best_params = params\n",
    "                    best_sse = sse\n",
    "\n",
    "        except Exception:\n",
    "            pass\n",
    "\n",
    "    return (best_distribution.name, best_params)\n",
    "\n",
    "def make_pdf(dist, params, size=10000):\n",
    "    \"\"\"Generate distributions's Probability Distribution Function \"\"\"\n",
    "\n",
    "    # Separate parts of parameters\n",
    "    arg = params[:-2]\n",
    "    loc = params[-2]\n",
    "    scale = params[-1]\n",
    "\n",
    "    # Get sane start and end points of distribution\n",
    "    start = dist.ppf(0.01, *arg, loc=loc, scale=scale) if arg else dist.ppf(0.01, loc=loc, scale=scale)\n",
    "    end = dist.ppf(0.99, *arg, loc=loc, scale=scale) if arg else dist.ppf(0.99, loc=loc, scale=scale)\n",
    "\n",
    "    # Build PDF and turn into pandas Series\n",
    "    x = np.linspace(start, end, size)\n",
    "    y = dist.pdf(x, loc=loc, scale=scale, *arg)\n",
    "    pdf = pd.Series(y, x)\n",
    "\n",
    "    return pdf"
   ]
  },
  {
   "cell_type": "code",
   "execution_count": 428,
   "metadata": {},
   "outputs": [],
   "source": [
    "data= inf_m[\"inf_mensual\"]\n",
    "best_fit_name_im, best_fit_params_im = best_fit_distribution_unique(data, 200, ax)\n",
    "best_dist_im = getattr(st, best_fit_name_im)"
   ]
  },
  {
   "cell_type": "code",
   "execution_count": 430,
   "metadata": {
    "scrolled": true
   },
   "outputs": [
    {
     "data": {
      "text/plain": [
       "Text(0.5, 1.0, 'El Niño sea temp. with best fit distribution \\nlevy_stable(alpha=1.10, beta=0.09, loc=0.00, scale=0.92)')"
      ]
     },
     "execution_count": 430,
     "metadata": {},
     "output_type": "execute_result"
    },
    {
     "data": {
      "image/png": "[encoded data removed]",
      "text/plain": [
       "<Figure size 864x576 with 1 Axes>"
      ]
     },
     "metadata": {},
     "output_type": "display_data"
    }
   ],
   "source": [
    "pdf = make_pdf(best_dist_im, best_fit_params_im)\n",
    "\n",
    "# Display\n",
    "plt.figure(figsize=(12,8))\n",
    "ax = pdf.plot(lw=2, label='PDF', legend=True)\n",
    "data.plot(kind='hist', bins=50, density=True, alpha=0.5, label='Data', legend=True, ax=ax)\n",
    "\n",
    "param_names = (best_dist_im.shapes + ', loc, scale').split(', ') if best_dist_im.shapes else ['loc', 'scale']\n",
    "param_str = ', '.join(['{}={:0.2f}'.format(k,v) for k,v in zip(param_names, best_fit_params_im)])\n",
    "dist_str = '{}({})'.format(best_fit_name_im, param_str)\n",
    "ax.set_title(u'El Niño sea temp. with best fit distribution \\n' + dist_str)"
   ]
  },
  {
   "cell_type": "code",
   "execution_count": 433,
   "metadata": {},
   "outputs": [],
   "source": [
    "inf_men=np.array(best_fit_params_im)\n",
    "alpha = inf_men[0]\n",
    "beta = inf_men[1]\n",
    "loc=inf_men[2]\n",
    "scale=inf_men[3]"
   ]
  },
  {
   "cell_type": "code",
   "execution_count": 434,
   "metadata": {},
   "outputs": [
    {
     "data": {
      "text/plain": [
       "9.149044887610252"
      ]
     },
     "execution_count": 434,
     "metadata": {},
     "output_type": "execute_result"
    }
   ],
   "source": [
    "inf_inter31=levy_stable.interval(0.95, alpha, beta, loc, scale)\n",
    "inter_ls3=np.array(inf_inter31)\n",
    "inter_ls3_high1 = inter_ls3[1]\n",
    "inter_ls3_high1"
   ]
  },
  {
   "cell_type": "code",
   "execution_count": 436,
   "metadata": {},
   "outputs": [
    {
     "data": {
      "text/plain": [
       "40.6145405658909"
      ]
     },
     "execution_count": 436,
     "metadata": {},
     "output_type": "execute_result"
    }
   ],
   "source": [
    "inf_inter32=levy_stable.interval(0.99, alpha, beta, loc, scale)\n",
    "inter_ls32=np.array(inf_inter32)\n",
    "inter_ls3_high2 = inter_ls32[1]\n",
    "inter_ls3_high2"
   ]
  },
  {
   "cell_type": "code",
   "execution_count": 440,
   "metadata": {},
   "outputs": [
    {
     "data": {
      "text/plain": [
       "[9.14904,\n",
       " 12.9387,\n",
       " 15.84661,\n",
       " 18.29809,\n",
       " 20.45789,\n",
       " 22.41049,\n",
       " 24.2061,\n",
       " 25.87741,\n",
       " 27.44713,\n",
       " 28.93182,\n",
       " 30.34395,\n",
       " 31.69322]"
      ]
     },
     "execution_count": 440,
     "metadata": {},
     "output_type": "execute_result"
    }
   ],
   "source": [
    "var_array_ls31 = []\n",
    "num_days = int(12)\n",
    "for x in range(1, num_days+1): \n",
    "    var_array_ls31.append(np.round(inter_ls3_high1 * np.sqrt(x),5))\n",
    "   # print(str(x) + \" day VaR @ 95% confidence: \" + str(np.round(var_1d1 * stdev_investment* np.sqrt(x),3)))\n",
    "var_array_ls31"
   ]
  },
  {
   "cell_type": "code",
   "execution_count": 439,
   "metadata": {},
   "outputs": [
    {
     "data": {
      "text/plain": [
       "[40.61454,\n",
       " 57.43763,\n",
       " 70.34645,\n",
       " 81.22908,\n",
       " 90.81687,\n",
       " 99.4849,\n",
       " 107.45597,\n",
       " 114.87527,\n",
       " 121.84362,\n",
       " 128.43445,\n",
       " 134.70319,\n",
       " 140.6929]"
      ]
     },
     "execution_count": 439,
     "metadata": {},
     "output_type": "execute_result"
    }
   ],
   "source": [
    "var_array_ls32 = []\n",
    "num_days = int(12)\n",
    "for x in range(1, num_days+1): \n",
    "    var_array_ls32.append(np.round(inter_ls3_high2 * np.sqrt(x),5))\n",
    "    #print(str(x) + \" day VaR @ 95% confidence: \" + str(np.round(var_1d2 * stdev_investment* np.sqrt(x),3)))\n",
    "var_array_ls32"
   ]
  },
  {
   "cell_type": "code",
   "execution_count": 443,
   "metadata": {},
   "outputs": [
    {
     "data": {
      "text/html": [
       "<div>\n",
       "<style scoped>\n",
       "    .dataframe tbody tr th:only-of-type {\n",
       "        vertical-align: middle;\n",
       "    }\n",
       "\n",
       "    .dataframe tbody tr th {\n",
       "        vertical-align: top;\n",
       "    }\n",
       "\n",
       "    .dataframe thead th {\n",
       "        text-align: right;\n",
       "    }\n",
       "</style>\n",
       "<table border=\"1\" class=\"dataframe\">\n",
       "  <thead>\n",
       "    <tr style=\"text-align: right;\">\n",
       "      <th></th>\n",
       "      <th>95%</th>\n",
       "      <th>99%</th>\n",
       "    </tr>\n",
       "    <tr>\n",
       "      <th>fecha</th>\n",
       "      <th></th>\n",
       "      <th></th>\n",
       "    </tr>\n",
       "  </thead>\n",
       "  <tbody>\n",
       "    <tr>\n",
       "      <th>2021-08-31</th>\n",
       "      <td>9.14904</td>\n",
       "      <td>40.61454</td>\n",
       "    </tr>\n",
       "    <tr>\n",
       "      <th>2021-09-30</th>\n",
       "      <td>12.93870</td>\n",
       "      <td>57.43763</td>\n",
       "    </tr>\n",
       "    <tr>\n",
       "      <th>2021-10-31</th>\n",
       "      <td>15.84661</td>\n",
       "      <td>70.34645</td>\n",
       "    </tr>\n",
       "    <tr>\n",
       "      <th>2021-11-30</th>\n",
       "      <td>18.29809</td>\n",
       "      <td>81.22908</td>\n",
       "    </tr>\n",
       "    <tr>\n",
       "      <th>2021-12-31</th>\n",
       "      <td>20.45789</td>\n",
       "      <td>90.81687</td>\n",
       "    </tr>\n",
       "    <tr>\n",
       "      <th>2022-01-31</th>\n",
       "      <td>22.41049</td>\n",
       "      <td>99.48490</td>\n",
       "    </tr>\n",
       "    <tr>\n",
       "      <th>2022-02-28</th>\n",
       "      <td>24.20610</td>\n",
       "      <td>107.45597</td>\n",
       "    </tr>\n",
       "    <tr>\n",
       "      <th>2022-03-31</th>\n",
       "      <td>25.87741</td>\n",
       "      <td>114.87527</td>\n",
       "    </tr>\n",
       "    <tr>\n",
       "      <th>2022-04-30</th>\n",
       "      <td>27.44713</td>\n",
       "      <td>121.84362</td>\n",
       "    </tr>\n",
       "    <tr>\n",
       "      <th>2022-05-31</th>\n",
       "      <td>28.93182</td>\n",
       "      <td>128.43445</td>\n",
       "    </tr>\n",
       "    <tr>\n",
       "      <th>2022-06-30</th>\n",
       "      <td>30.34395</td>\n",
       "      <td>134.70319</td>\n",
       "    </tr>\n",
       "    <tr>\n",
       "      <th>2022-07-31</th>\n",
       "      <td>31.69322</td>\n",
       "      <td>140.69290</td>\n",
       "    </tr>\n",
       "  </tbody>\n",
       "</table>\n",
       "</div>"
      ],
      "text/plain": [
       "                 95%        99%\n",
       "fecha                          \n",
       "2021-08-31   9.14904   40.61454\n",
       "2021-09-30  12.93870   57.43763\n",
       "2021-10-31  15.84661   70.34645\n",
       "2021-11-30  18.29809   81.22908\n",
       "2021-12-31  20.45789   90.81687\n",
       "2022-01-31  22.41049   99.48490\n",
       "2022-02-28  24.20610  107.45597\n",
       "2022-03-31  25.87741  114.87527\n",
       "2022-04-30  27.44713  121.84362\n",
       "2022-05-31  28.93182  128.43445\n",
       "2022-06-30  30.34395  134.70319\n",
       "2022-07-31  31.69322  140.69290"
      ]
     },
     "execution_count": 443,
     "metadata": {},
     "output_type": "execute_result"
    }
   ],
   "source": [
    "df5 = pd.DataFrame(var_array_ls31)\n",
    "df5.columns = ['95%']\n",
    "df5['99%'] = var_array_ls32\n",
    "df5['fecha'] = pd.date_range(start='8/4/2021', end='8/2/2022', freq='M')\n",
    "df5.set_index('fecha', inplace =True)\n",
    "df5"
   ]
  },
  {
   "cell_type": "code",
   "execution_count": 445,
   "metadata": {},
   "outputs": [
    {
     "data": {
      "application/vnd.plotly.v1+json": {
       "config": {
        "plotlyServerURL": "https://plot.ly"
       },
       "data": [
        {
         "name": "99% de probabilidad",
         "type": "scatter",
         "x": [
          "2021-08-31T00:00:00",
          "2021-09-30T00:00:00",
          "2021-10-31T00:00:00",
          "2021-11-30T00:00:00",
          "2021-12-31T00:00:00",
          "2022-01-31T00:00:00",
          "2022-02-28T00:00:00",
          "2022-03-31T00:00:00",
          "2022-04-30T00:00:00",
          "2022-05-31T00:00:00",
          "2022-06-30T00:00:00",
          "2022-07-31T00:00:00"
         ],
         "y": [
          40.61454,
          57.43763,
          70.34645,
          81.22908,
          90.81687,
          99.4849,
          107.45597,
          114.87527,
          121.84362,
          128.43445,
          134.70319,
          140.6929
         ]
        },
        {
         "name": "95% de probabilidad",
         "type": "scatter",
         "x": [
          "2021-08-31T00:00:00",
          "2021-09-30T00:00:00",
          "2021-10-31T00:00:00",
          "2021-11-30T00:00:00",
          "2021-12-31T00:00:00",
          "2022-01-31T00:00:00",
          "2022-02-28T00:00:00",
          "2022-03-31T00:00:00",
          "2022-04-30T00:00:00",
          "2022-05-31T00:00:00",
          "2022-06-30T00:00:00",
          "2022-07-31T00:00:00"
         ],
         "y": [
          9.14904,
          12.9387,
          15.84661,
          18.29809,
          20.45789,
          22.41049,
          24.2061,
          25.87741,
          27.44713,
          28.93182,
          30.34395,
          31.69322
         ]
        }
       ],
       "layout": {
        "template": {
         "data": {
          "bar": [
           {
            "error_x": {
             "color": "#2a3f5f"
            },
            "error_y": {
             "color": "#2a3f5f"
            },
            "marker": {
             "line": {
              "color": "#E5ECF6",
              "width": 0.5
             }
            },
            "type": "bar"
           }
          ],
          "barpolar": [
           {
            "marker": {
             "line": {
              "color": "#E5ECF6",
              "width": 0.5
             }
            },
            "type": "barpolar"
           }
          ],
          "carpet": [
           {
            "aaxis": {
             "endlinecolor": "#2a3f5f",
             "gridcolor": "white",
             "linecolor": "white",
             "minorgridcolor": "white",
             "startlinecolor": "#2a3f5f"
            },
            "baxis": {
             "endlinecolor": "#2a3f5f",
             "gridcolor": "white",
             "linecolor": "white",
             "minorgridcolor": "white",
             "startlinecolor": "#2a3f5f"
            },
            "type": "carpet"
           }
          ],
          "choropleth": [
           {
            "colorbar": {
             "outlinewidth": 0,
             "ticks": ""
            },
            "type": "choropleth"
           }
          ],
          "contour": [
           {
            "colorbar": {
             "outlinewidth": 0,
             "ticks": ""
            },
            "colorscale": [
             [
              0,
              "#0d0887"
             ],
             [
              0.1111111111111111,
              "#46039f"
             ],
             [
              0.2222222222222222,
              "#7201a8"
             ],
             [
              0.3333333333333333,
              "#9c179e"
             ],
             [
              0.4444444444444444,
              "#bd3786"
             ],
             [
              0.5555555555555556,
              "#d8576b"
             ],
             [
              0.6666666666666666,
              "#ed7953"
             ],
             [
              0.7777777777777778,
              "#fb9f3a"
             ],
             [
              0.8888888888888888,
              "#fdca26"
             ],
             [
              1,
              "#f0f921"
             ]
            ],
            "type": "contour"
           }
          ],
          "contourcarpet": [
           {
            "colorbar": {
             "outlinewidth": 0,
             "ticks": ""
            },
            "type": "contourcarpet"
           }
          ],
          "heatmap": [
           {
            "colorbar": {
             "outlinewidth": 0,
             "ticks": ""
            },
            "colorscale": [
             [
              0,
              "#0d0887"
             ],
             [
              0.1111111111111111,
              "#46039f"
             ],
             [
              0.2222222222222222,
              "#7201a8"
             ],
             [
              0.3333333333333333,
              "#9c179e"
             ],
             [
              0.4444444444444444,
              "#bd3786"
             ],
             [
              0.5555555555555556,
              "#d8576b"
             ],
             [
              0.6666666666666666,
              "#ed7953"
             ],
             [
              0.7777777777777778,
              "#fb9f3a"
             ],
             [
              0.8888888888888888,
              "#fdca26"
             ],
             [
              1,
              "#f0f921"
             ]
            ],
            "type": "heatmap"
           }
          ],
          "heatmapgl": [
           {
            "colorbar": {
             "outlinewidth": 0,
             "ticks": ""
            },
            "colorscale": [
             [
              0,
              "#0d0887"
             ],
             [
              0.1111111111111111,
              "#46039f"
             ],
             [
              0.2222222222222222,
              "#7201a8"
             ],
             [
              0.3333333333333333,
              "#9c179e"
             ],
             [
              0.4444444444444444,
              "#bd3786"
             ],
             [
              0.5555555555555556,
              "#d8576b"
             ],
             [
              0.6666666666666666,
              "#ed7953"
             ],
             [
              0.7777777777777778,
              "#fb9f3a"
             ],
             [
              0.8888888888888888,
              "#fdca26"
             ],
             [
              1,
              "#f0f921"
             ]
            ],
            "type": "heatmapgl"
           }
          ],
          "histogram": [
           {
            "marker": {
             "colorbar": {
              "outlinewidth": 0,
              "ticks": ""
             }
            },
            "type": "histogram"
           }
          ],
          "histogram2d": [
           {
            "colorbar": {
             "outlinewidth": 0,
             "ticks": ""
            },
            "colorscale": [
             [
              0,
              "#0d0887"
             ],
             [
              0.1111111111111111,
              "#46039f"
             ],
             [
              0.2222222222222222,
              "#7201a8"
             ],
             [
              0.3333333333333333,
              "#9c179e"
             ],
             [
              0.4444444444444444,
              "#bd3786"
             ],
             [
              0.5555555555555556,
              "#d8576b"
             ],
             [
              0.6666666666666666,
              "#ed7953"
             ],
             [
              0.7777777777777778,
              "#fb9f3a"
             ],
             [
              0.8888888888888888,
              "#fdca26"
             ],
             [
              1,
              "#f0f921"
             ]
            ],
            "type": "histogram2d"
           }
          ],
          "histogram2dcontour": [
           {
            "colorbar": {
             "outlinewidth": 0,
             "ticks": ""
            },
            "colorscale": [
             [
              0,
              "#0d0887"
             ],
             [
              0.1111111111111111,
              "#46039f"
             ],
             [
              0.2222222222222222,
              "#7201a8"
             ],
             [
              0.3333333333333333,
              "#9c179e"
             ],
             [
              0.4444444444444444,
              "#bd3786"
             ],
             [
              0.5555555555555556,
              "#d8576b"
             ],
             [
              0.6666666666666666,
              "#ed7953"
             ],
             [
              0.7777777777777778,
              "#fb9f3a"
             ],
             [
              0.8888888888888888,
              "#fdca26"
             ],
             [
              1,
              "#f0f921"
             ]
            ],
            "type": "histogram2dcontour"
           }
          ],
          "mesh3d": [
           {
            "colorbar": {
             "outlinewidth": 0,
             "ticks": ""
            },
            "type": "mesh3d"
           }
          ],
          "parcoords": [
           {
            "line": {
             "colorbar": {
              "outlinewidth": 0,
              "ticks": ""
             }
            },
            "type": "parcoords"
           }
          ],
          "pie": [
           {
            "automargin": true,
            "type": "pie"
           }
          ],
          "scatter": [
           {
            "marker": {
             "colorbar": {
              "outlinewidth": 0,
              "ticks": ""
             }
            },
            "type": "scatter"
           }
          ],
          "scatter3d": [
           {
            "line": {
             "colorbar": {
              "outlinewidth": 0,
              "ticks": ""
             }
            },
            "marker": {
             "colorbar": {
              "outlinewidth": 0,
              "ticks": ""
             }
            },
            "type": "scatter3d"
           }
          ],
          "scattercarpet": [
           {
            "marker": {
             "colorbar": {
              "outlinewidth": 0,
              "ticks": ""
             }
            },
            "type": "scattercarpet"
           }
          ],
          "scattergeo": [
           {
            "marker": {
             "colorbar": {
              "outlinewidth": 0,
              "ticks": ""
             }
            },
            "type": "scattergeo"
           }
          ],
          "scattergl": [
           {
            "marker": {
             "colorbar": {
              "outlinewidth": 0,
              "ticks": ""
             }
            },
            "type": "scattergl"
           }
          ],
          "scattermapbox": [
           {
            "marker": {
             "colorbar": {
              "outlinewidth": 0,
              "ticks": ""
             }
            },
            "type": "scattermapbox"
           }
          ],
          "scatterpolar": [
           {
            "marker": {
             "colorbar": {
              "outlinewidth": 0,
              "ticks": ""
             }
            },
            "type": "scatterpolar"
           }
          ],
          "scatterpolargl": [
           {
            "marker": {
             "colorbar": {
              "outlinewidth": 0,
              "ticks": ""
             }
            },
            "type": "scatterpolargl"
           }
          ],
          "scatterternary": [
           {
            "marker": {
             "colorbar": {
              "outlinewidth": 0,
              "ticks": ""
             }
            },
            "type": "scatterternary"
           }
          ],
          "surface": [
           {
            "colorbar": {
             "outlinewidth": 0,
             "ticks": ""
            },
            "colorscale": [
             [
              0,
              "#0d0887"
             ],
             [
              0.1111111111111111,
              "#46039f"
             ],
             [
              0.2222222222222222,
              "#7201a8"
             ],
             [
              0.3333333333333333,
              "#9c179e"
             ],
             [
              0.4444444444444444,
              "#bd3786"
             ],
             [
              0.5555555555555556,
              "#d8576b"
             ],
             [
              0.6666666666666666,
              "#ed7953"
             ],
             [
              0.7777777777777778,
              "#fb9f3a"
             ],
             [
              0.8888888888888888,
              "#fdca26"
             ],
             [
              1,
              "#f0f921"
             ]
            ],
            "type": "surface"
           }
          ],
          "table": [
           {
            "cells": {
             "fill": {
              "color": "#EBF0F8"
             },
             "line": {
              "color": "white"
             }
            },
            "header": {
             "fill": {
              "color": "#C8D4E3"
             },
             "line": {
              "color": "white"
             }
            },
            "type": "table"
           }
          ]
         },
         "layout": {
          "annotationdefaults": {
           "arrowcolor": "#2a3f5f",
           "arrowhead": 0,
           "arrowwidth": 1
          },
          "autotypenumbers": "strict",
          "coloraxis": {
           "colorbar": {
            "outlinewidth": 0,
            "ticks": ""
           }
          },
          "colorscale": {
           "diverging": [
            [
             0,
             "#8e0152"
            ],
            [
             0.1,
             "#c51b7d"
            ],
            [
             0.2,
             "#de77ae"
            ],
            [
             0.3,
             "#f1b6da"
            ],
            [
             0.4,
             "#fde0ef"
            ],
            [
             0.5,
             "#f7f7f7"
            ],
            [
             0.6,
             "#e6f5d0"
            ],
            [
             0.7,
             "#b8e186"
            ],
            [
             0.8,
             "#7fbc41"
            ],
            [
             0.9,
             "#4d9221"
            ],
            [
             1,
             "#276419"
            ]
           ],
           "sequential": [
            [
             0,
             "#0d0887"
            ],
            [
             0.1111111111111111,
             "#46039f"
            ],
            [
             0.2222222222222222,
             "#7201a8"
            ],
            [
             0.3333333333333333,
             "#9c179e"
            ],
            [
             0.4444444444444444,
             "#bd3786"
            ],
            [
             0.5555555555555556,
             "#d8576b"
            ],
            [
             0.6666666666666666,
             "#ed7953"
            ],
            [
             0.7777777777777778,
             "#fb9f3a"
            ],
            [
             0.8888888888888888,
             "#fdca26"
            ],
            [
             1,
             "#f0f921"
            ]
           ],
           "sequentialminus": [
            [
             0,
             "#0d0887"
            ],
            [
             0.1111111111111111,
             "#46039f"
            ],
            [
             0.2222222222222222,
             "#7201a8"
            ],
            [
             0.3333333333333333,
             "#9c179e"
            ],
            [
             0.4444444444444444,
             "#bd3786"
            ],
            [
             0.5555555555555556,
             "#d8576b"
            ],
            [
             0.6666666666666666,
             "#ed7953"
            ],
            [
             0.7777777777777778,
             "#fb9f3a"
            ],
            [
             0.8888888888888888,
             "#fdca26"
            ],
            [
             1,
             "#f0f921"
            ]
           ]
          },
          "colorway": [
           "#636efa",
           "#EF553B",
           "#00cc96",
           "#ab63fa",
           "#FFA15A",
           "#19d3f3",
           "#FF6692",
           "#B6E880",
           "#FF97FF",
           "#FECB52"
          ],
          "font": {
           "color": "#2a3f5f"
          },
          "geo": {
           "bgcolor": "white",
           "lakecolor": "white",
           "landcolor": "#E5ECF6",
           "showlakes": true,
           "showland": true,
           "subunitcolor": "white"
          },
          "hoverlabel": {
           "align": "left"
          },
          "hovermode": "closest",
          "mapbox": {
           "style": "light"
          },
          "paper_bgcolor": "white",
          "plot_bgcolor": "#E5ECF6",
          "polar": {
           "angularaxis": {
            "gridcolor": "white",
            "linecolor": "white",
            "ticks": ""
           },
           "bgcolor": "#E5ECF6",
           "radialaxis": {
            "gridcolor": "white",
            "linecolor": "white",
            "ticks": ""
           }
          },
          "scene": {
           "xaxis": {
            "backgroundcolor": "#E5ECF6",
            "gridcolor": "white",
            "gridwidth": 2,
            "linecolor": "white",
            "showbackground": true,
            "ticks": "",
            "zerolinecolor": "white"
           },
           "yaxis": {
            "backgroundcolor": "#E5ECF6",
            "gridcolor": "white",
            "gridwidth": 2,
            "linecolor": "white",
            "showbackground": true,
            "ticks": "",
            "zerolinecolor": "white"
           },
           "zaxis": {
            "backgroundcolor": "#E5ECF6",
            "gridcolor": "white",
            "gridwidth": 2,
            "linecolor": "white",
            "showbackground": true,
            "ticks": "",
            "zerolinecolor": "white"
           }
          },
          "shapedefaults": {
           "line": {
            "color": "#2a3f5f"
           }
          },
          "ternary": {
           "aaxis": {
            "gridcolor": "white",
            "linecolor": "white",
            "ticks": ""
           },
           "baxis": {
            "gridcolor": "white",
            "linecolor": "white",
            "ticks": ""
           },
           "bgcolor": "#E5ECF6",
           "caxis": {
            "gridcolor": "white",
            "linecolor": "white",
            "ticks": ""
           }
          },
          "title": {
           "x": 0.05
          },
          "xaxis": {
           "automargin": true,
           "gridcolor": "white",
           "linecolor": "white",
           "ticks": "",
           "title": {
            "standoff": 15
           },
           "zerolinecolor": "white",
           "zerolinewidth": 2
          },
          "yaxis": {
           "automargin": true,
           "gridcolor": "white",
           "linecolor": "white",
           "ticks": "",
           "title": {
            "standoff": 15
           },
           "zerolinecolor": "white",
           "zerolinewidth": 2
          }
         }
        },
        "title": {
         "text": "Tasas de Cambio de la Inflación Mensual"
        },
        "xaxis": {
         "title": {
          "text": "Fecha"
         }
        },
        "yaxis": {
         "title": {
          "text": "Tasas de Cambio de la Inflación Mensual"
         }
        }
       }
      },
      "text/html": [
       "<div>                            <div id=\"3808ec3e-4e15-4496-9818-3a8d4f8050da\" class=\"plotly-graph-div\" style=\"height:525px; width:100%;\"></div>            <script type=\"text/javascript\">                require([\"plotly\"], function(Plotly) {                    window.PLOTLYENV=window.PLOTLYENV || {};                                    if (document.getElementById(\"3808ec3e-4e15-4496-9818-3a8d4f8050da\")) {                    Plotly.newPlot(                        \"3808ec3e-4e15-4496-9818-3a8d4f8050da\",                        [{\"name\": \"99% de probabilidad\", \"type\": \"scatter\", \"x\": [\"2021-08-31T00:00:00\", \"2021-09-30T00:00:00\", \"2021-10-31T00:00:00\", \"2021-11-30T00:00:00\", \"2021-12-31T00:00:00\", \"2022-01-31T00:00:00\", \"2022-02-28T00:00:00\", \"2022-03-31T00:00:00\", \"2022-04-30T00:00:00\", \"2022-05-31T00:00:00\", \"2022-06-30T00:00:00\", \"2022-07-31T00:00:00\"], \"y\": [40.61454, 57.43763, 70.34645, 81.22908, 90.81687, 99.4849, 107.45597, 114.87527, 121.84362, 128.43445, 134.70319, 140.6929]}, {\"name\": \"95% de probabilidad\", \"type\": \"scatter\", \"x\": [\"2021-08-31T00:00:00\", \"2021-09-30T00:00:00\", \"2021-10-31T00:00:00\", \"2021-11-30T00:00:00\", \"2021-12-31T00:00:00\", \"2022-01-31T00:00:00\", \"2022-02-28T00:00:00\", \"2022-03-31T00:00:00\", \"2022-04-30T00:00:00\", \"2022-05-31T00:00:00\", \"2022-06-30T00:00:00\", \"2022-07-31T00:00:00\"], \"y\": [9.14904, 12.9387, 15.84661, 18.29809, 20.45789, 22.41049, 24.2061, 25.87741, 27.44713, 28.93182, 30.34395, 31.69322]}],                        {\"template\": {\"data\": {\"bar\": [{\"error_x\": {\"color\": \"#2a3f5f\"}, \"error_y\": {\"color\": \"#2a3f5f\"}, \"marker\": {\"line\": {\"color\": \"#E5ECF6\", \"width\": 0.5}}, \"type\": \"bar\"}], \"barpolar\": [{\"marker\": {\"line\": {\"color\": \"#E5ECF6\", \"width\": 0.5}}, \"type\": \"barpolar\"}], \"carpet\": [{\"aaxis\": {\"endlinecolor\": \"#2a3f5f\", \"gridcolor\": \"white\", \"linecolor\": \"white\", \"minorgridcolor\": \"white\", \"startlinecolor\": \"#2a3f5f\"}, \"baxis\": {\"endlinecolor\": \"#2a3f5f\", \"gridcolor\": \"white\", \"linecolor\": \"white\", \"minorgridcolor\": \"white\", \"startlinecolor\": \"#2a3f5f\"}, \"type\": \"carpet\"}], \"choropleth\": [{\"colorbar\": {\"outlinewidth\": 0, \"ticks\": \"\"}, \"type\": \"choropleth\"}], \"contour\": [{\"colorbar\": {\"outlinewidth\": 0, \"ticks\": \"\"}, \"colorscale\": [[0.0, \"#0d0887\"], [0.1111111111111111, \"#46039f\"], [0.2222222222222222, \"#7201a8\"], [0.3333333333333333, \"#9c179e\"], [0.4444444444444444, \"#bd3786\"], [0.5555555555555556, \"#d8576b\"], [0.6666666666666666, \"#ed7953\"], [0.7777777777777778, \"#fb9f3a\"], [0.8888888888888888, \"#fdca26\"], [1.0, \"#f0f921\"]], \"type\": \"contour\"}], \"contourcarpet\": [{\"colorbar\": {\"outlinewidth\": 0, \"ticks\": \"\"}, \"type\": \"contourcarpet\"}], \"heatmap\": [{\"colorbar\": {\"outlinewidth\": 0, \"ticks\": \"\"}, \"colorscale\": [[0.0, \"#0d0887\"], [0.1111111111111111, \"#46039f\"], [0.2222222222222222, \"#7201a8\"], [0.3333333333333333, \"#9c179e\"], [0.4444444444444444, \"#bd3786\"], [0.5555555555555556, \"#d8576b\"], [0.6666666666666666, \"#ed7953\"], [0.7777777777777778, \"#fb9f3a\"], [0.8888888888888888, \"#fdca26\"], [1.0, \"#f0f921\"]], \"type\": \"heatmap\"}], \"heatmapgl\": [{\"colorbar\": {\"outlinewidth\": 0, \"ticks\": \"\"}, \"colorscale\": [[0.0, \"#0d0887\"], [0.1111111111111111, \"#46039f\"], [0.2222222222222222, \"#7201a8\"], [0.3333333333333333, \"#9c179e\"], [0.4444444444444444, \"#bd3786\"], [0.5555555555555556, \"#d8576b\"], [0.6666666666666666, \"#ed7953\"], [0.7777777777777778, \"#fb9f3a\"], [0.8888888888888888, \"#fdca26\"], [1.0, \"#f0f921\"]], \"type\": \"heatmapgl\"}], \"histogram\": [{\"marker\": {\"colorbar\": {\"outlinewidth\": 0, \"ticks\": \"\"}}, \"type\": \"histogram\"}], \"histogram2d\": [{\"colorbar\": {\"outlinewidth\": 0, \"ticks\": \"\"}, \"colorscale\": [[0.0, \"#0d0887\"], [0.1111111111111111, \"#46039f\"], [0.2222222222222222, \"#7201a8\"], [0.3333333333333333, \"#9c179e\"], [0.4444444444444444, \"#bd3786\"], [0.5555555555555556, \"#d8576b\"], [0.6666666666666666, \"#ed7953\"], [0.7777777777777778, \"#fb9f3a\"], [0.8888888888888888, \"#fdca26\"], [1.0, \"#f0f921\"]], \"type\": \"histogram2d\"}], \"histogram2dcontour\": [{\"colorbar\": {\"outlinewidth\": 0, \"ticks\": \"\"}, \"colorscale\": [[0.0, \"#0d0887\"], [0.1111111111111111, \"#46039f\"], [0.2222222222222222, \"#7201a8\"], [0.3333333333333333, \"#9c179e\"], [0.4444444444444444, \"#bd3786\"], [0.5555555555555556, \"#d8576b\"], [0.6666666666666666, \"#ed7953\"], [0.7777777777777778, \"#fb9f3a\"], [0.8888888888888888, \"#fdca26\"], [1.0, \"#f0f921\"]], \"type\": \"histogram2dcontour\"}], \"mesh3d\": [{\"colorbar\": {\"outlinewidth\": 0, \"ticks\": \"\"}, \"type\": \"mesh3d\"}], \"parcoords\": [{\"line\": {\"colorbar\": {\"outlinewidth\": 0, \"ticks\": \"\"}}, \"type\": \"parcoords\"}], \"pie\": [{\"automargin\": true, \"type\": \"pie\"}], \"scatter\": [{\"marker\": {\"colorbar\": {\"outlinewidth\": 0, \"ticks\": \"\"}}, \"type\": \"scatter\"}], \"scatter3d\": [{\"line\": {\"colorbar\": {\"outlinewidth\": 0, \"ticks\": \"\"}}, \"marker\": {\"colorbar\": {\"outlinewidth\": 0, \"ticks\": \"\"}}, \"type\": \"scatter3d\"}], \"scattercarpet\": [{\"marker\": {\"colorbar\": {\"outlinewidth\": 0, \"ticks\": \"\"}}, \"type\": \"scattercarpet\"}], \"scattergeo\": [{\"marker\": {\"colorbar\": {\"outlinewidth\": 0, \"ticks\": \"\"}}, \"type\": \"scattergeo\"}], \"scattergl\": [{\"marker\": {\"colorbar\": {\"outlinewidth\": 0, \"ticks\": \"\"}}, \"type\": \"scattergl\"}], \"scattermapbox\": [{\"marker\": {\"colorbar\": {\"outlinewidth\": 0, \"ticks\": \"\"}}, \"type\": \"scattermapbox\"}], \"scatterpolar\": [{\"marker\": {\"colorbar\": {\"outlinewidth\": 0, \"ticks\": \"\"}}, \"type\": \"scatterpolar\"}], \"scatterpolargl\": [{\"marker\": {\"colorbar\": {\"outlinewidth\": 0, \"ticks\": \"\"}}, \"type\": \"scatterpolargl\"}], \"scatterternary\": [{\"marker\": {\"colorbar\": {\"outlinewidth\": 0, \"ticks\": \"\"}}, \"type\": \"scatterternary\"}], \"surface\": [{\"colorbar\": {\"outlinewidth\": 0, \"ticks\": \"\"}, \"colorscale\": [[0.0, \"#0d0887\"], [0.1111111111111111, \"#46039f\"], [0.2222222222222222, \"#7201a8\"], [0.3333333333333333, \"#9c179e\"], [0.4444444444444444, \"#bd3786\"], [0.5555555555555556, \"#d8576b\"], [0.6666666666666666, \"#ed7953\"], [0.7777777777777778, \"#fb9f3a\"], [0.8888888888888888, \"#fdca26\"], [1.0, \"#f0f921\"]], \"type\": \"surface\"}], \"table\": [{\"cells\": {\"fill\": {\"color\": \"#EBF0F8\"}, \"line\": {\"color\": \"white\"}}, \"header\": {\"fill\": {\"color\": \"#C8D4E3\"}, \"line\": {\"color\": \"white\"}}, \"type\": \"table\"}]}, \"layout\": {\"annotationdefaults\": {\"arrowcolor\": \"#2a3f5f\", \"arrowhead\": 0, \"arrowwidth\": 1}, \"autotypenumbers\": \"strict\", \"coloraxis\": {\"colorbar\": {\"outlinewidth\": 0, \"ticks\": \"\"}}, \"colorscale\": {\"diverging\": [[0, \"#8e0152\"], [0.1, \"#c51b7d\"], [0.2, \"#de77ae\"], [0.3, \"#f1b6da\"], [0.4, \"#fde0ef\"], [0.5, \"#f7f7f7\"], [0.6, \"#e6f5d0\"], [0.7, \"#b8e186\"], [0.8, \"#7fbc41\"], [0.9, \"#4d9221\"], [1, \"#276419\"]], \"sequential\": [[0.0, \"#0d0887\"], [0.1111111111111111, \"#46039f\"], [0.2222222222222222, \"#7201a8\"], [0.3333333333333333, \"#9c179e\"], [0.4444444444444444, \"#bd3786\"], [0.5555555555555556, \"#d8576b\"], [0.6666666666666666, \"#ed7953\"], [0.7777777777777778, \"#fb9f3a\"], [0.8888888888888888, \"#fdca26\"], [1.0, \"#f0f921\"]], \"sequentialminus\": [[0.0, \"#0d0887\"], [0.1111111111111111, \"#46039f\"], [0.2222222222222222, \"#7201a8\"], [0.3333333333333333, \"#9c179e\"], [0.4444444444444444, \"#bd3786\"], [0.5555555555555556, \"#d8576b\"], [0.6666666666666666, \"#ed7953\"], [0.7777777777777778, \"#fb9f3a\"], [0.8888888888888888, \"#fdca26\"], [1.0, \"#f0f921\"]]}, \"colorway\": [\"#636efa\", \"#EF553B\", \"#00cc96\", \"#ab63fa\", \"#FFA15A\", \"#19d3f3\", \"#FF6692\", \"#B6E880\", \"#FF97FF\", \"#FECB52\"], \"font\": {\"color\": \"#2a3f5f\"}, \"geo\": {\"bgcolor\": \"white\", \"lakecolor\": \"white\", \"landcolor\": \"#E5ECF6\", \"showlakes\": true, \"showland\": true, \"subunitcolor\": \"white\"}, \"hoverlabel\": {\"align\": \"left\"}, \"hovermode\": \"closest\", \"mapbox\": {\"style\": \"light\"}, \"paper_bgcolor\": \"white\", \"plot_bgcolor\": \"#E5ECF6\", \"polar\": {\"angularaxis\": {\"gridcolor\": \"white\", \"linecolor\": \"white\", \"ticks\": \"\"}, \"bgcolor\": \"#E5ECF6\", \"radialaxis\": {\"gridcolor\": \"white\", \"linecolor\": \"white\", \"ticks\": \"\"}}, \"scene\": {\"xaxis\": {\"backgroundcolor\": \"#E5ECF6\", \"gridcolor\": \"white\", \"gridwidth\": 2, \"linecolor\": \"white\", \"showbackground\": true, \"ticks\": \"\", \"zerolinecolor\": \"white\"}, \"yaxis\": {\"backgroundcolor\": \"#E5ECF6\", \"gridcolor\": \"white\", \"gridwidth\": 2, \"linecolor\": \"white\", \"showbackground\": true, \"ticks\": \"\", \"zerolinecolor\": \"white\"}, \"zaxis\": {\"backgroundcolor\": \"#E5ECF6\", \"gridcolor\": \"white\", \"gridwidth\": 2, \"linecolor\": \"white\", \"showbackground\": true, \"ticks\": \"\", \"zerolinecolor\": \"white\"}}, \"shapedefaults\": {\"line\": {\"color\": \"#2a3f5f\"}}, \"ternary\": {\"aaxis\": {\"gridcolor\": \"white\", \"linecolor\": \"white\", \"ticks\": \"\"}, \"baxis\": {\"gridcolor\": \"white\", \"linecolor\": \"white\", \"ticks\": \"\"}, \"bgcolor\": \"#E5ECF6\", \"caxis\": {\"gridcolor\": \"white\", \"linecolor\": \"white\", \"ticks\": \"\"}}, \"title\": {\"x\": 0.05}, \"xaxis\": {\"automargin\": true, \"gridcolor\": \"white\", \"linecolor\": \"white\", \"ticks\": \"\", \"title\": {\"standoff\": 15}, \"zerolinecolor\": \"white\", \"zerolinewidth\": 2}, \"yaxis\": {\"automargin\": true, \"gridcolor\": \"white\", \"linecolor\": \"white\", \"ticks\": \"\", \"title\": {\"standoff\": 15}, \"zerolinecolor\": \"white\", \"zerolinewidth\": 2}}}, \"title\": {\"text\": \"Tasas de Cambio de la Inflaci\\u00f3n Mensual\"}, \"xaxis\": {\"title\": {\"text\": \"Fecha\"}}, \"yaxis\": {\"title\": {\"text\": \"Tasas de Cambio de la Inflaci\\u00f3n Mensual\"}}},                        {\"responsive\": true}                    ).then(function(){\n",
       "                            \n",
       "var gd = document.getElementById('3808ec3e-4e15-4496-9818-3a8d4f8050da');\n",
       "var x = new MutationObserver(function (mutations, observer) {{\n",
       "        var display = window.getComputedStyle(gd).display;\n",
       "        if (!display || display === 'none') {{\n",
       "            console.log([gd, 'removed!']);\n",
       "            Plotly.purge(gd);\n",
       "            observer.disconnect();\n",
       "        }}\n",
       "}});\n",
       "\n",
       "// Listen for the removal of the full notebook cells\n",
       "var notebookContainer = gd.closest('#notebook-container');\n",
       "if (notebookContainer) {{\n",
       "    x.observe(notebookContainer, {childList: true});\n",
       "}}\n",
       "\n",
       "// Listen for the clearing of the current output cell\n",
       "var outputEl = gd.closest('.output');\n",
       "if (outputEl) {{\n",
       "    x.observe(outputEl, {childList: true});\n",
       "}}\n",
       "\n",
       "                        })                };                });            </script>        </div>"
      ]
     },
     "metadata": {},
     "output_type": "display_data"
    }
   ],
   "source": [
    "\n",
    "fig5 = go.Figure(\n",
    "    data=[\n",
    "        go.Scatter(\n",
    "            name=\"99% de probabilidad\",\n",
    "            x=df5.index,\n",
    "            y=df5['99%'],\n",
    "            #offsetgroup=0,\n",
    "        ),\n",
    "        go.Scatter(\n",
    "            name=\"95% de probabilidad\",\n",
    "            x=df5.index,\n",
    "            y=df5['95%'],\n",
    "            #offsetgroup=1,\n",
    "            #base=df2[\"RS_Cum1\"],\n",
    "        )\n",
    "    ],\n",
    "    layout=go.Layout(\n",
    "        title=\"Tasas de Cambio de la Inflación Mensual\",\n",
    "        yaxis_title=\"Tasas de Cambio de la Inflación Mensual\",xaxis_title=\"Fecha\"\n",
    "        #template='plotly_dark'\n",
    "    )\n",
    ")\n",
    "fig5.show()"
   ]
  }
 ],
 "metadata": {
  "colab": {
   "collapsed_sections": [],
   "name": "VaR Analysis",
   "provenance": [],
   "toc_visible": true
  },
  "kernelspec": {
   "display_name": "Python 3",
   "language": "python",
   "name": "python3"
  },
  "language_info": {
   "codemirror_mode": {
    "name": "ipython",
    "version": 3
   },
   "file_extension": ".py",
   "mimetype": "text/x-python",
   "name": "python",
   "nbconvert_exporter": "python",
   "pygments_lexer": "ipython3",
   "version": "3.8.3"
  }
 },
 "nbformat": 4,
 "nbformat_minor": 1
}
